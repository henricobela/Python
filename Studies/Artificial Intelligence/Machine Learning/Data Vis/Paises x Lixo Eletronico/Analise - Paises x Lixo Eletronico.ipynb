{
 "cells": [
  {
   "cell_type": "code",
   "execution_count": 39,
   "id": "5836b509",
   "metadata": {},
   "outputs": [],
   "source": [
    "import pandas as pd\n",
    "import matplotlib.pyplot as plt\n",
    "\n",
    "%matplotlib inline"
   ]
  },
  {
   "cell_type": "code",
   "execution_count": 40,
   "id": "b1e42a40",
   "metadata": {},
   "outputs": [],
   "source": [
    "dados = pd.read_excel(r\"C:\\Users\\henri\\Downloads\\Lixo Eletrônico produzido por continente em 2016.xlsx\", index_col = \"pais\")"
   ]
  },
  {
   "cell_type": "code",
   "execution_count": 41,
   "id": "ce6c417a",
   "metadata": {},
   "outputs": [
    {
     "data": {
      "text/html": [
       "<div>\n",
       "<style scoped>\n",
       "    .dataframe tbody tr th:only-of-type {\n",
       "        vertical-align: middle;\n",
       "    }\n",
       "\n",
       "    .dataframe tbody tr th {\n",
       "        vertical-align: top;\n",
       "    }\n",
       "\n",
       "    .dataframe thead th {\n",
       "        text-align: right;\n",
       "    }\n",
       "</style>\n",
       "<table border=\"1\" class=\"dataframe\">\n",
       "  <thead>\n",
       "    <tr style=\"text-align: right;\">\n",
       "      <th></th>\n",
       "      <th>lixo</th>\n",
       "      <th>percentage</th>\n",
       "    </tr>\n",
       "    <tr>\n",
       "      <th>pais</th>\n",
       "      <th></th>\n",
       "      <th></th>\n",
       "    </tr>\n",
       "  </thead>\n",
       "  <tbody>\n",
       "    <tr>\n",
       "      <th>África</th>\n",
       "      <td>2230600000</td>\n",
       "      <td>0.049770</td>\n",
       "    </tr>\n",
       "    <tr>\n",
       "      <th>América</th>\n",
       "      <td>11333200000</td>\n",
       "      <td>0.252871</td>\n",
       "    </tr>\n",
       "    <tr>\n",
       "      <th>Ásia</th>\n",
       "      <td>18328800000</td>\n",
       "      <td>0.408960</td>\n",
       "    </tr>\n",
       "    <tr>\n",
       "      <th>Europa</th>\n",
       "      <td>12250800000</td>\n",
       "      <td>0.273345</td>\n",
       "    </tr>\n",
       "    <tr>\n",
       "      <th>Oceania</th>\n",
       "      <td>674700000</td>\n",
       "      <td>0.015054</td>\n",
       "    </tr>\n",
       "    <tr>\n",
       "      <th>No mundo</th>\n",
       "      <td>44818100000</td>\n",
       "      <td>1.000000</td>\n",
       "    </tr>\n",
       "  </tbody>\n",
       "</table>\n",
       "</div>"
      ],
      "text/plain": [
       "                 lixo  percentage\n",
       "pais                             \n",
       "África     2230600000    0.049770\n",
       "América   11333200000    0.252871\n",
       "Ásia      18328800000    0.408960\n",
       "Europa    12250800000    0.273345\n",
       "Oceania     674700000    0.015054\n",
       "No mundo  44818100000    1.000000"
      ]
     },
     "execution_count": 41,
     "metadata": {},
     "output_type": "execute_result"
    }
   ],
   "source": [
    "dados"
   ]
  },
  {
   "cell_type": "code",
   "execution_count": 42,
   "id": "23ab6ba4",
   "metadata": {},
   "outputs": [],
   "source": [
    "dados = dados.drop([\"No mundo\"])"
   ]
  },
  {
   "cell_type": "code",
   "execution_count": 43,
   "id": "b9956009",
   "metadata": {},
   "outputs": [
    {
     "data": {
      "text/html": [
       "<div>\n",
       "<style scoped>\n",
       "    .dataframe tbody tr th:only-of-type {\n",
       "        vertical-align: middle;\n",
       "    }\n",
       "\n",
       "    .dataframe tbody tr th {\n",
       "        vertical-align: top;\n",
       "    }\n",
       "\n",
       "    .dataframe thead th {\n",
       "        text-align: right;\n",
       "    }\n",
       "</style>\n",
       "<table border=\"1\" class=\"dataframe\">\n",
       "  <thead>\n",
       "    <tr style=\"text-align: right;\">\n",
       "      <th></th>\n",
       "      <th>lixo</th>\n",
       "      <th>percentage</th>\n",
       "    </tr>\n",
       "    <tr>\n",
       "      <th>pais</th>\n",
       "      <th></th>\n",
       "      <th></th>\n",
       "    </tr>\n",
       "  </thead>\n",
       "  <tbody>\n",
       "    <tr>\n",
       "      <th>África</th>\n",
       "      <td>2230600000</td>\n",
       "      <td>0.049770</td>\n",
       "    </tr>\n",
       "    <tr>\n",
       "      <th>América</th>\n",
       "      <td>11333200000</td>\n",
       "      <td>0.252871</td>\n",
       "    </tr>\n",
       "    <tr>\n",
       "      <th>Ásia</th>\n",
       "      <td>18328800000</td>\n",
       "      <td>0.408960</td>\n",
       "    </tr>\n",
       "    <tr>\n",
       "      <th>Europa</th>\n",
       "      <td>12250800000</td>\n",
       "      <td>0.273345</td>\n",
       "    </tr>\n",
       "    <tr>\n",
       "      <th>Oceania</th>\n",
       "      <td>674700000</td>\n",
       "      <td>0.015054</td>\n",
       "    </tr>\n",
       "  </tbody>\n",
       "</table>\n",
       "</div>"
      ],
      "text/plain": [
       "                lixo  percentage\n",
       "pais                            \n",
       "África    2230600000    0.049770\n",
       "América  11333200000    0.252871\n",
       "Ásia     18328800000    0.408960\n",
       "Europa   12250800000    0.273345\n",
       "Oceania    674700000    0.015054"
      ]
     },
     "execution_count": 43,
     "metadata": {},
     "output_type": "execute_result"
    }
   ],
   "source": [
    "dados"
   ]
  },
  {
   "cell_type": "code",
   "execution_count": 44,
   "id": "001ce880",
   "metadata": {},
   "outputs": [
    {
     "data": {
      "text/plain": [
       "pais\n",
       "África      2230600000\n",
       "América    11333200000\n",
       "Ásia       18328800000\n",
       "Europa     12250800000\n",
       "Oceania      674700000\n",
       "Name: lixo, dtype: int64"
      ]
     },
     "execution_count": 44,
     "metadata": {},
     "output_type": "execute_result"
    }
   ],
   "source": [
    "lixo = dados[\"lixo\"]\n",
    "lixo"
   ]
  },
  {
   "cell_type": "code",
   "execution_count": 45,
   "id": "1b2d9b6e",
   "metadata": {},
   "outputs": [
    {
     "data": {
      "text/plain": [
       "pais\n",
       "África     0.049770\n",
       "América    0.252871\n",
       "Ásia       0.408960\n",
       "Europa     0.273345\n",
       "Oceania    0.015054\n",
       "Name: percentage, dtype: float64"
      ]
     },
     "execution_count": 45,
     "metadata": {},
     "output_type": "execute_result"
    }
   ],
   "source": [
    "percentage = dados[\"percentage\"]\n",
    "percentage"
   ]
  },
  {
   "cell_type": "code",
   "execution_count": 46,
   "id": "b1425ed9",
   "metadata": {},
   "outputs": [
    {
     "data": {
      "image/png": "[encoded data removed]",
      "text/plain": [
       "<Figure size 504x432 with 1 Axes>"
      ]
     },
     "metadata": {},
     "output_type": "display_data"
    }
   ],
   "source": [
    "plt.figure(figsize = (7, 6))\n",
    "ax = lixo.plot(kind = \"pie\", rot = 0, autopct = \"%1.1f%%\",\n",
    "              shadow = True)\n",
    "\n",
    "ax.set_title(\"Grafico de Pizza (Países x Lixo Eletronico)\", \n",
    "             fontsize = 20, \n",
    "             fontstyle = \"italic\")\n",
    "\n",
    "plt.show()"
   ]
  },
  {
   "cell_type": "code",
   "execution_count": null,
   "id": "7d1e5fcd",
   "metadata": {},
   "outputs": [],
   "source": []
  }
 ],
 "metadata": {
  "kernelspec": {
   "display_name": "Python 3 (ipykernel)",
   "language": "python",
   "name": "python3"
  },
  "language_info": {
   "codemirror_mode": {
    "name": "ipython",
    "version": 3
   },
   "file_extension": ".py",
   "mimetype": "text/x-python",
   "name": "python",
   "nbconvert_exporter": "python",
   "pygments_lexer": "ipython3",
   "version": "3.9.12"
  }
 },
 "nbformat": 4,
 "nbformat_minor": 5
}
