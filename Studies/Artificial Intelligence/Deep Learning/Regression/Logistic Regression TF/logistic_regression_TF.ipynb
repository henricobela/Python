{
 "cells": [
  {
   "cell_type": "code",
   "execution_count": 124,
   "metadata": {},
   "outputs": [],
   "source": [
    "import tensorflow as tf\n",
    "import pandas as pd\n",
    "import numpy as np\n",
    "import time\n",
    "from sklearn.datasets import load_iris\n",
    "from sklearn.model_selection import train_test_split\n",
    "import matplotlib.pyplot as plt\n",
    "\n",
    "if not tf.__version__ == \"2.9.1\":\n",
    "    raise ValueError(\"Seems the TensorFlow Version doesn't are 2.9.1, please reinstall and reboot kernel\")"
   ]
  },
  {
   "cell_type": "code",
   "execution_count": 125,
   "metadata": {},
   "outputs": [],
   "source": [
    "iris = load_iris()\n",
    "iris_X, iris_y = iris.data[:-1,:], iris.target[:-1]\n",
    "iris_y= pd.get_dummies(iris_y).values\n",
    "trainX, testX, trainY, testY = train_test_split(iris_X, iris_y, test_size=0.33, random_state=42)"
   ]
  },
  {
   "cell_type": "code",
   "execution_count": 126,
   "metadata": {},
   "outputs": [
    {
     "name": "stdout",
     "output_type": "stream",
     "text": [
      "numFeatures is :  4\n",
      "numLabels is :  3\n"
     ]
    }
   ],
   "source": [
    "# numFeatures is the number of features in our input data.\n",
    "# In the iris dataset, this number is '4'.\n",
    "numFeatures = trainX.shape[1]\n",
    "print('numFeatures is : ', numFeatures )\n",
    "# numLabels is the number of classes our data points can be in.\n",
    "# In the iris dataset, this number is '3'.\n",
    "numLabels = trainY.shape[1]\n",
    "print('numLabels is : ', numLabels )\n",
    "\n",
    "#X = tf.Variable( np.identity(numFeatures), tf.TensorShape(numFeatures),dtype='float32') # Iris has 4 features, so X is a tensor to hold our data.\n",
    "#yGold = tf.Variable(np.array([1,1,1]),shape=tf.TensorShape(numLabels),dtype='float32') # This will be our correct answers matrix for 3 classes."
   ]
  },
  {
   "cell_type": "code",
   "execution_count": 127,
   "metadata": {},
   "outputs": [],
   "source": [
    "trainX = tf.constant(trainX, dtype='float32')\n",
    "trainY = tf.constant(trainY, dtype='float32')\n",
    "testX = tf.constant(testX, dtype='float32')\n",
    "testY = tf.constant(testY, dtype='float32')"
   ]
  },
  {
   "cell_type": "code",
   "execution_count": 128,
   "metadata": {},
   "outputs": [],
   "source": [
    "W = tf.Variable(tf.zeros([4, 3]))  # 4-dimensional input and  3 classes\n",
    "b = tf.Variable(tf.zeros([3])) # 3-dimensional output [0,0,1],[0,1,0],[1,0,0]\n",
    "\n",
    "#Randomly sample from a normal distribution with standard deviation .01\n",
    "weights = tf.Variable(tf.random.normal([numFeatures,numLabels],\n",
    "                                       mean=0.,\n",
    "                                       stddev=0.01,\n",
    "                                       name=\"weights\"),dtype='float32')\n",
    "\n",
    "\n",
    "bias = tf.Variable(tf.random.normal([1,numLabels],\n",
    "                                    mean=0.,\n",
    "                                    stddev=0.01,\n",
    "                                    name=\"bias\"))\n"
   ]
  },
  {
   "cell_type": "code",
   "execution_count": 129,
   "metadata": {},
   "outputs": [],
   "source": [
    "# Three-component breakdown of the Logistic Regression equation.\n",
    "# Note that these feed into each other.\n",
    "def logistic_regression(x):\n",
    "    apply_weights_OP = tf.matmul(x, weights, name=\"apply_weights\")\n",
    "    add_bias_OP = tf.add(apply_weights_OP, bias, name=\"add_bias\") \n",
    "    activation_OP = tf.nn.sigmoid(add_bias_OP, name=\"activation\")\n",
    "    return activation_OP"
   ]
  },
  {
   "cell_type": "code",
   "execution_count": 130,
   "metadata": {},
   "outputs": [],
   "source": [
    "# Number of Epochs in our training\n",
    "numEpochs = 700\n",
    "\n",
    "# Defining our learning rate iterations (decay)\n",
    "learningRate = tf.keras.optimizers.schedules.ExponentialDecay(initial_learning_rate=0.0008,\n",
    "                                          decay_steps=trainX.shape[0],\n",
    "                                          decay_rate= 0.95,\n",
    "                                          staircase=True)"
   ]
  },
  {
   "cell_type": "code",
   "execution_count": 131,
   "metadata": {},
   "outputs": [],
   "source": [
    "#Defining our cost function - Squared Mean Error\n",
    "loss_object = tf.keras.losses.MeanSquaredLogarithmicError()\n",
    "optimizer = tf.keras.optimizers.SGD(learningRate)"
   ]
  },
  {
   "cell_type": "code",
   "execution_count": 132,
   "metadata": {},
   "outputs": [],
   "source": [
    "# Accuracy metric.\n",
    "def accuracy(y_pred, y_true):\n",
    "# Predicted class is the index of the highest score in prediction vector (i.e. argmax).\n",
    "\n",
    "    correct_prediction = tf.equal(tf.argmax(y_pred, 1), tf.argmax(y_true, 1))\n",
    "\n",
    "    return tf.reduce_mean(tf.cast(correct_prediction, tf.float32))"
   ]
  },
  {
   "cell_type": "code",
   "execution_count": 133,
   "metadata": {},
   "outputs": [],
   "source": [
    "def run_optimization(x, y):\n",
    "    with tf.GradientTape() as g:\n",
    "        pred = logistic_regression(x)\n",
    "        loss = loss_object(pred, y)\n",
    "    gradients = g.gradient(loss, [weights, bias])\n",
    "    optimizer.apply_gradients(zip(gradients, [weights, bias]))"
   ]
  },
  {
   "cell_type": "code",
   "execution_count": 135,
   "metadata": {},
   "outputs": [
    {
     "name": "stdout",
     "output_type": "stream",
     "text": [
      "step 0, training accuracy 0.3, loss 0.136412, change in loss 0.136412\n",
      "step 10, training accuracy 0.3, loss 0.135828, change in loss 0.000583261\n",
      "step 20, training accuracy 0.3, loss 0.135253, change in loss 0.000575006\n",
      "step 30, training accuracy 0.3, loss 0.134686, change in loss 0.000566751\n",
      "step 40, training accuracy 0.3, loss 0.134128, change in loss 0.00055851\n",
      "step 50, training accuracy 0.3, loss 0.133578, change in loss 0.000550255\n",
      "step 60, training accuracy 0.3, loss 0.133036, change in loss 0.000542015\n",
      "step 70, training accuracy 0.3, loss 0.132502, change in loss 0.000533804\n",
      "step 80, training accuracy 0.3, loss 0.131976, change in loss 0.000525609\n",
      "step 90, training accuracy 0.3, loss 0.131459, change in loss 0.000517473\n",
      "step 100, training accuracy 0.3, loss 0.130955, change in loss 0.000504285\n",
      "step 110, training accuracy 0.3, loss 0.130478, change in loss 0.00047645\n",
      "step 120, training accuracy 0.3, loss 0.130009, change in loss 0.000469208\n",
      "step 130, training accuracy 0.3, loss 0.129547, change in loss 0.000461996\n",
      "step 140, training accuracy 0.3, loss 0.129092, change in loss 0.000454843\n",
      "step 150, training accuracy 0.3, loss 0.128644, change in loss 0.00044775\n",
      "step 160, training accuracy 0.3, loss 0.128204, change in loss 0.000440672\n",
      "step 170, training accuracy 0.3, loss 0.12777, change in loss 0.000433698\n",
      "step 180, training accuracy 0.3, loss 0.127343, change in loss 0.000426754\n",
      "step 190, training accuracy 0.3, loss 0.126923, change in loss 0.000419885\n",
      "step 200, training accuracy 0.3, loss 0.126516, change in loss 0.000406906\n",
      "step 210, training accuracy 0.3, loss 0.12613, change in loss 0.000386283\n",
      "step 220, training accuracy 0.3, loss 0.12575, change in loss 0.000380248\n",
      "step 230, training accuracy 0.3, loss 0.125376, change in loss 0.000374287\n",
      "step 240, training accuracy 0.3, loss 0.125007, change in loss 0.000368401\n",
      "step 250, training accuracy 0.3, loss 0.124645, change in loss 0.000362545\n",
      "step 260, training accuracy 0.3, loss 0.124288, change in loss 0.000356808\n",
      "step 270, training accuracy 0.3, loss 0.123937, change in loss 0.000351101\n",
      "step 280, training accuracy 0.3, loss 0.123591, change in loss 0.000345469\n",
      "step 290, training accuracy 0.3, loss 0.123251, change in loss 0.000339903\n",
      "step 300, training accuracy 0.3, loss 0.122924, change in loss 0.000327788\n",
      "step 310, training accuracy 0.3, loss 0.122611, change in loss 0.000312775\n",
      "step 320, training accuracy 0.3, loss 0.122303, change in loss 0.000307947\n",
      "step 330, training accuracy 0.3, loss 0.122, change in loss 0.000303172\n",
      "step 340, training accuracy 0.3, loss 0.121701, change in loss 0.000298478\n",
      "step 350, training accuracy 0.3, loss 0.121407, change in loss 0.000293821\n",
      "step 360, training accuracy 0.3, loss 0.121118, change in loss 0.000289239\n",
      "step 370, training accuracy 0.3, loss 0.120833, change in loss 0.000284716\n",
      "step 380, training accuracy 0.3, loss 0.120553, change in loss 0.000280268\n",
      "step 390, training accuracy 0.3, loss 0.120277, change in loss 0.000275865\n",
      "step 400, training accuracy 0.3, loss 0.120012, change in loss 0.000264801\n",
      "step 410, training accuracy 0.3, loss 0.119758, change in loss 0.000254095\n",
      "step 420, training accuracy 0.3, loss 0.119508, change in loss 0.000250302\n",
      "step 430, training accuracy 0.3, loss 0.119262, change in loss 0.000246555\n",
      "step 440, training accuracy 0.3, loss 0.119019, change in loss 0.000242852\n",
      "step 450, training accuracy 0.3, loss 0.118779, change in loss 0.000239223\n",
      "step 460, training accuracy 0.3, loss 0.118544, change in loss 0.000235625\n",
      "step 470, training accuracy 0.3, loss 0.118312, change in loss 0.000232093\n",
      "step 480, training accuracy 0.3, loss 0.118083, change in loss 0.000228606\n",
      "step 490, training accuracy 0.3, loss 0.117858, change in loss 0.000225171\n",
      "step 500, training accuracy 0.3, loss 0.117643, change in loss 0.000215195\n",
      "step 510, training accuracy 0.3, loss 0.117435, change in loss 0.00020773\n",
      "step 520, training accuracy 0.3, loss 0.11723, change in loss 0.000204757\n",
      "step 530, training accuracy 0.3, loss 0.117028, change in loss 0.000201814\n",
      "step 540, training accuracy 0.3, loss 0.116829, change in loss 0.000198968\n",
      "step 550, training accuracy 0.3, loss 0.116633, change in loss 0.000196122\n",
      "step 560, training accuracy 0.3, loss 0.11644, change in loss 0.000193328\n",
      "step 570, training accuracy 0.3, loss 0.116249, change in loss 0.000190593\n",
      "step 580, training accuracy 0.3, loss 0.116062, change in loss 0.000187874\n",
      "step 590, training accuracy 0.3, loss 0.115876, change in loss 0.000185221\n",
      "step 600, training accuracy 0.3, loss 0.1157, change in loss 0.000176229\n",
      "step 610, training accuracy 0.3, loss 0.115529, change in loss 0.00017114\n",
      "step 620, training accuracy 0.3, loss 0.11536, change in loss 0.000168845\n",
      "step 630, training accuracy 0.3, loss 0.115194, change in loss 0.000166573\n",
      "step 640, training accuracy 0.3, loss 0.115029, change in loss 0.000164345\n",
      "step 650, training accuracy 0.3, loss 0.114867, change in loss 0.000162132\n",
      "step 660, training accuracy 0.3, loss 0.114707, change in loss 0.000159971\n",
      "step 670, training accuracy 0.3, loss 0.114549, change in loss 0.000157848\n",
      "step 680, training accuracy 0.3, loss 0.114394, change in loss 0.000155739\n",
      "step 690, training accuracy 0.3, loss 0.11424, change in loss 0.000153653\n",
      "final accuracy on test set: 0.3\n"
     ]
    }
   ],
   "source": [
    "# Initialize reporting variables\n",
    "display_step = 10\n",
    "epoch_values = []\n",
    "accuracy_values = []\n",
    "loss_values = []\n",
    "loss = 0\n",
    "diff = 1\n",
    "# Training epochs\n",
    "for i in range(numEpochs):\n",
    "    if i > 1 and diff < .0001:\n",
    "        print(\"change in loss %g; convergence.\"%diff)\n",
    "        break\n",
    "    else:\n",
    "        # Run training step\n",
    "        run_optimization(trainX, trainY)\n",
    "        \n",
    "        # Report occasional stats\n",
    "        if i % display_step == 0:\n",
    "            # Add epoch to epoch_values\n",
    "            epoch_values.append(i)\n",
    "            \n",
    "            pred = logistic_regression(testX)\n",
    "\n",
    "            newLoss = loss_object(pred, testY)\n",
    "            # Add loss to live graphing variable\n",
    "            loss_values.append(newLoss)\n",
    "            \n",
    "            # Generate accuracy stats on test data\n",
    "            acc = accuracy(pred, testY)\n",
    "            accuracy_values.append(acc)\n",
    "                \n",
    "            # Re-assign values for variables\n",
    "            diff = abs(newLoss - loss)\n",
    "            loss = newLoss\n",
    "\n",
    "            #generate print statements\n",
    "            print(\"step %d, training accuracy %g, loss %g, change in loss %g\"%(i, acc, newLoss, diff))\n",
    "\n",
    "# How well do we perform on held-out test data?\n",
    "print(\"final accuracy on test set: %s\" %acc.numpy())\n"
   ]
  },
  {
   "cell_type": "code",
   "execution_count": 136,
   "metadata": {},
   "outputs": [
    {
     "data": {
      "image/png": "[encoded data removed]",
      "text/plain": [
       "<Figure size 432x288 with 1 Axes>"
      ]
     },
     "metadata": {
      "needs_background": "light"
     },
     "output_type": "display_data"
    }
   ],
   "source": [
    "%matplotlib inline\n",
    "import numpy as np\n",
    "import matplotlib.pyplot as plt\n",
    "plt.xlabel(\"Epoch\")\n",
    "plt.ylabel(\"Loss\")\n",
    "plt.plot(loss_values)\n",
    "plt.show()"
   ]
  },
  {
   "cell_type": "code",
   "execution_count": null,
   "metadata": {},
   "outputs": [],
   "source": []
  },
  {
   "cell_type": "code",
   "execution_count": null,
   "metadata": {},
   "outputs": [],
   "source": []
  },
  {
   "cell_type": "code",
   "execution_count": null,
   "metadata": {},
   "outputs": [],
   "source": []
  },
  {
   "cell_type": "code",
   "execution_count": null,
   "metadata": {},
   "outputs": [],
   "source": []
  },
  {
   "cell_type": "code",
   "execution_count": null,
   "metadata": {},
   "outputs": [],
   "source": []
  },
  {
   "cell_type": "code",
   "execution_count": null,
   "metadata": {},
   "outputs": [],
   "source": []
  }
 ],
 "metadata": {
  "kernelspec": {
   "display_name": "Python 3.9.12 ('base')",
   "language": "python",
   "name": "python3"
  },
  "language_info": {
   "codemirror_mode": {
    "name": "ipython",
    "version": 3
   },
   "file_extension": ".py",
   "mimetype": "text/x-python",
   "name": "python",
   "nbconvert_exporter": "python",
   "pygments_lexer": "ipython3",
   "version": "3.9.12"
  },
  "orig_nbformat": 4,
  "vscode": {
   "interpreter": {
    "hash": "c4a2ca58d9b82d3ad88514a36ffbfd983c3193ad0210aee0c63e37d7241e4d66"
   }
  }
 },
 "nbformat": 4,
 "nbformat_minor": 2
}
