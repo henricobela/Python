{
 "cells": [
  {
   "cell_type": "markdown",
   "metadata": {},
   "source": [
    "___\n",
    "\n",
    "<a href='https://www.udemy.com/user/joseportilla/'><img src='../Pierian_Data_Logo.png'/></a>\n",
    "___\n",
    "<center><em>Content Copyright by Pierian Data</em></center>"
   ]
  },
  {
   "cell_type": "markdown",
   "metadata": {
    "collapsed": true
   },
   "source": [
    "# Statements Assessment Test\n",
    "Let's test your knowledge!"
   ]
  },
  {
   "cell_type": "markdown",
   "metadata": {},
   "source": [
    "_____\n",
    "**Use <code>for</code>, .split(), and <code>if</code> to create a Statement that will print out words that start with 's':**"
   ]
  },
  {
   "cell_type": "code",
   "execution_count": 1,
   "metadata": {
    "collapsed": true
   },
   "outputs": [],
   "source": [
    "st = 'Print only the words that start with s in this sentence'"
   ]
  },
  {
   "cell_type": "code",
   "execution_count": 17,
   "metadata": {
    "collapsed": true
   },
   "outputs": [
    {
     "name": "stdout",
     "output_type": "stream",
     "text": [
      "start\n",
      "s\n",
      "sentence\n",
      "--------Sep-------\n",
      "['start', 's', 'sentence']\n"
     ]
    }
   ],
   "source": [
    "#Code here\n",
    "splitted_words = st.split()\n",
    "\n",
    "for word in splitted_words:\n",
    "    if word[0] == \"s\":\n",
    "        print(word)\n",
    "\n",
    "print(\"--------Sep-------\")\n",
    "\n",
    "l = [w for w in splitted_words if w[0] == \"s\"]\n",
    "print(l)\n"
   ]
  },
  {
   "cell_type": "markdown",
   "metadata": {},
   "source": [
    "______\n",
    "**Use range() to print all the even numbers from 0 to 10.**"
   ]
  },
  {
   "cell_type": "code",
   "execution_count": 20,
   "metadata": {
    "collapsed": true
   },
   "outputs": [
    {
     "name": "stdout",
     "output_type": "stream",
     "text": [
      "0\n",
      "2\n",
      "4\n",
      "6\n",
      "8\n",
      "10\n",
      "--------Sep-------\n",
      "[0, 2, 4, 6, 8, 10]\n"
     ]
    }
   ],
   "source": [
    "#Code Here\n",
    "for i in range(0, 11):\n",
    "    if i % 2 == 0:\n",
    "        print(i)\n",
    "\n",
    "print(\"--------Sep-------\")\n",
    "\n",
    "l = [i for i in range(0,11) if i%2==0]\n",
    "print(l)"
   ]
  },
  {
   "cell_type": "markdown",
   "metadata": {},
   "source": [
    "___\n",
    "**Use a List Comprehension to create a list of all numbers between 1 and 50 that are divisible by 3.**"
   ]
  },
  {
   "cell_type": "code",
   "execution_count": 27,
   "metadata": {
    "collapsed": true
   },
   "outputs": [
    {
     "name": "stdout",
     "output_type": "stream",
     "text": [
      "[3, 6, 9, 12, 15, 18, 21, 24, 27, 30, 33, 36, 39, 42, 45, 48]\n"
     ]
    }
   ],
   "source": [
    "#Code in this cell\n",
    "l = [i for i in range(1, 51) if i % 3 == 0]\n",
    "print(l)"
   ]
  },
  {
   "cell_type": "markdown",
   "metadata": {},
   "source": [
    "_____\n",
    "**Go through the string below and if the length of a word is even print \"even!\"**"
   ]
  },
  {
   "cell_type": "code",
   "execution_count": null,
   "metadata": {
    "collapsed": true
   },
   "outputs": [],
   "source": [
    "st = 'Print every word in this sentence that has an even number of letters'"
   ]
  },
  {
   "cell_type": "code",
   "execution_count": 30,
   "metadata": {
    "collapsed": true
   },
   "outputs": [
    {
     "name": "stdout",
     "output_type": "stream",
     "text": [
      "Print is odd, cause 5\n",
      "only is even, cause 4\n",
      "the is odd, cause 3\n",
      "words is odd, cause 5\n",
      "that is even, cause 4\n",
      "start is odd, cause 5\n",
      "with is even, cause 4\n",
      "s is odd, cause 1\n",
      "in is even, cause 2\n",
      "this is even, cause 4\n",
      "sentence is even, cause 8\n"
     ]
    }
   ],
   "source": [
    "#Code in this cell\n",
    "splitted_words = st.split()\n",
    "\n",
    "for word in splitted_words:\n",
    "    if len(word) % 2 == 0:\n",
    "        print(f\"{word} is even, cause {len(word)}\")\n",
    "    else:\n",
    "        print(f\"{word} is odd, cause {len(word)}\")"
   ]
  },
  {
   "cell_type": "markdown",
   "metadata": {},
   "source": [
    "____\n",
    "**Write a program that prints the integers from 1 to 100. But for multiples of three print \"Fizz\" instead of the number, and for the multiples of five print \"Buzz\". For numbers which are multiples of both three and five print \"FizzBuzz\".**"
   ]
  },
  {
   "cell_type": "code",
   "execution_count": 36,
   "metadata": {
    "collapsed": true
   },
   "outputs": [
    {
     "name": "stdout",
     "output_type": "stream",
     "text": [
      "1 Buzz\n",
      "2 Buzz\n",
      "3 Fizz\n",
      "4 Buzz\n",
      "6 Fizz\n",
      "7 Buzz\n",
      "8 Buzz\n",
      "9 Fizz\n",
      "11 Buzz\n",
      "12 Fizz\n",
      "13 Buzz\n",
      "14 Buzz\n",
      "15 Fizz\n",
      "16 Buzz\n",
      "17 Buzz\n",
      "18 Fizz\n",
      "19 Buzz\n",
      "21 Fizz\n",
      "22 Buzz\n",
      "23 Buzz\n",
      "24 Fizz\n",
      "26 Buzz\n",
      "27 Fizz\n",
      "28 Buzz\n",
      "29 Buzz\n",
      "30 Fizz\n",
      "31 Buzz\n",
      "32 Buzz\n",
      "33 Fizz\n",
      "34 Buzz\n",
      "36 Fizz\n",
      "37 Buzz\n",
      "38 Buzz\n",
      "39 Fizz\n",
      "41 Buzz\n",
      "42 Fizz\n",
      "43 Buzz\n",
      "44 Buzz\n",
      "45 Fizz\n",
      "46 Buzz\n",
      "47 Buzz\n",
      "48 Fizz\n",
      "49 Buzz\n",
      "51 Fizz\n",
      "52 Buzz\n",
      "53 Buzz\n",
      "54 Fizz\n",
      "56 Buzz\n",
      "57 Fizz\n",
      "58 Buzz\n",
      "59 Buzz\n",
      "60 Fizz\n",
      "61 Buzz\n",
      "62 Buzz\n",
      "63 Fizz\n",
      "64 Buzz\n",
      "66 Fizz\n",
      "67 Buzz\n",
      "68 Buzz\n",
      "69 Fizz\n",
      "71 Buzz\n",
      "72 Fizz\n",
      "73 Buzz\n",
      "74 Buzz\n",
      "75 Fizz\n",
      "76 Buzz\n",
      "77 Buzz\n",
      "78 Fizz\n",
      "79 Buzz\n",
      "81 Fizz\n",
      "82 Buzz\n",
      "83 Buzz\n",
      "84 Fizz\n",
      "86 Buzz\n",
      "87 Fizz\n",
      "88 Buzz\n",
      "89 Buzz\n",
      "90 Fizz\n",
      "91 Buzz\n",
      "92 Buzz\n",
      "93 Fizz\n",
      "94 Buzz\n",
      "96 Fizz\n",
      "97 Buzz\n",
      "98 Buzz\n",
      "99 Fizz\n"
     ]
    }
   ],
   "source": [
    "#Code in this cell\n",
    "for i in range (1, 101):\n",
    "    if i % 3 == 0:\n",
    "        print(f\"{i} Fizz\")\n",
    "    elif i % 5 != 0:\n",
    "        print(f\"{i} Buzz\")\n",
    "    elif (i % 3 == 0) or (i % 5 != 0):\n",
    "        print(f\"{i} FizzBuzz\")"
   ]
  },
  {
   "cell_type": "markdown",
   "metadata": {},
   "source": [
    "____\n",
    "**Use List Comprehension to create a list of the first letters of every word in the string below:**"
   ]
  },
  {
   "cell_type": "code",
   "execution_count": null,
   "metadata": {
    "collapsed": true
   },
   "outputs": [],
   "source": [
    "st = 'Create a list of the first letters of every word in this string'"
   ]
  },
  {
   "cell_type": "code",
   "execution_count": 38,
   "metadata": {
    "collapsed": true
   },
   "outputs": [
    {
     "name": "stdout",
     "output_type": "stream",
     "text": [
      "['P', 'o', 't', 'w', 't', 's', 'w', 's', 'i', 't', 's']\n"
     ]
    }
   ],
   "source": [
    "#Code in this cell\n",
    "l = st.split()\n",
    "\n",
    "lista = [i[0] for i in l]\n",
    "\n",
    "print(lista)"
   ]
  },
  {
   "cell_type": "markdown",
   "metadata": {},
   "source": [
    "### Great Job!"
   ]
  }
 ],
 "metadata": {
  "kernelspec": {
   "display_name": "Python 3.10.7 64-bit",
   "language": "python",
   "name": "python3"
  },
  "language_info": {
   "codemirror_mode": {
    "name": "ipython",
    "version": 3
   },
   "file_extension": ".py",
   "mimetype": "text/x-python",
   "name": "python",
   "nbconvert_exporter": "python",
   "pygments_lexer": "ipython3",
   "version": "3.10.7"
  },
  "vscode": {
   "interpreter": {
    "hash": "c31ee28a2e8a8c14288e32f43cdc31d04eb5922835efbdee25a698b666fb5ffc"
   }
  }
 },
 "nbformat": 4,
 "nbformat_minor": 1
}
