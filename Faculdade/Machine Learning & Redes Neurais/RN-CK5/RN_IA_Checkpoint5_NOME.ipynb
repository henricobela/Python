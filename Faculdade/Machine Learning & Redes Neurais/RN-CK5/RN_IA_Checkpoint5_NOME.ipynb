{
  "cells": [
    {
      "cell_type": "markdown",
      "metadata": {
        "id": "K-zLj0B4E9sE"
      },
      "source": [
        "FIAP - Tecnólogo de Inteligência Artificial \n",
        "\n",
        "# Checkpoint 05 - Assistente Virtual\n",
        "\n",
        "Faça o exercício abaixo <font color=\"red\">em grupos de até 4 pessoas</font>, para praticar o uso de `bibliotecas de áudio`. Utilize os conceitos vistos em aula, e consulte materiais extras na internet. Em caso de dúvidas, contate o Prof. Michel. \n",
        "\n",
        "**Entrega**: 18/outubro/2022, via Teams - IMPORTANTE: renomeie o notebook incluindo seu nome! \n",
        "\n",
        "\n",
        "## Apresentação do trabalho\n",
        "\n",
        "Utilizando as bibliotecas de Python que vimos em aula, crie uma assistente virtual `comandada por voz` que seja capaz de realizar 3 comandos distintos: \n",
        "\n",
        "  1. A assistente deve receber informações de compromissos/lembretes e **registrá-los** numa \"agenda\" (para facilitar a \"agenda\" pode ser um arquivo TXT ou CSV, como preferirem)\n",
        "  2. A assistente deve informar os compromissos do dia (ex: ler o arquivo e falar os compromissos de uma data)\n",
        "  3. Crie um terceiro comando livre. Pode ser abrir um arquivo de música, programar um alarme ou timer, iniciar um programa qualquer do seu computador, fazer uma busca na web, retornar o tempo (clima) atual, etc... \n",
        "\n",
        "\n",
        "**Importante**: \n",
        "- a maioria os comandos principais você encontra no material visto em aula, seu maior desafio é encadear as funções com lógica de programação pertinente\n",
        "- você pode criar sua solução localmente ou na nuvem (Colab). Se for localmente, você pode precisar instalar bibliotecas específicas. Consulte o material extra do Prof Hellynson, disponível no Teams. Se usar o Colab, pode haver uma limitação de comandos que você pode implementar (ex: não é possível abrir um programa pelo Colab)\n",
        "- caso queira entregar o trabalho via Colab, lembre de compartilhar o conteúdo com qualquer pessoa que tenha o link e submeta um arquivo TXT no sistema de submissão com o link do seu trabalho. Renomeie o TXT com seu nome e deixe todas as saída executadas do Colab\n",
        "- caso queira implementar um comando de busca na internet, usem o site [DuckDuckGo](https://duckduckgo.com/) ao invés do Google! É mais fácil de utilizar, e existe uma [API](https://duckduckgo.com/api) para isso (OBS: ela não funciona com qualquer pesquisa, pois possui limitações). Por exemplo, a URL abaixo retorna a busca por \"FIAP\":\n",
        "\n",
        "    > https://api.duckduckgo.com/?q=fiap&format=json&pretty=1\n",
        "\n",
        "- Vejam como fazer requisições via URL [neste tutorial simples](https://www.treinaweb.com.br/blog/consumindo-apis-com-python-parte-1) usando a biblioteca `requests`: \n",
        "\n",
        "\n",
        "**Critérios de avaliação**: A correção do checkpoint será feita mediante os seguintes critérios:\n",
        "- implementação dos *três* comandos distintos\n",
        "- a interação com o sistema deve ser feita por *voz*\n",
        "- *lógica da programação correta* para registro, filtro e leitura dos eventos\n",
        "\n",
        "Bom trabalho! "
      ]
    },
    {
      "cell_type": "code",
      "execution_count": null,
      "metadata": {
        "id": "0RN1QMAlE9sU"
      },
      "outputs": [],
      "source": [
        "# Nomes e RMs do grupo !"
      ]
    },
    {
      "cell_type": "code",
      "source": [],
      "metadata": {
        "id": "qbIMHG_FHmlF"
      },
      "execution_count": null,
      "outputs": []
    }
  ],
  "metadata": {
    "kernelspec": {
      "display_name": "Python 3",
      "language": "python",
      "name": "python3"
    },
    "language_info": {
      "codemirror_mode": {
        "name": "ipython",
        "version": 3
      },
      "file_extension": ".py",
      "mimetype": "text/x-python",
      "name": "python",
      "nbconvert_exporter": "python",
      "pygments_lexer": "ipython3",
      "version": "3.7.3"
    },
    "colab": {
      "provenance": []
    }
  },
  "nbformat": 4,
  "nbformat_minor": 0
}