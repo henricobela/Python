{
  "cells": [
    {
      "cell_type": "markdown",
      "metadata": {
        "id": "8ATzAbgeGdXo"
      },
      "source": [
        "FIAP - Tecnólogo de Inteligência Artificial\n",
        "\n",
        "# Checkpoint 05\n",
        "\n",
        "Faça o exercício abaixo <font color=\"red\">em grupos de até 4 pessoas</font>, para praticar o uso do `sklearn avançado` em Machine Learning. Utilize os conceitos vistos em aula, e consulte [documentações](https://scikit-learn.org/stable/) na internet. Em caso de dúvidas, contate o Prof. Michel. \n",
        "\n",
        "**Entrega**: 13/outubro/2022, via Teams. \n",
        "\n",
        "**Apresentação**: utilizaremos a aula de 13/outubro para apresentação dos trabalhos e rodada de feedbacks! \n",
        "\n",
        "\n",
        "## Apresentação do trabalho\n",
        "\n",
        "Neste checkpoint vamos trabalhar com modelagem de dados utilizando os recursos avançados do `sklearn`. \n",
        "\n",
        "Isso implica o uso de:  \n",
        "\n",
        "- Tratamento de missing\n",
        "- Identificação e tratamento de outliers\n",
        "- Feature engineering (redução de dimensionalidade, padronização, encoder, etc)\n",
        "- Lidar com desbalanceamento de dados \n",
        "- Seleção de modelos pertinentes ao problema elencado (regressão x classificação)\n",
        "- Otimização de hiperparâmetros \n",
        "- Validação cruzada\n",
        "- Escolha de métricas pertinentes\n",
        "- Pipelines \n",
        "- Interpretabilidade dos resultados \n",
        "\n",
        "**Dataset**: vocês estão livres para escolher um dataset de interesse do grupo. Com o que gostariam de trabalhar? Saúde? Varejo? Jogos? Agronegócio? Finanças? Escolham uma base pública do Kaggle e sejam felizes. =) \n",
        "\n",
        "**Critérios de avaliação**: A correção do checkpoint será feita mediante os seguintes critérios:\n",
        "- completude do pipeline \n",
        "- emprego correto dos conceitos de machine learning vistos em sala de aula \n",
        "- apresentação do dia 13/outubro (análise/justificativas dos resultados)\n"
      ]
    },
    {
      "cell_type": "code",
      "execution_count": null,
      "metadata": {
        "id": "biVrztiGGdX2"
      },
      "outputs": [],
      "source": [
        "#############################\n",
        "#                           #\n",
        "#   Participantes do grupo  #\n",
        "#                           #\n",
        "#############################\n",
        "\n",
        "# Nome - RA do aluno 1\n",
        "\n",
        "# Nome - RA do aluno 2\n",
        "\n",
        "# Nome - RA do aluno 3\n",
        "\n",
        "# Nome - RA do aluno 4\n"
      ]
    }
  ],
  "metadata": {
    "kernelspec": {
      "display_name": "Python 3",
      "language": "python",
      "name": "python3"
    },
    "language_info": {
      "codemirror_mode": {
        "name": "ipython",
        "version": 3
      },
      "file_extension": ".py",
      "mimetype": "text/x-python",
      "name": "python",
      "nbconvert_exporter": "python",
      "pygments_lexer": "ipython3",
      "version": "3.7.3"
    },
    "colab": {
      "provenance": [],
      "collapsed_sections": []
    }
  },
  "nbformat": 4,
  "nbformat_minor": 0
}