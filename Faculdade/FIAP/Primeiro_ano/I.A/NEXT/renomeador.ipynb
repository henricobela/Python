{
 "cells": [
  {
   "cell_type": "code",
   "execution_count": 2,
   "metadata": {},
   "outputs": [],
   "source": [
    "import pandas as pd\n",
    "import numpy as np\n",
    "import re\n",
    "import string\n",
    "import os"
   ]
  },
  {
   "cell_type": "code",
   "execution_count": 31,
   "metadata": {},
   "outputs": [],
   "source": [
    "e = 0\n",
    "pather = r\"/Users/henricobela/Documents/GitHub/Python/Faculdade/I.A/NEXT/Cafezais\"\n",
    "for file in os.listdir(pather):\n",
    "    e += 1\n",
    "    if file != \".DS_Store\":\n",
    "        os.rename(f\"{pather}/{file}\", f\"{pather}/nao_queimado{e}.jpeg\")"
   ]
  },
  {
   "cell_type": "code",
   "execution_count": 32,
   "metadata": {},
   "outputs": [],
   "source": [
    "e = 0\n",
    "pather = (\n",
    "    r\"/Users/henricobela/Documents/GitHub/Python/Faculdade/I.A/NEXT/Cafezais queimados\"\n",
    ")\n",
    "for file in os.listdir(pather):\n",
    "    e += 1\n",
    "    if file != \".DS_Store\":\n",
    "        os.rename(f\"{pather}/{file}\", f\"{pather}/queimado{e}.jpeg\")"
   ]
  }
 ],
 "metadata": {
  "kernelspec": {
   "display_name": "Python 3.10.8 64-bit",
   "language": "python",
   "name": "python3"
  },
  "language_info": {
   "codemirror_mode": {
    "name": "ipython",
    "version": 3
   },
   "file_extension": ".py",
   "mimetype": "text/x-python",
   "name": "python",
   "nbconvert_exporter": "python",
   "pygments_lexer": "ipython3",
   "version": "3.10.8"
  },
  "orig_nbformat": 4,
  "vscode": {
   "interpreter": {
    "hash": "b0fa6594d8f4cbf19f97940f81e996739fb7646882a419484c72d19e05852a7e"
   }
  }
 },
 "nbformat": 4,
 "nbformat_minor": 2
}
