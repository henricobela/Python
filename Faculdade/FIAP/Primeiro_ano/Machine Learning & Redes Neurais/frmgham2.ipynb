{
 "cells": [
  {
   "cell_type": "code",
   "execution_count": 17,
   "metadata": {
    "id": "PYIIIdUE6Fw2"
   },
   "outputs": [],
   "source": [
    "import pandas as pd\n",
    "import numpy as np\n",
    "import matplotlib.pyplot as plt"
   ]
  },
  {
   "cell_type": "code",
   "execution_count": 18,
   "metadata": {
    "colab": {
     "base_uri": "https://localhost:8080/",
     "height": 300
    },
    "id": "8wywzJ_B6XZB",
    "outputId": "0258934d-c4d8-4aad-bbe8-5f1c45246cc7"
   },
   "outputs": [
    {
     "data": {
      "text/html": [
       "<div>\n",
       "<style scoped>\n",
       "    .dataframe tbody tr th:only-of-type {\n",
       "        vertical-align: middle;\n",
       "    }\n",
       "\n",
       "    .dataframe tbody tr th {\n",
       "        vertical-align: top;\n",
       "    }\n",
       "\n",
       "    .dataframe thead th {\n",
       "        text-align: right;\n",
       "    }\n",
       "</style>\n",
       "<table border=\"1\" class=\"dataframe\">\n",
       "  <thead>\n",
       "    <tr style=\"text-align: right;\">\n",
       "      <th></th>\n",
       "      <th>RANDID</th>\n",
       "      <th>SEX</th>\n",
       "      <th>TOTCHOL</th>\n",
       "      <th>AGE</th>\n",
       "      <th>SYSBP</th>\n",
       "      <th>DIABP</th>\n",
       "      <th>CURSMOKE</th>\n",
       "      <th>CIGPDAY</th>\n",
       "      <th>BMI</th>\n",
       "      <th>DIABETES</th>\n",
       "      <th>...</th>\n",
       "      <th>CVD</th>\n",
       "      <th>HYPERTEN</th>\n",
       "      <th>TIMEAP</th>\n",
       "      <th>TIMEMI</th>\n",
       "      <th>TIMEMIFC</th>\n",
       "      <th>TIMECHD</th>\n",
       "      <th>TIMESTRK</th>\n",
       "      <th>TIMECVD</th>\n",
       "      <th>TIMEDTH</th>\n",
       "      <th>TIMEHYP</th>\n",
       "    </tr>\n",
       "  </thead>\n",
       "  <tbody>\n",
       "    <tr>\n",
       "      <th>0</th>\n",
       "      <td>2448</td>\n",
       "      <td>1</td>\n",
       "      <td>195.0</td>\n",
       "      <td>39</td>\n",
       "      <td>106.0</td>\n",
       "      <td>70.0</td>\n",
       "      <td>0</td>\n",
       "      <td>0.0</td>\n",
       "      <td>26.97</td>\n",
       "      <td>0</td>\n",
       "      <td>...</td>\n",
       "      <td>1</td>\n",
       "      <td>0</td>\n",
       "      <td>8766</td>\n",
       "      <td>6438</td>\n",
       "      <td>6438</td>\n",
       "      <td>6438</td>\n",
       "      <td>8766</td>\n",
       "      <td>6438</td>\n",
       "      <td>8766</td>\n",
       "      <td>8766</td>\n",
       "    </tr>\n",
       "    <tr>\n",
       "      <th>1</th>\n",
       "      <td>2448</td>\n",
       "      <td>1</td>\n",
       "      <td>209.0</td>\n",
       "      <td>52</td>\n",
       "      <td>121.0</td>\n",
       "      <td>66.0</td>\n",
       "      <td>0</td>\n",
       "      <td>0.0</td>\n",
       "      <td>NaN</td>\n",
       "      <td>0</td>\n",
       "      <td>...</td>\n",
       "      <td>1</td>\n",
       "      <td>0</td>\n",
       "      <td>8766</td>\n",
       "      <td>6438</td>\n",
       "      <td>6438</td>\n",
       "      <td>6438</td>\n",
       "      <td>8766</td>\n",
       "      <td>6438</td>\n",
       "      <td>8766</td>\n",
       "      <td>8766</td>\n",
       "    </tr>\n",
       "    <tr>\n",
       "      <th>2</th>\n",
       "      <td>6238</td>\n",
       "      <td>2</td>\n",
       "      <td>250.0</td>\n",
       "      <td>46</td>\n",
       "      <td>121.0</td>\n",
       "      <td>81.0</td>\n",
       "      <td>0</td>\n",
       "      <td>0.0</td>\n",
       "      <td>28.73</td>\n",
       "      <td>0</td>\n",
       "      <td>...</td>\n",
       "      <td>0</td>\n",
       "      <td>0</td>\n",
       "      <td>8766</td>\n",
       "      <td>8766</td>\n",
       "      <td>8766</td>\n",
       "      <td>8766</td>\n",
       "      <td>8766</td>\n",
       "      <td>8766</td>\n",
       "      <td>8766</td>\n",
       "      <td>8766</td>\n",
       "    </tr>\n",
       "    <tr>\n",
       "      <th>3</th>\n",
       "      <td>6238</td>\n",
       "      <td>2</td>\n",
       "      <td>260.0</td>\n",
       "      <td>52</td>\n",
       "      <td>105.0</td>\n",
       "      <td>69.5</td>\n",
       "      <td>0</td>\n",
       "      <td>0.0</td>\n",
       "      <td>29.43</td>\n",
       "      <td>0</td>\n",
       "      <td>...</td>\n",
       "      <td>0</td>\n",
       "      <td>0</td>\n",
       "      <td>8766</td>\n",
       "      <td>8766</td>\n",
       "      <td>8766</td>\n",
       "      <td>8766</td>\n",
       "      <td>8766</td>\n",
       "      <td>8766</td>\n",
       "      <td>8766</td>\n",
       "      <td>8766</td>\n",
       "    </tr>\n",
       "    <tr>\n",
       "      <th>4</th>\n",
       "      <td>6238</td>\n",
       "      <td>2</td>\n",
       "      <td>237.0</td>\n",
       "      <td>58</td>\n",
       "      <td>108.0</td>\n",
       "      <td>66.0</td>\n",
       "      <td>0</td>\n",
       "      <td>0.0</td>\n",
       "      <td>28.50</td>\n",
       "      <td>0</td>\n",
       "      <td>...</td>\n",
       "      <td>0</td>\n",
       "      <td>0</td>\n",
       "      <td>8766</td>\n",
       "      <td>8766</td>\n",
       "      <td>8766</td>\n",
       "      <td>8766</td>\n",
       "      <td>8766</td>\n",
       "      <td>8766</td>\n",
       "      <td>8766</td>\n",
       "      <td>8766</td>\n",
       "    </tr>\n",
       "  </tbody>\n",
       "</table>\n",
       "<p>5 rows × 39 columns</p>\n",
       "</div>"
      ],
      "text/plain": [
       "   RANDID  SEX  TOTCHOL  AGE  SYSBP  DIABP  CURSMOKE  CIGPDAY    BMI  \\\n",
       "0    2448    1    195.0   39  106.0   70.0         0      0.0  26.97   \n",
       "1    2448    1    209.0   52  121.0   66.0         0      0.0    NaN   \n",
       "2    6238    2    250.0   46  121.0   81.0         0      0.0  28.73   \n",
       "3    6238    2    260.0   52  105.0   69.5         0      0.0  29.43   \n",
       "4    6238    2    237.0   58  108.0   66.0         0      0.0  28.50   \n",
       "\n",
       "   DIABETES  ...  CVD  HYPERTEN  TIMEAP  TIMEMI  TIMEMIFC  TIMECHD  TIMESTRK  \\\n",
       "0         0  ...    1         0    8766    6438      6438     6438      8766   \n",
       "1         0  ...    1         0    8766    6438      6438     6438      8766   \n",
       "2         0  ...    0         0    8766    8766      8766     8766      8766   \n",
       "3         0  ...    0         0    8766    8766      8766     8766      8766   \n",
       "4         0  ...    0         0    8766    8766      8766     8766      8766   \n",
       "\n",
       "   TIMECVD  TIMEDTH  TIMEHYP  \n",
       "0     6438     8766     8766  \n",
       "1     6438     8766     8766  \n",
       "2     8766     8766     8766  \n",
       "3     8766     8766     8766  \n",
       "4     8766     8766     8766  \n",
       "\n",
       "[5 rows x 39 columns]"
      ]
     },
     "execution_count": 18,
     "metadata": {},
     "output_type": "execute_result"
    }
   ],
   "source": [
    "df = pd.read_csv(\"frmgham2.csv\")\n",
    "df.head()"
   ]
  },
  {
   "cell_type": "code",
   "execution_count": 19,
   "metadata": {
    "colab": {
     "base_uri": "https://localhost:8080/"
    },
    "id": "K_lZjAqQ6Xba",
    "outputId": "39deb53a-1137-4949-e557-56fb859ff7a3"
   },
   "outputs": [
    {
     "name": "stdout",
     "output_type": "stream",
     "text": [
      "<class 'pandas.core.frame.DataFrame'>\n",
      "RangeIndex: 11627 entries, 0 to 11626\n",
      "Data columns (total 39 columns):\n",
      " #   Column    Non-Null Count  Dtype  \n",
      "---  ------    --------------  -----  \n",
      " 0   RANDID    11627 non-null  int64  \n",
      " 1   SEX       11627 non-null  int64  \n",
      " 2   TOTCHOL   11218 non-null  float64\n",
      " 3   AGE       11627 non-null  int64  \n",
      " 4   SYSBP     11627 non-null  float64\n",
      " 5   DIABP     11627 non-null  float64\n",
      " 6   CURSMOKE  11627 non-null  int64  \n",
      " 7   CIGPDAY   11548 non-null  float64\n",
      " 8   BMI       11575 non-null  float64\n",
      " 9   DIABETES  11627 non-null  int64  \n",
      " 10  BPMEDS    11034 non-null  float64\n",
      " 11  HEARTRTE  11621 non-null  float64\n",
      " 12  GLUCOSE   10187 non-null  float64\n",
      " 13  educ      11332 non-null  float64\n",
      " 14  PREVCHD   11627 non-null  int64  \n",
      " 15  PREVAP    11627 non-null  int64  \n",
      " 16  PREVMI    11627 non-null  int64  \n",
      " 17  PREVSTRK  11627 non-null  int64  \n",
      " 18  PREVHYP   11627 non-null  int64  \n",
      " 19  TIME      11627 non-null  int64  \n",
      " 20  PERIOD    11627 non-null  int64  \n",
      " 21  HDLC      3027 non-null   float64\n",
      " 22  LDLC      3026 non-null   float64\n",
      " 23  DEATH     11627 non-null  int64  \n",
      " 24  ANGINA    11627 non-null  int64  \n",
      " 25  HOSPMI    11627 non-null  int64  \n",
      " 26  MI_FCHD   11627 non-null  int64  \n",
      " 27  ANYCHD    11627 non-null  int64  \n",
      " 28  STROKE    11627 non-null  int64  \n",
      " 29  CVD       11627 non-null  int64  \n",
      " 30  HYPERTEN  11627 non-null  int64  \n",
      " 31  TIMEAP    11627 non-null  int64  \n",
      " 32  TIMEMI    11627 non-null  int64  \n",
      " 33  TIMEMIFC  11627 non-null  int64  \n",
      " 34  TIMECHD   11627 non-null  int64  \n",
      " 35  TIMESTRK  11627 non-null  int64  \n",
      " 36  TIMECVD   11627 non-null  int64  \n",
      " 37  TIMEDTH   11627 non-null  int64  \n",
      " 38  TIMEHYP   11627 non-null  int64  \n",
      "dtypes: float64(11), int64(28)\n",
      "memory usage: 3.5 MB\n"
     ]
    }
   ],
   "source": [
    "df.info()"
   ]
  },
  {
   "cell_type": "code",
   "execution_count": 20,
   "metadata": {
    "colab": {
     "base_uri": "https://localhost:8080/"
    },
    "id": "CgR_RkWA6Xd8",
    "outputId": "1bec036a-f41a-4c51-eed4-41706f119225"
   },
   "outputs": [
    {
     "data": {
      "text/plain": [
       "0    8469\n",
       "1    3158\n",
       "Name: ANYCHD, dtype: int64"
      ]
     },
     "execution_count": 20,
     "metadata": {},
     "output_type": "execute_result"
    }
   ],
   "source": [
    "df[\"ANYCHD\"].value_counts()"
   ]
  },
  {
   "cell_type": "code",
   "execution_count": 21,
   "metadata": {
    "id": "SeFEOZoU6Xge"
   },
   "outputs": [],
   "source": [
    "colunas = [\n",
    "    \"SEX\",\n",
    "    \"TOTCHOL\",\n",
    "    \"AGE\",\n",
    "    \"SYSBP\",\n",
    "    \"DIABP\",\n",
    "    \"CURSMOKE\",\n",
    "    \"CIGPDAY\",\n",
    "    \"BMI\",\n",
    "    \"DIABETES\",\n",
    "    \"BPMEDS\",\n",
    "    \"HEARTRTE\",\n",
    "    \"GLUCOSE\",\n",
    "    \"educ\",\n",
    "    \"HDLC\",\n",
    "    \"LDLC\",\n",
    "    \"ANYCHD\",\n",
    "    \"PERIOD\",\n",
    "]\n",
    "\n",
    "df2 = df[colunas].copy()"
   ]
  },
  {
   "cell_type": "code",
   "execution_count": 22,
   "metadata": {
    "colab": {
     "base_uri": "https://localhost:8080/",
     "height": 424
    },
    "id": "tV-aMOn26XjT",
    "outputId": "d515d97f-5494-42b1-e65c-ab3939cce5e2"
   },
   "outputs": [
    {
     "data": {
      "text/html": [
       "<div>\n",
       "<style scoped>\n",
       "    .dataframe tbody tr th:only-of-type {\n",
       "        vertical-align: middle;\n",
       "    }\n",
       "\n",
       "    .dataframe tbody tr th {\n",
       "        vertical-align: top;\n",
       "    }\n",
       "\n",
       "    .dataframe thead th {\n",
       "        text-align: right;\n",
       "    }\n",
       "</style>\n",
       "<table border=\"1\" class=\"dataframe\">\n",
       "  <thead>\n",
       "    <tr style=\"text-align: right;\">\n",
       "      <th></th>\n",
       "      <th>SEX</th>\n",
       "      <th>TOTCHOL</th>\n",
       "      <th>AGE</th>\n",
       "      <th>SYSBP</th>\n",
       "      <th>DIABP</th>\n",
       "      <th>CURSMOKE</th>\n",
       "      <th>CIGPDAY</th>\n",
       "      <th>BMI</th>\n",
       "      <th>DIABETES</th>\n",
       "      <th>BPMEDS</th>\n",
       "      <th>HEARTRTE</th>\n",
       "      <th>GLUCOSE</th>\n",
       "      <th>educ</th>\n",
       "      <th>HDLC</th>\n",
       "      <th>LDLC</th>\n",
       "      <th>ANYCHD</th>\n",
       "      <th>PERIOD</th>\n",
       "    </tr>\n",
       "  </thead>\n",
       "  <tbody>\n",
       "    <tr>\n",
       "      <th>0</th>\n",
       "      <td>1</td>\n",
       "      <td>195.0</td>\n",
       "      <td>39</td>\n",
       "      <td>106.0</td>\n",
       "      <td>70.0</td>\n",
       "      <td>0</td>\n",
       "      <td>0.0</td>\n",
       "      <td>26.97</td>\n",
       "      <td>0</td>\n",
       "      <td>0.0</td>\n",
       "      <td>80.0</td>\n",
       "      <td>77.0</td>\n",
       "      <td>4.0</td>\n",
       "      <td>NaN</td>\n",
       "      <td>NaN</td>\n",
       "      <td>1</td>\n",
       "      <td>1</td>\n",
       "    </tr>\n",
       "    <tr>\n",
       "      <th>1</th>\n",
       "      <td>1</td>\n",
       "      <td>209.0</td>\n",
       "      <td>52</td>\n",
       "      <td>121.0</td>\n",
       "      <td>66.0</td>\n",
       "      <td>0</td>\n",
       "      <td>0.0</td>\n",
       "      <td>NaN</td>\n",
       "      <td>0</td>\n",
       "      <td>0.0</td>\n",
       "      <td>69.0</td>\n",
       "      <td>92.0</td>\n",
       "      <td>4.0</td>\n",
       "      <td>31.0</td>\n",
       "      <td>178.0</td>\n",
       "      <td>1</td>\n",
       "      <td>3</td>\n",
       "    </tr>\n",
       "    <tr>\n",
       "      <th>2</th>\n",
       "      <td>2</td>\n",
       "      <td>250.0</td>\n",
       "      <td>46</td>\n",
       "      <td>121.0</td>\n",
       "      <td>81.0</td>\n",
       "      <td>0</td>\n",
       "      <td>0.0</td>\n",
       "      <td>28.73</td>\n",
       "      <td>0</td>\n",
       "      <td>0.0</td>\n",
       "      <td>95.0</td>\n",
       "      <td>76.0</td>\n",
       "      <td>2.0</td>\n",
       "      <td>NaN</td>\n",
       "      <td>NaN</td>\n",
       "      <td>0</td>\n",
       "      <td>1</td>\n",
       "    </tr>\n",
       "    <tr>\n",
       "      <th>3</th>\n",
       "      <td>2</td>\n",
       "      <td>260.0</td>\n",
       "      <td>52</td>\n",
       "      <td>105.0</td>\n",
       "      <td>69.5</td>\n",
       "      <td>0</td>\n",
       "      <td>0.0</td>\n",
       "      <td>29.43</td>\n",
       "      <td>0</td>\n",
       "      <td>0.0</td>\n",
       "      <td>80.0</td>\n",
       "      <td>86.0</td>\n",
       "      <td>2.0</td>\n",
       "      <td>NaN</td>\n",
       "      <td>NaN</td>\n",
       "      <td>0</td>\n",
       "      <td>2</td>\n",
       "    </tr>\n",
       "    <tr>\n",
       "      <th>4</th>\n",
       "      <td>2</td>\n",
       "      <td>237.0</td>\n",
       "      <td>58</td>\n",
       "      <td>108.0</td>\n",
       "      <td>66.0</td>\n",
       "      <td>0</td>\n",
       "      <td>0.0</td>\n",
       "      <td>28.50</td>\n",
       "      <td>0</td>\n",
       "      <td>0.0</td>\n",
       "      <td>80.0</td>\n",
       "      <td>71.0</td>\n",
       "      <td>2.0</td>\n",
       "      <td>54.0</td>\n",
       "      <td>141.0</td>\n",
       "      <td>0</td>\n",
       "      <td>3</td>\n",
       "    </tr>\n",
       "    <tr>\n",
       "      <th>...</th>\n",
       "      <td>...</td>\n",
       "      <td>...</td>\n",
       "      <td>...</td>\n",
       "      <td>...</td>\n",
       "      <td>...</td>\n",
       "      <td>...</td>\n",
       "      <td>...</td>\n",
       "      <td>...</td>\n",
       "      <td>...</td>\n",
       "      <td>...</td>\n",
       "      <td>...</td>\n",
       "      <td>...</td>\n",
       "      <td>...</td>\n",
       "      <td>...</td>\n",
       "      <td>...</td>\n",
       "      <td>...</td>\n",
       "      <td>...</td>\n",
       "    </tr>\n",
       "    <tr>\n",
       "      <th>11622</th>\n",
       "      <td>1</td>\n",
       "      <td>173.0</td>\n",
       "      <td>46</td>\n",
       "      <td>126.0</td>\n",
       "      <td>82.0</td>\n",
       "      <td>0</td>\n",
       "      <td>0.0</td>\n",
       "      <td>19.17</td>\n",
       "      <td>0</td>\n",
       "      <td>0.0</td>\n",
       "      <td>70.0</td>\n",
       "      <td>NaN</td>\n",
       "      <td>3.0</td>\n",
       "      <td>NaN</td>\n",
       "      <td>NaN</td>\n",
       "      <td>0</td>\n",
       "      <td>2</td>\n",
       "    </tr>\n",
       "    <tr>\n",
       "      <th>11623</th>\n",
       "      <td>1</td>\n",
       "      <td>153.0</td>\n",
       "      <td>52</td>\n",
       "      <td>143.0</td>\n",
       "      <td>89.0</td>\n",
       "      <td>0</td>\n",
       "      <td>0.0</td>\n",
       "      <td>25.74</td>\n",
       "      <td>0</td>\n",
       "      <td>0.0</td>\n",
       "      <td>65.0</td>\n",
       "      <td>72.0</td>\n",
       "      <td>3.0</td>\n",
       "      <td>30.0</td>\n",
       "      <td>123.0</td>\n",
       "      <td>0</td>\n",
       "      <td>3</td>\n",
       "    </tr>\n",
       "    <tr>\n",
       "      <th>11624</th>\n",
       "      <td>2</td>\n",
       "      <td>196.0</td>\n",
       "      <td>39</td>\n",
       "      <td>133.0</td>\n",
       "      <td>86.0</td>\n",
       "      <td>1</td>\n",
       "      <td>30.0</td>\n",
       "      <td>20.91</td>\n",
       "      <td>0</td>\n",
       "      <td>0.0</td>\n",
       "      <td>85.0</td>\n",
       "      <td>80.0</td>\n",
       "      <td>3.0</td>\n",
       "      <td>NaN</td>\n",
       "      <td>NaN</td>\n",
       "      <td>0</td>\n",
       "      <td>1</td>\n",
       "    </tr>\n",
       "    <tr>\n",
       "      <th>11625</th>\n",
       "      <td>2</td>\n",
       "      <td>240.0</td>\n",
       "      <td>46</td>\n",
       "      <td>138.0</td>\n",
       "      <td>79.0</td>\n",
       "      <td>1</td>\n",
       "      <td>20.0</td>\n",
       "      <td>26.39</td>\n",
       "      <td>0</td>\n",
       "      <td>0.0</td>\n",
       "      <td>90.0</td>\n",
       "      <td>83.0</td>\n",
       "      <td>3.0</td>\n",
       "      <td>NaN</td>\n",
       "      <td>NaN</td>\n",
       "      <td>0</td>\n",
       "      <td>2</td>\n",
       "    </tr>\n",
       "    <tr>\n",
       "      <th>11626</th>\n",
       "      <td>2</td>\n",
       "      <td>NaN</td>\n",
       "      <td>50</td>\n",
       "      <td>147.0</td>\n",
       "      <td>96.0</td>\n",
       "      <td>1</td>\n",
       "      <td>10.0</td>\n",
       "      <td>24.19</td>\n",
       "      <td>0</td>\n",
       "      <td>0.0</td>\n",
       "      <td>94.0</td>\n",
       "      <td>NaN</td>\n",
       "      <td>3.0</td>\n",
       "      <td>NaN</td>\n",
       "      <td>NaN</td>\n",
       "      <td>0</td>\n",
       "      <td>3</td>\n",
       "    </tr>\n",
       "  </tbody>\n",
       "</table>\n",
       "<p>11627 rows × 17 columns</p>\n",
       "</div>"
      ],
      "text/plain": [
       "       SEX  TOTCHOL  AGE  SYSBP  DIABP  CURSMOKE  CIGPDAY    BMI  DIABETES  \\\n",
       "0        1    195.0   39  106.0   70.0         0      0.0  26.97         0   \n",
       "1        1    209.0   52  121.0   66.0         0      0.0    NaN         0   \n",
       "2        2    250.0   46  121.0   81.0         0      0.0  28.73         0   \n",
       "3        2    260.0   52  105.0   69.5         0      0.0  29.43         0   \n",
       "4        2    237.0   58  108.0   66.0         0      0.0  28.50         0   \n",
       "...    ...      ...  ...    ...    ...       ...      ...    ...       ...   \n",
       "11622    1    173.0   46  126.0   82.0         0      0.0  19.17         0   \n",
       "11623    1    153.0   52  143.0   89.0         0      0.0  25.74         0   \n",
       "11624    2    196.0   39  133.0   86.0         1     30.0  20.91         0   \n",
       "11625    2    240.0   46  138.0   79.0         1     20.0  26.39         0   \n",
       "11626    2      NaN   50  147.0   96.0         1     10.0  24.19         0   \n",
       "\n",
       "       BPMEDS  HEARTRTE  GLUCOSE  educ  HDLC   LDLC  ANYCHD  PERIOD  \n",
       "0         0.0      80.0     77.0   4.0   NaN    NaN       1       1  \n",
       "1         0.0      69.0     92.0   4.0  31.0  178.0       1       3  \n",
       "2         0.0      95.0     76.0   2.0   NaN    NaN       0       1  \n",
       "3         0.0      80.0     86.0   2.0   NaN    NaN       0       2  \n",
       "4         0.0      80.0     71.0   2.0  54.0  141.0       0       3  \n",
       "...       ...       ...      ...   ...   ...    ...     ...     ...  \n",
       "11622     0.0      70.0      NaN   3.0   NaN    NaN       0       2  \n",
       "11623     0.0      65.0     72.0   3.0  30.0  123.0       0       3  \n",
       "11624     0.0      85.0     80.0   3.0   NaN    NaN       0       1  \n",
       "11625     0.0      90.0     83.0   3.0   NaN    NaN       0       2  \n",
       "11626     0.0      94.0      NaN   3.0   NaN    NaN       0       3  \n",
       "\n",
       "[11627 rows x 17 columns]"
      ]
     },
     "execution_count": 22,
     "metadata": {},
     "output_type": "execute_result"
    }
   ],
   "source": [
    "df2"
   ]
  },
  {
   "cell_type": "code",
   "execution_count": 23,
   "metadata": {
    "colab": {
     "base_uri": "https://localhost:8080/"
    },
    "id": "dvBOoO1d7wTQ",
    "outputId": "b4ca76af-af12-4f97-c642-2aa2d3490b50"
   },
   "outputs": [
    {
     "data": {
      "text/plain": [
       "1    4434\n",
       "2    3930\n",
       "3    3263\n",
       "Name: PERIOD, dtype: int64"
      ]
     },
     "execution_count": 23,
     "metadata": {},
     "output_type": "execute_result"
    }
   ],
   "source": [
    "df2[\"PERIOD\"].value_counts()"
   ]
  },
  {
   "cell_type": "code",
   "execution_count": 24,
   "metadata": {
    "id": "sPysc7pb7wnX"
   },
   "outputs": [],
   "source": [
    "df2 = df2[df2[\"PERIOD\"] == 3]"
   ]
  },
  {
   "cell_type": "code",
   "execution_count": 25,
   "metadata": {
    "colab": {
     "base_uri": "https://localhost:8080/",
     "height": 424
    },
    "id": "Sz1-nhk37wpu",
    "outputId": "19804595-ee64-4622-e6a1-11c41019e211"
   },
   "outputs": [
    {
     "data": {
      "text/html": [
       "<div>\n",
       "<style scoped>\n",
       "    .dataframe tbody tr th:only-of-type {\n",
       "        vertical-align: middle;\n",
       "    }\n",
       "\n",
       "    .dataframe tbody tr th {\n",
       "        vertical-align: top;\n",
       "    }\n",
       "\n",
       "    .dataframe thead th {\n",
       "        text-align: right;\n",
       "    }\n",
       "</style>\n",
       "<table border=\"1\" class=\"dataframe\">\n",
       "  <thead>\n",
       "    <tr style=\"text-align: right;\">\n",
       "      <th></th>\n",
       "      <th>SEX</th>\n",
       "      <th>TOTCHOL</th>\n",
       "      <th>AGE</th>\n",
       "      <th>SYSBP</th>\n",
       "      <th>DIABP</th>\n",
       "      <th>CURSMOKE</th>\n",
       "      <th>CIGPDAY</th>\n",
       "      <th>BMI</th>\n",
       "      <th>DIABETES</th>\n",
       "      <th>BPMEDS</th>\n",
       "      <th>HEARTRTE</th>\n",
       "      <th>GLUCOSE</th>\n",
       "      <th>educ</th>\n",
       "      <th>HDLC</th>\n",
       "      <th>LDLC</th>\n",
       "      <th>ANYCHD</th>\n",
       "      <th>PERIOD</th>\n",
       "    </tr>\n",
       "  </thead>\n",
       "  <tbody>\n",
       "    <tr>\n",
       "      <th>1</th>\n",
       "      <td>1</td>\n",
       "      <td>209.0</td>\n",
       "      <td>52</td>\n",
       "      <td>121.0</td>\n",
       "      <td>66.0</td>\n",
       "      <td>0</td>\n",
       "      <td>0.0</td>\n",
       "      <td>NaN</td>\n",
       "      <td>0</td>\n",
       "      <td>0.0</td>\n",
       "      <td>69.0</td>\n",
       "      <td>92.0</td>\n",
       "      <td>4.0</td>\n",
       "      <td>31.0</td>\n",
       "      <td>178.0</td>\n",
       "      <td>1</td>\n",
       "      <td>3</td>\n",
       "    </tr>\n",
       "    <tr>\n",
       "      <th>4</th>\n",
       "      <td>2</td>\n",
       "      <td>237.0</td>\n",
       "      <td>58</td>\n",
       "      <td>108.0</td>\n",
       "      <td>66.0</td>\n",
       "      <td>0</td>\n",
       "      <td>0.0</td>\n",
       "      <td>28.50</td>\n",
       "      <td>0</td>\n",
       "      <td>0.0</td>\n",
       "      <td>80.0</td>\n",
       "      <td>71.0</td>\n",
       "      <td>2.0</td>\n",
       "      <td>54.0</td>\n",
       "      <td>141.0</td>\n",
       "      <td>0</td>\n",
       "      <td>3</td>\n",
       "    </tr>\n",
       "    <tr>\n",
       "      <th>11</th>\n",
       "      <td>2</td>\n",
       "      <td>NaN</td>\n",
       "      <td>58</td>\n",
       "      <td>155.0</td>\n",
       "      <td>90.0</td>\n",
       "      <td>1</td>\n",
       "      <td>30.0</td>\n",
       "      <td>24.61</td>\n",
       "      <td>0</td>\n",
       "      <td>0.0</td>\n",
       "      <td>74.0</td>\n",
       "      <td>NaN</td>\n",
       "      <td>3.0</td>\n",
       "      <td>NaN</td>\n",
       "      <td>NaN</td>\n",
       "      <td>0</td>\n",
       "      <td>3</td>\n",
       "    </tr>\n",
       "    <tr>\n",
       "      <th>14</th>\n",
       "      <td>2</td>\n",
       "      <td>220.0</td>\n",
       "      <td>55</td>\n",
       "      <td>180.0</td>\n",
       "      <td>106.0</td>\n",
       "      <td>0</td>\n",
       "      <td>0.0</td>\n",
       "      <td>31.17</td>\n",
       "      <td>1</td>\n",
       "      <td>1.0</td>\n",
       "      <td>86.0</td>\n",
       "      <td>81.0</td>\n",
       "      <td>2.0</td>\n",
       "      <td>46.0</td>\n",
       "      <td>135.0</td>\n",
       "      <td>1</td>\n",
       "      <td>3</td>\n",
       "    </tr>\n",
       "    <tr>\n",
       "      <th>19</th>\n",
       "      <td>2</td>\n",
       "      <td>320.0</td>\n",
       "      <td>57</td>\n",
       "      <td>110.0</td>\n",
       "      <td>46.0</td>\n",
       "      <td>1</td>\n",
       "      <td>30.0</td>\n",
       "      <td>22.02</td>\n",
       "      <td>0</td>\n",
       "      <td>0.0</td>\n",
       "      <td>75.0</td>\n",
       "      <td>87.0</td>\n",
       "      <td>2.0</td>\n",
       "      <td>34.0</td>\n",
       "      <td>286.0</td>\n",
       "      <td>0</td>\n",
       "      <td>3</td>\n",
       "    </tr>\n",
       "    <tr>\n",
       "      <th>...</th>\n",
       "      <td>...</td>\n",
       "      <td>...</td>\n",
       "      <td>...</td>\n",
       "      <td>...</td>\n",
       "      <td>...</td>\n",
       "      <td>...</td>\n",
       "      <td>...</td>\n",
       "      <td>...</td>\n",
       "      <td>...</td>\n",
       "      <td>...</td>\n",
       "      <td>...</td>\n",
       "      <td>...</td>\n",
       "      <td>...</td>\n",
       "      <td>...</td>\n",
       "      <td>...</td>\n",
       "      <td>...</td>\n",
       "      <td>...</td>\n",
       "    </tr>\n",
       "    <tr>\n",
       "      <th>11612</th>\n",
       "      <td>1</td>\n",
       "      <td>NaN</td>\n",
       "      <td>63</td>\n",
       "      <td>120.0</td>\n",
       "      <td>80.0</td>\n",
       "      <td>1</td>\n",
       "      <td>50.0</td>\n",
       "      <td>17.38</td>\n",
       "      <td>0</td>\n",
       "      <td>0.0</td>\n",
       "      <td>76.0</td>\n",
       "      <td>NaN</td>\n",
       "      <td>3.0</td>\n",
       "      <td>NaN</td>\n",
       "      <td>NaN</td>\n",
       "      <td>0</td>\n",
       "      <td>3</td>\n",
       "    </tr>\n",
       "    <tr>\n",
       "      <th>11615</th>\n",
       "      <td>2</td>\n",
       "      <td>228.0</td>\n",
       "      <td>60</td>\n",
       "      <td>205.0</td>\n",
       "      <td>100.0</td>\n",
       "      <td>1</td>\n",
       "      <td>20.0</td>\n",
       "      <td>22.37</td>\n",
       "      <td>0</td>\n",
       "      <td>0.0</td>\n",
       "      <td>80.0</td>\n",
       "      <td>91.0</td>\n",
       "      <td>2.0</td>\n",
       "      <td>47.0</td>\n",
       "      <td>181.0</td>\n",
       "      <td>0</td>\n",
       "      <td>3</td>\n",
       "    </tr>\n",
       "    <tr>\n",
       "      <th>11618</th>\n",
       "      <td>2</td>\n",
       "      <td>251.0</td>\n",
       "      <td>56</td>\n",
       "      <td>145.0</td>\n",
       "      <td>92.0</td>\n",
       "      <td>1</td>\n",
       "      <td>35.0</td>\n",
       "      <td>21.97</td>\n",
       "      <td>0</td>\n",
       "      <td>1.0</td>\n",
       "      <td>95.0</td>\n",
       "      <td>90.0</td>\n",
       "      <td>1.0</td>\n",
       "      <td>70.0</td>\n",
       "      <td>181.0</td>\n",
       "      <td>0</td>\n",
       "      <td>3</td>\n",
       "    </tr>\n",
       "    <tr>\n",
       "      <th>11623</th>\n",
       "      <td>1</td>\n",
       "      <td>153.0</td>\n",
       "      <td>52</td>\n",
       "      <td>143.0</td>\n",
       "      <td>89.0</td>\n",
       "      <td>0</td>\n",
       "      <td>0.0</td>\n",
       "      <td>25.74</td>\n",
       "      <td>0</td>\n",
       "      <td>0.0</td>\n",
       "      <td>65.0</td>\n",
       "      <td>72.0</td>\n",
       "      <td>3.0</td>\n",
       "      <td>30.0</td>\n",
       "      <td>123.0</td>\n",
       "      <td>0</td>\n",
       "      <td>3</td>\n",
       "    </tr>\n",
       "    <tr>\n",
       "      <th>11626</th>\n",
       "      <td>2</td>\n",
       "      <td>NaN</td>\n",
       "      <td>50</td>\n",
       "      <td>147.0</td>\n",
       "      <td>96.0</td>\n",
       "      <td>1</td>\n",
       "      <td>10.0</td>\n",
       "      <td>24.19</td>\n",
       "      <td>0</td>\n",
       "      <td>0.0</td>\n",
       "      <td>94.0</td>\n",
       "      <td>NaN</td>\n",
       "      <td>3.0</td>\n",
       "      <td>NaN</td>\n",
       "      <td>NaN</td>\n",
       "      <td>0</td>\n",
       "      <td>3</td>\n",
       "    </tr>\n",
       "  </tbody>\n",
       "</table>\n",
       "<p>3263 rows × 17 columns</p>\n",
       "</div>"
      ],
      "text/plain": [
       "       SEX  TOTCHOL  AGE  SYSBP  DIABP  CURSMOKE  CIGPDAY    BMI  DIABETES  \\\n",
       "1        1    209.0   52  121.0   66.0         0      0.0    NaN         0   \n",
       "4        2    237.0   58  108.0   66.0         0      0.0  28.50         0   \n",
       "11       2      NaN   58  155.0   90.0         1     30.0  24.61         0   \n",
       "14       2    220.0   55  180.0  106.0         0      0.0  31.17         1   \n",
       "19       2    320.0   57  110.0   46.0         1     30.0  22.02         0   \n",
       "...    ...      ...  ...    ...    ...       ...      ...    ...       ...   \n",
       "11612    1      NaN   63  120.0   80.0         1     50.0  17.38         0   \n",
       "11615    2    228.0   60  205.0  100.0         1     20.0  22.37         0   \n",
       "11618    2    251.0   56  145.0   92.0         1     35.0  21.97         0   \n",
       "11623    1    153.0   52  143.0   89.0         0      0.0  25.74         0   \n",
       "11626    2      NaN   50  147.0   96.0         1     10.0  24.19         0   \n",
       "\n",
       "       BPMEDS  HEARTRTE  GLUCOSE  educ  HDLC   LDLC  ANYCHD  PERIOD  \n",
       "1         0.0      69.0     92.0   4.0  31.0  178.0       1       3  \n",
       "4         0.0      80.0     71.0   2.0  54.0  141.0       0       3  \n",
       "11        0.0      74.0      NaN   3.0   NaN    NaN       0       3  \n",
       "14        1.0      86.0     81.0   2.0  46.0  135.0       1       3  \n",
       "19        0.0      75.0     87.0   2.0  34.0  286.0       0       3  \n",
       "...       ...       ...      ...   ...   ...    ...     ...     ...  \n",
       "11612     0.0      76.0      NaN   3.0   NaN    NaN       0       3  \n",
       "11615     0.0      80.0     91.0   2.0  47.0  181.0       0       3  \n",
       "11618     1.0      95.0     90.0   1.0  70.0  181.0       0       3  \n",
       "11623     0.0      65.0     72.0   3.0  30.0  123.0       0       3  \n",
       "11626     0.0      94.0      NaN   3.0   NaN    NaN       0       3  \n",
       "\n",
       "[3263 rows x 17 columns]"
      ]
     },
     "execution_count": 25,
     "metadata": {},
     "output_type": "execute_result"
    }
   ],
   "source": [
    "df2"
   ]
  },
  {
   "cell_type": "code",
   "execution_count": 26,
   "metadata": {
    "id": "HI0p2Qbd7wsV"
   },
   "outputs": [],
   "source": [
    "df2 = df2.drop(columns=[\"PERIOD\"])"
   ]
  },
  {
   "cell_type": "code",
   "execution_count": 27,
   "metadata": {
    "colab": {
     "base_uri": "https://localhost:8080/",
     "height": 424
    },
    "id": "OIovBE9s7wum",
    "outputId": "9e83ef90-8678-4433-8cef-abea609ddee2"
   },
   "outputs": [
    {
     "data": {
      "text/html": [
       "<div>\n",
       "<style scoped>\n",
       "    .dataframe tbody tr th:only-of-type {\n",
       "        vertical-align: middle;\n",
       "    }\n",
       "\n",
       "    .dataframe tbody tr th {\n",
       "        vertical-align: top;\n",
       "    }\n",
       "\n",
       "    .dataframe thead th {\n",
       "        text-align: right;\n",
       "    }\n",
       "</style>\n",
       "<table border=\"1\" class=\"dataframe\">\n",
       "  <thead>\n",
       "    <tr style=\"text-align: right;\">\n",
       "      <th></th>\n",
       "      <th>SEX</th>\n",
       "      <th>TOTCHOL</th>\n",
       "      <th>AGE</th>\n",
       "      <th>SYSBP</th>\n",
       "      <th>DIABP</th>\n",
       "      <th>CURSMOKE</th>\n",
       "      <th>CIGPDAY</th>\n",
       "      <th>BMI</th>\n",
       "      <th>DIABETES</th>\n",
       "      <th>BPMEDS</th>\n",
       "      <th>HEARTRTE</th>\n",
       "      <th>GLUCOSE</th>\n",
       "      <th>educ</th>\n",
       "      <th>HDLC</th>\n",
       "      <th>LDLC</th>\n",
       "      <th>ANYCHD</th>\n",
       "    </tr>\n",
       "  </thead>\n",
       "  <tbody>\n",
       "    <tr>\n",
       "      <th>1</th>\n",
       "      <td>1</td>\n",
       "      <td>209.0</td>\n",
       "      <td>52</td>\n",
       "      <td>121.0</td>\n",
       "      <td>66.0</td>\n",
       "      <td>0</td>\n",
       "      <td>0.0</td>\n",
       "      <td>NaN</td>\n",
       "      <td>0</td>\n",
       "      <td>0.0</td>\n",
       "      <td>69.0</td>\n",
       "      <td>92.0</td>\n",
       "      <td>4.0</td>\n",
       "      <td>31.0</td>\n",
       "      <td>178.0</td>\n",
       "      <td>1</td>\n",
       "    </tr>\n",
       "    <tr>\n",
       "      <th>4</th>\n",
       "      <td>2</td>\n",
       "      <td>237.0</td>\n",
       "      <td>58</td>\n",
       "      <td>108.0</td>\n",
       "      <td>66.0</td>\n",
       "      <td>0</td>\n",
       "      <td>0.0</td>\n",
       "      <td>28.50</td>\n",
       "      <td>0</td>\n",
       "      <td>0.0</td>\n",
       "      <td>80.0</td>\n",
       "      <td>71.0</td>\n",
       "      <td>2.0</td>\n",
       "      <td>54.0</td>\n",
       "      <td>141.0</td>\n",
       "      <td>0</td>\n",
       "    </tr>\n",
       "    <tr>\n",
       "      <th>11</th>\n",
       "      <td>2</td>\n",
       "      <td>NaN</td>\n",
       "      <td>58</td>\n",
       "      <td>155.0</td>\n",
       "      <td>90.0</td>\n",
       "      <td>1</td>\n",
       "      <td>30.0</td>\n",
       "      <td>24.61</td>\n",
       "      <td>0</td>\n",
       "      <td>0.0</td>\n",
       "      <td>74.0</td>\n",
       "      <td>NaN</td>\n",
       "      <td>3.0</td>\n",
       "      <td>NaN</td>\n",
       "      <td>NaN</td>\n",
       "      <td>0</td>\n",
       "    </tr>\n",
       "    <tr>\n",
       "      <th>14</th>\n",
       "      <td>2</td>\n",
       "      <td>220.0</td>\n",
       "      <td>55</td>\n",
       "      <td>180.0</td>\n",
       "      <td>106.0</td>\n",
       "      <td>0</td>\n",
       "      <td>0.0</td>\n",
       "      <td>31.17</td>\n",
       "      <td>1</td>\n",
       "      <td>1.0</td>\n",
       "      <td>86.0</td>\n",
       "      <td>81.0</td>\n",
       "      <td>2.0</td>\n",
       "      <td>46.0</td>\n",
       "      <td>135.0</td>\n",
       "      <td>1</td>\n",
       "    </tr>\n",
       "    <tr>\n",
       "      <th>19</th>\n",
       "      <td>2</td>\n",
       "      <td>320.0</td>\n",
       "      <td>57</td>\n",
       "      <td>110.0</td>\n",
       "      <td>46.0</td>\n",
       "      <td>1</td>\n",
       "      <td>30.0</td>\n",
       "      <td>22.02</td>\n",
       "      <td>0</td>\n",
       "      <td>0.0</td>\n",
       "      <td>75.0</td>\n",
       "      <td>87.0</td>\n",
       "      <td>2.0</td>\n",
       "      <td>34.0</td>\n",
       "      <td>286.0</td>\n",
       "      <td>0</td>\n",
       "    </tr>\n",
       "    <tr>\n",
       "      <th>...</th>\n",
       "      <td>...</td>\n",
       "      <td>...</td>\n",
       "      <td>...</td>\n",
       "      <td>...</td>\n",
       "      <td>...</td>\n",
       "      <td>...</td>\n",
       "      <td>...</td>\n",
       "      <td>...</td>\n",
       "      <td>...</td>\n",
       "      <td>...</td>\n",
       "      <td>...</td>\n",
       "      <td>...</td>\n",
       "      <td>...</td>\n",
       "      <td>...</td>\n",
       "      <td>...</td>\n",
       "      <td>...</td>\n",
       "    </tr>\n",
       "    <tr>\n",
       "      <th>11612</th>\n",
       "      <td>1</td>\n",
       "      <td>NaN</td>\n",
       "      <td>63</td>\n",
       "      <td>120.0</td>\n",
       "      <td>80.0</td>\n",
       "      <td>1</td>\n",
       "      <td>50.0</td>\n",
       "      <td>17.38</td>\n",
       "      <td>0</td>\n",
       "      <td>0.0</td>\n",
       "      <td>76.0</td>\n",
       "      <td>NaN</td>\n",
       "      <td>3.0</td>\n",
       "      <td>NaN</td>\n",
       "      <td>NaN</td>\n",
       "      <td>0</td>\n",
       "    </tr>\n",
       "    <tr>\n",
       "      <th>11615</th>\n",
       "      <td>2</td>\n",
       "      <td>228.0</td>\n",
       "      <td>60</td>\n",
       "      <td>205.0</td>\n",
       "      <td>100.0</td>\n",
       "      <td>1</td>\n",
       "      <td>20.0</td>\n",
       "      <td>22.37</td>\n",
       "      <td>0</td>\n",
       "      <td>0.0</td>\n",
       "      <td>80.0</td>\n",
       "      <td>91.0</td>\n",
       "      <td>2.0</td>\n",
       "      <td>47.0</td>\n",
       "      <td>181.0</td>\n",
       "      <td>0</td>\n",
       "    </tr>\n",
       "    <tr>\n",
       "      <th>11618</th>\n",
       "      <td>2</td>\n",
       "      <td>251.0</td>\n",
       "      <td>56</td>\n",
       "      <td>145.0</td>\n",
       "      <td>92.0</td>\n",
       "      <td>1</td>\n",
       "      <td>35.0</td>\n",
       "      <td>21.97</td>\n",
       "      <td>0</td>\n",
       "      <td>1.0</td>\n",
       "      <td>95.0</td>\n",
       "      <td>90.0</td>\n",
       "      <td>1.0</td>\n",
       "      <td>70.0</td>\n",
       "      <td>181.0</td>\n",
       "      <td>0</td>\n",
       "    </tr>\n",
       "    <tr>\n",
       "      <th>11623</th>\n",
       "      <td>1</td>\n",
       "      <td>153.0</td>\n",
       "      <td>52</td>\n",
       "      <td>143.0</td>\n",
       "      <td>89.0</td>\n",
       "      <td>0</td>\n",
       "      <td>0.0</td>\n",
       "      <td>25.74</td>\n",
       "      <td>0</td>\n",
       "      <td>0.0</td>\n",
       "      <td>65.0</td>\n",
       "      <td>72.0</td>\n",
       "      <td>3.0</td>\n",
       "      <td>30.0</td>\n",
       "      <td>123.0</td>\n",
       "      <td>0</td>\n",
       "    </tr>\n",
       "    <tr>\n",
       "      <th>11626</th>\n",
       "      <td>2</td>\n",
       "      <td>NaN</td>\n",
       "      <td>50</td>\n",
       "      <td>147.0</td>\n",
       "      <td>96.0</td>\n",
       "      <td>1</td>\n",
       "      <td>10.0</td>\n",
       "      <td>24.19</td>\n",
       "      <td>0</td>\n",
       "      <td>0.0</td>\n",
       "      <td>94.0</td>\n",
       "      <td>NaN</td>\n",
       "      <td>3.0</td>\n",
       "      <td>NaN</td>\n",
       "      <td>NaN</td>\n",
       "      <td>0</td>\n",
       "    </tr>\n",
       "  </tbody>\n",
       "</table>\n",
       "<p>3263 rows × 16 columns</p>\n",
       "</div>"
      ],
      "text/plain": [
       "       SEX  TOTCHOL  AGE  SYSBP  DIABP  CURSMOKE  CIGPDAY    BMI  DIABETES  \\\n",
       "1        1    209.0   52  121.0   66.0         0      0.0    NaN         0   \n",
       "4        2    237.0   58  108.0   66.0         0      0.0  28.50         0   \n",
       "11       2      NaN   58  155.0   90.0         1     30.0  24.61         0   \n",
       "14       2    220.0   55  180.0  106.0         0      0.0  31.17         1   \n",
       "19       2    320.0   57  110.0   46.0         1     30.0  22.02         0   \n",
       "...    ...      ...  ...    ...    ...       ...      ...    ...       ...   \n",
       "11612    1      NaN   63  120.0   80.0         1     50.0  17.38         0   \n",
       "11615    2    228.0   60  205.0  100.0         1     20.0  22.37         0   \n",
       "11618    2    251.0   56  145.0   92.0         1     35.0  21.97         0   \n",
       "11623    1    153.0   52  143.0   89.0         0      0.0  25.74         0   \n",
       "11626    2      NaN   50  147.0   96.0         1     10.0  24.19         0   \n",
       "\n",
       "       BPMEDS  HEARTRTE  GLUCOSE  educ  HDLC   LDLC  ANYCHD  \n",
       "1         0.0      69.0     92.0   4.0  31.0  178.0       1  \n",
       "4         0.0      80.0     71.0   2.0  54.0  141.0       0  \n",
       "11        0.0      74.0      NaN   3.0   NaN    NaN       0  \n",
       "14        1.0      86.0     81.0   2.0  46.0  135.0       1  \n",
       "19        0.0      75.0     87.0   2.0  34.0  286.0       0  \n",
       "...       ...       ...      ...   ...   ...    ...     ...  \n",
       "11612     0.0      76.0      NaN   3.0   NaN    NaN       0  \n",
       "11615     0.0      80.0     91.0   2.0  47.0  181.0       0  \n",
       "11618     1.0      95.0     90.0   1.0  70.0  181.0       0  \n",
       "11623     0.0      65.0     72.0   3.0  30.0  123.0       0  \n",
       "11626     0.0      94.0      NaN   3.0   NaN    NaN       0  \n",
       "\n",
       "[3263 rows x 16 columns]"
      ]
     },
     "execution_count": 27,
     "metadata": {},
     "output_type": "execute_result"
    }
   ],
   "source": [
    "df2"
   ]
  },
  {
   "cell_type": "code",
   "execution_count": 28,
   "metadata": {
    "colab": {
     "base_uri": "https://localhost:8080/"
    },
    "id": "UcM5PacI7wxV",
    "outputId": "6acf9643-e93f-4819-f09d-53306e7fc639"
   },
   "outputs": [
    {
     "data": {
      "text/plain": [
       "(3263, 16)"
      ]
     },
     "execution_count": 28,
     "metadata": {},
     "output_type": "execute_result"
    }
   ],
   "source": [
    "df2.shape"
   ]
  },
  {
   "cell_type": "code",
   "execution_count": 29,
   "metadata": {
    "colab": {
     "base_uri": "https://localhost:8080/"
    },
    "id": "SWK-AAsi7wzy",
    "outputId": "c109e94a-4a0a-4f95-e893-5438b0c16a31"
   },
   "outputs": [
    {
     "data": {
      "text/plain": [
       "SEX           0\n",
       "TOTCHOL     214\n",
       "AGE           0\n",
       "SYSBP         0\n",
       "DIABP         0\n",
       "CURSMOKE      0\n",
       "CIGPDAY      14\n",
       "BMI          17\n",
       "DIABETES      0\n",
       "BPMEDS      446\n",
       "HEARTRTE      4\n",
       "GLUCOSE     562\n",
       "educ         82\n",
       "HDLC        236\n",
       "LDLC        237\n",
       "ANYCHD        0\n",
       "dtype: int64"
      ]
     },
     "execution_count": 29,
     "metadata": {},
     "output_type": "execute_result"
    }
   ],
   "source": [
    "df2.isnull().sum()"
   ]
  },
  {
   "cell_type": "code",
   "execution_count": 30,
   "metadata": {
    "colab": {
     "base_uri": "https://localhost:8080/",
     "height": 585
    },
    "id": "EX-NvOjK7w2g",
    "outputId": "421286fe-4b13-4085-f95a-ad71df5db90d"
   },
   "outputs": [
    {
     "data": {
      "text/plain": [
       "<AxesSubplot:>"
      ]
     },
     "execution_count": 30,
     "metadata": {},
     "output_type": "execute_result"
    },
    {
     "data": {
      "image/png": "[encoded data removed]",
      "text/plain": [
       "<Figure size 1800x720 with 2 Axes>"
      ]
     },
     "metadata": {
      "needs_background": "light"
     },
     "output_type": "display_data"
    }
   ],
   "source": [
    "import missingno as msno\n",
    "\n",
    "msno.matrix(df2)"
   ]
  },
  {
   "cell_type": "code",
   "execution_count": 31,
   "metadata": {
    "colab": {
     "base_uri": "https://localhost:8080/",
     "height": 781
    },
    "id": "Mya4Zonr7xFx",
    "outputId": "79677b81-60e6-4271-e96f-0bddf960a5d0"
   },
   "outputs": [
    {
     "data": {
      "text/plain": [
       "<AxesSubplot:>"
      ]
     },
     "execution_count": 31,
     "metadata": {},
     "output_type": "execute_result"
    },
    {
     "data": {
      "image/png": "[encoded data removed]",
      "text/plain": [
       "<Figure size 1440x864 with 2 Axes>"
      ]
     },
     "metadata": {
      "needs_background": "light"
     },
     "output_type": "display_data"
    }
   ],
   "source": [
    "msno.heatmap(df2)"
   ]
  },
  {
   "cell_type": "code",
   "execution_count": 32,
   "metadata": {
    "id": "1Ej4B3HC7xIX"
   },
   "outputs": [],
   "source": [
    "features = df2.drop(columns=[\"ANYCHD\"])\n",
    "target = df2[\"ANYCHD\"]\n",
    "\n",
    "features_list = list(features.columns)"
   ]
  },
  {
   "cell_type": "code",
   "execution_count": 33,
   "metadata": {
    "id": "0ubq5sZB7xK-"
   },
   "outputs": [],
   "source": [
    "features = np.array(features)\n",
    "target = np.array(target)"
   ]
  },
  {
   "cell_type": "code",
   "execution_count": 34,
   "metadata": {
    "id": "r4nxPS2V7xNd"
   },
   "outputs": [],
   "source": [
    "from numpy import isnan\n",
    "from sklearn.impute import KNNImputer"
   ]
  },
  {
   "cell_type": "code",
   "execution_count": 35,
   "metadata": {
    "colab": {
     "base_uri": "https://localhost:8080/"
    },
    "id": "o_aQvEJ67xP8",
    "outputId": "b16cc229-97b5-4b95-d498-1bd1babad790"
   },
   "outputs": [
    {
     "name": "stdout",
     "output_type": "stream",
     "text": [
      "Missing: 1812\n",
      "Features Transformed: 0\n"
     ]
    }
   ],
   "source": [
    "print(f\"Missing: {sum(isnan(features).flatten())}\")\n",
    "\n",
    "imputer = KNNImputer(missing_values=np.nan)\n",
    "imputer.fit(features)\n",
    "features_transformed = imputer.transform(features)\n",
    "\n",
    "print(f\"Features Transformed: {sum(isnan(features_transformed).flatten())}\")"
   ]
  },
  {
   "cell_type": "code",
   "execution_count": 36,
   "metadata": {
    "id": "QifeHPs37xS2"
   },
   "outputs": [],
   "source": [
    "from sklearn.model_selection import train_test_split as tts"
   ]
  },
  {
   "cell_type": "code",
   "execution_count": 37,
   "metadata": {},
   "outputs": [],
   "source": [
    "x_train, x_val, y_train, y_val = tts(\n",
    "    features_transformed, target, test_size=0.3, random_state=8\n",
    ")"
   ]
  },
  {
   "cell_type": "code",
   "execution_count": 38,
   "metadata": {},
   "outputs": [],
   "source": [
    "x_val, x_test, y_val, y_test = tts(x_val, y_val, test_size=0.5, random_state=8)"
   ]
  },
  {
   "cell_type": "code",
   "execution_count": 39,
   "metadata": {},
   "outputs": [],
   "source": [
    "import pytorch_tabnet\n",
    "from pytorch_tabnet.tab_model import TabNetClassifier\n",
    "\n",
    "import torch\n",
    "\n",
    "from sklearn.metrics import roc_auc_score, accuracy_score, balanced_accuracy_score"
   ]
  },
  {
   "cell_type": "code",
   "execution_count": 40,
   "metadata": {},
   "outputs": [],
   "source": [
    "np.random.seed(8)"
   ]
  },
  {
   "cell_type": "code",
   "execution_count": 41,
   "metadata": {},
   "outputs": [
    {
     "name": "stdout",
     "output_type": "stream",
     "text": [
      "Device used : cpu\n"
     ]
    }
   ],
   "source": [
    "model = TabNetClassifier(\n",
    "    optimizer_fn=torch.optim.Adam,\n",
    "    optimizer_params=dict(lr=2e-2),\n",
    "    n_steps=5,\n",
    "    scheduler_fn=torch.optim.lr_scheduler.StepLR,\n",
    "    scheduler_params={\"step_size\": 10, \"gamma\": 0.5},\n",
    ")"
   ]
  },
  {
   "cell_type": "code",
   "execution_count": 42,
   "metadata": {},
   "outputs": [
    {
     "name": "stdout",
     "output_type": "stream",
     "text": [
      "epoch 0  | loss: 0.66155 | Treinamento_accuracy: 0.51839 | Treinamento_balanced_accuracy: 0.48096 | Validacao_accuracy: 0.55215 | Validacao_balanced_accuracy: 0.48361 |  0:00:00s\n",
      "epoch 1  | loss: 0.59467 | Treinamento_accuracy: 0.60158 | Treinamento_balanced_accuracy: 0.46452 | Validacao_accuracy: 0.64213 | Validacao_balanced_accuracy: 0.48234 |  0:00:01s\n",
      "epoch 2  | loss: 0.58173 | Treinamento_accuracy: 0.61602 | Treinamento_balanced_accuracy: 0.46941 | Validacao_accuracy: 0.62986 | Validacao_balanced_accuracy: 0.46497 |  0:00:01s\n",
      "epoch 3  | loss: 0.57582 | Treinamento_accuracy: 0.56261 | Treinamento_balanced_accuracy: 0.48537 | Validacao_accuracy: 0.56851 | Validacao_balanced_accuracy: 0.45343 |  0:00:02s\n",
      "epoch 4  | loss: 0.56265 | Treinamento_accuracy: 0.59982 | Treinamento_balanced_accuracy: 0.51109 | Validacao_accuracy: 0.61145 | Validacao_balanced_accuracy: 0.50952 |  0:00:02s\n",
      "epoch 5  | loss: 0.55452 | Treinamento_accuracy: 0.5035  | Treinamento_balanced_accuracy: 0.52733 | Validacao_accuracy: 0.47648 | Validacao_balanced_accuracy: 0.51613 |  0:00:03s\n",
      "epoch 6  | loss: 0.54744 | Treinamento_accuracy: 0.45753 | Treinamento_balanced_accuracy: 0.50763 | Validacao_accuracy: 0.45808 | Validacao_balanced_accuracy: 0.50105 |  0:00:03s\n",
      "epoch 7  | loss: 0.55178 | Treinamento_accuracy: 0.48468 | Treinamento_balanced_accuracy: 0.53468 | Validacao_accuracy: 0.46012 | Validacao_balanced_accuracy: 0.50866 |  0:00:04s\n",
      "epoch 8  | loss: 0.5586  | Treinamento_accuracy: 0.45841 | Treinamento_balanced_accuracy: 0.54838 | Validacao_accuracy: 0.41104 | Validacao_balanced_accuracy: 0.50821 |  0:00:05s\n",
      "epoch 9  | loss: 0.54958 | Treinamento_accuracy: 0.44308 | Treinamento_balanced_accuracy: 0.52879 | Validacao_accuracy: 0.40491 | Validacao_balanced_accuracy: 0.50423 |  0:00:05s\n",
      "epoch 10 | loss: 0.54553 | Treinamento_accuracy: 0.47242 | Treinamento_balanced_accuracy: 0.54918 | Validacao_accuracy: 0.41309 | Validacao_balanced_accuracy: 0.51267 |  0:00:06s\n",
      "epoch 11 | loss: 0.54188 | Treinamento_accuracy: 0.53459 | Treinamento_balanced_accuracy: 0.56085 | Validacao_accuracy: 0.51943 | Validacao_balanced_accuracy: 0.53143 |  0:00:06s\n",
      "epoch 12 | loss: 0.54088 | Treinamento_accuracy: 0.55823 | Treinamento_balanced_accuracy: 0.55079 | Validacao_accuracy: 0.56851 | Validacao_balanced_accuracy: 0.55698 |  0:00:07s\n",
      "epoch 13 | loss: 0.5367  | Treinamento_accuracy: 0.58844 | Treinamento_balanced_accuracy: 0.58263 | Validacao_accuracy: 0.57055 | Validacao_balanced_accuracy: 0.55517 |  0:00:07s\n",
      "epoch 14 | loss: 0.53207 | Treinamento_accuracy: 0.60552 | Treinamento_balanced_accuracy: 0.58821 | Validacao_accuracy: 0.55215 | Validacao_balanced_accuracy: 0.52441 |  0:00:08s\n",
      "epoch 15 | loss: 0.53884 | Treinamento_accuracy: 0.63573 | Treinamento_balanced_accuracy: 0.57717 | Validacao_accuracy: 0.6135  | Validacao_balanced_accuracy: 0.54537 |  0:00:08s\n",
      "epoch 16 | loss: 0.53839 | Treinamento_accuracy: 0.66769 | Treinamento_balanced_accuracy: 0.5798  | Validacao_accuracy: 0.63395 | Validacao_balanced_accuracy: 0.5398  |  0:00:09s\n",
      "epoch 17 | loss: 0.53604 | Treinamento_accuracy: 0.67995 | Treinamento_balanced_accuracy: 0.59243 | Validacao_accuracy: 0.65031 | Validacao_balanced_accuracy: 0.53786 |  0:00:09s\n",
      "epoch 18 | loss: 0.52649 | Treinamento_accuracy: 0.70841 | Treinamento_balanced_accuracy: 0.57424 | Validacao_accuracy: 0.70552 | Validacao_balanced_accuracy: 0.53915 |  0:00:09s\n",
      "epoch 19 | loss: 0.52753 | Treinamento_accuracy: 0.71191 | Treinamento_balanced_accuracy: 0.57715 | Validacao_accuracy: 0.70757 | Validacao_balanced_accuracy: 0.54675 |  0:00:10s\n",
      "epoch 20 | loss: 0.52741 | Treinamento_accuracy: 0.72942 | Treinamento_balanced_accuracy: 0.56675 | Validacao_accuracy: 0.73415 | Validacao_balanced_accuracy: 0.54203 |  0:00:10s\n",
      "epoch 21 | loss: 0.52218 | Treinamento_accuracy: 0.72329 | Treinamento_balanced_accuracy: 0.56695 | Validacao_accuracy: 0.72597 | Validacao_balanced_accuracy: 0.54613 |  0:00:11s\n",
      "epoch 22 | loss: 0.52539 | Treinamento_accuracy: 0.73774 | Treinamento_balanced_accuracy: 0.57238 | Validacao_accuracy: 0.72393 | Validacao_balanced_accuracy: 0.5197  |  0:00:11s\n",
      "epoch 23 | loss: 0.52409 | Treinamento_accuracy: 0.73862 | Treinamento_balanced_accuracy: 0.55506 | Validacao_accuracy: 0.72393 | Validacao_balanced_accuracy: 0.50401 |  0:00:12s\n",
      "epoch 24 | loss: 0.52188 | Treinamento_accuracy: 0.74037 | Treinamento_balanced_accuracy: 0.56981 | Validacao_accuracy: 0.73415 | Validacao_balanced_accuracy: 0.52634 |  0:00:12s\n",
      "epoch 25 | loss: 0.52307 | Treinamento_accuracy: 0.73862 | Treinamento_balanced_accuracy: 0.55886 | Validacao_accuracy: 0.73211 | Validacao_balanced_accuracy: 0.50932 |  0:00:13s\n",
      "epoch 26 | loss: 0.51999 | Treinamento_accuracy: 0.74431 | Treinamento_balanced_accuracy: 0.55837 | Validacao_accuracy: 0.74642 | Validacao_balanced_accuracy: 0.52488 |  0:00:13s\n",
      "epoch 27 | loss: 0.52459 | Treinamento_accuracy: 0.74387 | Treinamento_balanced_accuracy: 0.58629 | Validacao_accuracy: 0.72393 | Validacao_balanced_accuracy: 0.5197  |  0:00:14s\n",
      "epoch 28 | loss: 0.52358 | Treinamento_accuracy: 0.75088 | Treinamento_balanced_accuracy: 0.56715 | Validacao_accuracy: 0.7546  | Validacao_balanced_accuracy: 0.52391 |  0:00:14s\n",
      "epoch 29 | loss: 0.52329 | Treinamento_accuracy: 0.74869 | Treinamento_balanced_accuracy: 0.55753 | Validacao_accuracy: 0.76278 | Validacao_balanced_accuracy: 0.53235 |  0:00:15s\n",
      "epoch 30 | loss: 0.52488 | Treinamento_accuracy: 0.74825 | Treinamento_balanced_accuracy: 0.56321 | Validacao_accuracy: 0.7546  | Validacao_balanced_accuracy: 0.52705 |  0:00:15s\n",
      "epoch 31 | loss: 0.51519 | Treinamento_accuracy: 0.74781 | Treinamento_balanced_accuracy: 0.55965 | Validacao_accuracy: 0.7546  | Validacao_balanced_accuracy: 0.53646 |  0:00:16s\n",
      "epoch 32 | loss: 0.52047 | Treinamento_accuracy: 0.75044 | Treinamento_balanced_accuracy: 0.56577 | Validacao_accuracy: 0.75665 | Validacao_balanced_accuracy: 0.53465 |  0:00:16s\n",
      "epoch 33 | loss: 0.51901 | Treinamento_accuracy: 0.75438 | Treinamento_balanced_accuracy: 0.56464 | Validacao_accuracy: 0.76074 | Validacao_balanced_accuracy: 0.53103 |  0:00:17s\n",
      "epoch 34 | loss: 0.52046 | Treinamento_accuracy: 0.75219 | Treinamento_balanced_accuracy: 0.56533 | Validacao_accuracy: 0.75051 | Validacao_balanced_accuracy: 0.51498 |  0:00:17s\n",
      "epoch 35 | loss: 0.52026 | Treinamento_accuracy: 0.75482 | Treinamento_balanced_accuracy: 0.56819 | Validacao_accuracy: 0.75051 | Validacao_balanced_accuracy: 0.52126 |  0:00:18s\n",
      "epoch 36 | loss: 0.51679 | Treinamento_accuracy: 0.7535  | Treinamento_balanced_accuracy: 0.56188 | Validacao_accuracy: 0.75869 | Validacao_balanced_accuracy: 0.52342 |  0:00:18s\n",
      "epoch 37 | loss: 0.51354 | Treinamento_accuracy: 0.75525 | Treinamento_balanced_accuracy: 0.5636  | Validacao_accuracy: 0.76074 | Validacao_balanced_accuracy: 0.52789 |  0:00:19s\n",
      "epoch 38 | loss: 0.51375 | Treinamento_accuracy: 0.75613 | Treinamento_balanced_accuracy: 0.56854 | Validacao_accuracy: 0.75256 | Validacao_balanced_accuracy: 0.51317 |  0:00:19s\n",
      "epoch 39 | loss: 0.51394 | Treinamento_accuracy: 0.75482 | Treinamento_balanced_accuracy: 0.56494 | Validacao_accuracy: 0.75665 | Validacao_balanced_accuracy: 0.52837 |  0:00:20s\n",
      "epoch 40 | loss: 0.51434 | Treinamento_accuracy: 0.75175 | Treinamento_balanced_accuracy: 0.56015 | Validacao_accuracy: 0.75051 | Validacao_balanced_accuracy: 0.51498 |  0:00:20s\n",
      "epoch 41 | loss: 0.51722 | Treinamento_accuracy: 0.74781 | Treinamento_balanced_accuracy: 0.55043 | Validacao_accuracy: 0.7546  | Validacao_balanced_accuracy: 0.52077 |  0:00:21s\n",
      "epoch 42 | loss: 0.51615 | Treinamento_accuracy: 0.75044 | Treinamento_balanced_accuracy: 0.55655 | Validacao_accuracy: 0.75051 | Validacao_balanced_accuracy: 0.51812 |  0:00:21s\n",
      "epoch 43 | loss: 0.51203 | Treinamento_accuracy: 0.75175 | Treinamento_balanced_accuracy: 0.56178 | Validacao_accuracy: 0.74847 | Validacao_balanced_accuracy: 0.51993 |  0:00:21s\n",
      "epoch 44 | loss: 0.51619 | Treinamento_accuracy: 0.75219 | Treinamento_balanced_accuracy: 0.55936 | Validacao_accuracy: 0.74438 | Validacao_balanced_accuracy: 0.51414 |  0:00:22s\n",
      "epoch 45 | loss: 0.5151  | Treinamento_accuracy: 0.75569 | Treinamento_balanced_accuracy: 0.56553 | Validacao_accuracy: 0.75051 | Validacao_balanced_accuracy: 0.52126 |  0:00:22s\n",
      "epoch 46 | loss: 0.51654 | Treinamento_accuracy: 0.75482 | Treinamento_balanced_accuracy: 0.56168 | Validacao_accuracy: 0.75256 | Validacao_balanced_accuracy: 0.51944 |  0:00:23s\n",
      "epoch 47 | loss: 0.51102 | Treinamento_accuracy: 0.7535  | Treinamento_balanced_accuracy: 0.55916 | Validacao_accuracy: 0.75051 | Validacao_balanced_accuracy: 0.51498 |  0:00:23s\n",
      "epoch 48 | loss: 0.51272 | Treinamento_accuracy: 0.7535  | Treinamento_balanced_accuracy: 0.55862 | Validacao_accuracy: 0.75051 | Validacao_balanced_accuracy: 0.51498 |  0:00:24s\n",
      "epoch 49 | loss: 0.51139 | Treinamento_accuracy: 0.75482 | Treinamento_balanced_accuracy: 0.56656 | Validacao_accuracy: 0.75051 | Validacao_balanced_accuracy: 0.51498 |  0:00:24s\n",
      "epoch 50 | loss: 0.50626 | Treinamento_accuracy: 0.75613 | Treinamento_balanced_accuracy: 0.56745 | Validacao_accuracy: 0.74847 | Validacao_balanced_accuracy: 0.51052 |  0:00:25s\n",
      "epoch 51 | loss: 0.50883 | Treinamento_accuracy: 0.75657 | Treinamento_balanced_accuracy: 0.56721 | Validacao_accuracy: 0.74438 | Validacao_balanced_accuracy: 0.50472 |  0:00:25s\n",
      "epoch 52 | loss: 0.50505 | Treinamento_accuracy: 0.75744 | Treinamento_balanced_accuracy: 0.56943 | Validacao_accuracy: 0.74642 | Validacao_balanced_accuracy: 0.50919 |  0:00:26s\n",
      "epoch 53 | loss: 0.50917 | Treinamento_accuracy: 0.75832 | Treinamento_balanced_accuracy: 0.57056 | Validacao_accuracy: 0.74642 | Validacao_balanced_accuracy: 0.50919 |  0:00:26s\n",
      "epoch 54 | loss: 0.50614 | Treinamento_accuracy: 0.75657 | Treinamento_balanced_accuracy: 0.56829 | Validacao_accuracy: 0.74642 | Validacao_balanced_accuracy: 0.50919 |  0:00:27s\n",
      "epoch 55 | loss: 0.50949 | Treinamento_accuracy: 0.75657 | Treinamento_balanced_accuracy: 0.56721 | Validacao_accuracy: 0.74438 | Validacao_balanced_accuracy: 0.50472 |  0:00:27s\n",
      "epoch 56 | loss: 0.51036 | Treinamento_accuracy: 0.75744 | Treinamento_balanced_accuracy: 0.56943 | Validacao_accuracy: 0.74847 | Validacao_balanced_accuracy: 0.51052 |  0:00:28s\n",
      "epoch 57 | loss: 0.50687 | Treinamento_accuracy: 0.75525 | Treinamento_balanced_accuracy: 0.56415 | Validacao_accuracy: 0.74642 | Validacao_balanced_accuracy: 0.50605 |  0:00:28s\n",
      "epoch 58 | loss: 0.51066 | Treinamento_accuracy: 0.75613 | Treinamento_balanced_accuracy: 0.56637 | Validacao_accuracy: 0.74642 | Validacao_balanced_accuracy: 0.50605 |  0:00:29s\n",
      "epoch 59 | loss: 0.51314 | Treinamento_accuracy: 0.76007 | Treinamento_balanced_accuracy: 0.5712  | Validacao_accuracy: 0.74847 | Validacao_balanced_accuracy: 0.51052 |  0:00:29s\n",
      "epoch 60 | loss: 0.51053 | Treinamento_accuracy: 0.76051 | Treinamento_balanced_accuracy: 0.57204 | Validacao_accuracy: 0.75051 | Validacao_balanced_accuracy: 0.51498 |  0:00:30s\n",
      "epoch 61 | loss: 0.50779 | Treinamento_accuracy: 0.76095 | Treinamento_balanced_accuracy: 0.57342 | Validacao_accuracy: 0.74847 | Validacao_balanced_accuracy: 0.51365 |  0:00:30s\n",
      "epoch 62 | loss: 0.51204 | Treinamento_accuracy: 0.76138 | Treinamento_balanced_accuracy: 0.57481 | Validacao_accuracy: 0.74642 | Validacao_balanced_accuracy: 0.51233 |  0:00:31s\n",
      "\n",
      "Early stopping occurred at epoch 62 with best_epoch = 12 and best_Validacao_balanced_accuracy = 0.55698\n",
      "Best weights from best epoch are automatically used!\n"
     ]
    }
   ],
   "source": [
    "model.fit(\n",
    "    x_train,\n",
    "    y_train,\n",
    "    eval_set=[(x_train, y_train), (x_val, y_val)],\n",
    "    eval_name=[\"Treinamento\", \"Validacao\"],\n",
    "    eval_metric=[\"accuracy\", \"balanced_accuracy\"],\n",
    "    max_epochs=1000,\n",
    "    patience=50,\n",
    "    batch_size=256,\n",
    ")"
   ]
  },
  {
   "cell_type": "code",
   "execution_count": 43,
   "metadata": {},
   "outputs": [
    {
     "data": {
      "text/plain": [
       "[<matplotlib.lines.Line2D at 0x7ff9e96f4910>]"
      ]
     },
     "execution_count": 43,
     "metadata": {},
     "output_type": "execute_result"
    },
    {
     "data": {
      "image/png": "[encoded data removed]",
      "text/plain": [
       "<Figure size 432x288 with 1 Axes>"
      ]
     },
     "metadata": {
      "needs_background": "light"
     },
     "output_type": "display_data"
    }
   ],
   "source": [
    "plt.plot(model.history[\"loss\"])"
   ]
  },
  {
   "cell_type": "code",
   "execution_count": 50,
   "metadata": {},
   "outputs": [
    {
     "data": {
      "text/plain": [
       "<matplotlib.legend.Legend at 0x7ff9e94f99a0>"
      ]
     },
     "execution_count": 50,
     "metadata": {},
     "output_type": "execute_result"
    },
    {
     "data": {
      "image/png": "[encoded data removed]",
      "text/plain": [
       "<Figure size 432x288 with 1 Axes>"
      ]
     },
     "metadata": {
      "needs_background": "light"
     },
     "output_type": "display_data"
    }
   ],
   "source": [
    "plt.plot(model.history[\"Treinamento_accuracy\"], label=\"Treino\")\n",
    "plt.plot(model.history[\"Validacao_accuracy\"], label=\"Validacao\")\n",
    "plt.legend()"
   ]
  },
  {
   "cell_type": "code",
   "execution_count": 49,
   "metadata": {},
   "outputs": [
    {
     "data": {
      "text/plain": [
       "{'loss': [0.6615483913237911, 0.5946706774564633, 0.5817286852362277, 0.5758246919319634, 0.5626506472427248, 0.5545243175142492, 0.5474418361007437, 0.5517842071799597, 0.5586010277166884, 0.5495809295757849, 0.5455340561432512, 0.5418818394691013, 0.5408753255829084, 0.5366953122845465, 0.532069169806933, 0.538835857670278, 0.5383867521210852, 0.5360391316397177, 0.5264869128760022, 0.5275256262142897, 0.5274134934887995, 0.5221763240685605, 0.5253924095902051, 0.524092371430372, 0.5218832507442468, 0.5230716149568976, 0.5199856203825796, 0.5245941298020491, 0.5235817166218198, 0.5232915701882852, 0.524878779768735, 0.5151926906430366, 0.5204670374948799, 0.5190064425852586, 0.5204594463057777, 0.5202554112557981, 0.5167856659551009, 0.5135378788523832, 0.5137546387111243, 0.5139442417124733, 0.5143400790290532, 0.5172163025719063, 0.5161517290643134, 0.5120311144563238, 0.5161909298178611, 0.5151025011952829, 0.5165379194578649, 0.5110191122454227, 0.5127163048174669, 0.511385692188911, 0.5062576385179042, 0.5088327241027418, 0.505046561177683, 0.5091719678529716, 0.5061359652391457, 0.509486774064196, 0.5103572657145886, 0.5068715193852026, 0.5106622332449343, 0.5131403307989892, 0.5105304139716822, 0.5077926981052459, 0.5120406898224625], 'lr': [0.02, 0.02, 0.02, 0.02, 0.02, 0.02, 0.02, 0.02, 0.02, 0.02, 0.01, 0.01, 0.01, 0.01, 0.01, 0.01, 0.01, 0.01, 0.01, 0.01, 0.005, 0.005, 0.005, 0.005, 0.005, 0.005, 0.005, 0.005, 0.005, 0.005, 0.0025, 0.0025, 0.0025, 0.0025, 0.0025, 0.0025, 0.0025, 0.0025, 0.0025, 0.0025, 0.00125, 0.00125, 0.00125, 0.00125, 0.00125, 0.00125, 0.00125, 0.00125, 0.00125, 0.00125, 0.000625, 0.000625, 0.000625, 0.000625, 0.000625, 0.000625, 0.000625, 0.000625, 0.000625, 0.000625, 0.0003125, 0.0003125, 0.0003125], 'Treinamento_accuracy': [0.5183887915936952, 0.6015761821366025, 0.6160245183887916, 0.5626094570928196, 0.5998248686514887, 0.5035026269702276, 0.45753064798598947, 0.48467600700525393, 0.45840630472854643, 0.44308231173380036, 0.4724168126094571, 0.5345884413309983, 0.558231173380035, 0.5884413309982487, 0.6055166374781086, 0.6357267950963222, 0.6676882661996497, 0.6799474605954466, 0.7084063047285464, 0.7119089316987741, 0.7294220665499125, 0.723292469352014, 0.7377408056042032, 0.73861646234676, 0.7403677758318739, 0.73861646234676, 0.7443082311733801, 0.7438704028021016, 0.750875656742557, 0.7486865148861647, 0.7482486865148862, 0.7478108581436077, 0.7504378283712785, 0.7543782837127846, 0.7521891418563923, 0.7548161120840631, 0.7535026269702276, 0.7552539404553416, 0.7561295971978984, 0.7548161120840631, 0.7517513134851138, 0.7478108581436077, 0.7504378283712785, 0.7517513134851138, 0.7521891418563923, 0.7556917688266199, 0.7548161120840631, 0.7535026269702276, 0.7535026269702276, 0.7548161120840631, 0.7561295971978984, 0.7565674255691769, 0.7574430823117339, 0.7583187390542907, 0.7565674255691769, 0.7565674255691769, 0.7574430823117339, 0.7552539404553416, 0.7561295971978984, 0.7600700525394045, 0.760507880910683, 0.7609457092819615, 0.76138353765324], 'Treinamento_balanced_accuracy': [0.48096313495976334, 0.4645185915582557, 0.46940901428162474, 0.48537246731766276, 0.5110929100798371, 0.5273346798562295, 0.5076298546391425, 0.5346782658481504, 0.5483833773338846, 0.5287898788129394, 0.5491785680206114, 0.5608479913483253, 0.5507928051146664, 0.5826282642577689, 0.5882105028785902, 0.5771712681701071, 0.5797993733897389, 0.5924349534018257, 0.5742409904895194, 0.5771533763796559, 0.5667502942205541, 0.5669451159388021, 0.5723782563058621, 0.555060991125672, 0.5698137663411686, 0.5588600146315087, 0.5583689843824549, 0.586294093323579, 0.5671538534940679, 0.5575320461846751, 0.5632057317344699, 0.5596532173415185, 0.5657722096758803, 0.5646390629472948, 0.5653288908680302, 0.5681915773402462, 0.5618757753109196, 0.5636033270778332, 0.5685374852889723, 0.5649352714781005, 0.5601482235440058, 0.5504270173987722, 0.5565460097331341, 0.5617763764750787, 0.5593589967874296, 0.5655276885397118, 0.5616789656159547, 0.5591621870924648, 0.5586194694487738, 0.5665634244091733, 0.5674520500015904, 0.5672055408887051, 0.5694261108813894, 0.5705612455866916, 0.568290976176087, 0.5672055408887051, 0.5694261108813894, 0.5641460447215242, 0.5663666147142085, 0.5712033620662235, 0.5720422882407201, 0.5734239320589077, 0.5748055758770954], 'Validacao_accuracy': [0.5521472392638037, 0.6421267893660532, 0.6298568507157464, 0.5685071574642127, 0.6114519427402862, 0.47648261758691207, 0.45807770961145194, 0.4601226993865031, 0.4110429447852761, 0.4049079754601227, 0.4130879345603272, 0.5194274028629857, 0.5685071574642127, 0.5705521472392638, 0.5521472392638037, 0.6134969325153374, 0.6339468302658486, 0.6503067484662577, 0.7055214723926381, 0.7075664621676891, 0.7341513292433538, 0.7259713701431493, 0.7239263803680982, 0.7239263803680982, 0.7341513292433538, 0.7321063394683026, 0.7464212678936605, 0.7239263803680982, 0.754601226993865, 0.7627811860940695, 0.754601226993865, 0.754601226993865, 0.7566462167689162, 0.7607361963190185, 0.7505112474437627, 0.7505112474437627, 0.7586912065439673, 0.7607361963190185, 0.7525562372188139, 0.7566462167689162, 0.7505112474437627, 0.754601226993865, 0.7505112474437627, 0.7484662576687117, 0.7443762781186094, 0.7505112474437627, 0.7525562372188139, 0.7505112474437627, 0.7505112474437627, 0.7505112474437627, 0.7484662576687117, 0.7443762781186094, 0.7464212678936605, 0.7464212678936605, 0.7464212678936605, 0.7443762781186094, 0.7484662576687117, 0.7464212678936605, 0.7464212678936605, 0.7484662576687117, 0.7505112474437627, 0.7484662576687117, 0.7464212678936605], 'Validacao_balanced_accuracy': [0.48361121636983706, 0.4823441644562334, 0.4649725274725275, 0.4534269609700644, 0.5095206517620311, 0.5161282682834407, 0.5010539029935582, 0.50865621447518, 0.5082062334217506, 0.5042274535809018, 0.5126705191360363, 0.531427624100038, 0.5569818112921561, 0.5551700454717696, 0.5244055513452065, 0.545365195149678, 0.5397996400151572, 0.5378576165214096, 0.5391483516483516, 0.5467506631299734, 0.5420258620689655, 0.5461348995831754, 0.5197044334975369, 0.5040143046608564, 0.526335733232285, 0.5093193444486548, 0.5248792156119743, 0.5197044334975369, 0.5239082038651004, 0.5323512694202349, 0.5270462296324365, 0.5364603069344449, 0.5346485411140584, 0.5310250094732853, 0.514979632436529, 0.5212556839712013, 0.5234226979916635, 0.5278869837059492, 0.5131678666161424, 0.5283724895793861, 0.514979632436529, 0.5207701780977643, 0.5181176582038651, 0.5199294240242517, 0.5141388783630163, 0.5212556839712013, 0.5194439181508147, 0.514979632436529, 0.514979632436529, 0.514979632436529, 0.5105153467222433, 0.5047248010610079, 0.5091890867752937, 0.5091890867752937, 0.5091890867752937, 0.5047248010610079, 0.5105153467222433, 0.5060510610079576, 0.5060510610079576, 0.5105153467222433, 0.514979632436529, 0.5136533724895794, 0.5123271125426297]}"
      ]
     },
     "execution_count": 49,
     "metadata": {},
     "output_type": "execute_result"
    }
   ],
   "source": [
    "model.history"
   ]
  },
  {
   "cell_type": "code",
   "execution_count": 51,
   "metadata": {},
   "outputs": [
    {
     "data": {
      "text/plain": [
       "<matplotlib.legend.Legend at 0x7ff9e94cd550>"
      ]
     },
     "execution_count": 51,
     "metadata": {},
     "output_type": "execute_result"
    },
    {
     "data": {
      "image/png": "[encoded data removed]",
      "text/plain": [
       "<Figure size 432x288 with 1 Axes>"
      ]
     },
     "metadata": {
      "needs_background": "light"
     },
     "output_type": "display_data"
    }
   ],
   "source": [
    "plt.plot(model.history[\"Treinamento_balanced_accuracy\"], label=\"Treino Balanceado\")\n",
    "plt.plot(model.history[\"Validacao_balanced_accuracy\"], label=\"Validacao Balanceado\")\n",
    "plt.legend()"
   ]
  },
  {
   "cell_type": "code",
   "execution_count": 52,
   "metadata": {},
   "outputs": [
    {
     "data": {
      "text/plain": [
       "[<matplotlib.lines.Line2D at 0x7ff9e94386a0>]"
      ]
     },
     "execution_count": 52,
     "metadata": {},
     "output_type": "execute_result"
    },
    {
     "data": {
      "image/png": "[encoded data removed]",
      "text/plain": [
       "<Figure size 432x288 with 1 Axes>"
      ]
     },
     "metadata": {
      "needs_background": "light"
     },
     "output_type": "display_data"
    }
   ],
   "source": [
    "plt.plot(model.history[\"lr\"])"
   ]
  },
  {
   "cell_type": "code",
   "execution_count": 53,
   "metadata": {},
   "outputs": [
    {
     "name": "stdout",
     "output_type": "stream",
     "text": [
      "Test: 0.5531516959005206\n",
      "Val: 0.5406900050735668\n"
     ]
    }
   ],
   "source": [
    "preds = model.predict(x_test)\n",
    "test_acc = balanced_accuracy_score(preds, y_test)\n",
    "\n",
    "preds_val = model.predict(x_val)\n",
    "val_acc = balanced_accuracy_score(preds_val, y_val)\n",
    "\n",
    "print(f\"Test: {test_acc}\")\n",
    "\n",
    "print(f\"Val: {val_acc}\")"
   ]
  },
  {
   "cell_type": "code",
   "execution_count": 54,
   "metadata": {},
   "outputs": [
    {
     "data": {
      "text/plain": [
       "array([0.09730861, 0.05396829, 0.13506592, 0.04850131, 0.00732417,\n",
       "       0.04919793, 0.03388805, 0.02464874, 0.00421391, 0.04657445,\n",
       "       0.12671348, 0.12455403, 0.05788096, 0.06525987, 0.12490026])"
      ]
     },
     "execution_count": 54,
     "metadata": {},
     "output_type": "execute_result"
    }
   ],
   "source": [
    "model.feature_importances_"
   ]
  },
  {
   "cell_type": "code",
   "execution_count": 58,
   "metadata": {},
   "outputs": [
    {
     "data": {
      "image/png": "[encoded data removed]",
      "text/plain": [
       "<Figure size 720x576 with 1 Axes>"
      ]
     },
     "metadata": {
      "needs_background": "light"
     },
     "output_type": "display_data"
    }
   ],
   "source": [
    "feat_importances = pd.Series(model.feature_importances_, index=features_list)\n",
    "plt.figure(figsize=(10, 8))\n",
    "feat_importances.nlargest(15).plot(kind=\"barh\");"
   ]
  }
 ],
 "metadata": {
  "colab": {
   "name": "Untitled0.ipynb",
   "provenance": []
  },
  "kernelspec": {
   "display_name": "Python 3.9.12 ('base')",
   "language": "python",
   "name": "python3"
  },
  "language_info": {
   "codemirror_mode": {
    "name": "ipython",
    "version": 3
   },
   "file_extension": ".py",
   "mimetype": "text/x-python",
   "name": "python",
   "nbconvert_exporter": "python",
   "pygments_lexer": "ipython3",
   "version": "3.9.12"
  },
  "vscode": {
   "interpreter": {
    "hash": "c4a2ca58d9b82d3ad88514a36ffbfd983c3193ad0210aee0c63e37d7241e4d66"
   }
  }
 },
 "nbformat": 4,
 "nbformat_minor": 0
}
