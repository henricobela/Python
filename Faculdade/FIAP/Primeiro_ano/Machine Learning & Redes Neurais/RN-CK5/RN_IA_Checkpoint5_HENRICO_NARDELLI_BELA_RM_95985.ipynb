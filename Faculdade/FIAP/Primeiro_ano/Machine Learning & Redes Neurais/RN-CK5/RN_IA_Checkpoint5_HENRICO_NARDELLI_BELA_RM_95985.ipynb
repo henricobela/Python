{
 "cells": [
  {
   "cell_type": "markdown",
   "metadata": {
    "id": "K-zLj0B4E9sE"
   },
   "source": [
    "FIAP - Tecnólogo de Inteligência Artificial \n",
    "\n",
    "# Checkpoint 05 - Assistente Virtual\n",
    "\n",
    "Faça o exercício abaixo <font color=\"red\">em grupos de até 4 pessoas</font>, para praticar o uso de `bibliotecas de áudio`. Utilize os conceitos vistos em aula, e consulte materiais extras na internet. Em caso de dúvidas, contate o Prof. Michel. \n",
    "\n",
    "**Entrega**: 18/outubro/2022, via Teams - IMPORTANTE: renomeie o notebook incluindo seu nome! \n",
    "\n",
    "\n",
    "## Apresentação do trabalho\n",
    "\n",
    "Utilizando as bibliotecas de Python que vimos em aula, crie uma assistente virtual `comandada por voz` que seja capaz de realizar 3 comandos distintos: \n",
    "\n",
    "  1. A assistente deve receber informações de compromissos/lembretes e **registrá-los** numa \"agenda\" (para facilitar a \"agenda\" pode ser um arquivo TXT ou CSV, como preferirem)\n",
    "  2. A assistente deve informar os compromissos do dia (ex: ler o arquivo e falar os compromissos de uma data)\n",
    "  3. Crie um terceiro comando livre. Pode ser abrir um arquivo de música, programar um alarme ou timer, iniciar um programa qualquer do seu computador, fazer uma busca na web, retornar o tempo (clima) atual, etc... \n",
    "\n",
    "\n",
    "**Importante**: \n",
    "- a maioria os comandos principais você encontra no material visto em aula, seu maior desafio é encadear as funções com lógica de programação pertinente\n",
    "- você pode criar sua solução localmente ou na nuvem (Colab). Se for localmente, você pode precisar instalar bibliotecas específicas. Consulte o material extra do Prof Hellynson, disponível no Teams. Se usar o Colab, pode haver uma limitação de comandos que você pode implementar (ex: não é possível abrir um programa pelo Colab)\n",
    "- caso queira entregar o trabalho via Colab, lembre de compartilhar o conteúdo com qualquer pessoa que tenha o link e submeta um arquivo TXT no sistema de submissão com o link do seu trabalho. Renomeie o TXT com seu nome e deixe todas as saída executadas do Colab\n",
    "- caso queira implementar um comando de busca na internet, usem o site [DuckDuckGo](https://duckduckgo.com/) ao invés do Google! É mais fácil de utilizar, e existe uma [API](https://duckduckgo.com/api) para isso (OBS: ela não funciona com qualquer pesquisa, pois possui limitações). Por exemplo, a URL abaixo retorna a busca por \"FIAP\":\n",
    "\n",
    "    > https://api.duckduckgo.com/?q=fiap&format=json&pretty=1\n",
    "\n",
    "- Vejam como fazer requisições via URL [neste tutorial simples](https://www.treinaweb.com.br/blog/consumindo-apis-com-python-parte-1) usando a biblioteca `requests`: \n",
    "\n",
    "\n",
    "**Critérios de avaliação**: A correção do checkpoint será feita mediante os seguintes critérios:\n",
    "- implementação dos *três* comandos distintos\n",
    "- a interação com o sistema deve ser feita por *voz*\n",
    "- *lógica da programação correta* para registro, filtro e leitura dos eventos\n",
    "\n",
    "Bom trabalho! "
   ]
  },
  {
   "cell_type": "code",
   "execution_count": 2,
   "metadata": {
    "id": "0RN1QMAlE9sU"
   },
   "outputs": [],
   "source": [
    "# NOME: HENRICO NARDELLI BELA\n",
    "# RM: 95985"
   ]
  },
  {
   "cell_type": "code",
   "execution_count": 62,
   "metadata": {
    "id": "qbIMHG_FHmlF"
   },
   "outputs": [],
   "source": [
    "import speech_recognition as sr\n",
    "import numpy as np\n",
    "import pandas as pd\n",
    "import json\n",
    "from gtts import gTTS\n",
    "from io import BytesIO\n",
    "from IPython.display import Audio\n",
    "import pygame\n",
    "import time\n",
    "import os\n",
    "from datetime import date"
   ]
  },
  {
   "cell_type": "code",
   "execution_count": 51,
   "metadata": {},
   "outputs": [],
   "source": [
    "def escutar():\n",
    "    microfone = sr.Recognizer()\n",
    "    with sr.Microphone() as source:\n",
    "        microfone.adjust_for_ambient_noise(source)\n",
    "        audio = microfone.listen(source)\n",
    "        os.system(\"cls\")\n",
    "        print(\"Escutando...\")\n",
    "        frase = microfone.recognize_google(audio, language=\"pt-BR\")\n",
    "        return frase"
   ]
  },
  {
   "cell_type": "code",
   "execution_count": 53,
   "metadata": {},
   "outputs": [],
   "source": [
    "def maria(text):\n",
    "    fp = BytesIO()\n",
    "    tts = gTTS(text, slow=False, lang=\"pt-BR\")\n",
    "    tts.write_to_fp(fp)\n",
    "    pygame.init()\n",
    "    pygame.mixer.init()\n",
    "    pygame.mixer.music.load(fp, \"mp3\")\n",
    "    pygame.mixer.music.play()"
   ]
  },
  {
   "cell_type": "code",
   "execution_count": 42,
   "metadata": {},
   "outputs": [],
   "source": [
    "def esperar(tempo=1):\n",
    "    time.sleep(tempo)"
   ]
  },
  {
   "cell_type": "code",
   "execution_count": 71,
   "metadata": {},
   "outputs": [],
   "source": [
    "def alimentarJson(descricao, dia, horario):\n",
    "    x = {\n",
    "        \"Descricao\": descricao,\n",
    "        \"Dia\": dia,\n",
    "        \"horario\": horario,\n",
    "    }\n",
    "    arquivo = open(\"data.json\", \"r\")\n",
    "    conteudo = json.load(arquivo)\n",
    "    arquivo.close()\n",
    "    conteudo.append(x)\n",
    "    arquivo = open(\"data.json\", \"w\")\n",
    "    json.dump(conteudo, arquivo, ensure_ascii=False)\n",
    "    arquivo.close()"
   ]
  },
  {
   "cell_type": "code",
   "execution_count": 98,
   "metadata": {},
   "outputs": [
    {
     "name": "stdout",
     "output_type": "stream",
     "text": [
      "Escutando...\n",
      "quero ver os meus agendamentos\n",
      "Escutando...\n",
      "Escutando...\n",
      "Não obrigado\n"
     ]
    }
   ],
   "source": [
    "maria(\"Olá eu sou a Maria, tudo bem?\")\n",
    "esperar(tempo=3)\n",
    "maria(\"Eu posso fazer 3 coisas.\")\n",
    "esperar(tempo=3)\n",
    "maria(\"Marcar agendamentos.\")\n",
    "esperar(tempo=2)\n",
    "maria(\"Falar seus agendamentos marcados.\")\n",
    "esperar(tempo=3)\n",
    "maria(\"E falar um verso.\")\n",
    "esperar(tempo=3)\n",
    "maria(\"Por favor fale o que deseja, e para sair diga Obrigado\")\n",
    "esperar(tempo=5)\n",
    "\n",
    "while True:\n",
    "    try:\n",
    "        frase = escutar()\n",
    "        print(frase)\n",
    "        if \"Maria\" in frase:\n",
    "            maria(\"Nossa!! Você acertou meu nome, em que posso ajudar?\")\n",
    "            esperar(tempo=5)\n",
    "            continue\n",
    "        elif \"marcar\" in frase:\n",
    "            maria(\"Tudo bem! Qual a descrição do agendamento?\")\n",
    "            esperar(tempo=3)\n",
    "            descricao = escutar()\n",
    "            maria(\"Ok! Qual o dia do agendamento?\")\n",
    "            esperar(tempo=3)\n",
    "            dia = escutar()\n",
    "            maria(f\"Certo, no dia {dia}! Qual o horario do agendamento?\")\n",
    "            esperar(tempo=3)\n",
    "            horario = escutar()\n",
    "            alimentarJson(descricao, dia, horario)\n",
    "            maria(\"Agendamento marcado! Ajudo em algo mais?\")\n",
    "            esperar(tempo=3)\n",
    "            continue\n",
    "        elif \"meus\" in frase or \"agendamentos\" in frase:\n",
    "            maria(\"Tudo bem! Estes sao seus agendamentos\")\n",
    "            esperar(tempo=2)\n",
    "            arquivo = open(\"data.json\", \"r\")\n",
    "            conteudo = json.load(arquivo)\n",
    "            arquivo.close()\n",
    "            x = len(conteudo)\n",
    "            for i in range(0, x, 1):\n",
    "                esperar(tempo=5)\n",
    "                maria(f\"Agendamento: {conteudo[i]['Descricao']}\")\n",
    "                esperar(tempo=3)\n",
    "                maria(f\"Agendado para o dia: {conteudo[i]['Dia']}\")\n",
    "                esperar(tempo=3)\n",
    "                maria(f\"Marcado no horario: {conteudo[i]['horario']}\")\n",
    "                esperar(tempo=5)\n",
    "                maria(\"Próximo agendamento\")\n",
    "            esperar(tempo=3)\n",
    "            maria(\"Estes são seus agendamentos. Ajudo em algo mais?\")\n",
    "            esperar(tempo=3)\n",
    "            continue\n",
    "        elif \"conte\" in frase or \"verso\" in frase:\n",
    "            maria(\n",
    "                f\"Batatinha quando nasce, espalha rama pelo chão, menininho quando dorme, põe a mão no coração\"\n",
    "            )\n",
    "            esperar(tempo=10)\n",
    "            maria(\"Ajudo em algo mais?\")\n",
    "            esperar(tempo=3)\n",
    "            continue\n",
    "        elif \"obrigado\" in frase:\n",
    "            maria(\"Obrigado por utilizar os serviços Maria Express\")\n",
    "            break\n",
    "    except:\n",
    "        maria(\"Não entendi, repita por favor\")"
   ]
  },
  {
   "cell_type": "code",
   "execution_count": null,
   "metadata": {},
   "outputs": [],
   "source": []
  }
 ],
 "metadata": {
  "colab": {
   "provenance": []
  },
  "kernelspec": {
   "display_name": "Python 3 (ipykernel)",
   "language": "python",
   "name": "python3"
  },
  "language_info": {
   "codemirror_mode": {
    "name": "ipython",
    "version": 3
   },
   "file_extension": ".py",
   "mimetype": "text/x-python",
   "name": "python",
   "nbconvert_exporter": "python",
   "pygments_lexer": "ipython3",
   "version": "3.8.15"
  },
  "vscode": {
   "interpreter": {
    "hash": "c31ee28a2e8a8c14288e32f43cdc31d04eb5922835efbdee25a698b666fb5ffc"
   }
  }
 },
 "nbformat": 4,
 "nbformat_minor": 1
}
