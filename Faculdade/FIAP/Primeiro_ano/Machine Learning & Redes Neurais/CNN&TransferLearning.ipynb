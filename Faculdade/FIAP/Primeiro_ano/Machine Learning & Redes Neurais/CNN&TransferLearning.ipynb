{
 "cells": [
  {
   "cell_type": "code",
   "execution_count": null,
   "metadata": {
    "colab": {
     "base_uri": "https://localhost:8080/"
    },
    "id": "1i3mRAIK5C8z",
    "outputId": "5164f846-def1-4c79-d5e0-e6279b1864cc"
   },
   "outputs": [
    {
     "name": "stdout",
     "output_type": "stream",
     "text": [
      "TF Version: 2.8.2\n"
     ]
    }
   ],
   "source": [
    "import tensorflow as tf\n",
    "import pandas as pd\n",
    "import numpy as np\n",
    "import matplotlib.pyplot as plt\n",
    "import tensorflow_datasets as tfds\n",
    "from tensorflow.keras.utils import to_categorical\n",
    "\n",
    "print(f\"TF Version: {tf.__version__}\")"
   ]
  },
  {
   "cell_type": "code",
   "execution_count": null,
   "metadata": {
    "id": "Mq8w5Lej75Gi"
   },
   "outputs": [],
   "source": [
    "(train_ds, train_labels), (test_ds, test_labels) = tfds.load(\n",
    "    \"tf_flowers\",\n",
    "    split=[\"train[:70%]\", \"train[:30%]\"],\n",
    "    batch_size=-1,\n",
    "    as_supervised=True,\n",
    ")"
   ]
  },
  {
   "cell_type": "code",
   "execution_count": null,
   "metadata": {
    "colab": {
     "base_uri": "https://localhost:8080/"
    },
    "id": "a5icUORa75Dp",
    "outputId": "bd2b8b46-9b62-4613-ffd3-6e94f6f8a40e"
   },
   "outputs": [
    {
     "data": {
      "text/plain": [
       "TensorShape([2569, 442, 1024, 3])"
      ]
     },
     "execution_count": 34,
     "metadata": {},
     "output_type": "execute_result"
    }
   ],
   "source": [
    "train_ds.shape"
   ]
  },
  {
   "cell_type": "code",
   "execution_count": null,
   "metadata": {
    "colab": {
     "base_uri": "https://localhost:8080/"
    },
    "id": "BMujdaJM75BE",
    "outputId": "bda1776f-94fb-4f60-c0ae-0ac9c2f547ca"
   },
   "outputs": [
    {
     "data": {
      "text/plain": [
       "TensorShape([1101, 442, 1024, 3])"
      ]
     },
     "execution_count": 35,
     "metadata": {},
     "output_type": "execute_result"
    }
   ],
   "source": [
    "test_ds.shape"
   ]
  },
  {
   "cell_type": "code",
   "execution_count": null,
   "metadata": {
    "colab": {
     "base_uri": "https://localhost:8080/"
    },
    "id": "rM8fpWo074-Y",
    "outputId": "d5fad3ec-556a-422e-cae2-e7ab14f2e86f"
   },
   "outputs": [
    {
     "data": {
      "text/plain": [
       "<tf.Tensor: shape=(1101,), dtype=int64, numpy=array([2, 3, 3, ..., 2, 4, 2])>"
      ]
     },
     "execution_count": 36,
     "metadata": {},
     "output_type": "execute_result"
    }
   ],
   "source": [
    "test_labels"
   ]
  },
  {
   "cell_type": "code",
   "execution_count": null,
   "metadata": {
    "id": "o9lNdzt-747k"
   },
   "outputs": [],
   "source": [
    "size = (150, 150)\n",
    "\n",
    "train_ds = tf.image.resize(train_ds, size)\n",
    "test_ds = tf.image.resize(test_ds, size)\n",
    "\n",
    "train_labels = to_categorical(train_labels, num_classes=5)\n",
    "test_labels = to_categorical(test_labels, num_classes=5)"
   ]
  },
  {
   "cell_type": "code",
   "execution_count": null,
   "metadata": {
    "colab": {
     "base_uri": "https://localhost:8080/"
    },
    "id": "0aEvntzn744_",
    "outputId": "572f757b-90ec-4e70-a48c-840e090dd22e"
   },
   "outputs": [
    {
     "data": {
      "text/plain": [
       "array([[0., 0., 1., 0., 0.],\n",
       "       [0., 0., 0., 1., 0.],\n",
       "       [0., 0., 0., 1., 0.],\n",
       "       ...,\n",
       "       [1., 0., 0., 0., 0.],\n",
       "       [0., 0., 1., 0., 0.],\n",
       "       [1., 0., 0., 0., 0.]], dtype=float32)"
      ]
     },
     "execution_count": 38,
     "metadata": {},
     "output_type": "execute_result"
    }
   ],
   "source": [
    "train_labels"
   ]
  },
  {
   "cell_type": "code",
   "execution_count": null,
   "metadata": {
    "id": "me-u5nlr742B"
   },
   "outputs": [],
   "source": [
    "from tensorflow.keras import Sequential, layers\n",
    "from tensorflow.keras.callbacks import EarlyStopping\n",
    "from tensorflow.keras.layers.experimental.preprocessing import Rescaling"
   ]
  },
  {
   "cell_type": "code",
   "execution_count": null,
   "metadata": {
    "colab": {
     "base_uri": "https://localhost:8080/"
    },
    "id": "2jc4p1Zo74zY",
    "outputId": "707e8228-b487-4b8c-9c18-995a1f180a20"
   },
   "outputs": [
    {
     "name": "stdout",
     "output_type": "stream",
     "text": [
      "Epoch 1/50\n",
      "65/65 [==============================] - 2s 26ms/step - loss: 1.5701 - accuracy: 0.2827 - val_loss: 1.5478 - val_accuracy: 0.3054\n",
      "Epoch 2/50\n",
      "65/65 [==============================] - 1s 21ms/step - loss: 1.4761 - accuracy: 0.3509 - val_loss: 1.4149 - val_accuracy: 0.3852\n",
      "Epoch 3/50\n",
      "65/65 [==============================] - 1s 21ms/step - loss: 1.3636 - accuracy: 0.3917 - val_loss: 1.3420 - val_accuracy: 0.4047\n",
      "Epoch 4/50\n",
      "65/65 [==============================] - 1s 21ms/step - loss: 1.2927 - accuracy: 0.4564 - val_loss: 1.2987 - val_accuracy: 0.4689\n",
      "Epoch 5/50\n",
      "65/65 [==============================] - 1s 21ms/step - loss: 1.2853 - accuracy: 0.4516 - val_loss: 1.2051 - val_accuracy: 0.5039\n",
      "Epoch 6/50\n",
      "65/65 [==============================] - 1s 21ms/step - loss: 1.2064 - accuracy: 0.4905 - val_loss: 1.2049 - val_accuracy: 0.5117\n",
      "Epoch 7/50\n",
      "65/65 [==============================] - 1s 20ms/step - loss: 1.1785 - accuracy: 0.5002 - val_loss: 1.2027 - val_accuracy: 0.4942\n",
      "Epoch 8/50\n",
      "65/65 [==============================] - 2s 26ms/step - loss: 1.1105 - accuracy: 0.5251 - val_loss: 1.1562 - val_accuracy: 0.5175\n",
      "Epoch 9/50\n",
      "65/65 [==============================] - 2s 26ms/step - loss: 1.0663 - accuracy: 0.5582 - val_loss: 1.1591 - val_accuracy: 0.5428\n",
      "Epoch 10/50\n",
      "65/65 [==============================] - 2s 25ms/step - loss: 1.0011 - accuracy: 0.6010 - val_loss: 1.1776 - val_accuracy: 0.5506\n",
      "Epoch 11/50\n",
      "65/65 [==============================] - 1s 21ms/step - loss: 0.9399 - accuracy: 0.6131 - val_loss: 1.1268 - val_accuracy: 0.5661\n",
      "Epoch 12/50\n",
      "65/65 [==============================] - 1s 21ms/step - loss: 0.8781 - accuracy: 0.6462 - val_loss: 1.0598 - val_accuracy: 0.5837\n",
      "Epoch 13/50\n",
      "65/65 [==============================] - 1s 21ms/step - loss: 0.8369 - accuracy: 0.6633 - val_loss: 1.1085 - val_accuracy: 0.5661\n",
      "Epoch 14/50\n",
      "65/65 [==============================] - 1s 23ms/step - loss: 0.7466 - accuracy: 0.7168 - val_loss: 1.2301 - val_accuracy: 0.5117\n",
      "Epoch 15/50\n",
      "65/65 [==============================] - 1s 21ms/step - loss: 0.6818 - accuracy: 0.7324 - val_loss: 1.1064 - val_accuracy: 0.5778\n",
      "Epoch 16/50\n",
      "65/65 [==============================] - 1s 22ms/step - loss: 0.6342 - accuracy: 0.7528 - val_loss: 1.1991 - val_accuracy: 0.5545\n",
      "Epoch 17/50\n",
      "65/65 [==============================] - 1s 21ms/step - loss: 0.5799 - accuracy: 0.7820 - val_loss: 1.4205 - val_accuracy: 0.5389\n"
     ]
    }
   ],
   "source": [
    "hand_model = Sequential()\n",
    "\n",
    "hand_model.add(Rescaling(1.0 / 255, input_shape=(150, 150, 3)))\n",
    "\n",
    "hand_model.add(layers.Conv2D(16, kernel_size=10, activation=\"relu\"))\n",
    "hand_model.add(layers.MaxPooling2D(3))\n",
    "\n",
    "hand_model.add(layers.Conv2D(32, kernel_size=8, activation=\"relu\"))\n",
    "hand_model.add(layers.MaxPooling2D(2))\n",
    "\n",
    "hand_model.add(layers.Conv2D(32, kernel_size=6, activation=\"relu\"))\n",
    "hand_model.add(layers.MaxPooling2D(2))\n",
    "\n",
    "hand_model.add(layers.Flatten())\n",
    "hand_model.add(layers.Dense(50, activation=\"relu\"))\n",
    "hand_model.add(layers.Dense(20, activation=\"relu\"))\n",
    "hand_model.add(layers.Dense(5, activation=\"softmax\"))\n",
    "\n",
    "hand_model.compile(\n",
    "    optimizer=\"Adam\", loss=\"categorical_crossentropy\", metrics=[\"accuracy\"]\n",
    ")\n",
    "\n",
    "es = EarlyStopping(monitor=\"val_accuracy\", patience=5, restore_best_weights=True)\n",
    "\n",
    "with tf.device(\"/device:GPU:0\"):\n",
    "    hand_model.fit(\n",
    "        train_ds,\n",
    "        train_labels,\n",
    "        epochs=50,\n",
    "        validation_split=0.2,\n",
    "        batch_size=32,\n",
    "        callbacks=[es],\n",
    "    )"
   ]
  },
  {
   "cell_type": "code",
   "execution_count": null,
   "metadata": {
    "colab": {
     "base_uri": "https://localhost:8080/"
    },
    "id": "3gVXf34k74xC",
    "outputId": "d64ae2b7-7730-481d-bbef-eb4e6d1c15d9"
   },
   "outputs": [
    {
     "name": "stdout",
     "output_type": "stream",
     "text": [
      "35/35 [==============================] - 0s 12ms/step - loss: 0.7709 - accuracy: 0.7266\n",
      "A loss do modelo é 0.77, e a ACC é 0.73\n"
     ]
    }
   ],
   "source": [
    "loss, acc = hand_model.evaluate(test_ds, test_labels)\n",
    "\n",
    "print(f\"A loss do modelo é {loss:.2f}, e a ACC é {acc:.2f}\")"
   ]
  },
  {
   "cell_type": "code",
   "execution_count": null,
   "metadata": {
    "colab": {
     "base_uri": "https://localhost:8080/"
    },
    "id": "_QMTbnNY74uL",
    "outputId": "4a6eeef6-5a47-4755-b647-7160150d7d41"
   },
   "outputs": [
    {
     "name": "stdout",
     "output_type": "stream",
     "text": [
      "Model: \"sequential_2\"\n",
      "_________________________________________________________________\n",
      " Layer (type)                Output Shape              Param #   \n",
      "=================================================================\n",
      " rescaling_1 (Rescaling)     (None, 150, 150, 3)       0         \n",
      "                                                                 \n",
      " conv2d_3 (Conv2D)           (None, 141, 141, 16)      4816      \n",
      "                                                                 \n",
      " max_pooling2d_3 (MaxPooling  (None, 47, 47, 16)       0         \n",
      " 2D)                                                             \n",
      "                                                                 \n",
      " conv2d_4 (Conv2D)           (None, 40, 40, 32)        32800     \n",
      "                                                                 \n",
      " max_pooling2d_4 (MaxPooling  (None, 20, 20, 32)       0         \n",
      " 2D)                                                             \n",
      "                                                                 \n",
      " conv2d_5 (Conv2D)           (None, 15, 15, 32)        36896     \n",
      "                                                                 \n",
      " max_pooling2d_5 (MaxPooling  (None, 7, 7, 32)         0         \n",
      " 2D)                                                             \n",
      "                                                                 \n",
      " flatten_2 (Flatten)         (None, 1568)              0         \n",
      "                                                                 \n",
      " dense_6 (Dense)             (None, 50)                78450     \n",
      "                                                                 \n",
      " dense_7 (Dense)             (None, 20)                1020      \n",
      "                                                                 \n",
      " dense_8 (Dense)             (None, 5)                 105       \n",
      "                                                                 \n",
      "=================================================================\n",
      "Total params: 154,087\n",
      "Trainable params: 154,087\n",
      "Non-trainable params: 0\n",
      "_________________________________________________________________\n"
     ]
    }
   ],
   "source": [
    "hand_model.summary()"
   ]
  },
  {
   "cell_type": "code",
   "execution_count": null,
   "metadata": {
    "id": "iDjFl9UP74rp"
   },
   "outputs": [],
   "source": [
    "import seaborn as sns\n",
    "from sklearn.metrics import confusion_matrix as cm\n",
    "\n",
    "\n",
    "def plot_matriz(y_test, y_pred):\n",
    "    labels = list(map(np.argmax, y_test))\n",
    "    labels_pred = list(map(np.argmax, y_pred))\n",
    "\n",
    "    matrix = cm(labels, labels_pred)\n",
    "    sns.heatmap(matrix, annot=True);"
   ]
  },
  {
   "cell_type": "code",
   "execution_count": null,
   "metadata": {
    "id": "0X4oc3mp5f2b"
   },
   "outputs": [],
   "source": [
    "preds = hand_model.predict(test_ds)"
   ]
  },
  {
   "cell_type": "code",
   "execution_count": null,
   "metadata": {
    "colab": {
     "base_uri": "https://localhost:8080/",
     "height": 265
    },
    "id": "GNIp9sY474o9",
    "outputId": "6fea6394-3fe5-460a-f198-04ed4b1cc107"
   },
   "outputs": [
    {
     "data": {
      "image/png": "[encoded data removed]",
      "text/plain": [
       "<Figure size 432x288 with 2 Axes>"
      ]
     },
     "metadata": {
      "needs_background": "light"
     },
     "output_type": "display_data"
    }
   ],
   "source": [
    "plot_matriz(test_labels, preds)  # 2.6e+02 = 2.6x10² == 260"
   ]
  },
  {
   "cell_type": "code",
   "execution_count": null,
   "metadata": {
    "id": "0Mrh1wXj74mX"
   },
   "outputs": [],
   "source": [
    "# transfer"
   ]
  },
  {
   "cell_type": "code",
   "execution_count": null,
   "metadata": {
    "id": "4MOWECHO74jv"
   },
   "outputs": [],
   "source": [
    "from tensorflow.keras.applications.vgg16 import VGG16\n",
    "from tensorflow.keras.applications.vgg16 import preprocess_input"
   ]
  },
  {
   "cell_type": "code",
   "execution_count": null,
   "metadata": {
    "id": "-Kjy5qGy74hG"
   },
   "outputs": [],
   "source": [
    "train_ds = preprocess_input(train_ds)\n",
    "test_ds = preprocess_input(test_ds)"
   ]
  },
  {
   "cell_type": "code",
   "execution_count": null,
   "metadata": {
    "id": "Xo_dCjgE74ef"
   },
   "outputs": [],
   "source": [
    "base_model = VGG16(weights=\"imagenet\", include_top=False, input_shape=train_ds[0].shape)\n",
    "\n",
    "base_model.trainable = False"
   ]
  },
  {
   "cell_type": "code",
   "execution_count": null,
   "metadata": {
    "colab": {
     "base_uri": "https://localhost:8080/"
    },
    "id": "p4zgdltO74bt",
    "outputId": "3d6a6140-7047-4ffb-d54d-b04d7fc3ec50"
   },
   "outputs": [
    {
     "name": "stdout",
     "output_type": "stream",
     "text": [
      "Model: \"vgg16\"\n",
      "_________________________________________________________________\n",
      " Layer (type)                Output Shape              Param #   \n",
      "=================================================================\n",
      " input_2 (InputLayer)        [(None, 150, 150, 3)]     0         \n",
      "                                                                 \n",
      " block1_conv1 (Conv2D)       (None, 150, 150, 64)      1792      \n",
      "                                                                 \n",
      " block1_conv2 (Conv2D)       (None, 150, 150, 64)      36928     \n",
      "                                                                 \n",
      " block1_pool (MaxPooling2D)  (None, 75, 75, 64)        0         \n",
      "                                                                 \n",
      " block2_conv1 (Conv2D)       (None, 75, 75, 128)       73856     \n",
      "                                                                 \n",
      " block2_conv2 (Conv2D)       (None, 75, 75, 128)       147584    \n",
      "                                                                 \n",
      " block2_pool (MaxPooling2D)  (None, 37, 37, 128)       0         \n",
      "                                                                 \n",
      " block3_conv1 (Conv2D)       (None, 37, 37, 256)       295168    \n",
      "                                                                 \n",
      " block3_conv2 (Conv2D)       (None, 37, 37, 256)       590080    \n",
      "                                                                 \n",
      " block3_conv3 (Conv2D)       (None, 37, 37, 256)       590080    \n",
      "                                                                 \n",
      " block3_pool (MaxPooling2D)  (None, 18, 18, 256)       0         \n",
      "                                                                 \n",
      " block4_conv1 (Conv2D)       (None, 18, 18, 512)       1180160   \n",
      "                                                                 \n",
      " block4_conv2 (Conv2D)       (None, 18, 18, 512)       2359808   \n",
      "                                                                 \n",
      " block4_conv3 (Conv2D)       (None, 18, 18, 512)       2359808   \n",
      "                                                                 \n",
      " block4_pool (MaxPooling2D)  (None, 9, 9, 512)         0         \n",
      "                                                                 \n",
      " block5_conv1 (Conv2D)       (None, 9, 9, 512)         2359808   \n",
      "                                                                 \n",
      " block5_conv2 (Conv2D)       (None, 9, 9, 512)         2359808   \n",
      "                                                                 \n",
      " block5_conv3 (Conv2D)       (None, 9, 9, 512)         2359808   \n",
      "                                                                 \n",
      " block5_pool (MaxPooling2D)  (None, 4, 4, 512)         0         \n",
      "                                                                 \n",
      "=================================================================\n",
      "Total params: 14,714,688\n",
      "Trainable params: 0\n",
      "Non-trainable params: 14,714,688\n",
      "_________________________________________________________________\n"
     ]
    }
   ],
   "source": [
    "base_model.summary()"
   ]
  },
  {
   "cell_type": "code",
   "execution_count": null,
   "metadata": {
    "id": "9GpQbkaD74Z9"
   },
   "outputs": [],
   "source": [
    "from tensorflow.keras import layers, models"
   ]
  },
  {
   "cell_type": "code",
   "execution_count": null,
   "metadata": {
    "id": "SL6Gum4X74WZ"
   },
   "outputs": [],
   "source": [
    "flatten_layer = layers.Flatten()\n",
    "dense_layer = layers.Dense(50, activation=\"relu\")\n",
    "dense_layer2 = layers.Dense(20, activation=\"relu\")\n",
    "prediction_layer = layers.Dense(5, activation=\"softmax\")"
   ]
  },
  {
   "cell_type": "code",
   "execution_count": null,
   "metadata": {
    "id": "6z1yzlEy74To"
   },
   "outputs": [],
   "source": [
    "model = models.Sequential(\n",
    "    [base_model, flatten_layer, dense_layer, dense_layer2, prediction_layer]\n",
    ")"
   ]
  },
  {
   "cell_type": "code",
   "execution_count": null,
   "metadata": {
    "colab": {
     "base_uri": "https://localhost:8080/"
    },
    "id": "HaCCvf7q74Q2",
    "outputId": "45554ead-d7be-4aeb-9d28-c234662796a2"
   },
   "outputs": [
    {
     "name": "stdout",
     "output_type": "stream",
     "text": [
      "Model: \"sequential_3\"\n",
      "_________________________________________________________________\n",
      " Layer (type)                Output Shape              Param #   \n",
      "=================================================================\n",
      " vgg16 (Functional)          (None, 4, 4, 512)         14714688  \n",
      "                                                                 \n",
      " flatten_3 (Flatten)         (None, 8192)              0         \n",
      "                                                                 \n",
      " dense_9 (Dense)             (None, 50)                409650    \n",
      "                                                                 \n",
      " dense_10 (Dense)            (None, 20)                1020      \n",
      "                                                                 \n",
      " dense_11 (Dense)            (None, 5)                 105       \n",
      "                                                                 \n",
      "=================================================================\n",
      "Total params: 15,125,463\n",
      "Trainable params: 410,775\n",
      "Non-trainable params: 14,714,688\n",
      "_________________________________________________________________\n"
     ]
    }
   ],
   "source": [
    "model.summary()"
   ]
  },
  {
   "cell_type": "code",
   "execution_count": null,
   "metadata": {
    "id": "kK_8M9t_74OX"
   },
   "outputs": [],
   "source": [
    "from tensorflow.keras.callbacks import EarlyStopping as es"
   ]
  },
  {
   "cell_type": "code",
   "execution_count": null,
   "metadata": {
    "id": "Oh2IozgL74L4"
   },
   "outputs": [],
   "source": [
    "model.compile(optimizer=\"Adam\", loss=\"categorical_crossentropy\", metrics=[\"accuracy\"])"
   ]
  },
  {
   "cell_type": "code",
   "execution_count": null,
   "metadata": {
    "id": "DVZbrKpY74JK"
   },
   "outputs": [],
   "source": [
    "es = es(monitor=\"val_accuracy\", mode=\"max\", patience=5, restore_best_weights=True)"
   ]
  },
  {
   "cell_type": "code",
   "execution_count": null,
   "metadata": {
    "colab": {
     "base_uri": "https://localhost:8080/"
    },
    "id": "ARyOG8xf74GW",
    "outputId": "f530cabd-0a5d-4e78-e999-cef792e70522"
   },
   "outputs": [
    {
     "name": "stdout",
     "output_type": "stream",
     "text": [
      "Epoch 1/50\n",
      "65/65 [==============================] - 8s 105ms/step - loss: 1.5939 - accuracy: 0.4769 - val_loss: 1.1037 - val_accuracy: 0.5584\n",
      "Epoch 2/50\n",
      "65/65 [==============================] - 6s 100ms/step - loss: 0.8374 - accuracy: 0.6779 - val_loss: 1.0055 - val_accuracy: 0.6206\n",
      "Epoch 3/50\n",
      "65/65 [==============================] - 7s 103ms/step - loss: 0.5627 - accuracy: 0.7810 - val_loss: 0.9397 - val_accuracy: 0.6693\n",
      "Epoch 4/50\n",
      "65/65 [==============================] - 7s 101ms/step - loss: 0.4295 - accuracy: 0.8448 - val_loss: 0.9792 - val_accuracy: 0.6790\n",
      "Epoch 5/50\n",
      "65/65 [==============================] - 7s 101ms/step - loss: 0.2785 - accuracy: 0.9012 - val_loss: 1.0848 - val_accuracy: 0.6887\n",
      "Epoch 6/50\n",
      "65/65 [==============================] - 6s 100ms/step - loss: 0.1923 - accuracy: 0.9343 - val_loss: 1.0484 - val_accuracy: 0.7121\n",
      "Epoch 7/50\n",
      "65/65 [==============================] - 6s 99ms/step - loss: 0.1152 - accuracy: 0.9640 - val_loss: 1.2899 - val_accuracy: 0.7004\n",
      "Epoch 8/50\n",
      "65/65 [==============================] - 6s 98ms/step - loss: 0.0740 - accuracy: 0.9805 - val_loss: 1.3572 - val_accuracy: 0.6946\n",
      "Epoch 9/50\n",
      "65/65 [==============================] - 6s 98ms/step - loss: 0.0551 - accuracy: 0.9873 - val_loss: 1.3403 - val_accuracy: 0.7023\n",
      "Epoch 10/50\n",
      "65/65 [==============================] - 6s 98ms/step - loss: 0.0253 - accuracy: 0.9951 - val_loss: 1.3764 - val_accuracy: 0.7160\n",
      "Epoch 11/50\n",
      "65/65 [==============================] - 6s 97ms/step - loss: 0.0167 - accuracy: 0.9976 - val_loss: 1.4036 - val_accuracy: 0.7160\n",
      "Epoch 12/50\n",
      "65/65 [==============================] - 6s 98ms/step - loss: 0.0104 - accuracy: 0.9995 - val_loss: 1.4830 - val_accuracy: 0.7179\n",
      "Epoch 13/50\n",
      "65/65 [==============================] - 6s 99ms/step - loss: 0.0070 - accuracy: 0.9995 - val_loss: 1.5003 - val_accuracy: 0.7198\n",
      "Epoch 14/50\n",
      "65/65 [==============================] - 6s 98ms/step - loss: 0.0050 - accuracy: 0.9995 - val_loss: 1.5253 - val_accuracy: 0.7140\n",
      "Epoch 15/50\n",
      "65/65 [==============================] - 6s 98ms/step - loss: 0.0039 - accuracy: 1.0000 - val_loss: 1.5638 - val_accuracy: 0.7101\n",
      "Epoch 16/50\n",
      "65/65 [==============================] - 6s 98ms/step - loss: 0.0032 - accuracy: 1.0000 - val_loss: 1.5751 - val_accuracy: 0.7140\n",
      "Epoch 17/50\n",
      "65/65 [==============================] - 6s 99ms/step - loss: 0.0027 - accuracy: 1.0000 - val_loss: 1.6080 - val_accuracy: 0.7121\n",
      "Epoch 18/50\n",
      "65/65 [==============================] - 6s 100ms/step - loss: 0.0024 - accuracy: 1.0000 - val_loss: 1.6142 - val_accuracy: 0.7160\n"
     ]
    },
    {
     "data": {
      "text/plain": [
       "<keras.callbacks.History at 0x7fee490572d0>"
      ]
     },
     "execution_count": 58,
     "metadata": {},
     "output_type": "execute_result"
    }
   ],
   "source": [
    "model.fit(\n",
    "    train_ds,\n",
    "    train_labels,\n",
    "    epochs=50,\n",
    "    validation_split=0.2,\n",
    "    batch_size=32,\n",
    "    callbacks=[es],\n",
    ")"
   ]
  },
  {
   "cell_type": "code",
   "execution_count": null,
   "metadata": {
    "colab": {
     "base_uri": "https://localhost:8080/"
    },
    "id": "8ghKGCJz74D5",
    "outputId": "55457cde-d665-4f5f-9a89-427124da7219"
   },
   "outputs": [
    {
     "name": "stdout",
     "output_type": "stream",
     "text": [
      "35/35 [==============================] - 3s 77ms/step - loss: 0.0057 - accuracy: 0.9991\n",
      "A loss do modelo é 0.01, e a ACC é 1.00\n"
     ]
    }
   ],
   "source": [
    "loss, acc = model.evaluate(test_ds, test_labels)\n",
    "\n",
    "print(f\"A loss do modelo é {loss:.2f}, e a ACC é {acc:.2f}\")"
   ]
  },
  {
   "cell_type": "code",
   "execution_count": null,
   "metadata": {
    "colab": {
     "base_uri": "https://localhost:8080/",
     "height": 265
    },
    "id": "pbrueKk0BeIZ",
    "outputId": "ce4d6e61-e191-4d88-8485-5aa99141ab30"
   },
   "outputs": [
    {
     "data": {
      "image/png": "[encoded data removed]",
      "text/plain": [
       "<Figure size 432x288 with 2 Axes>"
      ]
     },
     "metadata": {
      "needs_background": "light"
     },
     "output_type": "display_data"
    }
   ],
   "source": [
    "plot_matriz(test_labels, preds)"
   ]
  },
  {
   "cell_type": "code",
   "execution_count": null,
   "metadata": {
    "id": "rluUwcHCFQZX"
   },
   "outputs": [],
   "source": []
  }
 ],
 "metadata": {
  "accelerator": "GPU",
  "colab": {
   "name": "CNN&TransferLearning.ipynb",
   "provenance": []
  },
  "gpuClass": "standard",
  "kernelspec": {
   "display_name": "Python 3 (ipykernel)",
   "language": "python",
   "name": "python3"
  },
  "language_info": {
   "codemirror_mode": {
    "name": "ipython",
    "version": 3
   },
   "file_extension": ".py",
   "mimetype": "text/x-python",
   "name": "python",
   "nbconvert_exporter": "python",
   "pygments_lexer": "ipython3",
   "version": "3.8.15"
  },
  "vscode": {
   "interpreter": {
    "hash": "c4a2ca58d9b82d3ad88514a36ffbfd983c3193ad0210aee0c63e37d7241e4d66"
   }
  }
 },
 "nbformat": 4,
 "nbformat_minor": 1
}
