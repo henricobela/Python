{
 "cells": [
  {
   "cell_type": "markdown",
   "metadata": {
    "id": "fEqDZD5UMLhv"
   },
   "source": [
    "# Case Ifood\n",
    "*Desenvolvido por Mário de Deus*"
   ]
  },
  {
   "cell_type": "markdown",
   "metadata": {
    "id": "pl8djKOAjiX-"
   },
   "source": [
    "# Installs"
   ]
  },
  {
   "cell_type": "code",
   "execution_count": 1,
   "metadata": {
    "colab": {
     "base_uri": "https://localhost:8080/"
    },
    "id": "dsOCNoMUObe4",
    "outputId": "bdf56bda-f131-4378-d202-f53e2b761fed"
   },
   "outputs": [],
   "source": [
    "# !pip uninstall numpy -q\n",
    "# !pip install numpy==1.19 -q\n",
    "# !pip install numba==0.54.1 -q\n",
    "# !pip install pycaret -U -q"
   ]
  },
  {
   "cell_type": "markdown",
   "metadata": {
    "id": "HumRPmdgMLh4"
   },
   "source": [
    "# Imports"
   ]
  },
  {
   "cell_type": "code",
   "execution_count": 2,
   "metadata": {
    "id": "6CQ7HrqHMLh6"
   },
   "outputs": [],
   "source": [
    "import numpy as np\n",
    "import pandas as pd\n",
    "import seaborn as sns\n",
    "\n",
    "from pycaret.classification import *\n",
    "\n",
    "pd.set_option(\"display.max_columns\", None)\n",
    "pd.set_option(\"display.max_rows\", 40)\n",
    "pd.set_option(\"display.max_colwidth\", 1000)\n",
    "\n",
    "import warnings\n",
    "\n",
    "warnings.filterwarnings(\"ignore\")"
   ]
  },
  {
   "cell_type": "markdown",
   "metadata": {
    "id": "HxvATlXpMLh_"
   },
   "source": [
    "# Descrição / Objetivo do problema"
   ]
  },
  {
   "cell_type": "markdown",
   "metadata": {
    "id": "WYvfcGy2MLh_"
   },
   "source": [
    "* O objetivo\n",
    "\n",
    "O objetivo da equipe é construir um modelo preditivo que produzirá o maior lucro para a próxima campanha de marketing direto, programada para o próximo mês. A nova campanha, sexta, visa a venda de um novo gadget para clientes cadastrados no Banco de Dados da empresa. Para construir o modelo, foi realizada uma campanha piloto envolvendo 2.240 clientes. Os clientes foram selecionados aleatoriamente e contatados por telefone para a aquisição do gadget. Durante os meses seguintes, os clientes que compraram a oferta foram devidamente etiquetados. O custo total da campanha da amostra foi de 6,720MU e a receita gerada pelos clientes que aceitaram a oferta foi de 3,674MU. Globalmente, a campanha teve um lucro de -3,046MU. A taxa de sucesso da campanha foi de 15%. O objetivo da equipe é desenvolver um modelo que preveja o comportamento do cliente e aplicá-lo ao restante da base de clientes. Felizmente, o modelo permitirá que a empresa escolha a dedo os clientes com maior probabilidade de comprar a oferta, deixando de fora os não respondentes, tornando a próxima campanha altamente lucrativa. Além disso, além de maximizar o lucro da campanha, o CMO está interessado em estudar as características dos clientes que desejam comprar o gadget.\n",
    "Os dados\n",
    "O conjunto de dados contém características sociodemográficas e firográficas de cerca de 2.240 clientes contatados. Além disso, contém um sinalizador para aqueles clientes que responderam à campanha, comprando o produto.\n"
   ]
  },
  {
   "cell_type": "markdown",
   "metadata": {
    "id": "t3y-myq5MLiA"
   },
   "source": [
    "# Data Loading"
   ]
  },
  {
   "cell_type": "code",
   "execution_count": 3,
   "metadata": {
    "colab": {
     "base_uri": "https://localhost:8080/"
    },
    "id": "D8ZALi2DMqGI",
    "outputId": "8aa83c47-b8bf-42dc-81b2-09245c3e7425"
   },
   "outputs": [],
   "source": [
    "# from google.colab import drive\n",
    "# drive.mount('/content/drive')"
   ]
  },
  {
   "cell_type": "code",
   "execution_count": 4,
   "metadata": {
    "colab": {
     "base_uri": "https://localhost:8080/",
     "height": 270
    },
    "id": "G8utR6jqMLiB",
    "outputId": "c0997f44-98cd-4f08-b7e5-bb945e12c9c7"
   },
   "outputs": [
    {
     "data": {
      "text/html": [
       "<div>\n",
       "<style scoped>\n",
       "    .dataframe tbody tr th:only-of-type {\n",
       "        vertical-align: middle;\n",
       "    }\n",
       "\n",
       "    .dataframe tbody tr th {\n",
       "        vertical-align: top;\n",
       "    }\n",
       "\n",
       "    .dataframe thead th {\n",
       "        text-align: right;\n",
       "    }\n",
       "</style>\n",
       "<table border=\"1\" class=\"dataframe\">\n",
       "  <thead>\n",
       "    <tr style=\"text-align: right;\">\n",
       "      <th></th>\n",
       "      <th>ID</th>\n",
       "      <th>Year_Birth</th>\n",
       "      <th>Education</th>\n",
       "      <th>Marital_Status</th>\n",
       "      <th>Income</th>\n",
       "      <th>Kidhome</th>\n",
       "      <th>Teenhome</th>\n",
       "      <th>Dt_Customer</th>\n",
       "      <th>Recency</th>\n",
       "      <th>MntWines</th>\n",
       "      <th>MntFruits</th>\n",
       "      <th>MntMeatProducts</th>\n",
       "      <th>MntFishProducts</th>\n",
       "      <th>MntSweetProducts</th>\n",
       "      <th>MntGoldProds</th>\n",
       "      <th>NumDealsPurchases</th>\n",
       "      <th>NumWebPurchases</th>\n",
       "      <th>NumCatalogPurchases</th>\n",
       "      <th>NumStorePurchases</th>\n",
       "      <th>NumWebVisitsMonth</th>\n",
       "      <th>AcceptedCmp3</th>\n",
       "      <th>AcceptedCmp4</th>\n",
       "      <th>AcceptedCmp5</th>\n",
       "      <th>AcceptedCmp1</th>\n",
       "      <th>AcceptedCmp2</th>\n",
       "      <th>Complain</th>\n",
       "      <th>Z_CostContact</th>\n",
       "      <th>Z_Revenue</th>\n",
       "      <th>Response</th>\n",
       "    </tr>\n",
       "  </thead>\n",
       "  <tbody>\n",
       "    <tr>\n",
       "      <th>0</th>\n",
       "      <td>5524</td>\n",
       "      <td>1957</td>\n",
       "      <td>Graduation</td>\n",
       "      <td>Single</td>\n",
       "      <td>58138.0</td>\n",
       "      <td>0</td>\n",
       "      <td>0</td>\n",
       "      <td>2012-09-04</td>\n",
       "      <td>58</td>\n",
       "      <td>635</td>\n",
       "      <td>88</td>\n",
       "      <td>546</td>\n",
       "      <td>172</td>\n",
       "      <td>88</td>\n",
       "      <td>88</td>\n",
       "      <td>3</td>\n",
       "      <td>8</td>\n",
       "      <td>10</td>\n",
       "      <td>4</td>\n",
       "      <td>7</td>\n",
       "      <td>0</td>\n",
       "      <td>0</td>\n",
       "      <td>0</td>\n",
       "      <td>0</td>\n",
       "      <td>0</td>\n",
       "      <td>0</td>\n",
       "      <td>3</td>\n",
       "      <td>11</td>\n",
       "      <td>1</td>\n",
       "    </tr>\n",
       "    <tr>\n",
       "      <th>1</th>\n",
       "      <td>2174</td>\n",
       "      <td>1954</td>\n",
       "      <td>Graduation</td>\n",
       "      <td>Single</td>\n",
       "      <td>46344.0</td>\n",
       "      <td>1</td>\n",
       "      <td>1</td>\n",
       "      <td>2014-03-08</td>\n",
       "      <td>38</td>\n",
       "      <td>11</td>\n",
       "      <td>1</td>\n",
       "      <td>6</td>\n",
       "      <td>2</td>\n",
       "      <td>1</td>\n",
       "      <td>6</td>\n",
       "      <td>2</td>\n",
       "      <td>1</td>\n",
       "      <td>1</td>\n",
       "      <td>2</td>\n",
       "      <td>5</td>\n",
       "      <td>0</td>\n",
       "      <td>0</td>\n",
       "      <td>0</td>\n",
       "      <td>0</td>\n",
       "      <td>0</td>\n",
       "      <td>0</td>\n",
       "      <td>3</td>\n",
       "      <td>11</td>\n",
       "      <td>0</td>\n",
       "    </tr>\n",
       "    <tr>\n",
       "      <th>2</th>\n",
       "      <td>4141</td>\n",
       "      <td>1965</td>\n",
       "      <td>Graduation</td>\n",
       "      <td>Together</td>\n",
       "      <td>71613.0</td>\n",
       "      <td>0</td>\n",
       "      <td>0</td>\n",
       "      <td>2013-08-21</td>\n",
       "      <td>26</td>\n",
       "      <td>426</td>\n",
       "      <td>49</td>\n",
       "      <td>127</td>\n",
       "      <td>111</td>\n",
       "      <td>21</td>\n",
       "      <td>42</td>\n",
       "      <td>1</td>\n",
       "      <td>8</td>\n",
       "      <td>2</td>\n",
       "      <td>10</td>\n",
       "      <td>4</td>\n",
       "      <td>0</td>\n",
       "      <td>0</td>\n",
       "      <td>0</td>\n",
       "      <td>0</td>\n",
       "      <td>0</td>\n",
       "      <td>0</td>\n",
       "      <td>3</td>\n",
       "      <td>11</td>\n",
       "      <td>0</td>\n",
       "    </tr>\n",
       "    <tr>\n",
       "      <th>3</th>\n",
       "      <td>6182</td>\n",
       "      <td>1984</td>\n",
       "      <td>Graduation</td>\n",
       "      <td>Together</td>\n",
       "      <td>26646.0</td>\n",
       "      <td>1</td>\n",
       "      <td>0</td>\n",
       "      <td>2014-02-10</td>\n",
       "      <td>26</td>\n",
       "      <td>11</td>\n",
       "      <td>4</td>\n",
       "      <td>20</td>\n",
       "      <td>10</td>\n",
       "      <td>3</td>\n",
       "      <td>5</td>\n",
       "      <td>2</td>\n",
       "      <td>2</td>\n",
       "      <td>0</td>\n",
       "      <td>4</td>\n",
       "      <td>6</td>\n",
       "      <td>0</td>\n",
       "      <td>0</td>\n",
       "      <td>0</td>\n",
       "      <td>0</td>\n",
       "      <td>0</td>\n",
       "      <td>0</td>\n",
       "      <td>3</td>\n",
       "      <td>11</td>\n",
       "      <td>0</td>\n",
       "    </tr>\n",
       "    <tr>\n",
       "      <th>4</th>\n",
       "      <td>5324</td>\n",
       "      <td>1981</td>\n",
       "      <td>PhD</td>\n",
       "      <td>Married</td>\n",
       "      <td>58293.0</td>\n",
       "      <td>1</td>\n",
       "      <td>0</td>\n",
       "      <td>2014-01-19</td>\n",
       "      <td>94</td>\n",
       "      <td>173</td>\n",
       "      <td>43</td>\n",
       "      <td>118</td>\n",
       "      <td>46</td>\n",
       "      <td>27</td>\n",
       "      <td>15</td>\n",
       "      <td>5</td>\n",
       "      <td>5</td>\n",
       "      <td>3</td>\n",
       "      <td>6</td>\n",
       "      <td>5</td>\n",
       "      <td>0</td>\n",
       "      <td>0</td>\n",
       "      <td>0</td>\n",
       "      <td>0</td>\n",
       "      <td>0</td>\n",
       "      <td>0</td>\n",
       "      <td>3</td>\n",
       "      <td>11</td>\n",
       "      <td>0</td>\n",
       "    </tr>\n",
       "  </tbody>\n",
       "</table>\n",
       "</div>"
      ],
      "text/plain": [
       "     ID  Year_Birth   Education Marital_Status   Income  Kidhome  Teenhome  \\\n",
       "0  5524        1957  Graduation         Single  58138.0        0         0   \n",
       "1  2174        1954  Graduation         Single  46344.0        1         1   \n",
       "2  4141        1965  Graduation       Together  71613.0        0         0   \n",
       "3  6182        1984  Graduation       Together  26646.0        1         0   \n",
       "4  5324        1981         PhD        Married  58293.0        1         0   \n",
       "\n",
       "  Dt_Customer  Recency  MntWines  MntFruits  MntMeatProducts  MntFishProducts  \\\n",
       "0  2012-09-04       58       635         88              546              172   \n",
       "1  2014-03-08       38        11          1                6                2   \n",
       "2  2013-08-21       26       426         49              127              111   \n",
       "3  2014-02-10       26        11          4               20               10   \n",
       "4  2014-01-19       94       173         43              118               46   \n",
       "\n",
       "   MntSweetProducts  MntGoldProds  NumDealsPurchases  NumWebPurchases  \\\n",
       "0                88            88                  3                8   \n",
       "1                 1             6                  2                1   \n",
       "2                21            42                  1                8   \n",
       "3                 3             5                  2                2   \n",
       "4                27            15                  5                5   \n",
       "\n",
       "   NumCatalogPurchases  NumStorePurchases  NumWebVisitsMonth  AcceptedCmp3  \\\n",
       "0                   10                  4                  7             0   \n",
       "1                    1                  2                  5             0   \n",
       "2                    2                 10                  4             0   \n",
       "3                    0                  4                  6             0   \n",
       "4                    3                  6                  5             0   \n",
       "\n",
       "   AcceptedCmp4  AcceptedCmp5  AcceptedCmp1  AcceptedCmp2  Complain  \\\n",
       "0             0             0             0             0         0   \n",
       "1             0             0             0             0         0   \n",
       "2             0             0             0             0         0   \n",
       "3             0             0             0             0         0   \n",
       "4             0             0             0             0         0   \n",
       "\n",
       "   Z_CostContact  Z_Revenue  Response  \n",
       "0              3         11         1  \n",
       "1              3         11         0  \n",
       "2              3         11         0  \n",
       "3              3         11         0  \n",
       "4              3         11         0  "
      ]
     },
     "execution_count": 4,
     "metadata": {},
     "output_type": "execute_result"
    }
   ],
   "source": [
    "# Google COlab\n",
    "df = pd.read_csv(\"data.csv\", encoding=\"utf-8\")\n",
    "\n",
    "# Jupyter\n",
    "# df = pd.read_csv('data.csv',encoding='utf-8')\n",
    "\n",
    "df.head()"
   ]
  },
  {
   "cell_type": "markdown",
   "metadata": {
    "id": "9e71AhFkYI6e"
   },
   "source": [
    "# Data Cleaning"
   ]
  },
  {
   "cell_type": "markdown",
   "metadata": {
    "id": "oVfakwHgQeOe"
   },
   "source": [
    "Drop da feature ID por ser um identificador"
   ]
  },
  {
   "cell_type": "code",
   "execution_count": 5,
   "metadata": {
    "colab": {
     "base_uri": "https://localhost:8080/"
    },
    "id": "GC5LgLOFQct6",
    "outputId": "b4c44681-d0ad-4621-b744-172e4a9fc4c6"
   },
   "outputs": [
    {
     "data": {
      "text/plain": [
       "(2240, 28)"
      ]
     },
     "execution_count": 5,
     "metadata": {},
     "output_type": "execute_result"
    }
   ],
   "source": [
    "df.drop(\"ID\", axis=1, inplace=True, errors=\"ignore\")\n",
    "df.shape"
   ]
  },
  {
   "cell_type": "markdown",
   "metadata": {
    "id": "gKG79FhyHpuh"
   },
   "source": [
    "## Features com valores unicos\n",
    "Verificando a existência de features com valores únicos (devem ser dropadas por não contribuirem para a explicar a variação da feature target)"
   ]
  },
  {
   "cell_type": "code",
   "execution_count": 6,
   "metadata": {
    "colab": {
     "base_uri": "https://localhost:8080/"
    },
    "id": "-WYX9q2zQ-tt",
    "outputId": "246096c3-cad4-4d2e-ed6b-84c1bb2ee1b4"
   },
   "outputs": [
    {
     "data": {
      "text/plain": [
       "Z_Revenue                 1\n",
       "Z_CostContact             1\n",
       "Response                  2\n",
       "AcceptedCmp3              2\n",
       "AcceptedCmp4              2\n",
       "AcceptedCmp5              2\n",
       "AcceptedCmp2              2\n",
       "AcceptedCmp1              2\n",
       "Complain                  2\n",
       "Teenhome                  3\n",
       "Kidhome                   3\n",
       "Education                 5\n",
       "Marital_Status            8\n",
       "NumCatalogPurchases      14\n",
       "NumStorePurchases        14\n",
       "NumDealsPurchases        15\n",
       "NumWebPurchases          15\n",
       "NumWebVisitsMonth        16\n",
       "Year_Birth               59\n",
       "Recency                 100\n",
       "MntFruits               158\n",
       "MntSweetProducts        177\n",
       "MntFishProducts         182\n",
       "MntGoldProds            213\n",
       "MntMeatProducts         558\n",
       "Dt_Customer             663\n",
       "MntWines                776\n",
       "Income                 1974\n",
       "dtype: int64"
      ]
     },
     "execution_count": 6,
     "metadata": {},
     "output_type": "execute_result"
    }
   ],
   "source": [
    "df.nunique().sort_values()"
   ]
  },
  {
   "cell_type": "code",
   "execution_count": 7,
   "metadata": {
    "id": "cAzjbN4YRug7"
   },
   "outputs": [],
   "source": [
    "df.drop([\"Z_CostContact\", \"Z_Revenue\"], axis=1, inplace=True, errors=\"ignore\")"
   ]
  },
  {
   "cell_type": "markdown",
   "metadata": {
    "id": "rtfaWcBlTCbN"
   },
   "source": [
    "## NaN analysis"
   ]
  },
  {
   "cell_type": "code",
   "execution_count": 8,
   "metadata": {
    "colab": {
     "base_uri": "https://localhost:8080/"
    },
    "id": "fqNP9K0KTHjD",
    "outputId": "bfada90a-f1d2-4c35-bbed-065b09937abd"
   },
   "outputs": [
    {
     "data": {
      "text/plain": [
       "Year_Birth              0\n",
       "Education               0\n",
       "Marital_Status          0\n",
       "Income                 24\n",
       "Kidhome                 0\n",
       "Teenhome                0\n",
       "Dt_Customer             0\n",
       "Recency                 0\n",
       "MntWines                0\n",
       "MntFruits               0\n",
       "MntMeatProducts         0\n",
       "MntFishProducts         0\n",
       "MntSweetProducts        0\n",
       "MntGoldProds            0\n",
       "NumDealsPurchases       0\n",
       "NumWebPurchases         0\n",
       "NumCatalogPurchases     0\n",
       "NumStorePurchases       0\n",
       "NumWebVisitsMonth       0\n",
       "AcceptedCmp3            0\n",
       "AcceptedCmp4            0\n",
       "AcceptedCmp5            0\n",
       "AcceptedCmp1            0\n",
       "AcceptedCmp2            0\n",
       "Complain                0\n",
       "Response                0\n",
       "dtype: int64"
      ]
     },
     "execution_count": 8,
     "metadata": {},
     "output_type": "execute_result"
    }
   ],
   "source": [
    "df.isna().sum()"
   ]
  },
  {
   "cell_type": "markdown",
   "metadata": {
    "id": "aBwsz6m3Uj3H"
   },
   "source": [
    "Somente a feature Income possui valores nulos.\n",
    "Analisando as linhas com valores nulos em relação aos valores da feature target"
   ]
  },
  {
   "cell_type": "code",
   "execution_count": 9,
   "metadata": {
    "colab": {
     "base_uri": "https://localhost:8080/"
    },
    "id": "P2ohigLeVEmE",
    "outputId": "34000e0b-4236-49ad-d69b-85b5a496c7dd"
   },
   "outputs": [
    {
     "data": {
      "text/plain": [
       "0    23\n",
       "1     1\n",
       "Name: Response, dtype: int64"
      ]
     },
     "execution_count": 9,
     "metadata": {},
     "output_type": "execute_result"
    }
   ],
   "source": [
    "# Distribuição da feature Response entre as amostras com Income = NaN\n",
    "df[df.Income.isna()].Response.value_counts()"
   ]
  },
  {
   "cell_type": "code",
   "execution_count": 10,
   "metadata": {
    "colab": {
     "base_uri": "https://localhost:8080/"
    },
    "id": "PsT3UDpBUfZB",
    "outputId": "54fec505-07dc-4916-fbb9-1e61ae7dc2cd"
   },
   "outputs": [
    {
     "data": {
      "text/plain": [
       "0    0.850893\n",
       "1    0.149107\n",
       "Name: Response, dtype: float64"
      ]
     },
     "execution_count": 10,
     "metadata": {},
     "output_type": "execute_result"
    }
   ],
   "source": [
    "# Proporção de 0 e 1 da fetaure Response no df completo\n",
    "df.Response.value_counts(normalize=True)"
   ]
  },
  {
   "cell_type": "code",
   "execution_count": 11,
   "metadata": {
    "colab": {
     "base_uri": "https://localhost:8080/"
    },
    "id": "0_0sI5sOWUdg",
    "outputId": "78ac5ed3-88e2-4345-e46d-c4f78f5d02fb"
   },
   "outputs": [
    {
     "name": "stdout",
     "output_type": "stream",
     "text": [
      "% amostras com NaN:  1.07\n",
      "% amostras com NaN e Response = 1:  0.04\n"
     ]
    }
   ],
   "source": [
    "print(\"% amostras com NaN: \", np.round((df.Income.isna().sum() / len(df)) * 100, 2))\n",
    "print(\n",
    "    \"% amostras com NaN e Response = 1: \",\n",
    "    np.round(((len(df[(df.Income.isna()) & (df.Response == 1)]) / len(df)) * 100), 2),\n",
    ")"
   ]
  },
  {
   "cell_type": "markdown",
   "metadata": {
    "id": "P3Y2anB0VvoW"
   },
   "source": [
    "Dado que as 24 linhas com valores Nan representam 1% do dataset total, e que entre as 24 linhas com Income == Nan somente uma apresentou Response == 1 (0.04%), as 24 linhas serão dropadas"
   ]
  },
  {
   "cell_type": "code",
   "execution_count": 12,
   "metadata": {
    "colab": {
     "base_uri": "https://localhost:8080/"
    },
    "id": "xv7DXHMCVuvq",
    "outputId": "ff1c791c-d4bd-4459-cf80-0c2faa729d9f"
   },
   "outputs": [
    {
     "name": "stdout",
     "output_type": "stream",
     "text": [
      "Shape antes do dropna:  2240\n",
      "Shape após o dropna:  2216\n"
     ]
    }
   ],
   "source": [
    "print(\"Shape antes do dropna: \", df.shape[0])\n",
    "df.dropna(axis=0, inplace=True)\n",
    "print(\"Shape após o dropna: \", df.shape[0])"
   ]
  },
  {
   "cell_type": "markdown",
   "metadata": {
    "id": "HV8dbhMLXAUR"
   },
   "source": [
    "## Ajuste do dtypes"
   ]
  },
  {
   "cell_type": "code",
   "execution_count": 13,
   "metadata": {
    "colab": {
     "base_uri": "https://localhost:8080/"
    },
    "id": "eTcilohTXFXz",
    "outputId": "f6abd79e-ec9a-4b9b-e5d4-5b4404d2b5e8"
   },
   "outputs": [
    {
     "data": {
      "text/plain": [
       "Year_Birth                      Int64\n",
       "Education                      string\n",
       "Marital_Status                 string\n",
       "Income                          Int64\n",
       "Kidhome                         Int64\n",
       "Teenhome                        Int64\n",
       "Dt_Customer            datetime64[ns]\n",
       "Recency                         Int64\n",
       "MntWines                        Int64\n",
       "MntFruits                       Int64\n",
       "MntMeatProducts                 Int64\n",
       "MntFishProducts                 Int64\n",
       "MntSweetProducts                Int64\n",
       "MntGoldProds                    Int64\n",
       "NumDealsPurchases               Int64\n",
       "NumWebPurchases                 Int64\n",
       "NumCatalogPurchases             Int64\n",
       "NumStorePurchases               Int64\n",
       "NumWebVisitsMonth               Int64\n",
       "AcceptedCmp3                    Int64\n",
       "AcceptedCmp4                    Int64\n",
       "AcceptedCmp5                    Int64\n",
       "AcceptedCmp1                    Int64\n",
       "AcceptedCmp2                    Int64\n",
       "Complain                        Int64\n",
       "Response                         bool\n",
       "dtype: object"
      ]
     },
     "execution_count": 13,
     "metadata": {},
     "output_type": "execute_result"
    }
   ],
   "source": [
    "df = df.convert_dtypes()\n",
    "df.Dt_Customer = pd.to_datetime(df.Dt_Customer)\n",
    "df.Response = df.Response.astype(\"bool\")\n",
    "df.dtypes"
   ]
  },
  {
   "cell_type": "markdown",
   "metadata": {
    "id": "CmRkHZfkX97o"
   },
   "source": [
    "# Feature Engineering"
   ]
  },
  {
   "cell_type": "markdown",
   "metadata": {
    "id": "_hWZu2xuYW-i"
   },
   "source": [
    "## Idade dos clientes"
   ]
  },
  {
   "cell_type": "code",
   "execution_count": 14,
   "metadata": {
    "colab": {
     "base_uri": "https://localhost:8080/",
     "height": 270
    },
    "id": "vYqLrnutYVvG",
    "outputId": "8f1915bc-517a-4d2f-d3fe-aa385252e018"
   },
   "outputs": [
    {
     "data": {
      "text/html": [
       "<div>\n",
       "<style scoped>\n",
       "    .dataframe tbody tr th:only-of-type {\n",
       "        vertical-align: middle;\n",
       "    }\n",
       "\n",
       "    .dataframe tbody tr th {\n",
       "        vertical-align: top;\n",
       "    }\n",
       "\n",
       "    .dataframe thead th {\n",
       "        text-align: right;\n",
       "    }\n",
       "</style>\n",
       "<table border=\"1\" class=\"dataframe\">\n",
       "  <thead>\n",
       "    <tr style=\"text-align: right;\">\n",
       "      <th></th>\n",
       "      <th>Education</th>\n",
       "      <th>Marital_Status</th>\n",
       "      <th>Income</th>\n",
       "      <th>Kidhome</th>\n",
       "      <th>Teenhome</th>\n",
       "      <th>Dt_Customer</th>\n",
       "      <th>Recency</th>\n",
       "      <th>MntWines</th>\n",
       "      <th>MntFruits</th>\n",
       "      <th>MntMeatProducts</th>\n",
       "      <th>MntFishProducts</th>\n",
       "      <th>MntSweetProducts</th>\n",
       "      <th>MntGoldProds</th>\n",
       "      <th>NumDealsPurchases</th>\n",
       "      <th>NumWebPurchases</th>\n",
       "      <th>NumCatalogPurchases</th>\n",
       "      <th>NumStorePurchases</th>\n",
       "      <th>NumWebVisitsMonth</th>\n",
       "      <th>AcceptedCmp3</th>\n",
       "      <th>AcceptedCmp4</th>\n",
       "      <th>AcceptedCmp5</th>\n",
       "      <th>AcceptedCmp1</th>\n",
       "      <th>AcceptedCmp2</th>\n",
       "      <th>Complain</th>\n",
       "      <th>Response</th>\n",
       "      <th>Age</th>\n",
       "    </tr>\n",
       "  </thead>\n",
       "  <tbody>\n",
       "    <tr>\n",
       "      <th>0</th>\n",
       "      <td>Graduation</td>\n",
       "      <td>Single</td>\n",
       "      <td>58138</td>\n",
       "      <td>0</td>\n",
       "      <td>0</td>\n",
       "      <td>2012-09-04</td>\n",
       "      <td>58</td>\n",
       "      <td>635</td>\n",
       "      <td>88</td>\n",
       "      <td>546</td>\n",
       "      <td>172</td>\n",
       "      <td>88</td>\n",
       "      <td>88</td>\n",
       "      <td>3</td>\n",
       "      <td>8</td>\n",
       "      <td>10</td>\n",
       "      <td>4</td>\n",
       "      <td>7</td>\n",
       "      <td>0</td>\n",
       "      <td>0</td>\n",
       "      <td>0</td>\n",
       "      <td>0</td>\n",
       "      <td>0</td>\n",
       "      <td>0</td>\n",
       "      <td>True</td>\n",
       "      <td>66</td>\n",
       "    </tr>\n",
       "    <tr>\n",
       "      <th>1</th>\n",
       "      <td>Graduation</td>\n",
       "      <td>Single</td>\n",
       "      <td>46344</td>\n",
       "      <td>1</td>\n",
       "      <td>1</td>\n",
       "      <td>2014-03-08</td>\n",
       "      <td>38</td>\n",
       "      <td>11</td>\n",
       "      <td>1</td>\n",
       "      <td>6</td>\n",
       "      <td>2</td>\n",
       "      <td>1</td>\n",
       "      <td>6</td>\n",
       "      <td>2</td>\n",
       "      <td>1</td>\n",
       "      <td>1</td>\n",
       "      <td>2</td>\n",
       "      <td>5</td>\n",
       "      <td>0</td>\n",
       "      <td>0</td>\n",
       "      <td>0</td>\n",
       "      <td>0</td>\n",
       "      <td>0</td>\n",
       "      <td>0</td>\n",
       "      <td>False</td>\n",
       "      <td>69</td>\n",
       "    </tr>\n",
       "    <tr>\n",
       "      <th>2</th>\n",
       "      <td>Graduation</td>\n",
       "      <td>Together</td>\n",
       "      <td>71613</td>\n",
       "      <td>0</td>\n",
       "      <td>0</td>\n",
       "      <td>2013-08-21</td>\n",
       "      <td>26</td>\n",
       "      <td>426</td>\n",
       "      <td>49</td>\n",
       "      <td>127</td>\n",
       "      <td>111</td>\n",
       "      <td>21</td>\n",
       "      <td>42</td>\n",
       "      <td>1</td>\n",
       "      <td>8</td>\n",
       "      <td>2</td>\n",
       "      <td>10</td>\n",
       "      <td>4</td>\n",
       "      <td>0</td>\n",
       "      <td>0</td>\n",
       "      <td>0</td>\n",
       "      <td>0</td>\n",
       "      <td>0</td>\n",
       "      <td>0</td>\n",
       "      <td>False</td>\n",
       "      <td>58</td>\n",
       "    </tr>\n",
       "    <tr>\n",
       "      <th>3</th>\n",
       "      <td>Graduation</td>\n",
       "      <td>Together</td>\n",
       "      <td>26646</td>\n",
       "      <td>1</td>\n",
       "      <td>0</td>\n",
       "      <td>2014-02-10</td>\n",
       "      <td>26</td>\n",
       "      <td>11</td>\n",
       "      <td>4</td>\n",
       "      <td>20</td>\n",
       "      <td>10</td>\n",
       "      <td>3</td>\n",
       "      <td>5</td>\n",
       "      <td>2</td>\n",
       "      <td>2</td>\n",
       "      <td>0</td>\n",
       "      <td>4</td>\n",
       "      <td>6</td>\n",
       "      <td>0</td>\n",
       "      <td>0</td>\n",
       "      <td>0</td>\n",
       "      <td>0</td>\n",
       "      <td>0</td>\n",
       "      <td>0</td>\n",
       "      <td>False</td>\n",
       "      <td>39</td>\n",
       "    </tr>\n",
       "    <tr>\n",
       "      <th>4</th>\n",
       "      <td>PhD</td>\n",
       "      <td>Married</td>\n",
       "      <td>58293</td>\n",
       "      <td>1</td>\n",
       "      <td>0</td>\n",
       "      <td>2014-01-19</td>\n",
       "      <td>94</td>\n",
       "      <td>173</td>\n",
       "      <td>43</td>\n",
       "      <td>118</td>\n",
       "      <td>46</td>\n",
       "      <td>27</td>\n",
       "      <td>15</td>\n",
       "      <td>5</td>\n",
       "      <td>5</td>\n",
       "      <td>3</td>\n",
       "      <td>6</td>\n",
       "      <td>5</td>\n",
       "      <td>0</td>\n",
       "      <td>0</td>\n",
       "      <td>0</td>\n",
       "      <td>0</td>\n",
       "      <td>0</td>\n",
       "      <td>0</td>\n",
       "      <td>False</td>\n",
       "      <td>42</td>\n",
       "    </tr>\n",
       "  </tbody>\n",
       "</table>\n",
       "</div>"
      ],
      "text/plain": [
       "    Education Marital_Status  Income  Kidhome  Teenhome Dt_Customer  Recency  \\\n",
       "0  Graduation         Single   58138        0         0  2012-09-04       58   \n",
       "1  Graduation         Single   46344        1         1  2014-03-08       38   \n",
       "2  Graduation       Together   71613        0         0  2013-08-21       26   \n",
       "3  Graduation       Together   26646        1         0  2014-02-10       26   \n",
       "4         PhD        Married   58293        1         0  2014-01-19       94   \n",
       "\n",
       "   MntWines  MntFruits  MntMeatProducts  MntFishProducts  MntSweetProducts  \\\n",
       "0       635         88              546              172                88   \n",
       "1        11          1                6                2                 1   \n",
       "2       426         49              127              111                21   \n",
       "3        11          4               20               10                 3   \n",
       "4       173         43              118               46                27   \n",
       "\n",
       "   MntGoldProds  NumDealsPurchases  NumWebPurchases  NumCatalogPurchases  \\\n",
       "0            88                  3                8                   10   \n",
       "1             6                  2                1                    1   \n",
       "2            42                  1                8                    2   \n",
       "3             5                  2                2                    0   \n",
       "4            15                  5                5                    3   \n",
       "\n",
       "   NumStorePurchases  NumWebVisitsMonth  AcceptedCmp3  AcceptedCmp4  \\\n",
       "0                  4                  7             0             0   \n",
       "1                  2                  5             0             0   \n",
       "2                 10                  4             0             0   \n",
       "3                  4                  6             0             0   \n",
       "4                  6                  5             0             0   \n",
       "\n",
       "   AcceptedCmp5  AcceptedCmp1  AcceptedCmp2  Complain  Response  Age  \n",
       "0             0             0             0         0      True   66  \n",
       "1             0             0             0         0     False   69  \n",
       "2             0             0             0         0     False   58  \n",
       "3             0             0             0         0     False   39  \n",
       "4             0             0             0         0     False   42  "
      ]
     },
     "execution_count": 14,
     "metadata": {},
     "output_type": "execute_result"
    }
   ],
   "source": [
    "from datetime import datetime\n",
    "\n",
    "ano_atual = pd.datetime.now().year\n",
    "df[\"Age\"] = ano_atual - df.Year_Birth\n",
    "df.drop(\"Year_Birth\", axis=1, errors=\"ignore\", inplace=True)\n",
    "df.head()"
   ]
  },
  {
   "cell_type": "markdown",
   "metadata": {
    "id": "b8bffPN_ZZyh"
   },
   "source": [
    "## Tempo como cliente"
   ]
  },
  {
   "cell_type": "code",
   "execution_count": 15,
   "metadata": {
    "colab": {
     "base_uri": "https://localhost:8080/"
    },
    "id": "MWmr5rUKYVxm",
    "outputId": "c1db5820-f1b1-496a-b688-27aef9ba6d85"
   },
   "outputs": [
    {
     "name": "stdout",
     "output_type": "stream",
     "text": [
      "  Dt_Customer  Time_Customer\n",
      "0  2012-09-04      10.491660\n",
      "1  2014-03-08       8.985811\n",
      "2  2013-08-21       9.530654\n",
      "3  2014-02-10       9.056996\n",
      "4  2014-01-19       9.117230\n"
     ]
    }
   ],
   "source": [
    "dt = pd.datetime.now().date()\n",
    "df[\"Time_Customer\"] = dt - pd.to_datetime(df[\"Dt_Customer\"]).dt.date\n",
    "df[\"Time_Customer\"] = df[\"Time_Customer\"] / np.timedelta64(1, \"Y\")\n",
    "print(df[[\"Dt_Customer\", \"Time_Customer\"]].head())\n",
    "df.drop(\"Dt_Customer\", axis=1, inplace=True)"
   ]
  },
  {
   "cell_type": "markdown",
   "metadata": {
    "id": "TcC8XEc1NG1x"
   },
   "source": [
    "### Removendo valores incoerentes com a variável Marital_Status"
   ]
  },
  {
   "cell_type": "code",
   "execution_count": 16,
   "metadata": {
    "colab": {
     "base_uri": "https://localhost:8080/"
    },
    "id": "nEmJYXKzLYaU",
    "outputId": "9b5e41d0-5f88-4a19-acf3-819ab0e0a67f"
   },
   "outputs": [
    {
     "name": "stdout",
     "output_type": "stream",
     "text": [
      "(2209, 26)\n"
     ]
    }
   ],
   "source": [
    "index_to_drop = df[\n",
    "    (df[\"Marital_Status\"] == \"YOLO\")\n",
    "    | (df[\"Marital_Status\"] == \"Absurd\")\n",
    "    | (df[\"Marital_Status\"] == \"absurd\")\n",
    "    | (df[\"Marital_Status\"] == \"Alone\")\n",
    "].index\n",
    "df.drop(index_to_drop, inplace=True)\n",
    "df = df.reset_index(drop=True)\n",
    "df.Marital_Status.value_counts()\n",
    "print(df.shape)"
   ]
  },
  {
   "cell_type": "code",
   "execution_count": 17,
   "metadata": {
    "colab": {
     "base_uri": "https://localhost:8080/"
    },
    "id": "uMbIRtclknWc",
    "outputId": "d8aeb857-d38c-4ce3-ffbe-10255f5587cc"
   },
   "outputs": [
    {
     "data": {
      "text/plain": [
       "Index(['AcceptedCmp1', 'AcceptedCmp2', 'AcceptedCmp3', 'AcceptedCmp4',\n",
       "       'AcceptedCmp5', 'Age', 'Complain', 'Education', 'Income', 'Kidhome',\n",
       "       'Marital_Status', 'MntFishProducts', 'MntFruits', 'MntGoldProds',\n",
       "       'MntMeatProducts', 'MntSweetProducts', 'MntWines',\n",
       "       'NumCatalogPurchases', 'NumDealsPurchases', 'NumStorePurchases',\n",
       "       'NumWebPurchases', 'NumWebVisitsMonth', 'Recency', 'Teenhome',\n",
       "       'Time_Customer', 'Response'],\n",
       "      dtype='object')"
      ]
     },
     "execution_count": 17,
     "metadata": {},
     "output_type": "execute_result"
    }
   ],
   "source": [
    "df.rename(columns={\"Response\": \"z_Response\"}, inplace=True)\n",
    "cols = df.columns.sort_values()\n",
    "df = df[cols]\n",
    "df.rename(columns={\"z_Response\": \"Response\"}, inplace=True)\n",
    "\n",
    "df.columns"
   ]
  },
  {
   "cell_type": "markdown",
   "metadata": {
    "id": "Sa0y2tlekjbt"
   },
   "source": [
    "# Preparação do dataset para Modelagem"
   ]
  },
  {
   "cell_type": "markdown",
   "metadata": {
    "id": "-JO3ioOPZWQV"
   },
   "source": [
    "\n",
    "## Train Test Validation Split"
   ]
  },
  {
   "cell_type": "code",
   "execution_count": 18,
   "metadata": {
    "colab": {
     "base_uri": "https://localhost:8080/"
    },
    "id": "xvVmwfuXZhIE",
    "outputId": "0435c8e1-35bd-48d0-8b52-700ddcbd6742"
   },
   "outputs": [
    {
     "name": "stdout",
     "output_type": "stream",
     "text": [
      "Data for Modeling: (2099, 26)\n",
      "Unseen Data For Predictions: (110, 26)\n"
     ]
    }
   ],
   "source": [
    "# sample 5% of data to be used as unseen data\n",
    "df_train_test = df.sample(frac=0.95, random_state=123)\n",
    "df_valid = df.drop(df_train_test.index)\n",
    "df_train_test.reset_index(inplace=True, drop=True)\n",
    "df_valid.reset_index(inplace=True, drop=True)\n",
    "# print the revised shape\n",
    "print(\"Data for Modeling: \" + str(df_train_test.shape))\n",
    "print(\"Unseen Data For Predictions: \" + str(df_valid.shape))"
   ]
  },
  {
   "cell_type": "markdown",
   "metadata": {
    "id": "OkOhRDZWKITS"
   },
   "source": [
    "# Auto ML - PYCARET \n",
    "\n",
    "**Para o problema de negócio em questão, a métrica Precision é a mais relevante.**"
   ]
  },
  {
   "cell_type": "markdown",
   "metadata": {
    "id": "TFAviALz6eUv"
   },
   "source": [
    "## Setup"
   ]
  },
  {
   "cell_type": "code",
   "execution_count": 22,
   "metadata": {
    "id": "xsoZs-aDJyvy"
   },
   "outputs": [
    {
     "data": {
      "text/html": [
       "<style type=\"text/css\">\n",
       "#T_642e3_row9_col1, #T_642e3_row15_col1 {\n",
       "  background-color: lightgreen;\n",
       "}\n",
       "</style>\n",
       "<table id=\"T_642e3\">\n",
       "  <thead>\n",
       "    <tr>\n",
       "      <th class=\"blank level0\" >&nbsp;</th>\n",
       "      <th id=\"T_642e3_level0_col0\" class=\"col_heading level0 col0\" >Description</th>\n",
       "      <th id=\"T_642e3_level0_col1\" class=\"col_heading level0 col1\" >Value</th>\n",
       "    </tr>\n",
       "  </thead>\n",
       "  <tbody>\n",
       "    <tr>\n",
       "      <th id=\"T_642e3_level0_row0\" class=\"row_heading level0 row0\" >0</th>\n",
       "      <td id=\"T_642e3_row0_col0\" class=\"data row0 col0\" >Session id</td>\n",
       "      <td id=\"T_642e3_row0_col1\" class=\"data row0 col1\" >123</td>\n",
       "    </tr>\n",
       "    <tr>\n",
       "      <th id=\"T_642e3_level0_row1\" class=\"row_heading level0 row1\" >1</th>\n",
       "      <td id=\"T_642e3_row1_col0\" class=\"data row1 col0\" >Target</td>\n",
       "      <td id=\"T_642e3_row1_col1\" class=\"data row1 col1\" >Response</td>\n",
       "    </tr>\n",
       "    <tr>\n",
       "      <th id=\"T_642e3_level0_row2\" class=\"row_heading level0 row2\" >2</th>\n",
       "      <td id=\"T_642e3_row2_col0\" class=\"data row2 col0\" >Target type</td>\n",
       "      <td id=\"T_642e3_row2_col1\" class=\"data row2 col1\" >Binary</td>\n",
       "    </tr>\n",
       "    <tr>\n",
       "      <th id=\"T_642e3_level0_row3\" class=\"row_heading level0 row3\" >3</th>\n",
       "      <td id=\"T_642e3_row3_col0\" class=\"data row3 col0\" >Original data shape</td>\n",
       "      <td id=\"T_642e3_row3_col1\" class=\"data row3 col1\" >(2099, 26)</td>\n",
       "    </tr>\n",
       "    <tr>\n",
       "      <th id=\"T_642e3_level0_row4\" class=\"row_heading level0 row4\" >4</th>\n",
       "      <td id=\"T_642e3_row4_col0\" class=\"data row4 col0\" >Transformed data shape</td>\n",
       "      <td id=\"T_642e3_row4_col1\" class=\"data row4 col1\" >(2047, 34)</td>\n",
       "    </tr>\n",
       "    <tr>\n",
       "      <th id=\"T_642e3_level0_row5\" class=\"row_heading level0 row5\" >5</th>\n",
       "      <td id=\"T_642e3_row5_col0\" class=\"data row5 col0\" >Transformed train set shape</td>\n",
       "      <td id=\"T_642e3_row5_col1\" class=\"data row5 col1\" >(1408, 34)</td>\n",
       "    </tr>\n",
       "    <tr>\n",
       "      <th id=\"T_642e3_level0_row6\" class=\"row_heading level0 row6\" >6</th>\n",
       "      <td id=\"T_642e3_row6_col0\" class=\"data row6 col0\" >Transformed test set shape</td>\n",
       "      <td id=\"T_642e3_row6_col1\" class=\"data row6 col1\" >(630, 34)</td>\n",
       "    </tr>\n",
       "    <tr>\n",
       "      <th id=\"T_642e3_level0_row7\" class=\"row_heading level0 row7\" >7</th>\n",
       "      <td id=\"T_642e3_row7_col0\" class=\"data row7 col0\" >Numeric features</td>\n",
       "      <td id=\"T_642e3_row7_col1\" class=\"data row7 col1\" >23</td>\n",
       "    </tr>\n",
       "    <tr>\n",
       "      <th id=\"T_642e3_level0_row8\" class=\"row_heading level0 row8\" >8</th>\n",
       "      <td id=\"T_642e3_row8_col0\" class=\"data row8 col0\" >Categorical features</td>\n",
       "      <td id=\"T_642e3_row8_col1\" class=\"data row8 col1\" >2</td>\n",
       "    </tr>\n",
       "    <tr>\n",
       "      <th id=\"T_642e3_level0_row9\" class=\"row_heading level0 row9\" >9</th>\n",
       "      <td id=\"T_642e3_row9_col0\" class=\"data row9 col0\" >Preprocess</td>\n",
       "      <td id=\"T_642e3_row9_col1\" class=\"data row9 col1\" >True</td>\n",
       "    </tr>\n",
       "    <tr>\n",
       "      <th id=\"T_642e3_level0_row10\" class=\"row_heading level0 row10\" >10</th>\n",
       "      <td id=\"T_642e3_row10_col0\" class=\"data row10 col0\" >Imputation type</td>\n",
       "      <td id=\"T_642e3_row10_col1\" class=\"data row10 col1\" >simple</td>\n",
       "    </tr>\n",
       "    <tr>\n",
       "      <th id=\"T_642e3_level0_row11\" class=\"row_heading level0 row11\" >11</th>\n",
       "      <td id=\"T_642e3_row11_col0\" class=\"data row11 col0\" >Numeric imputation</td>\n",
       "      <td id=\"T_642e3_row11_col1\" class=\"data row11 col1\" >mean</td>\n",
       "    </tr>\n",
       "    <tr>\n",
       "      <th id=\"T_642e3_level0_row12\" class=\"row_heading level0 row12\" >12</th>\n",
       "      <td id=\"T_642e3_row12_col0\" class=\"data row12 col0\" >Categorical imputation</td>\n",
       "      <td id=\"T_642e3_row12_col1\" class=\"data row12 col1\" >mode</td>\n",
       "    </tr>\n",
       "    <tr>\n",
       "      <th id=\"T_642e3_level0_row13\" class=\"row_heading level0 row13\" >13</th>\n",
       "      <td id=\"T_642e3_row13_col0\" class=\"data row13 col0\" >Maximum one-hot encoding</td>\n",
       "      <td id=\"T_642e3_row13_col1\" class=\"data row13 col1\" >25</td>\n",
       "    </tr>\n",
       "    <tr>\n",
       "      <th id=\"T_642e3_level0_row14\" class=\"row_heading level0 row14\" >14</th>\n",
       "      <td id=\"T_642e3_row14_col0\" class=\"data row14 col0\" >Encoding method</td>\n",
       "      <td id=\"T_642e3_row14_col1\" class=\"data row14 col1\" >None</td>\n",
       "    </tr>\n",
       "    <tr>\n",
       "      <th id=\"T_642e3_level0_row15\" class=\"row_heading level0 row15\" >15</th>\n",
       "      <td id=\"T_642e3_row15_col0\" class=\"data row15 col0\" >Remove outliers</td>\n",
       "      <td id=\"T_642e3_row15_col1\" class=\"data row15 col1\" >True</td>\n",
       "    </tr>\n",
       "    <tr>\n",
       "      <th id=\"T_642e3_level0_row16\" class=\"row_heading level0 row16\" >16</th>\n",
       "      <td id=\"T_642e3_row16_col0\" class=\"data row16 col0\" >Outliers threshold</td>\n",
       "      <td id=\"T_642e3_row16_col1\" class=\"data row16 col1\" >0.050000</td>\n",
       "    </tr>\n",
       "    <tr>\n",
       "      <th id=\"T_642e3_level0_row17\" class=\"row_heading level0 row17\" >17</th>\n",
       "      <td id=\"T_642e3_row17_col0\" class=\"data row17 col0\" >Fold Generator</td>\n",
       "      <td id=\"T_642e3_row17_col1\" class=\"data row17 col1\" >StratifiedKFold</td>\n",
       "    </tr>\n",
       "    <tr>\n",
       "      <th id=\"T_642e3_level0_row18\" class=\"row_heading level0 row18\" >18</th>\n",
       "      <td id=\"T_642e3_row18_col0\" class=\"data row18 col0\" >Fold Number</td>\n",
       "      <td id=\"T_642e3_row18_col1\" class=\"data row18 col1\" >10</td>\n",
       "    </tr>\n",
       "    <tr>\n",
       "      <th id=\"T_642e3_level0_row19\" class=\"row_heading level0 row19\" >19</th>\n",
       "      <td id=\"T_642e3_row19_col0\" class=\"data row19 col0\" >CPU Jobs</td>\n",
       "      <td id=\"T_642e3_row19_col1\" class=\"data row19 col1\" >-1</td>\n",
       "    </tr>\n",
       "    <tr>\n",
       "      <th id=\"T_642e3_level0_row20\" class=\"row_heading level0 row20\" >20</th>\n",
       "      <td id=\"T_642e3_row20_col0\" class=\"data row20 col0\" >Use GPU</td>\n",
       "      <td id=\"T_642e3_row20_col1\" class=\"data row20 col1\" >False</td>\n",
       "    </tr>\n",
       "    <tr>\n",
       "      <th id=\"T_642e3_level0_row21\" class=\"row_heading level0 row21\" >21</th>\n",
       "      <td id=\"T_642e3_row21_col0\" class=\"data row21 col0\" >Log Experiment</td>\n",
       "      <td id=\"T_642e3_row21_col1\" class=\"data row21 col1\" >False</td>\n",
       "    </tr>\n",
       "    <tr>\n",
       "      <th id=\"T_642e3_level0_row22\" class=\"row_heading level0 row22\" >22</th>\n",
       "      <td id=\"T_642e3_row22_col0\" class=\"data row22 col0\" >Experiment Name</td>\n",
       "      <td id=\"T_642e3_row22_col1\" class=\"data row22 col1\" >clf-default-name</td>\n",
       "    </tr>\n",
       "    <tr>\n",
       "      <th id=\"T_642e3_level0_row23\" class=\"row_heading level0 row23\" >23</th>\n",
       "      <td id=\"T_642e3_row23_col0\" class=\"data row23 col0\" >USI</td>\n",
       "      <td id=\"T_642e3_row23_col1\" class=\"data row23 col1\" >76fc</td>\n",
       "    </tr>\n",
       "  </tbody>\n",
       "</table>\n"
      ],
      "text/plain": [
       "<pandas.io.formats.style.Styler at 0x283995580>"
      ]
     },
     "metadata": {},
     "output_type": "display_data"
    }
   ],
   "source": [
    "s = setup(\n",
    "    data=df_train_test,\n",
    "    target=\"Response\",\n",
    "    fix_imbalance=False,\n",
    "    remove_outliers=True,\n",
    "    session_id=123,\n",
    "    categorical_features=[\"Education\", \"Marital_Status\"],\n",
    ")"
   ]
  },
  {
   "cell_type": "code",
   "execution_count": 23,
   "metadata": {
    "id": "4LH1aP6LWatB"
   },
   "outputs": [
    {
     "data": {
      "text/html": [
       "<div>\n",
       "<style scoped>\n",
       "    .dataframe tbody tr th:only-of-type {\n",
       "        vertical-align: middle;\n",
       "    }\n",
       "\n",
       "    .dataframe tbody tr th {\n",
       "        vertical-align: top;\n",
       "    }\n",
       "\n",
       "    .dataframe thead th {\n",
       "        text-align: right;\n",
       "    }\n",
       "</style>\n",
       "<table border=\"1\" class=\"dataframe\">\n",
       "  <thead>\n",
       "    <tr style=\"text-align: right;\">\n",
       "      <th></th>\n",
       "      <th>Name</th>\n",
       "      <th>Reference</th>\n",
       "      <th>Turbo</th>\n",
       "    </tr>\n",
       "    <tr>\n",
       "      <th>ID</th>\n",
       "      <th></th>\n",
       "      <th></th>\n",
       "      <th></th>\n",
       "    </tr>\n",
       "  </thead>\n",
       "  <tbody>\n",
       "    <tr>\n",
       "      <th>lr</th>\n",
       "      <td>Logistic Regression</td>\n",
       "      <td>sklearn.linear_model._logistic.LogisticRegression</td>\n",
       "      <td>True</td>\n",
       "    </tr>\n",
       "    <tr>\n",
       "      <th>knn</th>\n",
       "      <td>K Neighbors Classifier</td>\n",
       "      <td>sklearn.neighbors._classification.KNeighborsClassifier</td>\n",
       "      <td>True</td>\n",
       "    </tr>\n",
       "    <tr>\n",
       "      <th>nb</th>\n",
       "      <td>Naive Bayes</td>\n",
       "      <td>sklearn.naive_bayes.GaussianNB</td>\n",
       "      <td>True</td>\n",
       "    </tr>\n",
       "    <tr>\n",
       "      <th>dt</th>\n",
       "      <td>Decision Tree Classifier</td>\n",
       "      <td>sklearn.tree._classes.DecisionTreeClassifier</td>\n",
       "      <td>True</td>\n",
       "    </tr>\n",
       "    <tr>\n",
       "      <th>svm</th>\n",
       "      <td>SVM - Linear Kernel</td>\n",
       "      <td>sklearn.linear_model._stochastic_gradient.SGDClassifier</td>\n",
       "      <td>True</td>\n",
       "    </tr>\n",
       "    <tr>\n",
       "      <th>rbfsvm</th>\n",
       "      <td>SVM - Radial Kernel</td>\n",
       "      <td>sklearn.svm._classes.SVC</td>\n",
       "      <td>False</td>\n",
       "    </tr>\n",
       "    <tr>\n",
       "      <th>gpc</th>\n",
       "      <td>Gaussian Process Classifier</td>\n",
       "      <td>sklearn.gaussian_process._gpc.GaussianProcessClassifier</td>\n",
       "      <td>False</td>\n",
       "    </tr>\n",
       "    <tr>\n",
       "      <th>mlp</th>\n",
       "      <td>MLP Classifier</td>\n",
       "      <td>sklearn.neural_network._multilayer_perceptron.MLPClassifier</td>\n",
       "      <td>False</td>\n",
       "    </tr>\n",
       "    <tr>\n",
       "      <th>ridge</th>\n",
       "      <td>Ridge Classifier</td>\n",
       "      <td>sklearn.linear_model._ridge.RidgeClassifier</td>\n",
       "      <td>True</td>\n",
       "    </tr>\n",
       "    <tr>\n",
       "      <th>rf</th>\n",
       "      <td>Random Forest Classifier</td>\n",
       "      <td>sklearn.ensemble._forest.RandomForestClassifier</td>\n",
       "      <td>True</td>\n",
       "    </tr>\n",
       "    <tr>\n",
       "      <th>qda</th>\n",
       "      <td>Quadratic Discriminant Analysis</td>\n",
       "      <td>sklearn.discriminant_analysis.QuadraticDiscriminantAnalysis</td>\n",
       "      <td>True</td>\n",
       "    </tr>\n",
       "    <tr>\n",
       "      <th>ada</th>\n",
       "      <td>Ada Boost Classifier</td>\n",
       "      <td>sklearn.ensemble._weight_boosting.AdaBoostClassifier</td>\n",
       "      <td>True</td>\n",
       "    </tr>\n",
       "    <tr>\n",
       "      <th>gbc</th>\n",
       "      <td>Gradient Boosting Classifier</td>\n",
       "      <td>sklearn.ensemble._gb.GradientBoostingClassifier</td>\n",
       "      <td>True</td>\n",
       "    </tr>\n",
       "    <tr>\n",
       "      <th>lda</th>\n",
       "      <td>Linear Discriminant Analysis</td>\n",
       "      <td>sklearn.discriminant_analysis.LinearDiscriminantAnalysis</td>\n",
       "      <td>True</td>\n",
       "    </tr>\n",
       "    <tr>\n",
       "      <th>et</th>\n",
       "      <td>Extra Trees Classifier</td>\n",
       "      <td>sklearn.ensemble._forest.ExtraTreesClassifier</td>\n",
       "      <td>True</td>\n",
       "    </tr>\n",
       "    <tr>\n",
       "      <th>lightgbm</th>\n",
       "      <td>Light Gradient Boosting Machine</td>\n",
       "      <td>lightgbm.sklearn.LGBMClassifier</td>\n",
       "      <td>True</td>\n",
       "    </tr>\n",
       "    <tr>\n",
       "      <th>dummy</th>\n",
       "      <td>Dummy Classifier</td>\n",
       "      <td>sklearn.dummy.DummyClassifier</td>\n",
       "      <td>True</td>\n",
       "    </tr>\n",
       "  </tbody>\n",
       "</table>\n",
       "</div>"
      ],
      "text/plain": [
       "                                     Name  \\\n",
       "ID                                          \n",
       "lr                    Logistic Regression   \n",
       "knn                K Neighbors Classifier   \n",
       "nb                            Naive Bayes   \n",
       "dt               Decision Tree Classifier   \n",
       "svm                   SVM - Linear Kernel   \n",
       "rbfsvm                SVM - Radial Kernel   \n",
       "gpc           Gaussian Process Classifier   \n",
       "mlp                        MLP Classifier   \n",
       "ridge                    Ridge Classifier   \n",
       "rf               Random Forest Classifier   \n",
       "qda       Quadratic Discriminant Analysis   \n",
       "ada                  Ada Boost Classifier   \n",
       "gbc          Gradient Boosting Classifier   \n",
       "lda          Linear Discriminant Analysis   \n",
       "et                 Extra Trees Classifier   \n",
       "lightgbm  Light Gradient Boosting Machine   \n",
       "dummy                    Dummy Classifier   \n",
       "\n",
       "                                                            Reference  Turbo  \n",
       "ID                                                                            \n",
       "lr                  sklearn.linear_model._logistic.LogisticRegression   True  \n",
       "knn            sklearn.neighbors._classification.KNeighborsClassifier   True  \n",
       "nb                                     sklearn.naive_bayes.GaussianNB   True  \n",
       "dt                       sklearn.tree._classes.DecisionTreeClassifier   True  \n",
       "svm           sklearn.linear_model._stochastic_gradient.SGDClassifier   True  \n",
       "rbfsvm                                       sklearn.svm._classes.SVC  False  \n",
       "gpc           sklearn.gaussian_process._gpc.GaussianProcessClassifier  False  \n",
       "mlp       sklearn.neural_network._multilayer_perceptron.MLPClassifier  False  \n",
       "ridge                     sklearn.linear_model._ridge.RidgeClassifier   True  \n",
       "rf                    sklearn.ensemble._forest.RandomForestClassifier   True  \n",
       "qda       sklearn.discriminant_analysis.QuadraticDiscriminantAnalysis   True  \n",
       "ada              sklearn.ensemble._weight_boosting.AdaBoostClassifier   True  \n",
       "gbc                   sklearn.ensemble._gb.GradientBoostingClassifier   True  \n",
       "lda          sklearn.discriminant_analysis.LinearDiscriminantAnalysis   True  \n",
       "et                      sklearn.ensemble._forest.ExtraTreesClassifier   True  \n",
       "lightgbm                              lightgbm.sklearn.LGBMClassifier   True  \n",
       "dummy                                   sklearn.dummy.DummyClassifier   True  "
      ]
     },
     "execution_count": 23,
     "metadata": {},
     "output_type": "execute_result"
    }
   ],
   "source": [
    "# check available models\n",
    "# has to be called necessary only after having defined a setup.\n",
    "models()"
   ]
  },
  {
   "cell_type": "markdown",
   "metadata": {
    "id": "1MwySsBu6v7B"
   },
   "source": [
    "## Comparativo entre Modelos"
   ]
  },
  {
   "cell_type": "code",
   "execution_count": 28,
   "metadata": {
    "id": "_Gpbr-eDNvqd"
   },
   "outputs": [
    {
     "data": {
      "text/html": [
       "<div>\n",
       "<style scoped>\n",
       "    .dataframe tbody tr th:only-of-type {\n",
       "        vertical-align: middle;\n",
       "    }\n",
       "\n",
       "    .dataframe tbody tr th {\n",
       "        vertical-align: top;\n",
       "    }\n",
       "\n",
       "    .dataframe thead th {\n",
       "        text-align: right;\n",
       "    }\n",
       "</style>\n",
       "<table border=\"1\" class=\"dataframe\">\n",
       "  <thead>\n",
       "    <tr style=\"text-align: right;\">\n",
       "      <th></th>\n",
       "      <th></th>\n",
       "      <th></th>\n",
       "    </tr>\n",
       "    <tr>\n",
       "      <th></th>\n",
       "      <th></th>\n",
       "      <th></th>\n",
       "    </tr>\n",
       "  </thead>\n",
       "  <tbody>\n",
       "    <tr>\n",
       "      <th>Initiated</th>\n",
       "      <td>. . . . . . . . . . . . . . . . . .</td>\n",
       "      <td>20:47:30</td>\n",
       "    </tr>\n",
       "    <tr>\n",
       "      <th>Status</th>\n",
       "      <td>. . . . . . . . . . . . . . . . . .</td>\n",
       "      <td>Fitting 10 Folds</td>\n",
       "    </tr>\n",
       "    <tr>\n",
       "      <th>Estimator</th>\n",
       "      <td>. . . . . . . . . . . . . . . . . .</td>\n",
       "      <td>Logistic Regression</td>\n",
       "    </tr>\n",
       "  </tbody>\n",
       "</table>\n",
       "</div>"
      ],
      "text/plain": [
       "                                                                   \n",
       "                                                                   \n",
       "Initiated  . . . . . . . . . . . . . . . . . .             20:47:30\n",
       "Status     . . . . . . . . . . . . . . . . . .     Fitting 10 Folds\n",
       "Estimator  . . . . . . . . . . . . . . . . . .  Logistic Regression"
      ]
     },
     "metadata": {},
     "output_type": "display_data"
    },
    {
     "data": {
      "text/html": [
       "<style type=\"text/css\">\n",
       "#T_f1fac th {\n",
       "  text-align: left;\n",
       "}\n",
       "#T_f1fac_row0_col0, #T_f1fac_row0_col3, #T_f1fac_row0_col4, #T_f1fac_row1_col0, #T_f1fac_row1_col1, #T_f1fac_row1_col2, #T_f1fac_row1_col3, #T_f1fac_row1_col4, #T_f1fac_row1_col5, #T_f1fac_row1_col6, #T_f1fac_row1_col7, #T_f1fac_row2_col0, #T_f1fac_row2_col1, #T_f1fac_row2_col2, #T_f1fac_row2_col3, #T_f1fac_row2_col4, #T_f1fac_row2_col5, #T_f1fac_row2_col6, #T_f1fac_row2_col7, #T_f1fac_row3_col0, #T_f1fac_row3_col1, #T_f1fac_row3_col2, #T_f1fac_row3_col3, #T_f1fac_row3_col4, #T_f1fac_row3_col5, #T_f1fac_row3_col6, #T_f1fac_row3_col7, #T_f1fac_row4_col0, #T_f1fac_row4_col1, #T_f1fac_row4_col2, #T_f1fac_row4_col3, #T_f1fac_row4_col4, #T_f1fac_row4_col5, #T_f1fac_row4_col6, #T_f1fac_row4_col7, #T_f1fac_row5_col0, #T_f1fac_row5_col1, #T_f1fac_row5_col2, #T_f1fac_row5_col3, #T_f1fac_row5_col4, #T_f1fac_row5_col5, #T_f1fac_row5_col6, #T_f1fac_row5_col7, #T_f1fac_row6_col0, #T_f1fac_row6_col1, #T_f1fac_row6_col2, #T_f1fac_row6_col4, #T_f1fac_row6_col5, #T_f1fac_row6_col6, #T_f1fac_row6_col7, #T_f1fac_row7_col0, #T_f1fac_row7_col1, #T_f1fac_row7_col2, #T_f1fac_row7_col3, #T_f1fac_row7_col4, #T_f1fac_row7_col5, #T_f1fac_row7_col6, #T_f1fac_row7_col7, #T_f1fac_row8_col0, #T_f1fac_row8_col1, #T_f1fac_row8_col2, #T_f1fac_row8_col3, #T_f1fac_row8_col4, #T_f1fac_row8_col5, #T_f1fac_row8_col6, #T_f1fac_row8_col7, #T_f1fac_row9_col0, #T_f1fac_row9_col1, #T_f1fac_row9_col2, #T_f1fac_row9_col3, #T_f1fac_row9_col4, #T_f1fac_row9_col5, #T_f1fac_row9_col6, #T_f1fac_row9_col7, #T_f1fac_row10_col0, #T_f1fac_row10_col1, #T_f1fac_row10_col2, #T_f1fac_row10_col3, #T_f1fac_row10_col4, #T_f1fac_row10_col5, #T_f1fac_row10_col6, #T_f1fac_row10_col7, #T_f1fac_row11_col0, #T_f1fac_row11_col1, #T_f1fac_row11_col2, #T_f1fac_row11_col3, #T_f1fac_row11_col4, #T_f1fac_row11_col5, #T_f1fac_row11_col6, #T_f1fac_row11_col7, #T_f1fac_row12_col0, #T_f1fac_row12_col1, #T_f1fac_row12_col2, #T_f1fac_row12_col3, #T_f1fac_row12_col4, #T_f1fac_row12_col5, #T_f1fac_row12_col6, #T_f1fac_row12_col7, #T_f1fac_row13_col0, #T_f1fac_row13_col1, #T_f1fac_row13_col2, #T_f1fac_row13_col3, #T_f1fac_row13_col5, #T_f1fac_row13_col6, #T_f1fac_row13_col7 {\n",
       "  text-align: left;\n",
       "}\n",
       "#T_f1fac_row0_col1, #T_f1fac_row0_col2, #T_f1fac_row0_col5, #T_f1fac_row0_col6, #T_f1fac_row0_col7, #T_f1fac_row6_col3, #T_f1fac_row13_col4 {\n",
       "  text-align: left;\n",
       "  background-color: yellow;\n",
       "}\n",
       "#T_f1fac_row0_col8, #T_f1fac_row1_col8, #T_f1fac_row2_col8, #T_f1fac_row3_col8, #T_f1fac_row4_col8, #T_f1fac_row5_col8, #T_f1fac_row6_col8, #T_f1fac_row7_col8, #T_f1fac_row8_col8, #T_f1fac_row9_col8, #T_f1fac_row10_col8, #T_f1fac_row11_col8, #T_f1fac_row12_col8 {\n",
       "  text-align: left;\n",
       "  background-color: lightgrey;\n",
       "}\n",
       "#T_f1fac_row13_col8 {\n",
       "  text-align: left;\n",
       "  background-color: yellow;\n",
       "  background-color: lightgrey;\n",
       "}\n",
       "</style>\n",
       "<table id=\"T_f1fac\">\n",
       "  <thead>\n",
       "    <tr>\n",
       "      <th class=\"blank level0\" >&nbsp;</th>\n",
       "      <th id=\"T_f1fac_level0_col0\" class=\"col_heading level0 col0\" >Model</th>\n",
       "      <th id=\"T_f1fac_level0_col1\" class=\"col_heading level0 col1\" >Accuracy</th>\n",
       "      <th id=\"T_f1fac_level0_col2\" class=\"col_heading level0 col2\" >AUC</th>\n",
       "      <th id=\"T_f1fac_level0_col3\" class=\"col_heading level0 col3\" >Recall</th>\n",
       "      <th id=\"T_f1fac_level0_col4\" class=\"col_heading level0 col4\" >Prec.</th>\n",
       "      <th id=\"T_f1fac_level0_col5\" class=\"col_heading level0 col5\" >F1</th>\n",
       "      <th id=\"T_f1fac_level0_col6\" class=\"col_heading level0 col6\" >Kappa</th>\n",
       "      <th id=\"T_f1fac_level0_col7\" class=\"col_heading level0 col7\" >MCC</th>\n",
       "      <th id=\"T_f1fac_level0_col8\" class=\"col_heading level0 col8\" >TT (Sec)</th>\n",
       "    </tr>\n",
       "  </thead>\n",
       "  <tbody>\n",
       "    <tr>\n",
       "      <th id=\"T_f1fac_level0_row0\" class=\"row_heading level0 row0\" >lda</th>\n",
       "      <td id=\"T_f1fac_row0_col0\" class=\"data row0 col0\" >Linear Discriminant Analysis</td>\n",
       "      <td id=\"T_f1fac_row0_col1\" class=\"data row0 col1\" >0.8883</td>\n",
       "      <td id=\"T_f1fac_row0_col2\" class=\"data row0 col2\" >0.8949</td>\n",
       "      <td id=\"T_f1fac_row0_col3\" class=\"data row0 col3\" >0.5334</td>\n",
       "      <td id=\"T_f1fac_row0_col4\" class=\"data row0 col4\" >0.6550</td>\n",
       "      <td id=\"T_f1fac_row0_col5\" class=\"data row0 col5\" >0.5856</td>\n",
       "      <td id=\"T_f1fac_row0_col6\" class=\"data row0 col6\" >0.5223</td>\n",
       "      <td id=\"T_f1fac_row0_col7\" class=\"data row0 col7\" >0.5272</td>\n",
       "      <td id=\"T_f1fac_row0_col8\" class=\"data row0 col8\" >0.0260</td>\n",
       "    </tr>\n",
       "    <tr>\n",
       "      <th id=\"T_f1fac_level0_row1\" class=\"row_heading level0 row1\" >lightgbm</th>\n",
       "      <td id=\"T_f1fac_row1_col0\" class=\"data row1 col0\" >Light Gradient Boosting Machine</td>\n",
       "      <td id=\"T_f1fac_row1_col1\" class=\"data row1 col1\" >0.8727</td>\n",
       "      <td id=\"T_f1fac_row1_col2\" class=\"data row1 col2\" >0.8825</td>\n",
       "      <td id=\"T_f1fac_row1_col3\" class=\"data row1 col3\" >0.3443</td>\n",
       "      <td id=\"T_f1fac_row1_col4\" class=\"data row1 col4\" >0.6605</td>\n",
       "      <td id=\"T_f1fac_row1_col5\" class=\"data row1 col5\" >0.4421</td>\n",
       "      <td id=\"T_f1fac_row1_col6\" class=\"data row1 col6\" >0.3797</td>\n",
       "      <td id=\"T_f1fac_row1_col7\" class=\"data row1 col7\" >0.4103</td>\n",
       "      <td id=\"T_f1fac_row1_col8\" class=\"data row1 col8\" >0.0370</td>\n",
       "    </tr>\n",
       "    <tr>\n",
       "      <th id=\"T_f1fac_level0_row2\" class=\"row_heading level0 row2\" >rf</th>\n",
       "      <td id=\"T_f1fac_row2_col0\" class=\"data row2 col0\" >Random Forest Classifier</td>\n",
       "      <td id=\"T_f1fac_row2_col1\" class=\"data row2 col1\" >0.8543</td>\n",
       "      <td id=\"T_f1fac_row2_col2\" class=\"data row2 col2\" >0.8790</td>\n",
       "      <td id=\"T_f1fac_row2_col3\" class=\"data row2 col3\" >0.1630</td>\n",
       "      <td id=\"T_f1fac_row2_col4\" class=\"data row2 col4\" >0.5746</td>\n",
       "      <td id=\"T_f1fac_row2_col5\" class=\"data row2 col5\" >0.2452</td>\n",
       "      <td id=\"T_f1fac_row2_col6\" class=\"data row2 col6\" >0.1931</td>\n",
       "      <td id=\"T_f1fac_row2_col7\" class=\"data row2 col7\" >0.2435</td>\n",
       "      <td id=\"T_f1fac_row2_col8\" class=\"data row2 col8\" >0.0440</td>\n",
       "    </tr>\n",
       "    <tr>\n",
       "      <th id=\"T_f1fac_level0_row3\" class=\"row_heading level0 row3\" >gbc</th>\n",
       "      <td id=\"T_f1fac_row3_col0\" class=\"data row3 col0\" >Gradient Boosting Classifier</td>\n",
       "      <td id=\"T_f1fac_row3_col1\" class=\"data row3 col1\" >0.8720</td>\n",
       "      <td id=\"T_f1fac_row3_col2\" class=\"data row3 col2\" >0.8761</td>\n",
       "      <td id=\"T_f1fac_row3_col3\" class=\"data row3 col3\" >0.3346</td>\n",
       "      <td id=\"T_f1fac_row3_col4\" class=\"data row3 col4\" >0.6618</td>\n",
       "      <td id=\"T_f1fac_row3_col5\" class=\"data row3 col5\" >0.4389</td>\n",
       "      <td id=\"T_f1fac_row3_col6\" class=\"data row3 col6\" >0.3756</td>\n",
       "      <td id=\"T_f1fac_row3_col7\" class=\"data row3 col7\" >0.4062</td>\n",
       "      <td id=\"T_f1fac_row3_col8\" class=\"data row3 col8\" >0.0340</td>\n",
       "    </tr>\n",
       "    <tr>\n",
       "      <th id=\"T_f1fac_level0_row4\" class=\"row_heading level0 row4\" >et</th>\n",
       "      <td id=\"T_f1fac_row4_col0\" class=\"data row4 col0\" >Extra Trees Classifier</td>\n",
       "      <td id=\"T_f1fac_row4_col1\" class=\"data row4 col1\" >0.8747</td>\n",
       "      <td id=\"T_f1fac_row4_col2\" class=\"data row4 col2\" >0.8593</td>\n",
       "      <td id=\"T_f1fac_row4_col3\" class=\"data row4 col3\" >0.2666</td>\n",
       "      <td id=\"T_f1fac_row4_col4\" class=\"data row4 col4\" >0.7382</td>\n",
       "      <td id=\"T_f1fac_row4_col5\" class=\"data row4 col5\" >0.3787</td>\n",
       "      <td id=\"T_f1fac_row4_col6\" class=\"data row4 col6\" >0.3289</td>\n",
       "      <td id=\"T_f1fac_row4_col7\" class=\"data row4 col7\" >0.3859</td>\n",
       "      <td id=\"T_f1fac_row4_col8\" class=\"data row4 col8\" >0.0540</td>\n",
       "    </tr>\n",
       "    <tr>\n",
       "      <th id=\"T_f1fac_level0_row5\" class=\"row_heading level0 row5\" >ada</th>\n",
       "      <td id=\"T_f1fac_row5_col0\" class=\"data row5 col0\" >Ada Boost Classifier</td>\n",
       "      <td id=\"T_f1fac_row5_col1\" class=\"data row5 col1\" >0.8727</td>\n",
       "      <td id=\"T_f1fac_row5_col2\" class=\"data row5 col2\" >0.8518</td>\n",
       "      <td id=\"T_f1fac_row5_col3\" class=\"data row5 col3\" >0.3844</td>\n",
       "      <td id=\"T_f1fac_row5_col4\" class=\"data row5 col4\" >0.6392</td>\n",
       "      <td id=\"T_f1fac_row5_col5\" class=\"data row5 col5\" >0.4726</td>\n",
       "      <td id=\"T_f1fac_row5_col6\" class=\"data row5 col6\" >0.4062</td>\n",
       "      <td id=\"T_f1fac_row5_col7\" class=\"data row5 col7\" >0.4270</td>\n",
       "      <td id=\"T_f1fac_row5_col8\" class=\"data row5 col8\" >0.0400</td>\n",
       "    </tr>\n",
       "    <tr>\n",
       "      <th id=\"T_f1fac_level0_row6\" class=\"row_heading level0 row6\" >qda</th>\n",
       "      <td id=\"T_f1fac_row6_col0\" class=\"data row6 col0\" >Quadratic Discriminant Analysis</td>\n",
       "      <td id=\"T_f1fac_row6_col1\" class=\"data row6 col1\" >0.7627</td>\n",
       "      <td id=\"T_f1fac_row6_col2\" class=\"data row6 col2\" >0.8426</td>\n",
       "      <td id=\"T_f1fac_row6_col3\" class=\"data row6 col3\" >0.6654</td>\n",
       "      <td id=\"T_f1fac_row6_col4\" class=\"data row6 col4\" >0.4172</td>\n",
       "      <td id=\"T_f1fac_row6_col5\" class=\"data row6 col5\" >0.4963</td>\n",
       "      <td id=\"T_f1fac_row6_col6\" class=\"data row6 col6\" >0.3787</td>\n",
       "      <td id=\"T_f1fac_row6_col7\" class=\"data row6 col7\" >0.3888</td>\n",
       "      <td id=\"T_f1fac_row6_col8\" class=\"data row6 col8\" >0.0250</td>\n",
       "    </tr>\n",
       "    <tr>\n",
       "      <th id=\"T_f1fac_level0_row7\" class=\"row_heading level0 row7\" >lr</th>\n",
       "      <td id=\"T_f1fac_row7_col0\" class=\"data row7 col0\" >Logistic Regression</td>\n",
       "      <td id=\"T_f1fac_row7_col1\" class=\"data row7 col1\" >0.8543</td>\n",
       "      <td id=\"T_f1fac_row7_col2\" class=\"data row7 col2\" >0.7926</td>\n",
       "      <td id=\"T_f1fac_row7_col3\" class=\"data row7 col3\" >0.1852</td>\n",
       "      <td id=\"T_f1fac_row7_col4\" class=\"data row7 col4\" >0.5487</td>\n",
       "      <td id=\"T_f1fac_row7_col5\" class=\"data row7 col5\" >0.2739</td>\n",
       "      <td id=\"T_f1fac_row7_col6\" class=\"data row7 col6\" >0.2153</td>\n",
       "      <td id=\"T_f1fac_row7_col7\" class=\"data row7 col7\" >0.2558</td>\n",
       "      <td id=\"T_f1fac_row7_col8\" class=\"data row7 col8\" >0.0390</td>\n",
       "    </tr>\n",
       "    <tr>\n",
       "      <th id=\"T_f1fac_level0_row8\" class=\"row_heading level0 row8\" >nb</th>\n",
       "      <td id=\"T_f1fac_row8_col0\" class=\"data row8 col0\" >Naive Bayes</td>\n",
       "      <td id=\"T_f1fac_row8_col1\" class=\"data row8 col1\" >0.7937</td>\n",
       "      <td id=\"T_f1fac_row8_col2\" class=\"data row8 col2\" >0.7791</td>\n",
       "      <td id=\"T_f1fac_row8_col3\" class=\"data row8 col3\" >0.5379</td>\n",
       "      <td id=\"T_f1fac_row8_col4\" class=\"data row8 col4\" >0.3725</td>\n",
       "      <td id=\"T_f1fac_row8_col5\" class=\"data row8 col5\" >0.4390</td>\n",
       "      <td id=\"T_f1fac_row8_col6\" class=\"data row8 col6\" >0.3181</td>\n",
       "      <td id=\"T_f1fac_row8_col7\" class=\"data row8 col7\" >0.3269</td>\n",
       "      <td id=\"T_f1fac_row8_col8\" class=\"data row8 col8\" >0.0260</td>\n",
       "    </tr>\n",
       "    <tr>\n",
       "      <th id=\"T_f1fac_level0_row9\" class=\"row_heading level0 row9\" >dt</th>\n",
       "      <td id=\"T_f1fac_row9_col0\" class=\"data row9 col0\" >Decision Tree Classifier</td>\n",
       "      <td id=\"T_f1fac_row9_col1\" class=\"data row9 col1\" >0.8244</td>\n",
       "      <td id=\"T_f1fac_row9_col2\" class=\"data row9 col2\" >0.6547</td>\n",
       "      <td id=\"T_f1fac_row9_col3\" class=\"data row9 col3\" >0.4121</td>\n",
       "      <td id=\"T_f1fac_row9_col4\" class=\"data row9 col4\" >0.4160</td>\n",
       "      <td id=\"T_f1fac_row9_col5\" class=\"data row9 col5\" >0.4115</td>\n",
       "      <td id=\"T_f1fac_row9_col6\" class=\"data row9 col6\" >0.3089</td>\n",
       "      <td id=\"T_f1fac_row9_col7\" class=\"data row9 col7\" >0.3102</td>\n",
       "      <td id=\"T_f1fac_row9_col8\" class=\"data row9 col8\" >0.0270</td>\n",
       "    </tr>\n",
       "    <tr>\n",
       "      <th id=\"T_f1fac_level0_row10\" class=\"row_heading level0 row10\" >knn</th>\n",
       "      <td id=\"T_f1fac_row10_col0\" class=\"data row10 col0\" >K Neighbors Classifier</td>\n",
       "      <td id=\"T_f1fac_row10_col1\" class=\"data row10 col1\" >0.8400</td>\n",
       "      <td id=\"T_f1fac_row10_col2\" class=\"data row10 col2\" >0.6375</td>\n",
       "      <td id=\"T_f1fac_row10_col3\" class=\"data row10 col3\" >0.0769</td>\n",
       "      <td id=\"T_f1fac_row10_col4\" class=\"data row10 col4\" >0.3430</td>\n",
       "      <td id=\"T_f1fac_row10_col5\" class=\"data row10 col5\" >0.1228</td>\n",
       "      <td id=\"T_f1fac_row10_col6\" class=\"data row10 col6\" >0.0754</td>\n",
       "      <td id=\"T_f1fac_row10_col7\" class=\"data row10 col7\" >0.1010</td>\n",
       "      <td id=\"T_f1fac_row10_col8\" class=\"data row10 col8\" >0.0270</td>\n",
       "    </tr>\n",
       "    <tr>\n",
       "      <th id=\"T_f1fac_level0_row11\" class=\"row_heading level0 row11\" >dummy</th>\n",
       "      <td id=\"T_f1fac_row11_col0\" class=\"data row11 col0\" >Dummy Classifier</td>\n",
       "      <td id=\"T_f1fac_row11_col1\" class=\"data row11 col1\" >0.8496</td>\n",
       "      <td id=\"T_f1fac_row11_col2\" class=\"data row11 col2\" >0.5000</td>\n",
       "      <td id=\"T_f1fac_row11_col3\" class=\"data row11 col3\" >0.0000</td>\n",
       "      <td id=\"T_f1fac_row11_col4\" class=\"data row11 col4\" >0.0000</td>\n",
       "      <td id=\"T_f1fac_row11_col5\" class=\"data row11 col5\" >0.0000</td>\n",
       "      <td id=\"T_f1fac_row11_col6\" class=\"data row11 col6\" >0.0000</td>\n",
       "      <td id=\"T_f1fac_row11_col7\" class=\"data row11 col7\" >0.0000</td>\n",
       "      <td id=\"T_f1fac_row11_col8\" class=\"data row11 col8\" >0.0220</td>\n",
       "    </tr>\n",
       "    <tr>\n",
       "      <th id=\"T_f1fac_level0_row12\" class=\"row_heading level0 row12\" >svm</th>\n",
       "      <td id=\"T_f1fac_row12_col0\" class=\"data row12 col0\" >SVM - Linear Kernel</td>\n",
       "      <td id=\"T_f1fac_row12_col1\" class=\"data row12 col1\" >0.8448</td>\n",
       "      <td id=\"T_f1fac_row12_col2\" class=\"data row12 col2\" >0.0000</td>\n",
       "      <td id=\"T_f1fac_row12_col3\" class=\"data row12 col3\" >0.0364</td>\n",
       "      <td id=\"T_f1fac_row12_col4\" class=\"data row12 col4\" >0.0685</td>\n",
       "      <td id=\"T_f1fac_row12_col5\" class=\"data row12 col5\" >0.0473</td>\n",
       "      <td id=\"T_f1fac_row12_col6\" class=\"data row12 col6\" >0.0299</td>\n",
       "      <td id=\"T_f1fac_row12_col7\" class=\"data row12 col7\" >0.0318</td>\n",
       "      <td id=\"T_f1fac_row12_col8\" class=\"data row12 col8\" >0.0190</td>\n",
       "    </tr>\n",
       "    <tr>\n",
       "      <th id=\"T_f1fac_level0_row13\" class=\"row_heading level0 row13\" >ridge</th>\n",
       "      <td id=\"T_f1fac_row13_col0\" class=\"data row13 col0\" >Ridge Classifier</td>\n",
       "      <td id=\"T_f1fac_row13_col1\" class=\"data row13 col1\" >0.8877</td>\n",
       "      <td id=\"T_f1fac_row13_col2\" class=\"data row13 col2\" >0.0000</td>\n",
       "      <td id=\"T_f1fac_row13_col3\" class=\"data row13 col3\" >0.3484</td>\n",
       "      <td id=\"T_f1fac_row13_col4\" class=\"data row13 col4\" >0.8118</td>\n",
       "      <td id=\"T_f1fac_row13_col5\" class=\"data row13 col5\" >0.4813</td>\n",
       "      <td id=\"T_f1fac_row13_col6\" class=\"data row13 col6\" >0.4295</td>\n",
       "      <td id=\"T_f1fac_row13_col7\" class=\"data row13 col7\" >0.4812</td>\n",
       "      <td id=\"T_f1fac_row13_col8\" class=\"data row13 col8\" >0.0180</td>\n",
       "    </tr>\n",
       "  </tbody>\n",
       "</table>\n"
      ],
      "text/plain": [
       "<pandas.io.formats.style.Styler at 0x283cd3280>"
      ]
     },
     "metadata": {},
     "output_type": "display_data"
    }
   ],
   "source": [
    "best_model = compare_models(sort=\"auc\", errors=\"raise\")"
   ]
  },
  {
   "cell_type": "code",
   "execution_count": 29,
   "metadata": {
    "colab": {
     "base_uri": "https://localhost:8080/"
    },
    "id": "r6oZQjwflhvg",
    "outputId": "cb46889b-776b-4c01-bc54-54baf6f02930"
   },
   "outputs": [
    {
     "name": "stdout",
     "output_type": "stream",
     "text": [
      "LinearDiscriminantAnalysis(covariance_estimator=None, n_components=None,\n",
      "                           priors=None, shrinkage=None, solver='svd',\n",
      "                           store_covariance=False, tol=0.0001)\n"
     ]
    }
   ],
   "source": [
    "print(best_model)"
   ]
  },
  {
   "cell_type": "markdown",
   "metadata": {
    "id": "qdasnDQI65XP"
   },
   "source": [
    "## Análise do Modelo"
   ]
  },
  {
   "cell_type": "code",
   "execution_count": null,
   "metadata": {
    "id": "RPGtLz0JVN8O"
   },
   "outputs": [],
   "source": [
    "# evaluate modeltreshold"
   ]
  },
  {
   "cell_type": "code",
   "execution_count": null,
   "metadata": {
    "id": "9wLZRWeCVSEf"
   },
   "outputs": [],
   "source": [
    "# plot model - auc"
   ]
  },
  {
   "cell_type": "code",
   "execution_count": null,
   "metadata": {
    "id": "fPlCWTcYVaUE"
   },
   "outputs": [],
   "source": [
    "# plot model - confusion matrix"
   ]
  },
  {
   "cell_type": "code",
   "execution_count": null,
   "metadata": {
    "id": "nbdq4H6bVeZi"
   },
   "outputs": [],
   "source": [
    "# plot model - feature"
   ]
  },
  {
   "cell_type": "code",
   "execution_count": null,
   "metadata": {
    "id": "83zuVy5PVUsb"
   },
   "outputs": [],
   "source": [
    "# plot model - raw score"
   ]
  },
  {
   "cell_type": "markdown",
   "metadata": {
    "id": "M3Q2-Gkd960v"
   },
   "source": [
    "* Outros tipos de plot:\n",
    "https://pycaret.readthedocs.io/en/latest/api/classification.html#pycaret.classification.plot_model"
   ]
  },
  {
   "cell_type": "markdown",
   "metadata": {
    "id": "MgemDTWb-uop"
   },
   "source": [
    "## Criando um Modelo"
   ]
  },
  {
   "cell_type": "code",
   "execution_count": null,
   "metadata": {
    "id": "VB5-UFhmVqPn"
   },
   "outputs": [],
   "source": [
    "# create model lgbm"
   ]
  },
  {
   "cell_type": "code",
   "execution_count": null,
   "metadata": {
    "id": "R7GnjtvEVqfS"
   },
   "outputs": [],
   "source": [
    "# create model rf"
   ]
  },
  {
   "cell_type": "markdown",
   "metadata": {
    "id": "F7aRLbtZ_NLr"
   },
   "source": [
    "## Tuning dos Hiperparâmetros"
   ]
  },
  {
   "cell_type": "markdown",
   "metadata": {
    "id": "4-LfGc3xCmjS"
   },
   "source": [
    "### LGBM"
   ]
  },
  {
   "cell_type": "code",
   "execution_count": null,
   "metadata": {
    "id": "ZipP5k8ZV3Qw"
   },
   "outputs": [],
   "source": [
    "tuned_lgbm ="
   ]
  },
  {
   "cell_type": "code",
   "execution_count": null,
   "metadata": {
    "id": "sHhG6XqIV3Ts"
   },
   "outputs": [],
   "source": [
    "# predict"
   ]
  },
  {
   "cell_type": "markdown",
   "metadata": {
    "id": "BJ_s93FfB40Y"
   },
   "source": [
    "* AUC aumentou/diminuiu de XXX para XXX após a etapa de tuning dos hiperparâmetros"
   ]
  },
  {
   "cell_type": "markdown",
   "metadata": {
    "id": "c-YJDG7cCsQR"
   },
   "source": [
    "### RFC"
   ]
  },
  {
   "cell_type": "code",
   "execution_count": null,
   "metadata": {
    "id": "NvlBJZ-DCp6O"
   },
   "outputs": [],
   "source": [
    "tuned_rfc = "
   ]
  },
  {
   "cell_type": "markdown",
   "metadata": {
    "id": "CTjauoKeDqSt"
   },
   "source": [
    "* Modelo RFC apresentou leve piora/melhora na métrica AUC após o tuning dos hiperparâmetros, de XXX para XXX"
   ]
  },
  {
   "cell_type": "code",
   "execution_count": null,
   "metadata": {
    "id": "662HAsPTDQoC"
   },
   "outputs": [],
   "source": [
    "# predict"
   ]
  },
  {
   "cell_type": "markdown",
   "metadata": {
    "id": "Ek1da0K5ECdV"
   },
   "source": [
    "# Melhor Modelo: LGBM com tuning\n",
    "* Foram comparados os modelos LGBM e RFC, antes e depois do tuning dos hiperparametros, e em ambas condições o LGBM apresentou melhores AUCs."
   ]
  },
  {
   "cell_type": "markdown",
   "metadata": {
    "id": "iszd3ET1_43_"
   },
   "source": [
    "## AUC Plot"
   ]
  },
  {
   "cell_type": "code",
   "execution_count": null,
   "metadata": {
    "id": "wvzpOLTz_Wzp"
   },
   "outputs": [],
   "source": [
    "# auc"
   ]
  },
  {
   "cell_type": "markdown",
   "metadata": {
    "id": "6J7f1CkWAHpy"
   },
   "source": [
    "## Feature Importance"
   ]
  },
  {
   "cell_type": "code",
   "execution_count": null,
   "metadata": {
    "id": "JQHm-Rfd_W2d"
   },
   "outputs": [],
   "source": [
    "# feature"
   ]
  },
  {
   "cell_type": "markdown",
   "metadata": {
    "id": "CiAdS8PfAPsu"
   },
   "source": [
    "## Matriz de Confusão"
   ]
  },
  {
   "cell_type": "code",
   "execution_count": null,
   "metadata": {
    "id": "19AxNII0_W5H"
   },
   "outputs": [],
   "source": [
    "# confusion matrix"
   ]
  },
  {
   "cell_type": "markdown",
   "metadata": {
    "id": "YudFejR--Wvg"
   },
   "source": [
    "# Referências:\n",
    "* https://towardsdatascience.com/introduction-to-binary-classification-with-pycaret-a37b3e89ad8d\n",
    "* https://pycaret.gitbook.io/docs/get-started/quickstart#classification\n",
    "* https://pycaret.readthedocs.io/en/latest/api/classification.html#pycaret.classification.plot_model"
   ]
  }
 ],
 "metadata": {
  "colab": {
   "provenance": []
  },
  "kernelspec": {
   "display_name": ".venv",
   "language": "python",
   "name": "python3"
  },
  "language_info": {
   "codemirror_mode": {
    "name": "ipython",
    "version": 3
   },
   "file_extension": ".py",
   "mimetype": "text/x-python",
   "name": "python",
   "nbconvert_exporter": "python",
   "pygments_lexer": "ipython3",
   "version": "3.8.16"
  },
  "vscode": {
   "interpreter": {
    "hash": "9a4f976f5f6e797353669a20e92b5ce51a9ade8fedcd0bbb849f696e880889df"
   }
  }
 },
 "nbformat": 4,
 "nbformat_minor": 0
}
