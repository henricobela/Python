{
  "cells": [
    {
      "cell_type": "markdown",
      "metadata": {
        "id": "EJC-6o8sCE_F"
      },
      "source": [
        "## Atividade 1\n",
        "\n",
        "Crie uma função que receba como parâmetro de entrada o caminho de uma imagem e retorne a cor mais predominante encontrada.\n",
        "Escolha apropriadamente a melhor forma de identificação e carcterízação de cores.\n",
        "Deverão ser testadas 3 imagens que se encontram no Github, pasta imagens.\n",
        "\n",
        "## 1. Requerimentos\n",
        "\n",
        "Todas as bibliotecas já estão instaladas no Google Colab.\n",
        "\n",
        "* OpenCV >= 3.4.3\n",
        "* Matplotlib >= 3.1.3\n",
        "* Seaborn >= 0.0.10\n",
        "* Numpy >= 1.18.1"
      ]
    },
    {
      "cell_type": "markdown",
      "source": [
        "Carregando uma imagem\n"
      ],
      "metadata": {
        "id": "_iqatrTPD5Rd"
      }
    },
    {
      "cell_type": "code",
      "source": [
        "from google.colab import files\n",
        "\n",
        "uploaded = files.upload()\n",
        "\n",
        "for fn in uploaded.keys():\n",
        "  print('Usuario fez upload da imagem \"{name}\" com tamanho {length} bytes'.format(name=fn, length=len(uploaded[fn])))"
      ],
      "metadata": {
        "id": "G-fEaMXGECo6"
      },
      "execution_count": null,
      "outputs": []
    },
    {
      "cell_type": "markdown",
      "metadata": {
        "id": "d12sgA98CE_Y"
      },
      "source": [
        "Importação das bibliotecas."
      ]
    },
    {
      "cell_type": "code",
      "execution_count": null,
      "metadata": {
        "id": "8B6fg_LUCE_Z"
      },
      "outputs": [],
      "source": [
        "import cv2\n",
        "from matplotlib import pyplot as plt\n",
        "import numpy as np"
      ]
    },
    {
      "cell_type": "markdown",
      "metadata": {
        "id": "-s_gXcv_CE_a"
      },
      "source": [
        "## 2. Solução\n",
        "\n",
        "Desenvolvimento das funções."
      ]
    },
    {
      "cell_type": "code",
      "execution_count": null,
      "metadata": {
        "id": "3DXn8nMgCE_a"
      },
      "outputs": [],
      "source": [
        "def extrair_cor_caracteristica(imagem):\n",
        "    \n",
        "    # IMPLEMENTAR GRÁFICO HISTOGRAMA\n",
        "    \n",
        "    # RETORNAR CORES MAIS PREDOMINANTES\n",
        "    \n",
        "    return cores"
      ]
    },
    {
      "cell_type": "markdown",
      "metadata": {
        "id": "zsyuYvIuCE_b"
      },
      "source": [
        "Execução das funções passando as imagens por parâmetro de entrada."
      ]
    },
    {
      "cell_type": "code",
      "execution_count": null,
      "metadata": {
        "id": "mYLGEXkWCE_c"
      },
      "outputs": [],
      "source": [
        "imagem_path = \"serie.jpeg\"\n",
        "imagem = cv2.imread(imagem_path)\n",
        "imagem = cv2.cvtColor(imagem, cv2.COLOR_BGR2RGB)\n",
        "\n",
        "plt.figure(figsize=(20,10))\n",
        "plt.imshow(imagem)"
      ]
    },
    {
      "cell_type": "code",
      "execution_count": null,
      "metadata": {
        "id": "iLccVsUeCE_d"
      },
      "outputs": [],
      "source": [
        "#IMPLEMENTAR"
      ]
    },
    {
      "cell_type": "code",
      "execution_count": null,
      "metadata": {
        "id": "1SLZVDG-CE_e"
      },
      "outputs": [],
      "source": [
        "imagem_path = \"filme.jpg\"\n",
        "imagem = cv2.imread(imagem_path)\n",
        "imagem = cv2.cvtColor(imagem, cv2.COLOR_BGR2RGB)\n",
        "\n",
        "plt.figure(figsize=(20,10))\n",
        "plt.imshow(imagem)"
      ]
    },
    {
      "cell_type": "code",
      "execution_count": null,
      "metadata": {
        "id": "utaI7iqaCE_f"
      },
      "outputs": [],
      "source": [
        "#IMPLEMENTAR"
      ]
    },
    {
      "cell_type": "code",
      "execution_count": null,
      "metadata": {
        "id": "OTNgIHKRCE_h"
      },
      "outputs": [],
      "source": [
        "imagem_path = \"hockey.jpg\"\n",
        "imagem = cv2.imread(imagem_path)\n",
        "imagem = cv2.cvtColor(imagem, cv2.COLOR_BGR2RGB)\n",
        "\n",
        "plt.figure(figsize=(20,10))\n",
        "plt.imshow(imagem)"
      ]
    },
    {
      "cell_type": "code",
      "execution_count": null,
      "metadata": {
        "id": "tGK-CTrBCE_l"
      },
      "outputs": [],
      "source": [
        "#IMPLEMENTAR"
      ]
    },
    {
      "cell_type": "code",
      "source": [
        "imagem_path = \"futebol.jpg\"\n",
        "imagem = cv2.imread(imagem_path)\n",
        "imagem = cv2.cvtColor(imagem, cv2.COLOR_BGR2RGB)\n",
        "\n",
        "plt.figure(figsize=(20,10))\n",
        "plt.imshow(imagem)"
      ],
      "metadata": {
        "id": "JwiUz6MvHvkC"
      },
      "execution_count": null,
      "outputs": []
    },
    {
      "cell_type": "code",
      "source": [
        "#IMPLEMENTAR"
      ],
      "metadata": {
        "id": "50tAgVl1HyHm"
      },
      "execution_count": null,
      "outputs": []
    }
  ],
  "metadata": {
    "kernelspec": {
      "display_name": "Python 3",
      "language": "python",
      "name": "python3"
    },
    "language_info": {
      "codemirror_mode": {
        "name": "ipython",
        "version": 3
      },
      "file_extension": ".py",
      "mimetype": "text/x-python",
      "name": "python",
      "nbconvert_exporter": "python",
      "pygments_lexer": "ipython3",
      "version": "3.6.10"
    },
    "colab": {
      "provenance": []
    }
  },
  "nbformat": 4,
  "nbformat_minor": 0
}