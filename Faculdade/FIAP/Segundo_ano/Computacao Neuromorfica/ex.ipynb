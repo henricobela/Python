{
 "cells": [
  {
   "cell_type": "code",
   "execution_count": 5,
   "metadata": {
    "id": "mx5z3Lneif41"
   },
   "outputs": [],
   "source": [
    "import pandas as pd\n",
    "import math\n",
    "import numpy as np\n",
    "\n",
    "import warnings\n",
    "\n",
    "warnings.filterwarnings(\"ignore\")"
   ]
  },
  {
   "cell_type": "code",
   "execution_count": 6,
   "metadata": {},
   "outputs": [],
   "source": [
    "def euclidean_distance(x1, y1, x2, y2):\n",
    "    return math.sqrt((x2 - x1) ** 2 + (y2 - y1) ** 2)"
   ]
  },
  {
   "cell_type": "code",
   "execution_count": 11,
   "metadata": {},
   "outputs": [],
   "source": [
    "def coord_calc(csv_path):\n",
    "    lista = []\n",
    "\n",
    "    arquivo = pd.read_csv(csv_path)\n",
    "    arquivo[\"x1\"] = np.nan\n",
    "    arquivo[\"y1\"] = np.nan\n",
    "    arquivo[\"x2\"] = np.nan\n",
    "    arquivo[\"y2\"] = np.nan\n",
    "\n",
    "    for i in range(len(arquivo)):\n",
    "        x1, y1 = arquivo.source[i].split(\",\")\n",
    "        x2, y2 = arquivo.destiny[i].split(\",\")\n",
    "        arquivo[\"x1\"][i] = x1\n",
    "        arquivo[\"y1\"][i] = y1\n",
    "        arquivo[\"x2\"][i] = x2\n",
    "        arquivo[\"y2\"][i] = y2\n",
    "\n",
    "    arquivo = arquivo.drop(columns=[\"date\", \"source\", \"destiny\"])\n",
    "\n",
    "    for i in arquivo.index:\n",
    "        x1, y1, x2, y2 = arquivo.loc[i]\n",
    "        lista.append(euclidean_distance(int(x1), int(y1), int(x2), int(y2)))\n",
    "\n",
    "    arquivo[\"distance\"] = np.nan\n",
    "    arquivo[\"distance\"] = lista\n",
    "\n",
    "    menor_distancia = arquivo.distance.min()\n",
    "    pontos = arquivo.loc[\n",
    "        arquivo[\"distance\"] == menor_distancia, [\"x1\", \"y1\", \"x2\", \"y2\"]\n",
    "    ].values.tolist()\n",
    "\n",
    "    return pontos, menor_distancia"
   ]
  },
  {
   "cell_type": "code",
   "execution_count": 12,
   "metadata": {},
   "outputs": [],
   "source": [
    "path = r\"C:\\Users\\Henrico\\Downloads\\cords_robot - Página1.csv\""
   ]
  },
  {
   "cell_type": "code",
   "execution_count": 13,
   "metadata": {},
   "outputs": [],
   "source": [
    "pontos, distancia = coord_calc(path)"
   ]
  },
  {
   "cell_type": "code",
   "execution_count": 14,
   "metadata": {},
   "outputs": [
    {
     "data": {
      "text/plain": [
       "[['2', '36', '3', '38'], ['1', '48', '2', '50'], ['1', '85', '3', '86']]"
      ]
     },
     "execution_count": 14,
     "metadata": {},
     "output_type": "execute_result"
    }
   ],
   "source": [
    "pontos"
   ]
  },
  {
   "cell_type": "code",
   "execution_count": null,
   "metadata": {},
   "outputs": [],
   "source": []
  },
  {
   "cell_type": "code",
   "execution_count": null,
   "metadata": {},
   "outputs": [],
   "source": []
  },
  {
   "cell_type": "code",
   "execution_count": null,
   "metadata": {},
   "outputs": [],
   "source": []
  },
  {
   "cell_type": "code",
   "execution_count": null,
   "metadata": {},
   "outputs": [],
   "source": []
  }
 ],
 "metadata": {
  "colab": {
   "provenance": []
  },
  "kernelspec": {
   "display_name": ".venv",
   "language": "python",
   "name": "python3"
  },
  "language_info": {
   "codemirror_mode": {
    "name": "ipython",
    "version": 3
   },
   "file_extension": ".py",
   "mimetype": "text/x-python",
   "name": "python",
   "nbconvert_exporter": "python",
   "pygments_lexer": "ipython3",
   "version": "3.8.16"
  },
  "orig_nbformat": 4
 },
 "nbformat": 4,
 "nbformat_minor": 0
}
