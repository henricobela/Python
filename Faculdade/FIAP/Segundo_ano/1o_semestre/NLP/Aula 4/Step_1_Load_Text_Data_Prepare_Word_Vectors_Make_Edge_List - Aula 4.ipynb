{
  "cells": [
    {
      "cell_type": "code",
      "execution_count": null,
      "metadata": {
        "id": "zj2hH6dPAB3c"
      },
      "outputs": [],
      "source": [
        "import pandas as pd\n",
        "import numpy as np\n",
        "%matplotlib inline\n",
        "import seaborn as sns\n",
        "from matplotlib import pyplot as plt\n",
        "sns.set_palette(\"dark\")\n",
        "import pylab"
      ]
    },
    {
      "cell_type": "markdown",
      "metadata": {
        "id": "oSO7fQ8hAB3h"
      },
      "source": [
        "# Step 1: Load the raw data"
      ]
    },
    {
      "cell_type": "code",
      "execution_count": null,
      "metadata": {
        "id": "PJmzAsauAB3l"
      },
      "outputs": [],
      "source": [
        "#in_dir = 'D:\\\\Data\\\\Raw\\\\'\n",
        "\n",
        "#df = pd.read_csv(f\"{path_root}\\\\data\\\\book1.csv\", sep = ',')\n",
        "\n",
        "in_dir = 'seus dados'"
      ]
    },
    {
      "cell_type": "code",
      "execution_count": null,
      "metadata": {
        "id": "l6TdbboCAB3o",
        "outputId": "d1b1334f-bda9-41cf-decf-acf80fc3d6a7"
      },
      "outputs": [
        {
          "data": {
            "text/plain": [
              "(1083, 43)"
            ]
          },
          "execution_count": 9,
          "metadata": {},
          "output_type": "execute_result"
        }
      ],
      "source": [
        "raw_data = pd.read_csv(in_dir + 'master_pitchfork_lyrics.csv', sep=',')\n",
        "raw_data.shape\n",
        "# make the lyrics column unicode\n",
        "raw_data.clean_text = raw_data.clean_text.astype('unicode')\n",
        "raw_data.shape"
      ]
    },
    {
      "cell_type": "code",
      "execution_count": null,
      "metadata": {
        "id": "fNlS96JGAB3r",
        "outputId": "5f99d44c-e2dc-47ea-cd70-183a7a8a4763"
      },
      "outputs": [
        {
          "data": {
            "text/html": [
              "<div>\n",
              "<style scoped>\n",
              "    .dataframe tbody tr th:only-of-type {\n",
              "        vertical-align: middle;\n",
              "    }\n",
              "\n",
              "    .dataframe tbody tr th {\n",
              "        vertical-align: top;\n",
              "    }\n",
              "\n",
              "    .dataframe thead th {\n",
              "        text-align: right;\n",
              "    }\n",
              "</style>\n",
              "<table border=\"1\" class=\"dataframe\">\n",
              "  <thead>\n",
              "    <tr style=\"text-align: right;\">\n",
              "      <th></th>\n",
              "      <th>reviewid</th>\n",
              "      <th>title</th>\n",
              "      <th>artist</th>\n",
              "      <th>url</th>\n",
              "      <th>score</th>\n",
              "      <th>best_new_music</th>\n",
              "      <th>author</th>\n",
              "      <th>author_type</th>\n",
              "      <th>pub_date</th>\n",
              "      <th>pub_weekday</th>\n",
              "      <th>...</th>\n",
              "      <th>artist4</th>\n",
              "      <th>artist5</th>\n",
              "      <th>artist6</th>\n",
              "      <th>artist7</th>\n",
              "      <th>artist_clean</th>\n",
              "      <th>title_clean</th>\n",
              "      <th>raw_text</th>\n",
              "      <th>clean_text</th>\n",
              "      <th>song_count</th>\n",
              "      <th>total_words</th>\n",
              "    </tr>\n",
              "  </thead>\n",
              "  <tbody>\n",
              "    <tr>\n",
              "      <th>0</th>\n",
              "      <td>22704</td>\n",
              "      <td>stillness in wonderland</td>\n",
              "      <td>little simz</td>\n",
              "      <td>http://pitchfork.com/reviews/albums/22704-litt...</td>\n",
              "      <td>7.1</td>\n",
              "      <td>0</td>\n",
              "      <td>katherine st. asaph</td>\n",
              "      <td>contributor</td>\n",
              "      <td>2017-01-05</td>\n",
              "      <td>3</td>\n",
              "      <td>...</td>\n",
              "      <td>NaN</td>\n",
              "      <td>NaN</td>\n",
              "      <td>NaN</td>\n",
              "      <td>NaN</td>\n",
              "      <td>little-simz</td>\n",
              "      <td>stillness-in-wonderland</td>\n",
              "      <td>b\"\\n\\n[Refrain: Little Simz]\\nMentally enslave...</td>\n",
              "      <td>mentally enslaved mentally deranged mental cha...</td>\n",
              "      <td>15</td>\n",
              "      <td>1749</td>\n",
              "    </tr>\n",
              "    <tr>\n",
              "      <th>1</th>\n",
              "      <td>22724</td>\n",
              "      <td>filthy america its beautiful</td>\n",
              "      <td>the lox</td>\n",
              "      <td>http://pitchfork.com/reviews/albums/22724-filt...</td>\n",
              "      <td>5.3</td>\n",
              "      <td>0</td>\n",
              "      <td>ian cohen</td>\n",
              "      <td>contributor</td>\n",
              "      <td>2017-01-04</td>\n",
              "      <td>2</td>\n",
              "      <td>...</td>\n",
              "      <td>NaN</td>\n",
              "      <td>NaN</td>\n",
              "      <td>NaN</td>\n",
              "      <td>NaN</td>\n",
              "      <td>the-lox</td>\n",
              "      <td>filthy-america-its-beautiful</td>\n",
              "      <td>b\"\\n\\n[Intro]\\nThe omen\\n\\n[Verse 1: Sheek Lou...</td>\n",
              "      <td>omen ride nigga die kids soul fly project lobb...</td>\n",
              "      <td>12</td>\n",
              "      <td>2471</td>\n",
              "    </tr>\n",
              "    <tr>\n",
              "      <th>2</th>\n",
              "      <td>22745</td>\n",
              "      <td>run the jewels 3</td>\n",
              "      <td>run the jewels</td>\n",
              "      <td>http://pitchfork.com/reviews/albums/22745-run-...</td>\n",
              "      <td>8.6</td>\n",
              "      <td>1</td>\n",
              "      <td>sheldon pearce</td>\n",
              "      <td>associate staff writer</td>\n",
              "      <td>2017-01-03</td>\n",
              "      <td>1</td>\n",
              "      <td>...</td>\n",
              "      <td>NaN</td>\n",
              "      <td>NaN</td>\n",
              "      <td>NaN</td>\n",
              "      <td>NaN</td>\n",
              "      <td>run-the-jewels</td>\n",
              "      <td>run-the-jewels-3</td>\n",
              "      <td>b'\\n\\n[Verse 1: Killer Mike]\\nI hope (I hope)\\...</td>\n",
              "      <td>hope hope hope highest hopes trap days dealing...</td>\n",
              "      <td>14</td>\n",
              "      <td>3384</td>\n",
              "    </tr>\n",
              "    <tr>\n",
              "      <th>3</th>\n",
              "      <td>22699</td>\n",
              "      <td>don't smoke rock</td>\n",
              "      <td>smoke dza, pete rock</td>\n",
              "      <td>http://pitchfork.com/reviews/albums/22699-dont...</td>\n",
              "      <td>7.4</td>\n",
              "      <td>0</td>\n",
              "      <td>dean van nguyen</td>\n",
              "      <td>contributor</td>\n",
              "      <td>2017-01-02</td>\n",
              "      <td>0</td>\n",
              "      <td>...</td>\n",
              "      <td>NaN</td>\n",
              "      <td>NaN</td>\n",
              "      <td>NaN</td>\n",
              "      <td>NaN</td>\n",
              "      <td>smoke-dza-pete-rock</td>\n",
              "      <td>don-t-smoke-rock</td>\n",
              "      <td>b\"\\n\\nMmhmm\\nIts a vibe\\nIts a painting\\nIts a...</td>\n",
              "      <td>mmhmm vibe painting moment mother fucker capsu...</td>\n",
              "      <td>13</td>\n",
              "      <td>2597</td>\n",
              "    </tr>\n",
              "    <tr>\n",
              "      <th>4</th>\n",
              "      <td>22719</td>\n",
              "      <td>merry christmas lil mama</td>\n",
              "      <td>chance the rapper, jeremih</td>\n",
              "      <td>http://pitchfork.com/reviews/albums/22719-merr...</td>\n",
              "      <td>8.1</td>\n",
              "      <td>0</td>\n",
              "      <td>sheldon pearce</td>\n",
              "      <td>associate staff writer</td>\n",
              "      <td>2016-12-30</td>\n",
              "      <td>4</td>\n",
              "      <td>...</td>\n",
              "      <td>NaN</td>\n",
              "      <td>NaN</td>\n",
              "      <td>NaN</td>\n",
              "      <td>NaN</td>\n",
              "      <td>chance-the-rapper-jeremih</td>\n",
              "      <td>merry-christmas-lil-mama</td>\n",
              "      <td>b\"\\n\\n[Intro]\\nNo! No!  I want an Official Red...</td>\n",
              "      <td>official red ryder carbine action shot range m...</td>\n",
              "      <td>9</td>\n",
              "      <td>1730</td>\n",
              "    </tr>\n",
              "  </tbody>\n",
              "</table>\n",
              "<p>5 rows × 43 columns</p>\n",
              "</div>"
            ],
            "text/plain": [
              "   reviewid                         title                      artist  \\\n",
              "0     22704       stillness in wonderland                 little simz   \n",
              "1     22724  filthy america its beautiful                     the lox   \n",
              "2     22745              run the jewels 3              run the jewels   \n",
              "3     22699              don't smoke rock        smoke dza, pete rock   \n",
              "4     22719      merry christmas lil mama  chance the rapper, jeremih   \n",
              "\n",
              "                                                 url  score  best_new_music  \\\n",
              "0  http://pitchfork.com/reviews/albums/22704-litt...    7.1               0   \n",
              "1  http://pitchfork.com/reviews/albums/22724-filt...    5.3               0   \n",
              "2  http://pitchfork.com/reviews/albums/22745-run-...    8.6               1   \n",
              "3  http://pitchfork.com/reviews/albums/22699-dont...    7.4               0   \n",
              "4  http://pitchfork.com/reviews/albums/22719-merr...    8.1               0   \n",
              "\n",
              "                author             author_type    pub_date  pub_weekday  ...  \\\n",
              "0  katherine st. asaph             contributor  2017-01-05            3  ...   \n",
              "1            ian cohen             contributor  2017-01-04            2  ...   \n",
              "2       sheldon pearce  associate staff writer  2017-01-03            1  ...   \n",
              "3      dean van nguyen             contributor  2017-01-02            0  ...   \n",
              "4       sheldon pearce  associate staff writer  2016-12-30            4  ...   \n",
              "\n",
              "   artist4  artist5  artist6 artist7               artist_clean  \\\n",
              "0      NaN      NaN      NaN     NaN                little-simz   \n",
              "1      NaN      NaN      NaN     NaN                    the-lox   \n",
              "2      NaN      NaN      NaN     NaN             run-the-jewels   \n",
              "3      NaN      NaN      NaN     NaN        smoke-dza-pete-rock   \n",
              "4      NaN      NaN      NaN     NaN  chance-the-rapper-jeremih   \n",
              "\n",
              "                    title_clean  \\\n",
              "0       stillness-in-wonderland   \n",
              "1  filthy-america-its-beautiful   \n",
              "2              run-the-jewels-3   \n",
              "3              don-t-smoke-rock   \n",
              "4      merry-christmas-lil-mama   \n",
              "\n",
              "                                            raw_text  \\\n",
              "0  b\"\\n\\n[Refrain: Little Simz]\\nMentally enslave...   \n",
              "1  b\"\\n\\n[Intro]\\nThe omen\\n\\n[Verse 1: Sheek Lou...   \n",
              "2  b'\\n\\n[Verse 1: Killer Mike]\\nI hope (I hope)\\...   \n",
              "3  b\"\\n\\nMmhmm\\nIts a vibe\\nIts a painting\\nIts a...   \n",
              "4  b\"\\n\\n[Intro]\\nNo! No!  I want an Official Red...   \n",
              "\n",
              "                                          clean_text  song_count  total_words  \n",
              "0  mentally enslaved mentally deranged mental cha...          15         1749  \n",
              "1  omen ride nigga die kids soul fly project lobb...          12         2471  \n",
              "2  hope hope hope highest hopes trap days dealing...          14         3384  \n",
              "3  mmhmm vibe painting moment mother fucker capsu...          13         2597  \n",
              "4  official red ryder carbine action shot range m...           9         1730  \n",
              "\n",
              "[5 rows x 43 columns]"
            ]
          },
          "execution_count": 11,
          "metadata": {},
          "output_type": "execute_result"
        }
      ],
      "source": [
        "    raw_data.head()"
      ]
    },
    {
      "cell_type": "markdown",
      "metadata": {
        "id": "XTi5YK-SAB3t"
      },
      "source": [
        "# Step 2: Generate word vectors per album using Spacy"
      ]
    },
    {
      "cell_type": "code",
      "execution_count": null,
      "metadata": {
        "id": "ye3_qxbvAB3u",
        "outputId": "b1b6e164-b098-474e-8d86-5f59623a9350"
      },
      "outputs": [
        {
          "name": "stdout",
          "output_type": "stream",
          "text": [
            "Wall time: 9.98 s\n"
          ]
        }
      ],
      "source": [
        "%%time\n",
        "import spacy\n",
        "# load the pre-trained word vectors\n",
        "# we use the large one here \n",
        "# for more info see:\n",
        "# https://spacy.io/models/en\n",
        "nlp = spacy.load('en_core_web_lg')"
      ]
    },
    {
      "cell_type": "code",
      "execution_count": null,
      "metadata": {
        "id": "7oNXVYFnAB3v",
        "outputId": "4d2056b9-28af-4b5b-d5b8-f60358eac147"
      },
      "outputs": [
        {
          "name": "stderr",
          "output_type": "stream",
          "text": [
            "C:\\Users\\Guilherme\\anaconda3\\lib\\site-packages\\spacy\\pipeline\\lemmatizer.py:211: UserWarning: [W108] The rule-based lemmatizer did not find POS annotation for one or more tokens. Check that your pipeline includes components that assign token.pos, typically 'tagger'+'attribute_ruler' or 'morphologizer'.\n",
            "  warnings.warn(Warnings.W108)\n"
          ]
        },
        {
          "name": "stdout",
          "output_type": "stream",
          "text": [
            "1083\n",
            "Wall time: 3min 59s\n"
          ]
        }
      ],
      "source": [
        "%%time\n",
        "# create an empty list to store the document vectors \n",
        "# for each album\n",
        "doc_vector_list = []\n",
        "# calculate the average vector per album\n",
        "# we just want the vector averages, so we\n",
        "# disable the tagger, parser, and \n",
        "# named entity recognition\n",
        "# (other features available in spaCy)\n",
        "with nlp.disable_pipes('tagger', 'parser', 'ner'):\n",
        "    for doc in nlp.pipe(raw_data.clean_text):\n",
        "        doc_vector = doc.vector\n",
        "        doc_vector_list.append(doc_vector)\n",
        "print(len(doc_vector_list))"
      ]
    },
    {
      "cell_type": "code",
      "execution_count": null,
      "metadata": {
        "id": "0ksWDgoHAB3x",
        "outputId": "401eb19a-2aea-40e5-f6fd-bef8dc6c1575"
      },
      "outputs": [
        {
          "data": {
            "text/plain": [
              "1083"
            ]
          },
          "execution_count": 14,
          "metadata": {},
          "output_type": "execute_result"
        }
      ],
      "source": [
        "len(doc_vector_list)"
      ]
    },
    {
      "cell_type": "code",
      "execution_count": null,
      "metadata": {
        "id": "anwTO9aAAB3y",
        "outputId": "871b4529-baf5-40b9-a440-f78b502c9fd4"
      },
      "outputs": [
        {
          "name": "stdout",
          "output_type": "stream",
          "text": [
            "Wall time: 3min 20s\n"
          ]
        }
      ],
      "source": [
        "%%time\n",
        "# what words in the albums have / do not have vectors?\n",
        "# create empty lists to store the \n",
        "# words in the vocabulary \n",
        "# and those that are out of vocabulary\n",
        "vocab_list = []\n",
        "oov_list = []\n",
        "# loop through the words and store those\n",
        "# with and without vectors\n",
        "with nlp.disable_pipes('tagger', 'parser', 'ner'):\n",
        "    for doc in nlp.pipe(raw_data.clean_text):\n",
        "        for token in doc:\n",
        "            if token.is_oov:\n",
        "                oov_list.append(token.text)\n",
        "            else:\n",
        "                vocab_list.append(token.text)"
      ]
    },
    {
      "cell_type": "code",
      "execution_count": null,
      "metadata": {
        "id": "qSisBOQmAB30",
        "outputId": "3a6c1e3d-fdaa-47f6-bdfe-d218dda7c29a"
      },
      "outputs": [
        {
          "name": "stdout",
          "output_type": "stream",
          "text": [
            "38936\n",
            "2886788\n"
          ]
        }
      ],
      "source": [
        "# how many tokens are out of vocabulary?\n",
        "# how many tokens have vectors? \n",
        "# (e.g. are in the vocabulary)\n",
        "print(len(oov_list))\n",
        "print(len(vocab_list))"
      ]
    },
    {
      "cell_type": "code",
      "execution_count": null,
      "metadata": {
        "id": "MP-4dNewAB31",
        "outputId": "7c82f1ce-3525-40e7-bc82-1713bb761ed8"
      },
      "outputs": [
        {
          "data": {
            "text/plain": [
              "0.013170478277067788"
            ]
          },
          "execution_count": 17,
          "metadata": {},
          "output_type": "execute_result"
        }
      ],
      "source": [
        "# 1.3% of the tokens are out of vocabulary\n",
        "38533/(38533+2887177)"
      ]
    },
    {
      "cell_type": "code",
      "execution_count": null,
      "metadata": {
        "id": "GGfnJZWhAB31",
        "outputId": "ca0991eb-369e-4866-a2c6-7f12ddef5353"
      },
      "outputs": [
        {
          "data": {
            "text/plain": [
              "['shoutsout', 'eryc', 'wocked', 'shawdy', 'pagne']"
            ]
          },
          "execution_count": 18,
          "metadata": {},
          "output_type": "execute_result"
        }
      ],
      "source": [
        "# what are the first five out-of-vocabulary words?\n",
        "# OK this makes sense. not \"standard\" words\n",
        "list(set(oov_list))[0:5]"
      ]
    },
    {
      "cell_type": "code",
      "execution_count": null,
      "metadata": {
        "id": "O1t33TszAB33",
        "outputId": "15e4cfbf-31b4-48ef-8843-f860f374c553"
      },
      "outputs": [
        {
          "name": "stdout",
          "output_type": "stream",
          "text": [
            "19668\n",
            "59036\n"
          ]
        }
      ],
      "source": [
        "# when considering the unique words in the corpus\n",
        "# how many are in vs. out of vocabulary?\n",
        "print(len(set(oov_list)))\n",
        "print(len(set(vocab_list)))"
      ]
    },
    {
      "cell_type": "code",
      "execution_count": null,
      "metadata": {
        "id": "BKJehqZAAB33",
        "outputId": "a0626576-a16d-4d0d-bbba-fc4eec28b883"
      },
      "outputs": [
        {
          "data": {
            "text/plain": [
              "0.23461323439723522"
            ]
          },
          "execution_count": 20,
          "metadata": {},
          "output_type": "execute_result"
        }
      ],
      "source": [
        "# 23% of the unique tokens don't have vectors\n",
        "18465/(18465 + 60239)"
      ]
    },
    {
      "cell_type": "code",
      "execution_count": null,
      "metadata": {
        "id": "WF94CebOAB34",
        "outputId": "8a8cf53b-060d-45f1-ca2d-4bbdb96b61de"
      },
      "outputs": [
        {
          "data": {
            "text/plain": [
              "(1083, 300)"
            ]
          },
          "execution_count": 21,
          "metadata": {},
          "output_type": "execute_result"
        }
      ],
      "source": [
        "# make a dataframe containing the average for\n",
        "# each of the 300 vectors for each album\n",
        "vector_df = pd.DataFrame(doc_vector_list)\n",
        "vector_df.shape"
      ]
    },
    {
      "cell_type": "code",
      "execution_count": null,
      "metadata": {
        "scrolled": true,
        "id": "nldc_m6kAB35",
        "outputId": "1ef73c63-ee5a-42b6-cce6-19500622a897"
      },
      "outputs": [
        {
          "data": {
            "text/html": [
              "<div>\n",
              "<style scoped>\n",
              "    .dataframe tbody tr th:only-of-type {\n",
              "        vertical-align: middle;\n",
              "    }\n",
              "\n",
              "    .dataframe tbody tr th {\n",
              "        vertical-align: top;\n",
              "    }\n",
              "\n",
              "    .dataframe thead th {\n",
              "        text-align: right;\n",
              "    }\n",
              "</style>\n",
              "<table border=\"1\" class=\"dataframe\">\n",
              "  <thead>\n",
              "    <tr style=\"text-align: right;\">\n",
              "      <th></th>\n",
              "      <th>0</th>\n",
              "      <th>1</th>\n",
              "      <th>2</th>\n",
              "      <th>3</th>\n",
              "      <th>4</th>\n",
              "      <th>5</th>\n",
              "      <th>6</th>\n",
              "      <th>7</th>\n",
              "      <th>8</th>\n",
              "      <th>9</th>\n",
              "      <th>...</th>\n",
              "      <th>290</th>\n",
              "      <th>291</th>\n",
              "      <th>292</th>\n",
              "      <th>293</th>\n",
              "      <th>294</th>\n",
              "      <th>295</th>\n",
              "      <th>296</th>\n",
              "      <th>297</th>\n",
              "      <th>298</th>\n",
              "      <th>299</th>\n",
              "    </tr>\n",
              "  </thead>\n",
              "  <tbody>\n",
              "    <tr>\n",
              "      <th>0</th>\n",
              "      <td>-0.069489</td>\n",
              "      <td>0.044536</td>\n",
              "      <td>-0.112510</td>\n",
              "      <td>-0.128843</td>\n",
              "      <td>0.040417</td>\n",
              "      <td>-0.010109</td>\n",
              "      <td>-0.002730</td>\n",
              "      <td>-0.072304</td>\n",
              "      <td>0.024287</td>\n",
              "      <td>1.795148</td>\n",
              "      <td>...</td>\n",
              "      <td>-0.105341</td>\n",
              "      <td>-0.058560</td>\n",
              "      <td>-0.099978</td>\n",
              "      <td>-0.108917</td>\n",
              "      <td>0.078929</td>\n",
              "      <td>0.070669</td>\n",
              "      <td>-0.054547</td>\n",
              "      <td>0.044849</td>\n",
              "      <td>0.017493</td>\n",
              "      <td>0.056178</td>\n",
              "    </tr>\n",
              "    <tr>\n",
              "      <th>1</th>\n",
              "      <td>-0.092255</td>\n",
              "      <td>-0.027883</td>\n",
              "      <td>-0.065304</td>\n",
              "      <td>-0.099179</td>\n",
              "      <td>0.102714</td>\n",
              "      <td>0.006615</td>\n",
              "      <td>-0.026145</td>\n",
              "      <td>-0.105251</td>\n",
              "      <td>0.002976</td>\n",
              "      <td>1.504460</td>\n",
              "      <td>...</td>\n",
              "      <td>-0.061829</td>\n",
              "      <td>-0.104873</td>\n",
              "      <td>-0.081623</td>\n",
              "      <td>-0.095009</td>\n",
              "      <td>0.038976</td>\n",
              "      <td>0.022231</td>\n",
              "      <td>-0.067038</td>\n",
              "      <td>-0.003667</td>\n",
              "      <td>0.004293</td>\n",
              "      <td>0.065177</td>\n",
              "    </tr>\n",
              "    <tr>\n",
              "      <th>2</th>\n",
              "      <td>-0.127192</td>\n",
              "      <td>-0.009156</td>\n",
              "      <td>-0.048750</td>\n",
              "      <td>-0.065003</td>\n",
              "      <td>0.029119</td>\n",
              "      <td>-0.058352</td>\n",
              "      <td>-0.015318</td>\n",
              "      <td>-0.059759</td>\n",
              "      <td>-0.019876</td>\n",
              "      <td>1.571402</td>\n",
              "      <td>...</td>\n",
              "      <td>-0.078488</td>\n",
              "      <td>-0.075226</td>\n",
              "      <td>-0.074312</td>\n",
              "      <td>-0.084667</td>\n",
              "      <td>0.037030</td>\n",
              "      <td>0.088605</td>\n",
              "      <td>-0.033691</td>\n",
              "      <td>0.035165</td>\n",
              "      <td>-0.008805</td>\n",
              "      <td>0.016284</td>\n",
              "    </tr>\n",
              "    <tr>\n",
              "      <th>3</th>\n",
              "      <td>-0.069357</td>\n",
              "      <td>-0.019785</td>\n",
              "      <td>-0.049316</td>\n",
              "      <td>-0.107467</td>\n",
              "      <td>0.101743</td>\n",
              "      <td>0.016004</td>\n",
              "      <td>-0.020142</td>\n",
              "      <td>-0.080948</td>\n",
              "      <td>0.002970</td>\n",
              "      <td>1.408484</td>\n",
              "      <td>...</td>\n",
              "      <td>-0.045023</td>\n",
              "      <td>-0.091161</td>\n",
              "      <td>-0.066385</td>\n",
              "      <td>-0.092101</td>\n",
              "      <td>0.037450</td>\n",
              "      <td>0.069421</td>\n",
              "      <td>-0.057250</td>\n",
              "      <td>0.017662</td>\n",
              "      <td>-0.010029</td>\n",
              "      <td>0.035073</td>\n",
              "    </tr>\n",
              "    <tr>\n",
              "      <th>4</th>\n",
              "      <td>-0.057396</td>\n",
              "      <td>0.015530</td>\n",
              "      <td>-0.091174</td>\n",
              "      <td>-0.128860</td>\n",
              "      <td>0.115945</td>\n",
              "      <td>-0.034689</td>\n",
              "      <td>0.104010</td>\n",
              "      <td>-0.096396</td>\n",
              "      <td>0.030812</td>\n",
              "      <td>1.292859</td>\n",
              "      <td>...</td>\n",
              "      <td>-0.022795</td>\n",
              "      <td>-0.002179</td>\n",
              "      <td>-0.022153</td>\n",
              "      <td>-0.003781</td>\n",
              "      <td>0.148555</td>\n",
              "      <td>-0.009957</td>\n",
              "      <td>-0.032731</td>\n",
              "      <td>0.078632</td>\n",
              "      <td>-0.042702</td>\n",
              "      <td>0.113089</td>\n",
              "    </tr>\n",
              "  </tbody>\n",
              "</table>\n",
              "<p>5 rows × 300 columns</p>\n",
              "</div>"
            ],
            "text/plain": [
              "        0         1         2         3         4         5         6    \\\n",
              "0 -0.069489  0.044536 -0.112510 -0.128843  0.040417 -0.010109 -0.002730   \n",
              "1 -0.092255 -0.027883 -0.065304 -0.099179  0.102714  0.006615 -0.026145   \n",
              "2 -0.127192 -0.009156 -0.048750 -0.065003  0.029119 -0.058352 -0.015318   \n",
              "3 -0.069357 -0.019785 -0.049316 -0.107467  0.101743  0.016004 -0.020142   \n",
              "4 -0.057396  0.015530 -0.091174 -0.128860  0.115945 -0.034689  0.104010   \n",
              "\n",
              "        7         8         9    ...       290       291       292       293  \\\n",
              "0 -0.072304  0.024287  1.795148  ... -0.105341 -0.058560 -0.099978 -0.108917   \n",
              "1 -0.105251  0.002976  1.504460  ... -0.061829 -0.104873 -0.081623 -0.095009   \n",
              "2 -0.059759 -0.019876  1.571402  ... -0.078488 -0.075226 -0.074312 -0.084667   \n",
              "3 -0.080948  0.002970  1.408484  ... -0.045023 -0.091161 -0.066385 -0.092101   \n",
              "4 -0.096396  0.030812  1.292859  ... -0.022795 -0.002179 -0.022153 -0.003781   \n",
              "\n",
              "        294       295       296       297       298       299  \n",
              "0  0.078929  0.070669 -0.054547  0.044849  0.017493  0.056178  \n",
              "1  0.038976  0.022231 -0.067038 -0.003667  0.004293  0.065177  \n",
              "2  0.037030  0.088605 -0.033691  0.035165 -0.008805  0.016284  \n",
              "3  0.037450  0.069421 -0.057250  0.017662 -0.010029  0.035073  \n",
              "4  0.148555 -0.009957 -0.032731  0.078632 -0.042702  0.113089  \n",
              "\n",
              "[5 rows x 300 columns]"
            ]
          },
          "execution_count": 22,
          "metadata": {},
          "output_type": "execute_result"
        }
      ],
      "source": [
        "vector_df.head()"
      ]
    },
    {
      "cell_type": "markdown",
      "metadata": {
        "id": "RExKrg-8AB36"
      },
      "source": [
        "# Step 3: Calculate album similarity (using cosine similarity) and create the edge list"
      ]
    },
    {
      "cell_type": "code",
      "execution_count": null,
      "metadata": {
        "id": "tOvx3418AB36"
      },
      "outputs": [],
      "source": [
        "# import the cosine similarity library from sklearn\n",
        "from sklearn.metrics.pairwise import cosine_similarity"
      ]
    },
    {
      "cell_type": "code",
      "execution_count": null,
      "metadata": {
        "id": "lADy_4_DAB37",
        "outputId": "0f79bcac-da32-4441-8b80-cac90c4f9f16"
      },
      "outputs": [
        {
          "name": "stdout",
          "output_type": "stream",
          "text": [
            "Wall time: 40 ms\n"
          ]
        }
      ],
      "source": [
        "# calculate the cosine similarities from our vector dataframe\n",
        "%time cos_sim = cosine_similarity(vector_df)"
      ]
    },
    {
      "cell_type": "code",
      "execution_count": null,
      "metadata": {
        "id": "rgpYJeYyAB37",
        "outputId": "6efb0aa5-e5f4-455b-a5cd-7b40f7e77076"
      },
      "outputs": [
        {
          "data": {
            "text/plain": [
              "(1083, 1083)"
            ]
          },
          "execution_count": 25,
          "metadata": {},
          "output_type": "execute_result"
        }
      ],
      "source": [
        "cos_sim.shape"
      ]
    },
    {
      "cell_type": "code",
      "execution_count": null,
      "metadata": {
        "id": "OtZV_SwqAB38",
        "outputId": "19ab4fce-5c57-4b2f-ce65-11d324b2fa36"
      },
      "outputs": [
        {
          "name": "stdout",
          "output_type": "stream",
          "text": [
            "Wall time: 888 ms\n"
          ]
        }
      ],
      "source": [
        "%%time\n",
        "# loop to generate the edges\n",
        "# https://stackoverflow.com/questions/28056171/how-to-build-and-fill-pandas-dataframe-from-for-loop\n",
        "\n",
        "# outer loop:\n",
        "# we iterate throughout the rows of our reviews dataframe\n",
        "# for each row, we pull out the appropriate cosine similarities\n",
        "# for documents for that row from our cosine matrix\n",
        "# we then sort the cosine similarities we've extracted\n",
        "# this gives us indices for similar documents\n",
        "# which we will later use to pull out album info from our reviews dataset\n",
        "# the rest of the outer loop is used to access our source album\n",
        "# for the source album, we pull out the source reviewid, album, artist,\n",
        "# review score, and release year \n",
        "\n",
        "# inner loop:\n",
        "# the inner loop is used to find the 5 most similar albums.\n",
        "# we use the sorted cosine similarities (and their indices) \n",
        "# to pull out the album, artist, reviewid, and cosine_similarities\n",
        "# for the 5 most-closely related albums (the targets)\n",
        "# we append our dataframe with each target album \n",
        "# after we pick up 5 target albums for each source,\n",
        "# we start the loop over with the next source album\n",
        "\n",
        "d = []\n",
        "# for i in np.arange(0,100):\n",
        "for i in np.arange(0,len(cos_sim)):\n",
        "    cos_sim_df = pd.DataFrame(cos_sim)[i]\n",
        "    sort_cos_sim_df = cos_sim_df.sort_values(ascending=False)\n",
        "    source_id = raw_data['reviewid'][i]\n",
        "    source_album = raw_data['title'][i]\n",
        "    source_artist = raw_data['artist'][i]\n",
        "    source_score = raw_data['score'][i]\n",
        "    source_year1 = raw_data['year1'][i]\n",
        "    source_year2 = raw_data['year2'][i]\n",
        "    for i in np.arange(1,6):\n",
        "        target_id = raw_data.reviewid[sort_cos_sim_df.index[i]]\n",
        "        target_album = raw_data.title[sort_cos_sim_df.index[i]]\n",
        "        target_artist = raw_data.artist[sort_cos_sim_df.index[i]]\n",
        "        target_score = raw_data.score[sort_cos_sim_df.index[i]]\n",
        "        target_year1 = raw_data.year1[sort_cos_sim_df.index[i]]\n",
        "        target_year2 = raw_data.year2[sort_cos_sim_df.index[i]]\n",
        "        target_rank = i\n",
        "        cosine_sim = sort_cos_sim_df[sort_cos_sim_df.index[i]]\n",
        "        \n",
        "        d.append({'source_id': source_id,\n",
        "            'source_album': source_album, 'source_artist': source_artist,\n",
        "            'source_score': source_score, 'source_year1': source_year1, 'source_year2': source_year2,\n",
        "            'target_id': target_id, 'target_album': target_album, 'target_artist': target_artist,\n",
        "            'target_score':target_score, 'target_year1': target_year1, 'target_year2': target_year2,\n",
        "            'target_rank': target_rank, \n",
        "            'cosine_sim': cosine_sim})"
      ]
    },
    {
      "cell_type": "code",
      "execution_count": null,
      "metadata": {
        "id": "fupSQCl2AB38",
        "outputId": "2e5fb627-c715-4b89-985e-3594b828df6d"
      },
      "outputs": [
        {
          "data": {
            "text/plain": [
              "(5415, 14)"
            ]
          },
          "execution_count": 27,
          "metadata": {},
          "output_type": "execute_result"
        }
      ],
      "source": [
        "edge_df = pd.DataFrame(d)\n",
        "edge_df.shape"
      ]
    },
    {
      "cell_type": "code",
      "execution_count": null,
      "metadata": {
        "id": "ssg7c1bNAB39",
        "outputId": "c7e1f6bb-13b8-4e3e-cf76-0f9c299b14e9"
      },
      "outputs": [
        {
          "data": {
            "text/html": [
              "<div>\n",
              "<style scoped>\n",
              "    .dataframe tbody tr th:only-of-type {\n",
              "        vertical-align: middle;\n",
              "    }\n",
              "\n",
              "    .dataframe tbody tr th {\n",
              "        vertical-align: top;\n",
              "    }\n",
              "\n",
              "    .dataframe thead th {\n",
              "        text-align: right;\n",
              "    }\n",
              "</style>\n",
              "<table border=\"1\" class=\"dataframe\">\n",
              "  <thead>\n",
              "    <tr style=\"text-align: right;\">\n",
              "      <th></th>\n",
              "      <th>source_id</th>\n",
              "      <th>source_album</th>\n",
              "      <th>source_artist</th>\n",
              "      <th>source_score</th>\n",
              "      <th>source_year1</th>\n",
              "      <th>source_year2</th>\n",
              "      <th>target_id</th>\n",
              "      <th>target_album</th>\n",
              "      <th>target_artist</th>\n",
              "      <th>target_score</th>\n",
              "      <th>target_year1</th>\n",
              "      <th>target_year2</th>\n",
              "      <th>target_rank</th>\n",
              "      <th>cosine_sim</th>\n",
              "    </tr>\n",
              "  </thead>\n",
              "  <tbody>\n",
              "    <tr>\n",
              "      <th>0</th>\n",
              "      <td>22704</td>\n",
              "      <td>stillness in wonderland</td>\n",
              "      <td>little simz</td>\n",
              "      <td>7.1</td>\n",
              "      <td>2016.0</td>\n",
              "      <td>NaN</td>\n",
              "      <td>15641</td>\n",
              "      <td>i'm gay (i'm happy)</td>\n",
              "      <td>lil b</td>\n",
              "      <td>8.1</td>\n",
              "      <td>2011.0</td>\n",
              "      <td>NaN</td>\n",
              "      <td>1</td>\n",
              "      <td>0.992661</td>\n",
              "    </tr>\n",
              "    <tr>\n",
              "      <th>1</th>\n",
              "      <td>22704</td>\n",
              "      <td>stillness in wonderland</td>\n",
              "      <td>little simz</td>\n",
              "      <td>7.1</td>\n",
              "      <td>2016.0</td>\n",
              "      <td>NaN</td>\n",
              "      <td>4179</td>\n",
              "      <td>all of the above</td>\n",
              "      <td>j-live</td>\n",
              "      <td>8.5</td>\n",
              "      <td>2002.0</td>\n",
              "      <td>NaN</td>\n",
              "      <td>2</td>\n",
              "      <td>0.991908</td>\n",
              "    </tr>\n",
              "    <tr>\n",
              "      <th>2</th>\n",
              "      <td>22704</td>\n",
              "      <td>stillness in wonderland</td>\n",
              "      <td>little simz</td>\n",
              "      <td>7.1</td>\n",
              "      <td>2016.0</td>\n",
              "      <td>NaN</td>\n",
              "      <td>3538</td>\n",
              "      <td>attack of the attacking things</td>\n",
              "      <td>jean grae</td>\n",
              "      <td>6.9</td>\n",
              "      <td>2002.0</td>\n",
              "      <td>NaN</td>\n",
              "      <td>3</td>\n",
              "      <td>0.991566</td>\n",
              "    </tr>\n",
              "    <tr>\n",
              "      <th>3</th>\n",
              "      <td>22704</td>\n",
              "      <td>stillness in wonderland</td>\n",
              "      <td>little simz</td>\n",
              "      <td>7.1</td>\n",
              "      <td>2016.0</td>\n",
              "      <td>NaN</td>\n",
              "      <td>21107</td>\n",
              "      <td>a curious tale of trials + persons</td>\n",
              "      <td>little simz</td>\n",
              "      <td>7.8</td>\n",
              "      <td>2015.0</td>\n",
              "      <td>NaN</td>\n",
              "      <td>4</td>\n",
              "      <td>0.990933</td>\n",
              "    </tr>\n",
              "    <tr>\n",
              "      <th>4</th>\n",
              "      <td>22704</td>\n",
              "      <td>stillness in wonderland</td>\n",
              "      <td>little simz</td>\n",
              "      <td>7.1</td>\n",
              "      <td>2016.0</td>\n",
              "      <td>NaN</td>\n",
              "      <td>21740</td>\n",
              "      <td>genesis</td>\n",
              "      <td>domo genesis</td>\n",
              "      <td>7.2</td>\n",
              "      <td>2016.0</td>\n",
              "      <td>NaN</td>\n",
              "      <td>5</td>\n",
              "      <td>0.990863</td>\n",
              "    </tr>\n",
              "    <tr>\n",
              "      <th>5</th>\n",
              "      <td>22724</td>\n",
              "      <td>filthy america its beautiful</td>\n",
              "      <td>the lox</td>\n",
              "      <td>5.3</td>\n",
              "      <td>2016.0</td>\n",
              "      <td>NaN</td>\n",
              "      <td>21344</td>\n",
              "      <td>black market</td>\n",
              "      <td>rick ross</td>\n",
              "      <td>7.0</td>\n",
              "      <td>2015.0</td>\n",
              "      <td>NaN</td>\n",
              "      <td>1</td>\n",
              "      <td>0.993114</td>\n",
              "    </tr>\n",
              "    <tr>\n",
              "      <th>6</th>\n",
              "      <td>22724</td>\n",
              "      <td>filthy america its beautiful</td>\n",
              "      <td>the lox</td>\n",
              "      <td>5.3</td>\n",
              "      <td>2016.0</td>\n",
              "      <td>NaN</td>\n",
              "      <td>18562</td>\n",
              "      <td>b.o.a.t.s ii: me time</td>\n",
              "      <td>2 chainz</td>\n",
              "      <td>6.2</td>\n",
              "      <td>2013.0</td>\n",
              "      <td>NaN</td>\n",
              "      <td>2</td>\n",
              "      <td>0.992875</td>\n",
              "    </tr>\n",
              "    <tr>\n",
              "      <th>7</th>\n",
              "      <td>22724</td>\n",
              "      <td>filthy america its beautiful</td>\n",
              "      <td>the lox</td>\n",
              "      <td>5.3</td>\n",
              "      <td>2016.0</td>\n",
              "      <td>NaN</td>\n",
              "      <td>20045</td>\n",
              "      <td>what happened to the world</td>\n",
              "      <td>the jacka</td>\n",
              "      <td>8.0</td>\n",
              "      <td>2014.0</td>\n",
              "      <td>NaN</td>\n",
              "      <td>3</td>\n",
              "      <td>0.992863</td>\n",
              "    </tr>\n",
              "    <tr>\n",
              "      <th>8</th>\n",
              "      <td>22724</td>\n",
              "      <td>filthy america its beautiful</td>\n",
              "      <td>the lox</td>\n",
              "      <td>5.3</td>\n",
              "      <td>2016.0</td>\n",
              "      <td>NaN</td>\n",
              "      <td>17525</td>\n",
              "      <td>trouble man: heavy is the head</td>\n",
              "      <td>t.i.</td>\n",
              "      <td>5.0</td>\n",
              "      <td>2012.0</td>\n",
              "      <td>NaN</td>\n",
              "      <td>4</td>\n",
              "      <td>0.992647</td>\n",
              "    </tr>\n",
              "    <tr>\n",
              "      <th>9</th>\n",
              "      <td>22724</td>\n",
              "      <td>filthy america its beautiful</td>\n",
              "      <td>the lox</td>\n",
              "      <td>5.3</td>\n",
              "      <td>2016.0</td>\n",
              "      <td>NaN</td>\n",
              "      <td>11171</td>\n",
              "      <td>ode to the ghetto</td>\n",
              "      <td>guilty simpson</td>\n",
              "      <td>4.5</td>\n",
              "      <td>2008.0</td>\n",
              "      <td>NaN</td>\n",
              "      <td>5</td>\n",
              "      <td>0.992446</td>\n",
              "    </tr>\n",
              "  </tbody>\n",
              "</table>\n",
              "</div>"
            ],
            "text/plain": [
              "   source_id                  source_album source_artist  source_score  \\\n",
              "0      22704       stillness in wonderland   little simz           7.1   \n",
              "1      22704       stillness in wonderland   little simz           7.1   \n",
              "2      22704       stillness in wonderland   little simz           7.1   \n",
              "3      22704       stillness in wonderland   little simz           7.1   \n",
              "4      22704       stillness in wonderland   little simz           7.1   \n",
              "5      22724  filthy america its beautiful       the lox           5.3   \n",
              "6      22724  filthy america its beautiful       the lox           5.3   \n",
              "7      22724  filthy america its beautiful       the lox           5.3   \n",
              "8      22724  filthy america its beautiful       the lox           5.3   \n",
              "9      22724  filthy america its beautiful       the lox           5.3   \n",
              "\n",
              "   source_year1  source_year2  target_id                        target_album  \\\n",
              "0        2016.0           NaN      15641                 i'm gay (i'm happy)   \n",
              "1        2016.0           NaN       4179                    all of the above   \n",
              "2        2016.0           NaN       3538      attack of the attacking things   \n",
              "3        2016.0           NaN      21107  a curious tale of trials + persons   \n",
              "4        2016.0           NaN      21740                             genesis   \n",
              "5        2016.0           NaN      21344                        black market   \n",
              "6        2016.0           NaN      18562               b.o.a.t.s ii: me time   \n",
              "7        2016.0           NaN      20045          what happened to the world   \n",
              "8        2016.0           NaN      17525      trouble man: heavy is the head   \n",
              "9        2016.0           NaN      11171                   ode to the ghetto   \n",
              "\n",
              "    target_artist  target_score  target_year1  target_year2  target_rank  \\\n",
              "0           lil b           8.1        2011.0           NaN            1   \n",
              "1          j-live           8.5        2002.0           NaN            2   \n",
              "2       jean grae           6.9        2002.0           NaN            3   \n",
              "3     little simz           7.8        2015.0           NaN            4   \n",
              "4    domo genesis           7.2        2016.0           NaN            5   \n",
              "5       rick ross           7.0        2015.0           NaN            1   \n",
              "6        2 chainz           6.2        2013.0           NaN            2   \n",
              "7       the jacka           8.0        2014.0           NaN            3   \n",
              "8            t.i.           5.0        2012.0           NaN            4   \n",
              "9  guilty simpson           4.5        2008.0           NaN            5   \n",
              "\n",
              "   cosine_sim  \n",
              "0    0.992661  \n",
              "1    0.991908  \n",
              "2    0.991566  \n",
              "3    0.990933  \n",
              "4    0.990863  \n",
              "5    0.993114  \n",
              "6    0.992875  \n",
              "7    0.992863  \n",
              "8    0.992647  \n",
              "9    0.992446  "
            ]
          },
          "execution_count": 28,
          "metadata": {},
          "output_type": "execute_result"
        }
      ],
      "source": [
        "edge_df.head(10)"
      ]
    },
    {
      "cell_type": "code",
      "execution_count": null,
      "metadata": {
        "id": "UBjCw7cFAB39",
        "outputId": "0b0ec623-028f-4497-d783-f9278e059d74"
      },
      "outputs": [
        {
          "name": "stderr",
          "output_type": "stream",
          "text": [
            "C:\\Users\\Guilherme\\AppData\\Roaming\\Python\\Python38\\site-packages\\seaborn\\distributions.py:2619: FutureWarning: `distplot` is a deprecated function and will be removed in a future version. Please adapt your code to use either `displot` (a figure-level function with similar flexibility) or `histplot` (an axes-level function for histograms).\n",
            "  warnings.warn(msg, FutureWarning)\n"
          ]
        },
        {
          "data": {
            "text/plain": [
              "Text(0.5, 1.0, 'Distribuição da Similaridade Cosseno')"
            ]
          },
          "execution_count": 47,
          "metadata": {},
          "output_type": "execute_result"
        },
        {
          "data": {
            "image/png": "[encoded data removed]",
            "text/plain": [
              "<Figure size 864x576 with 1 Axes>"
            ]
          },
          "metadata": {
            "needs_background": "light"
          },
          "output_type": "display_data"
        }
      ],
      "source": [
        "plt.figure(figsize=(12, 8)) \n",
        "ax = sns.distplot(edge_df.cosine_sim)\n",
        "ax.set(xlabel = 'Similaridade Cosseno')\n",
        "ax.set_title('Distribuição da Similaridade Cosseno',fontsize = 30)"
      ]
    },
    {
      "cell_type": "code",
      "execution_count": null,
      "metadata": {
        "id": "0ohYzs76AB3-",
        "outputId": "728b335b-74b7-4a52-e034-f7333e8cc0f5"
      },
      "outputs": [
        {
          "name": "stderr",
          "output_type": "stream",
          "text": [
            "C:\\Users\\Guilherme\\AppData\\Roaming\\Python\\Python38\\site-packages\\seaborn\\distributions.py:2619: FutureWarning: `distplot` is a deprecated function and will be removed in a future version. Please adapt your code to use either `displot` (a figure-level function with similar flexibility) or `histplot` (an axes-level function for histograms).\n",
            "  warnings.warn(msg, FutureWarning)\n"
          ]
        },
        {
          "data": {
            "text/plain": [
              "Text(0.5, 1.0, 'Distribution of Review Score - Source Album')"
            ]
          },
          "execution_count": 30,
          "metadata": {},
          "output_type": "execute_result"
        },
        {
          "data": {
            "image/png": "[encoded data removed]",
            "text/plain": [
              "<Figure size 864x576 with 1 Axes>"
            ]
          },
          "metadata": {
            "needs_background": "light"
          },
          "output_type": "display_data"
        }
      ],
      "source": [
        "plt.figure(figsize=(12, 8)) \n",
        "ax = sns.distplot(edge_df.source_score)\n",
        "ax.set(xlabel = 'Review Score: Source Album')\n",
        "ax.set_title('Distribution of Review Score - Source Album',fontsize = 20)"
      ]
    },
    {
      "cell_type": "code",
      "execution_count": null,
      "metadata": {
        "id": "mc7oQL36AB3-",
        "outputId": "31414b53-3ef9-497c-d386-052e1d34b241"
      },
      "outputs": [
        {
          "name": "stderr",
          "output_type": "stream",
          "text": [
            "C:\\Users\\Guilherme\\AppData\\Roaming\\Python\\Python38\\site-packages\\seaborn\\distributions.py:2619: FutureWarning: `distplot` is a deprecated function and will be removed in a future version. Please adapt your code to use either `displot` (a figure-level function with similar flexibility) or `histplot` (an axes-level function for histograms).\n",
            "  warnings.warn(msg, FutureWarning)\n"
          ]
        },
        {
          "data": {
            "text/plain": [
              "Text(0.5, 1.0, 'Distribution of Review Score - Target Album')"
            ]
          },
          "execution_count": 32,
          "metadata": {},
          "output_type": "execute_result"
        },
        {
          "data": {
            "image/png": "[encoded data removed]",
            "text/plain": [
              "<Figure size 864x576 with 1 Axes>"
            ]
          },
          "metadata": {
            "needs_background": "light"
          },
          "output_type": "display_data"
        }
      ],
      "source": [
        "plt.figure(figsize=(12, 8)) \n",
        "ax = sns.distplot(edge_df.target_score)\n",
        "ax.set(xlabel = 'Review Score: Target Album')\n",
        "ax.set_title('Distribution of Review Score - Target Album',fontsize = 20)"
      ]
    },
    {
      "cell_type": "code",
      "execution_count": null,
      "metadata": {
        "id": "151sUfbmAB3_"
      },
      "outputs": [],
      "source": [
        "# get the minimum of the two year columns\n",
        "edge_df['source_year_master'] = edge_df[['source_year1', 'source_year2']].min(axis = 1)\n",
        "edge_df['target_year_master'] = edge_df[['target_year1', 'target_year2']].min(axis = 1)"
      ]
    },
    {
      "cell_type": "code",
      "execution_count": null,
      "metadata": {
        "id": "CVNxe2igAB3_",
        "outputId": "1d8bfb19-6a82-4895-d9de-b5515e1f55d6"
      },
      "outputs": [
        {
          "name": "stderr",
          "output_type": "stream",
          "text": [
            "<ipython-input-34-b1d71af49261>:2: FutureWarning: The default value of regex will change from True to False in a future version.\n",
            "  edge_df['source_album'] = edge_df['source_album'].str.replace(r'b4\\.da\\.\\$\\$', 'BADASS')\n",
            "<ipython-input-34-b1d71af49261>:3: FutureWarning: The default value of regex will change from True to False in a future version.\n",
            "  edge_df['target_album'] = edge_df['target_album'].str.replace(r'b4\\.da\\.\\$\\$', 'BADASS')\n"
          ]
        }
      ],
      "source": [
        "# regex cleanup of Joey Badass' album \"B4.Da.$$\" which caused a problem when plotting\n",
        "edge_df['source_album'] = edge_df['source_album'].str.replace(r'b4\\.da\\.\\$\\$', 'BADASS')\n",
        "edge_df['target_album'] = edge_df['target_album'].str.replace(r'b4\\.da\\.\\$\\$', 'BADASS')"
      ]
    },
    {
      "cell_type": "code",
      "execution_count": null,
      "metadata": {
        "id": "leotq1zCAB3_",
        "outputId": "8a3f70e3-8bca-4ef1-d288-2b6f2472c976"
      },
      "outputs": [
        {
          "data": {
            "text/plain": [
              "(6.6, 7.6]      1920\n",
              "(0.799, 6.6]    1830\n",
              "(7.6, 10.0]     1665\n",
              "Name: source_score, dtype: int64"
            ]
          },
          "execution_count": 35,
          "metadata": {},
          "output_type": "execute_result"
        }
      ],
      "source": [
        "# bin the source scores into 3 equal-sized groups\n",
        "# using pandas qcut\n",
        "pd.qcut(edge_df.source_score, 3).value_counts()"
      ]
    },
    {
      "cell_type": "code",
      "execution_count": null,
      "metadata": {
        "id": "h3e84-D9AB4A",
        "outputId": "2c43ea3f-8a5d-4f54-8a78-4dd10c357011"
      },
      "outputs": [
        {
          "data": {
            "text/plain": [
              "(0.999, 6.5]    1823\n",
              "(6.5, 7.6]      1809\n",
              "(7.6, 10.0]     1783\n",
              "Name: target_score, dtype: int64"
            ]
          },
          "execution_count": 36,
          "metadata": {},
          "output_type": "execute_result"
        }
      ],
      "source": [
        "# bin the target scores into 3 equal-sized groups\n",
        "pd.qcut(edge_df.target_score, 3).value_counts()"
      ]
    },
    {
      "cell_type": "code",
      "execution_count": null,
      "metadata": {
        "id": "jbO8ht0FAB4A"
      },
      "outputs": [],
      "source": [
        "# assign quality labels to each album using\n",
        "# the above binning method\n",
        "edge_df['source_score_cut'] = pd.qcut(edge_df.source_score, 3, labels=['Bad', 'Good', 'Great'])\n",
        "edge_df['target_score_cut'] = pd.qcut(edge_df.target_score, 3, labels=['Bad', 'Good', 'Great'])"
      ]
    },
    {
      "cell_type": "code",
      "execution_count": null,
      "metadata": {
        "id": "dU8Hs6p9AB4B",
        "outputId": "5eda178c-8b3f-4737-c24b-a0bb6840e723"
      },
      "outputs": [
        {
          "data": {
            "text/plain": [
              "(831, 18)"
            ]
          },
          "execution_count": 39,
          "metadata": {},
          "output_type": "execute_result"
        }
      ],
      "source": [
        "# limit the selection to the top 2 similar target albums for each\n",
        "# source album and \n",
        "# select rows where the target year is greater than the source year\n",
        "# (definition of influence means later album can't influence earlier one)\n",
        "edge_df_trim = edge_df[(edge_df.source_year_master< edge_df.target_year_master) & (edge_df.target_rank<3) ] \n",
        "edge_df_trim.shape"
      ]
    },
    {
      "cell_type": "code",
      "execution_count": null,
      "metadata": {
        "id": "_8BGrcepAB4B",
        "outputId": "4bdc867e-0a47-4d80-b5fe-7f8bb92d9101"
      },
      "outputs": [
        {
          "data": {
            "text/html": [
              "<div>\n",
              "<style scoped>\n",
              "    .dataframe tbody tr th:only-of-type {\n",
              "        vertical-align: middle;\n",
              "    }\n",
              "\n",
              "    .dataframe tbody tr th {\n",
              "        vertical-align: top;\n",
              "    }\n",
              "\n",
              "    .dataframe thead th {\n",
              "        text-align: right;\n",
              "    }\n",
              "</style>\n",
              "<table border=\"1\" class=\"dataframe\">\n",
              "  <thead>\n",
              "    <tr style=\"text-align: right;\">\n",
              "      <th></th>\n",
              "      <th>source_id</th>\n",
              "      <th>source_album</th>\n",
              "      <th>source_artist</th>\n",
              "      <th>source_score</th>\n",
              "      <th>source_year1</th>\n",
              "      <th>source_year2</th>\n",
              "      <th>target_id</th>\n",
              "      <th>target_album</th>\n",
              "      <th>target_artist</th>\n",
              "      <th>target_score</th>\n",
              "      <th>target_year1</th>\n",
              "      <th>target_year2</th>\n",
              "      <th>target_rank</th>\n",
              "      <th>cosine_sim</th>\n",
              "      <th>source_year_master</th>\n",
              "      <th>target_year_master</th>\n",
              "      <th>source_score_cut</th>\n",
              "      <th>target_score_cut</th>\n",
              "    </tr>\n",
              "  </thead>\n",
              "  <tbody>\n",
              "    <tr>\n",
              "      <th>100</th>\n",
              "      <td>22561</td>\n",
              "      <td>death certificate</td>\n",
              "      <td>ice cube</td>\n",
              "      <td>9.5</td>\n",
              "      <td>1991.0</td>\n",
              "      <td>NaN</td>\n",
              "      <td>20048</td>\n",
              "      <td>ferg forever</td>\n",
              "      <td>a$ap ferg</td>\n",
              "      <td>6.4</td>\n",
              "      <td>2014.0</td>\n",
              "      <td>NaN</td>\n",
              "      <td>1</td>\n",
              "      <td>0.994672</td>\n",
              "      <td>1991.0</td>\n",
              "      <td>2014.0</td>\n",
              "      <td>Great</td>\n",
              "      <td>Bad</td>\n",
              "    </tr>\n",
              "    <tr>\n",
              "      <th>101</th>\n",
              "      <td>22561</td>\n",
              "      <td>death certificate</td>\n",
              "      <td>ice cube</td>\n",
              "      <td>9.5</td>\n",
              "      <td>1991.0</td>\n",
              "      <td>NaN</td>\n",
              "      <td>18930</td>\n",
              "      <td>piata</td>\n",
              "      <td>madlib, freddie gibbs</td>\n",
              "      <td>8.0</td>\n",
              "      <td>2014.0</td>\n",
              "      <td>NaN</td>\n",
              "      <td>2</td>\n",
              "      <td>0.994550</td>\n",
              "      <td>1991.0</td>\n",
              "      <td>2014.0</td>\n",
              "      <td>Great</td>\n",
              "      <td>Great</td>\n",
              "    </tr>\n",
              "    <tr>\n",
              "      <th>135</th>\n",
              "      <td>22566</td>\n",
              "      <td>blunted on reality</td>\n",
              "      <td>fugees</td>\n",
              "      <td>7.6</td>\n",
              "      <td>1994.0</td>\n",
              "      <td>2016.0</td>\n",
              "      <td>5711</td>\n",
              "      <td>street's disciple</td>\n",
              "      <td>nas</td>\n",
              "      <td>7.2</td>\n",
              "      <td>2004.0</td>\n",
              "      <td>NaN</td>\n",
              "      <td>1</td>\n",
              "      <td>0.989205</td>\n",
              "      <td>1994.0</td>\n",
              "      <td>2004.0</td>\n",
              "      <td>Good</td>\n",
              "      <td>Good</td>\n",
              "    </tr>\n",
              "    <tr>\n",
              "      <th>136</th>\n",
              "      <td>22566</td>\n",
              "      <td>blunted on reality</td>\n",
              "      <td>fugees</td>\n",
              "      <td>7.6</td>\n",
              "      <td>1994.0</td>\n",
              "      <td>2016.0</td>\n",
              "      <td>13373</td>\n",
              "      <td>slaughterhouse</td>\n",
              "      <td>slaughterhouse</td>\n",
              "      <td>5.5</td>\n",
              "      <td>2009.0</td>\n",
              "      <td>NaN</td>\n",
              "      <td>2</td>\n",
              "      <td>0.987979</td>\n",
              "      <td>1994.0</td>\n",
              "      <td>2009.0</td>\n",
              "      <td>Good</td>\n",
              "      <td>Bad</td>\n",
              "    </tr>\n",
              "    <tr>\n",
              "      <th>275</th>\n",
              "      <td>22132</td>\n",
              "      <td>things fall apart</td>\n",
              "      <td>the roots</td>\n",
              "      <td>9.4</td>\n",
              "      <td>1999.0</td>\n",
              "      <td>NaN</td>\n",
              "      <td>4331</td>\n",
              "      <td>power in numbers</td>\n",
              "      <td>jurassic 5</td>\n",
              "      <td>7.1</td>\n",
              "      <td>2002.0</td>\n",
              "      <td>NaN</td>\n",
              "      <td>1</td>\n",
              "      <td>0.992335</td>\n",
              "      <td>1999.0</td>\n",
              "      <td>2002.0</td>\n",
              "      <td>Great</td>\n",
              "      <td>Good</td>\n",
              "    </tr>\n",
              "  </tbody>\n",
              "</table>\n",
              "</div>"
            ],
            "text/plain": [
              "     source_id        source_album source_artist  source_score  source_year1  \\\n",
              "100      22561   death certificate      ice cube           9.5        1991.0   \n",
              "101      22561   death certificate      ice cube           9.5        1991.0   \n",
              "135      22566  blunted on reality        fugees           7.6        1994.0   \n",
              "136      22566  blunted on reality        fugees           7.6        1994.0   \n",
              "275      22132   things fall apart     the roots           9.4        1999.0   \n",
              "\n",
              "     source_year2  target_id       target_album          target_artist  \\\n",
              "100           NaN      20048       ferg forever              a$ap ferg   \n",
              "101           NaN      18930              piata  madlib, freddie gibbs   \n",
              "135        2016.0       5711  street's disciple                    nas   \n",
              "136        2016.0      13373     slaughterhouse         slaughterhouse   \n",
              "275           NaN       4331   power in numbers             jurassic 5   \n",
              "\n",
              "     target_score  target_year1  target_year2  target_rank  cosine_sim  \\\n",
              "100           6.4        2014.0           NaN            1    0.994672   \n",
              "101           8.0        2014.0           NaN            2    0.994550   \n",
              "135           7.2        2004.0           NaN            1    0.989205   \n",
              "136           5.5        2009.0           NaN            2    0.987979   \n",
              "275           7.1        2002.0           NaN            1    0.992335   \n",
              "\n",
              "     source_year_master  target_year_master source_score_cut target_score_cut  \n",
              "100              1991.0              2014.0            Great              Bad  \n",
              "101              1991.0              2014.0            Great            Great  \n",
              "135              1994.0              2004.0             Good             Good  \n",
              "136              1994.0              2009.0             Good              Bad  \n",
              "275              1999.0              2002.0            Great             Good  "
            ]
          },
          "execution_count": 40,
          "metadata": {},
          "output_type": "execute_result"
        }
      ],
      "source": [
        "edge_df_trim.head()"
      ]
    },
    {
      "cell_type": "markdown",
      "metadata": {
        "id": "AHlsKk2wAB4B"
      },
      "source": [
        "# Save out the master edge list"
      ]
    },
    {
      "cell_type": "code",
      "execution_count": null,
      "metadata": {
        "id": "cdNjqY7MAB4B"
      },
      "outputs": [],
      "source": [
        "out_dir = in_dir"
      ]
    },
    {
      "cell_type": "code",
      "execution_count": null,
      "metadata": {
        "id": "vzB8nJ2-AB4B",
        "outputId": "ef526f32-5c73-4df3-aa63-9a1ec1c05fa5"
      },
      "outputs": [
        {
          "data": {
            "text/plain": [
              "['G:\\\\Meu Drive\\\\Mestrado\\\\Administração\\\\Matérias\\\\T3\\\\Redes_complexas\\\\codigos\\\\nova_rede\\\\transfer_learning_rap_lyrics-master\\\\Data\\\\edge_list_trim.pkl']"
            ]
          },
          "execution_count": 43,
          "metadata": {},
          "output_type": "execute_result"
        }
      ],
      "source": [
        "import joblib\n",
        "joblib.dump(edge_df_trim, out_dir + 'edge_list_trim.pkl') "
      ]
    },
    {
      "cell_type": "code",
      "execution_count": null,
      "metadata": {
        "id": "OLXPHxOPAB4C"
      },
      "outputs": [],
      "source": []
    },
    {
      "cell_type": "code",
      "execution_count": null,
      "metadata": {
        "id": "8hD0vzu1AB4C"
      },
      "outputs": [],
      "source": []
    },
    {
      "cell_type": "code",
      "execution_count": null,
      "metadata": {
        "id": "o6uJdhNLAB4C"
      },
      "outputs": [],
      "source": []
    },
    {
      "cell_type": "code",
      "execution_count": null,
      "metadata": {
        "id": "4i4fMT3jAB4C"
      },
      "outputs": [],
      "source": []
    },
    {
      "cell_type": "code",
      "execution_count": null,
      "metadata": {
        "id": "sT_cdE74AB4D"
      },
      "outputs": [],
      "source": []
    },
    {
      "cell_type": "code",
      "execution_count": null,
      "metadata": {
        "id": "GF2kbvisAB4D"
      },
      "outputs": [],
      "source": []
    },
    {
      "cell_type": "code",
      "execution_count": null,
      "metadata": {
        "id": "R0pRDGWbAB4D"
      },
      "outputs": [],
      "source": []
    },
    {
      "cell_type": "code",
      "execution_count": null,
      "metadata": {
        "id": "ne0jRBT7AB4D"
      },
      "outputs": [],
      "source": []
    },
    {
      "cell_type": "code",
      "execution_count": null,
      "metadata": {
        "id": "ZDlM8TWxAB4D"
      },
      "outputs": [],
      "source": []
    }
  ],
  "metadata": {
    "kernelspec": {
      "display_name": "Python 3",
      "language": "python",
      "name": "python3"
    },
    "language_info": {
      "codemirror_mode": {
        "name": "ipython",
        "version": 3
      },
      "file_extension": ".py",
      "mimetype": "text/x-python",
      "name": "python",
      "nbconvert_exporter": "python",
      "pygments_lexer": "ipython3",
      "version": "3.8.5"
    },
    "colab": {
      "provenance": []
    }
  },
  "nbformat": 4,
  "nbformat_minor": 0
}