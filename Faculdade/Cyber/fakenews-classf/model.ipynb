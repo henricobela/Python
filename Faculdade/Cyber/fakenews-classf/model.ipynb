{
 "cells": [
  {
   "cell_type": "code",
   "execution_count": 379,
   "metadata": {},
   "outputs": [
    {
     "name": "stderr",
     "output_type": "stream",
     "text": [
      "UsageError: Line magic function `%` not found.\n"
     ]
    }
   ],
   "source": [
    "#text processment imports\n",
    "import nltk\n",
    "import re\n",
    "import string\n",
    "from string import punctuation\n",
    "from nltk.tokenize import word_tokenize\n",
    "from nltk.corpus import stopwords\n",
    "from sklearn.feature_extraction.text import TfidfTransformer\n",
    "from sklearn.feature_extraction.text import CountVectorizer\n",
    "from sklearn.feature_extraction.text import TfidfVectorizer\n",
    "#df imports\n",
    "import pandas as pd\n",
    "import numpy as np\n",
    "#a.i. imports\n",
    "import tensorflow as tf\n",
    "from tensorflow.keras.callbacks import Callback\n",
    "#system imports\n",
    "import os\n",
    "from os import path\n",
    "from PIL import Image\n",
    "#other imports\n",
    "from wordcloud import WordCloud, STOPWORDS, ImageColorGenerator\n",
    "import warnings\n",
    "warnings.filterwarnings(action='once')\n",
    "import matplotlib.pyplot as plt\n",
    "% matplotlib inline\n",
    "\n",
    "\n",
    "print(f\"Tensorflow Version: {tf.__version__}\")"
   ]
  },
  {
   "cell_type": "code",
   "execution_count": 312,
   "metadata": {},
   "outputs": [
    {
     "name": "stderr",
     "output_type": "stream",
     "text": [
      "[nltk_data] Downloading package stopwords to\n",
      "[nltk_data]     /home/valkiryan/nltk_data...\n",
      "[nltk_data]   Package stopwords is already up-to-date!\n",
      "[nltk_data] Downloading package punkt to /home/valkiryan/nltk_data...\n",
      "[nltk_data]   Package punkt is already up-to-date!\n",
      "[nltk_data] Downloading package rslp to /home/valkiryan/nltk_data...\n",
      "[nltk_data]   Package rslp is already up-to-date!\n"
     ]
    },
    {
     "data": {
      "text/plain": [
       "True"
      ]
     },
     "execution_count": 312,
     "metadata": {},
     "output_type": "execute_result"
    }
   ],
   "source": [
    "nltk.download('stopwords')\n",
    "nltk.download('punkt')\n",
    "nltk.download('rslp')"
   ]
  },
  {
   "cell_type": "code",
   "execution_count": 313,
   "metadata": {},
   "outputs": [
    {
     "name": "stdout",
     "output_type": "stream",
     "text": [
      "fatal: destination path 'Fake.br-Corpus' already exists and is not an empty directory.\n"
     ]
    }
   ],
   "source": [
    "!git clone https://github.com/roneysco/Fake.br-Corpus\n",
    "path = \"./Fake.br-Corpus/size_normalized_texts\""
   ]
  },
  {
   "cell_type": "code",
   "execution_count": 342,
   "metadata": {},
   "outputs": [],
   "source": [
    "class ClearCallback(Callback):\n",
    "    \"\"\" Handles the cleaning of the log during the training of a model. \"\"\"\n",
    "\n",
    "    def __init__(self, current_k, total_k):\n",
    "        self._current_k = current_k\n",
    "        self._total_k = total_k\n",
    "\n",
    "    def on_epoch_end(self, epoch, logs=None):\n",
    "        \"\"\" Clears the log. Called when a training epoch ends. \"\"\"\n",
    "        clear_output(wait=True)\n",
    "        print(\"Running %d-folds cross-validation. Current fold: %d.\\n\" % (self._total_k, self._current_k))"
   ]
  },
  {
   "cell_type": "code",
   "execution_count": 314,
   "metadata": {},
   "outputs": [],
   "source": [
    "def create_list_text(path):\n",
    "    lista = []\n",
    "    for i in sorted(os.listdir(path), key = lambda x: int(re.match(\"[0-9]+\", x).group())):\n",
    "        with open(os.path.join(path, i)) as file:\n",
    "            lista.append(file.read())\n",
    "    return lista"
   ]
  },
  {
   "cell_type": "code",
   "execution_count": 315,
   "metadata": {},
   "outputs": [
    {
     "name": "stdout",
     "output_type": "stream",
     "text": [
      "total true text: 3600, total fake text: 3600\n"
     ]
    }
   ],
   "source": [
    "true = create_list_text(os.path.join(path, \"true\"))\n",
    "fake = create_list_text(os.path.join(path, \"fake\"))\n",
    "print(f\"total true text: {len(true)}, total fake text: {len(fake)}\")"
   ]
  },
  {
   "cell_type": "code",
   "execution_count": 316,
   "metadata": {},
   "outputs": [],
   "source": [
    "df = pd.DataFrame([{\"text\": t, \"label\": 0} for t in true] + \n",
    "                  [{\"text\": t, \"label\": 1} for t in fake]).sample(frac = 1)"
   ]
  },
  {
   "cell_type": "code",
   "execution_count": 317,
   "metadata": {},
   "outputs": [
    {
     "data": {
      "text/html": [
       "<div>\n",
       "<style scoped>\n",
       "    .dataframe tbody tr th:only-of-type {\n",
       "        vertical-align: middle;\n",
       "    }\n",
       "\n",
       "    .dataframe tbody tr th {\n",
       "        vertical-align: top;\n",
       "    }\n",
       "\n",
       "    .dataframe thead th {\n",
       "        text-align: right;\n",
       "    }\n",
       "</style>\n",
       "<table border=\"1\" class=\"dataframe\">\n",
       "  <thead>\n",
       "    <tr style=\"text-align: right;\">\n",
       "      <th></th>\n",
       "      <th>text</th>\n",
       "      <th>label</th>\n",
       "    </tr>\n",
       "  </thead>\n",
       "  <tbody>\n",
       "    <tr>\n",
       "      <th>4542</th>\n",
       "      <td>Dezenas de africanos invadem a fronteira da Espanha. Um guarda tentou impedir o grupo e quebrou a perna. . \\n</td>\n",
       "      <td>1</td>\n",
       "    </tr>\n",
       "    <tr>\n",
       "      <th>1959</th>\n",
       "      <td>MP faz nova perícia e constata interferência na gravação das imagens do dia de suposta agressão a Garotinho. Peritos identificaram que três câmera...</td>\n",
       "      <td>0</td>\n",
       "    </tr>\n",
       "    <tr>\n",
       "      <th>1742</th>\n",
       "      <td>Quarta-feira, 21 de fevereiro de 2018. Boa noite! Aqui estão as principais notícias para você terminar o dia bem-informado. Já sob intervenção fed...</td>\n",
       "      <td>0</td>\n",
       "    </tr>\n",
       "    <tr>\n",
       "      <th>2546</th>\n",
       "      <td>Obras da Odebrecht foram superfaturadas em mais de R$ 3 bilhões no RJ. Veja o rombo em 10 das maiores construções no estado citadas nas delações d...</td>\n",
       "      <td>0</td>\n",
       "    </tr>\n",
       "    <tr>\n",
       "      <th>4356</th>\n",
       "      <td>Morre, aos 65 anos, o apresentador Marcelo Rezende.  Marcelo Rezende hoje (16/9) aos 65 anos.  O jornalista morreu às 17h45 deste sábado (16), em ...</td>\n",
       "      <td>1</td>\n",
       "    </tr>\n",
       "    <tr>\n",
       "      <th>...</th>\n",
       "      <td>...</td>\n",
       "      <td>...</td>\n",
       "    </tr>\n",
       "    <tr>\n",
       "      <th>6911</th>\n",
       "      <td>Que país é esse?.  Por falta de um avião da FAB,  perdeu-se a vida de uma criança que precisava fazer transplante de coração.  Gabriel tinha 12 an...</td>\n",
       "      <td>1</td>\n",
       "    </tr>\n",
       "    <tr>\n",
       "      <th>1512</th>\n",
       "      <td>O desafio de quem quer definir seu próprio destino. Cinco jovens relatam como quebraram o ciclo de limitações e violência imposto às suas mães e a...</td>\n",
       "      <td>0</td>\n",
       "    </tr>\n",
       "    <tr>\n",
       "      <th>1661</th>\n",
       "      <td>PT de Minas entra com representação contra procurador de Justiça por frase morre logo, peste!, sobre Marisa Letícia. Em agosto, Rômulo Paiva Filho...</td>\n",
       "      <td>0</td>\n",
       "    </tr>\n",
       "    <tr>\n",
       "      <th>85</th>\n",
       "      <td>Escolhida para o Ministério do Trabalho foi citada em delação da Odebrecht Leandro Andrade, ligado à empreiteira, relatou à Lava Jato repasse de R...</td>\n",
       "      <td>0</td>\n",
       "    </tr>\n",
       "    <tr>\n",
       "      <th>5138</th>\n",
       "      <td>NASA anuncia descoberta de 7 novos planetas. Um deles é semelhante à Terra e há chances de possuir vida.  Uma equipe internacional de astrônomos d...</td>\n",
       "      <td>1</td>\n",
       "    </tr>\n",
       "  </tbody>\n",
       "</table>\n",
       "<p>7200 rows × 2 columns</p>\n",
       "</div>"
      ],
      "text/plain": [
       "                                                                                                                                                       text  \\\n",
       "4542                                          Dezenas de africanos invadem a fronteira da Espanha. Um guarda tentou impedir o grupo e quebrou a perna. . \\n   \n",
       "1959  MP faz nova perícia e constata interferência na gravação das imagens do dia de suposta agressão a Garotinho. Peritos identificaram que três câmera...   \n",
       "1742  Quarta-feira, 21 de fevereiro de 2018. Boa noite! Aqui estão as principais notícias para você terminar o dia bem-informado. Já sob intervenção fed...   \n",
       "2546  Obras da Odebrecht foram superfaturadas em mais de R$ 3 bilhões no RJ. Veja o rombo em 10 das maiores construções no estado citadas nas delações d...   \n",
       "4356  Morre, aos 65 anos, o apresentador Marcelo Rezende.  Marcelo Rezende hoje (16/9) aos 65 anos.  O jornalista morreu às 17h45 deste sábado (16), em ...   \n",
       "...                                                                                                                                                     ...   \n",
       "6911  Que país é esse?.  Por falta de um avião da FAB,  perdeu-se a vida de uma criança que precisava fazer transplante de coração.  Gabriel tinha 12 an...   \n",
       "1512  O desafio de quem quer definir seu próprio destino. Cinco jovens relatam como quebraram o ciclo de limitações e violência imposto às suas mães e a...   \n",
       "1661  PT de Minas entra com representação contra procurador de Justiça por frase morre logo, peste!, sobre Marisa Letícia. Em agosto, Rômulo Paiva Filho...   \n",
       "85    Escolhida para o Ministério do Trabalho foi citada em delação da Odebrecht Leandro Andrade, ligado à empreiteira, relatou à Lava Jato repasse de R...   \n",
       "5138  NASA anuncia descoberta de 7 novos planetas. Um deles é semelhante à Terra e há chances de possuir vida.  Uma equipe internacional de astrônomos d...   \n",
       "\n",
       "      label  \n",
       "4542      1  \n",
       "1959      0  \n",
       "1742      0  \n",
       "2546      0  \n",
       "4356      1  \n",
       "...     ...  \n",
       "6911      1  \n",
       "1512      0  \n",
       "1661      0  \n",
       "85        0  \n",
       "5138      1  \n",
       "\n",
       "[7200 rows x 2 columns]"
      ]
     },
     "execution_count": 317,
     "metadata": {},
     "output_type": "execute_result"
    }
   ],
   "source": [
    "df"
   ]
  },
  {
   "cell_type": "code",
   "execution_count": 318,
   "metadata": {},
   "outputs": [],
   "source": [
    "pd.set_option(\"max_colwidth\", 150)"
   ]
  },
  {
   "cell_type": "code",
   "execution_count": 319,
   "metadata": {},
   "outputs": [
    {
     "data": {
      "text/html": [
       "<div>\n",
       "<style scoped>\n",
       "    .dataframe tbody tr th:only-of-type {\n",
       "        vertical-align: middle;\n",
       "    }\n",
       "\n",
       "    .dataframe tbody tr th {\n",
       "        vertical-align: top;\n",
       "    }\n",
       "\n",
       "    .dataframe thead th {\n",
       "        text-align: right;\n",
       "    }\n",
       "</style>\n",
       "<table border=\"1\" class=\"dataframe\">\n",
       "  <thead>\n",
       "    <tr style=\"text-align: right;\">\n",
       "      <th></th>\n",
       "      <th>text</th>\n",
       "      <th>label</th>\n",
       "    </tr>\n",
       "  </thead>\n",
       "  <tbody>\n",
       "    <tr>\n",
       "      <th>4542</th>\n",
       "      <td>Dezenas de africanos invadem a fronteira da Espanha. Um guarda tentou impedir o grupo e quebrou a perna. . \\n</td>\n",
       "      <td>1</td>\n",
       "    </tr>\n",
       "    <tr>\n",
       "      <th>1959</th>\n",
       "      <td>MP faz nova perícia e constata interferência na gravação das imagens do dia de suposta agressão a Garotinho. Peritos identificaram que três câmera...</td>\n",
       "      <td>0</td>\n",
       "    </tr>\n",
       "    <tr>\n",
       "      <th>1742</th>\n",
       "      <td>Quarta-feira, 21 de fevereiro de 2018. Boa noite! Aqui estão as principais notícias para você terminar o dia bem-informado. Já sob intervenção fed...</td>\n",
       "      <td>0</td>\n",
       "    </tr>\n",
       "    <tr>\n",
       "      <th>2546</th>\n",
       "      <td>Obras da Odebrecht foram superfaturadas em mais de R$ 3 bilhões no RJ. Veja o rombo em 10 das maiores construções no estado citadas nas delações d...</td>\n",
       "      <td>0</td>\n",
       "    </tr>\n",
       "    <tr>\n",
       "      <th>4356</th>\n",
       "      <td>Morre, aos 65 anos, o apresentador Marcelo Rezende.  Marcelo Rezende hoje (16/9) aos 65 anos.  O jornalista morreu às 17h45 deste sábado (16), em ...</td>\n",
       "      <td>1</td>\n",
       "    </tr>\n",
       "    <tr>\n",
       "      <th>...</th>\n",
       "      <td>...</td>\n",
       "      <td>...</td>\n",
       "    </tr>\n",
       "    <tr>\n",
       "      <th>6911</th>\n",
       "      <td>Que país é esse?.  Por falta de um avião da FAB,  perdeu-se a vida de uma criança que precisava fazer transplante de coração.  Gabriel tinha 12 an...</td>\n",
       "      <td>1</td>\n",
       "    </tr>\n",
       "    <tr>\n",
       "      <th>1512</th>\n",
       "      <td>O desafio de quem quer definir seu próprio destino. Cinco jovens relatam como quebraram o ciclo de limitações e violência imposto às suas mães e a...</td>\n",
       "      <td>0</td>\n",
       "    </tr>\n",
       "    <tr>\n",
       "      <th>1661</th>\n",
       "      <td>PT de Minas entra com representação contra procurador de Justiça por frase morre logo, peste!, sobre Marisa Letícia. Em agosto, Rômulo Paiva Filho...</td>\n",
       "      <td>0</td>\n",
       "    </tr>\n",
       "    <tr>\n",
       "      <th>85</th>\n",
       "      <td>Escolhida para o Ministério do Trabalho foi citada em delação da Odebrecht Leandro Andrade, ligado à empreiteira, relatou à Lava Jato repasse de R...</td>\n",
       "      <td>0</td>\n",
       "    </tr>\n",
       "    <tr>\n",
       "      <th>5138</th>\n",
       "      <td>NASA anuncia descoberta de 7 novos planetas. Um deles é semelhante à Terra e há chances de possuir vida.  Uma equipe internacional de astrônomos d...</td>\n",
       "      <td>1</td>\n",
       "    </tr>\n",
       "  </tbody>\n",
       "</table>\n",
       "<p>7200 rows × 2 columns</p>\n",
       "</div>"
      ],
      "text/plain": [
       "                                                                                                                                                       text  \\\n",
       "4542                                          Dezenas de africanos invadem a fronteira da Espanha. Um guarda tentou impedir o grupo e quebrou a perna. . \\n   \n",
       "1959  MP faz nova perícia e constata interferência na gravação das imagens do dia de suposta agressão a Garotinho. Peritos identificaram que três câmera...   \n",
       "1742  Quarta-feira, 21 de fevereiro de 2018. Boa noite! Aqui estão as principais notícias para você terminar o dia bem-informado. Já sob intervenção fed...   \n",
       "2546  Obras da Odebrecht foram superfaturadas em mais de R$ 3 bilhões no RJ. Veja o rombo em 10 das maiores construções no estado citadas nas delações d...   \n",
       "4356  Morre, aos 65 anos, o apresentador Marcelo Rezende.  Marcelo Rezende hoje (16/9) aos 65 anos.  O jornalista morreu às 17h45 deste sábado (16), em ...   \n",
       "...                                                                                                                                                     ...   \n",
       "6911  Que país é esse?.  Por falta de um avião da FAB,  perdeu-se a vida de uma criança que precisava fazer transplante de coração.  Gabriel tinha 12 an...   \n",
       "1512  O desafio de quem quer definir seu próprio destino. Cinco jovens relatam como quebraram o ciclo de limitações e violência imposto às suas mães e a...   \n",
       "1661  PT de Minas entra com representação contra procurador de Justiça por frase morre logo, peste!, sobre Marisa Letícia. Em agosto, Rômulo Paiva Filho...   \n",
       "85    Escolhida para o Ministério do Trabalho foi citada em delação da Odebrecht Leandro Andrade, ligado à empreiteira, relatou à Lava Jato repasse de R...   \n",
       "5138  NASA anuncia descoberta de 7 novos planetas. Um deles é semelhante à Terra e há chances de possuir vida.  Uma equipe internacional de astrônomos d...   \n",
       "\n",
       "      label  \n",
       "4542      1  \n",
       "1959      0  \n",
       "1742      0  \n",
       "2546      0  \n",
       "4356      1  \n",
       "...     ...  \n",
       "6911      1  \n",
       "1512      0  \n",
       "1661      0  \n",
       "85        0  \n",
       "5138      1  \n",
       "\n",
       "[7200 rows x 2 columns]"
      ]
     },
     "execution_count": 319,
     "metadata": {},
     "output_type": "execute_result"
    }
   ],
   "source": [
    "df"
   ]
  },
  {
   "cell_type": "code",
   "execution_count": 320,
   "metadata": {},
   "outputs": [],
   "source": [
    "stop_words = nltk.corpus.stopwords.words(\"portuguese\")"
   ]
  },
  {
   "cell_type": "code",
   "execution_count": 321,
   "metadata": {},
   "outputs": [],
   "source": [
    "stemmer = nltk.stem.RSLPStemmer()"
   ]
  },
  {
   "cell_type": "code",
   "execution_count": 322,
   "metadata": {},
   "outputs": [
    {
     "data": {
      "text/html": [
       "<div>\n",
       "<style scoped>\n",
       "    .dataframe tbody tr th:only-of-type {\n",
       "        vertical-align: middle;\n",
       "    }\n",
       "\n",
       "    .dataframe tbody tr th {\n",
       "        vertical-align: top;\n",
       "    }\n",
       "\n",
       "    .dataframe thead th {\n",
       "        text-align: right;\n",
       "    }\n",
       "</style>\n",
       "<table border=\"1\" class=\"dataframe\">\n",
       "  <thead>\n",
       "    <tr style=\"text-align: right;\">\n",
       "      <th></th>\n",
       "      <th>text</th>\n",
       "      <th>label</th>\n",
       "    </tr>\n",
       "  </thead>\n",
       "  <tbody>\n",
       "    <tr>\n",
       "      <th>4542</th>\n",
       "      <td>Dezenas de africanos invadem a fronteira da Espanha. Um guarda tentou impedir o grupo e quebrou a perna. . \\n</td>\n",
       "      <td>1</td>\n",
       "    </tr>\n",
       "    <tr>\n",
       "      <th>1959</th>\n",
       "      <td>MP faz nova perícia e constata interferência na gravação das imagens do dia de suposta agressão a Garotinho. Peritos identificaram que três câmera...</td>\n",
       "      <td>0</td>\n",
       "    </tr>\n",
       "    <tr>\n",
       "      <th>1742</th>\n",
       "      <td>Quarta-feira, 21 de fevereiro de 2018. Boa noite! Aqui estão as principais notícias para você terminar o dia bem-informado. Já sob intervenção fed...</td>\n",
       "      <td>0</td>\n",
       "    </tr>\n",
       "    <tr>\n",
       "      <th>2546</th>\n",
       "      <td>Obras da Odebrecht foram superfaturadas em mais de R$ 3 bilhões no RJ. Veja o rombo em 10 das maiores construções no estado citadas nas delações d...</td>\n",
       "      <td>0</td>\n",
       "    </tr>\n",
       "    <tr>\n",
       "      <th>4356</th>\n",
       "      <td>Morre, aos 65 anos, o apresentador Marcelo Rezende.  Marcelo Rezende hoje (16/9) aos 65 anos.  O jornalista morreu às 17h45 deste sábado (16), em ...</td>\n",
       "      <td>1</td>\n",
       "    </tr>\n",
       "    <tr>\n",
       "      <th>...</th>\n",
       "      <td>...</td>\n",
       "      <td>...</td>\n",
       "    </tr>\n",
       "    <tr>\n",
       "      <th>6911</th>\n",
       "      <td>Que país é esse?.  Por falta de um avião da FAB,  perdeu-se a vida de uma criança que precisava fazer transplante de coração.  Gabriel tinha 12 an...</td>\n",
       "      <td>1</td>\n",
       "    </tr>\n",
       "    <tr>\n",
       "      <th>1512</th>\n",
       "      <td>O desafio de quem quer definir seu próprio destino. Cinco jovens relatam como quebraram o ciclo de limitações e violência imposto às suas mães e a...</td>\n",
       "      <td>0</td>\n",
       "    </tr>\n",
       "    <tr>\n",
       "      <th>1661</th>\n",
       "      <td>PT de Minas entra com representação contra procurador de Justiça por frase morre logo, peste!, sobre Marisa Letícia. Em agosto, Rômulo Paiva Filho...</td>\n",
       "      <td>0</td>\n",
       "    </tr>\n",
       "    <tr>\n",
       "      <th>85</th>\n",
       "      <td>Escolhida para o Ministério do Trabalho foi citada em delação da Odebrecht Leandro Andrade, ligado à empreiteira, relatou à Lava Jato repasse de R...</td>\n",
       "      <td>0</td>\n",
       "    </tr>\n",
       "    <tr>\n",
       "      <th>5138</th>\n",
       "      <td>NASA anuncia descoberta de 7 novos planetas. Um deles é semelhante à Terra e há chances de possuir vida.  Uma equipe internacional de astrônomos d...</td>\n",
       "      <td>1</td>\n",
       "    </tr>\n",
       "  </tbody>\n",
       "</table>\n",
       "<p>7200 rows × 2 columns</p>\n",
       "</div>"
      ],
      "text/plain": [
       "                                                                                                                                                       text  \\\n",
       "4542                                          Dezenas de africanos invadem a fronteira da Espanha. Um guarda tentou impedir o grupo e quebrou a perna. . \\n   \n",
       "1959  MP faz nova perícia e constata interferência na gravação das imagens do dia de suposta agressão a Garotinho. Peritos identificaram que três câmera...   \n",
       "1742  Quarta-feira, 21 de fevereiro de 2018. Boa noite! Aqui estão as principais notícias para você terminar o dia bem-informado. Já sob intervenção fed...   \n",
       "2546  Obras da Odebrecht foram superfaturadas em mais de R$ 3 bilhões no RJ. Veja o rombo em 10 das maiores construções no estado citadas nas delações d...   \n",
       "4356  Morre, aos 65 anos, o apresentador Marcelo Rezende.  Marcelo Rezende hoje (16/9) aos 65 anos.  O jornalista morreu às 17h45 deste sábado (16), em ...   \n",
       "...                                                                                                                                                     ...   \n",
       "6911  Que país é esse?.  Por falta de um avião da FAB,  perdeu-se a vida de uma criança que precisava fazer transplante de coração.  Gabriel tinha 12 an...   \n",
       "1512  O desafio de quem quer definir seu próprio destino. Cinco jovens relatam como quebraram o ciclo de limitações e violência imposto às suas mães e a...   \n",
       "1661  PT de Minas entra com representação contra procurador de Justiça por frase morre logo, peste!, sobre Marisa Letícia. Em agosto, Rômulo Paiva Filho...   \n",
       "85    Escolhida para o Ministério do Trabalho foi citada em delação da Odebrecht Leandro Andrade, ligado à empreiteira, relatou à Lava Jato repasse de R...   \n",
       "5138  NASA anuncia descoberta de 7 novos planetas. Um deles é semelhante à Terra e há chances de possuir vida.  Uma equipe internacional de astrônomos d...   \n",
       "\n",
       "      label  \n",
       "4542      1  \n",
       "1959      0  \n",
       "1742      0  \n",
       "2546      0  \n",
       "4356      1  \n",
       "...     ...  \n",
       "6911      1  \n",
       "1512      0  \n",
       "1661      0  \n",
       "85        0  \n",
       "5138      1  \n",
       "\n",
       "[7200 rows x 2 columns]"
      ]
     },
     "execution_count": 322,
     "metadata": {},
     "output_type": "execute_result"
    }
   ],
   "source": [
    "df"
   ]
  },
  {
   "cell_type": "code",
   "execution_count": 323,
   "metadata": {},
   "outputs": [],
   "source": [
    "# def text_process(text):\n",
    "#     \"\"\"\n",
    "#     Função responsavel por realizar o processamento do texto, utilizando a função remove_punctuation\n",
    "#     e tokenizando o texto, retorna uma lista com tokens.\n",
    "#     \"\"\"\n",
    "#     no_puncts = text.translate(str.maketrans('', '', string.punctuation))\n",
    "#     tokens = word_tokenize(text)\n",
    "\n",
    "#     stop_words = set(stopwords.words('english'))  \n",
    "\n",
    "#     word_tokens = tokens\n",
    "\n",
    "#     filtered_sentence = [w for w in word_tokens if not w.lower() in stop_words]\n",
    "\n",
    "#     filtered_sentence = []\n",
    "\n",
    "#     for w in word_tokens:\n",
    "#         if w not in stop_words:\n",
    "#             filtered_sentence.append(w)\n",
    "\n",
    "#     return str(filtered_sentence).strip(\"[]\")"
   ]
  },
  {
   "cell_type": "code",
   "execution_count": 324,
   "metadata": {},
   "outputs": [],
   "source": [
    "# df[\"tokens\"] = df.apply(lambda x: text_process(x[\"text\"]), axis = 1)"
   ]
  },
  {
   "cell_type": "code",
   "execution_count": 325,
   "metadata": {},
   "outputs": [
    {
     "data": {
      "text/html": [
       "<div>\n",
       "<style scoped>\n",
       "    .dataframe tbody tr th:only-of-type {\n",
       "        vertical-align: middle;\n",
       "    }\n",
       "\n",
       "    .dataframe tbody tr th {\n",
       "        vertical-align: top;\n",
       "    }\n",
       "\n",
       "    .dataframe thead th {\n",
       "        text-align: right;\n",
       "    }\n",
       "</style>\n",
       "<table border=\"1\" class=\"dataframe\">\n",
       "  <thead>\n",
       "    <tr style=\"text-align: right;\">\n",
       "      <th></th>\n",
       "      <th>text</th>\n",
       "      <th>label</th>\n",
       "    </tr>\n",
       "  </thead>\n",
       "  <tbody>\n",
       "    <tr>\n",
       "      <th>4542</th>\n",
       "      <td>Dezenas de africanos invadem a fronteira da Espanha. Um guarda tentou impedir o grupo e quebrou a perna. . \\n</td>\n",
       "      <td>1</td>\n",
       "    </tr>\n",
       "    <tr>\n",
       "      <th>1959</th>\n",
       "      <td>MP faz nova perícia e constata interferência na gravação das imagens do dia de suposta agressão a Garotinho. Peritos identificaram que três câmera...</td>\n",
       "      <td>0</td>\n",
       "    </tr>\n",
       "    <tr>\n",
       "      <th>1742</th>\n",
       "      <td>Quarta-feira, 21 de fevereiro de 2018. Boa noite! Aqui estão as principais notícias para você terminar o dia bem-informado. Já sob intervenção fed...</td>\n",
       "      <td>0</td>\n",
       "    </tr>\n",
       "    <tr>\n",
       "      <th>2546</th>\n",
       "      <td>Obras da Odebrecht foram superfaturadas em mais de R$ 3 bilhões no RJ. Veja o rombo em 10 das maiores construções no estado citadas nas delações d...</td>\n",
       "      <td>0</td>\n",
       "    </tr>\n",
       "    <tr>\n",
       "      <th>4356</th>\n",
       "      <td>Morre, aos 65 anos, o apresentador Marcelo Rezende.  Marcelo Rezende hoje (16/9) aos 65 anos.  O jornalista morreu às 17h45 deste sábado (16), em ...</td>\n",
       "      <td>1</td>\n",
       "    </tr>\n",
       "    <tr>\n",
       "      <th>...</th>\n",
       "      <td>...</td>\n",
       "      <td>...</td>\n",
       "    </tr>\n",
       "    <tr>\n",
       "      <th>6911</th>\n",
       "      <td>Que país é esse?.  Por falta de um avião da FAB,  perdeu-se a vida de uma criança que precisava fazer transplante de coração.  Gabriel tinha 12 an...</td>\n",
       "      <td>1</td>\n",
       "    </tr>\n",
       "    <tr>\n",
       "      <th>1512</th>\n",
       "      <td>O desafio de quem quer definir seu próprio destino. Cinco jovens relatam como quebraram o ciclo de limitações e violência imposto às suas mães e a...</td>\n",
       "      <td>0</td>\n",
       "    </tr>\n",
       "    <tr>\n",
       "      <th>1661</th>\n",
       "      <td>PT de Minas entra com representação contra procurador de Justiça por frase morre logo, peste!, sobre Marisa Letícia. Em agosto, Rômulo Paiva Filho...</td>\n",
       "      <td>0</td>\n",
       "    </tr>\n",
       "    <tr>\n",
       "      <th>85</th>\n",
       "      <td>Escolhida para o Ministério do Trabalho foi citada em delação da Odebrecht Leandro Andrade, ligado à empreiteira, relatou à Lava Jato repasse de R...</td>\n",
       "      <td>0</td>\n",
       "    </tr>\n",
       "    <tr>\n",
       "      <th>5138</th>\n",
       "      <td>NASA anuncia descoberta de 7 novos planetas. Um deles é semelhante à Terra e há chances de possuir vida.  Uma equipe internacional de astrônomos d...</td>\n",
       "      <td>1</td>\n",
       "    </tr>\n",
       "  </tbody>\n",
       "</table>\n",
       "<p>7200 rows × 2 columns</p>\n",
       "</div>"
      ],
      "text/plain": [
       "                                                                                                                                                       text  \\\n",
       "4542                                          Dezenas de africanos invadem a fronteira da Espanha. Um guarda tentou impedir o grupo e quebrou a perna. . \\n   \n",
       "1959  MP faz nova perícia e constata interferência na gravação das imagens do dia de suposta agressão a Garotinho. Peritos identificaram que três câmera...   \n",
       "1742  Quarta-feira, 21 de fevereiro de 2018. Boa noite! Aqui estão as principais notícias para você terminar o dia bem-informado. Já sob intervenção fed...   \n",
       "2546  Obras da Odebrecht foram superfaturadas em mais de R$ 3 bilhões no RJ. Veja o rombo em 10 das maiores construções no estado citadas nas delações d...   \n",
       "4356  Morre, aos 65 anos, o apresentador Marcelo Rezende.  Marcelo Rezende hoje (16/9) aos 65 anos.  O jornalista morreu às 17h45 deste sábado (16), em ...   \n",
       "...                                                                                                                                                     ...   \n",
       "6911  Que país é esse?.  Por falta de um avião da FAB,  perdeu-se a vida de uma criança que precisava fazer transplante de coração.  Gabriel tinha 12 an...   \n",
       "1512  O desafio de quem quer definir seu próprio destino. Cinco jovens relatam como quebraram o ciclo de limitações e violência imposto às suas mães e a...   \n",
       "1661  PT de Minas entra com representação contra procurador de Justiça por frase morre logo, peste!, sobre Marisa Letícia. Em agosto, Rômulo Paiva Filho...   \n",
       "85    Escolhida para o Ministério do Trabalho foi citada em delação da Odebrecht Leandro Andrade, ligado à empreiteira, relatou à Lava Jato repasse de R...   \n",
       "5138  NASA anuncia descoberta de 7 novos planetas. Um deles é semelhante à Terra e há chances de possuir vida.  Uma equipe internacional de astrônomos d...   \n",
       "\n",
       "      label  \n",
       "4542      1  \n",
       "1959      0  \n",
       "1742      0  \n",
       "2546      0  \n",
       "4356      1  \n",
       "...     ...  \n",
       "6911      1  \n",
       "1512      0  \n",
       "1661      0  \n",
       "85        0  \n",
       "5138      1  \n",
       "\n",
       "[7200 rows x 2 columns]"
      ]
     },
     "execution_count": 325,
     "metadata": {},
     "output_type": "execute_result"
    }
   ],
   "source": [
    "df"
   ]
  },
  {
   "cell_type": "code",
   "execution_count": 326,
   "metadata": {},
   "outputs": [
    {
     "data": {
      "text/plain": [
       "text     0\n",
       "label    0\n",
       "dtype: int64"
      ]
     },
     "execution_count": 326,
     "metadata": {},
     "output_type": "execute_result"
    }
   ],
   "source": [
    "df.isnull().sum()"
   ]
  },
  {
   "cell_type": "code",
   "execution_count": 337,
   "metadata": {},
   "outputs": [],
   "source": [
    "STOPWORDS = nltk.corpus.stopwords.words('portuguese')\n",
    "STEMMER = nltk.stem.RSLPStemmer()"
   ]
  },
  {
   "cell_type": "code",
   "execution_count": 338,
   "metadata": {},
   "outputs": [
    {
     "name": "stdout",
     "output_type": "stream",
     "text": [
      "[100.00%] Processing text 7200 of 7200.\n"
     ]
    },
    {
     "data": {
      "text/html": [
       "<div>\n",
       "<style scoped>\n",
       "    .dataframe tbody tr th:only-of-type {\n",
       "        vertical-align: middle;\n",
       "    }\n",
       "\n",
       "    .dataframe tbody tr th {\n",
       "        vertical-align: top;\n",
       "    }\n",
       "\n",
       "    .dataframe thead th {\n",
       "        text-align: right;\n",
       "    }\n",
       "</style>\n",
       "<table border=\"1\" class=\"dataframe\">\n",
       "  <thead>\n",
       "    <tr style=\"text-align: right;\">\n",
       "      <th></th>\n",
       "      <th>text</th>\n",
       "      <th>label</th>\n",
       "    </tr>\n",
       "  </thead>\n",
       "  <tbody>\n",
       "    <tr>\n",
       "      <th>0</th>\n",
       "      <td>dezen afric invad fronteir espanh um guard tent imped grup quebr pern</td>\n",
       "      <td>1</td>\n",
       "    </tr>\n",
       "    <tr>\n",
       "      <th>1</th>\n",
       "      <td>mp faz nov períc constat interfer grav imag dia supost agress garot perit identific trê câm presídi deslig imag congel ex-govern diss vai process ...</td>\n",
       "      <td>0</td>\n",
       "    </tr>\n",
       "    <tr>\n",
       "      <th>2</th>\n",
       "      <td>quarta-f 21 fever 2018 boa noit aqu princip notíc termin dia bem-inform já sob intervenç feder rio particip forç arm oper presídi japer ond rebel ...</td>\n",
       "      <td>0</td>\n",
       "    </tr>\n",
       "    <tr>\n",
       "      <th>3</th>\n",
       "      <td>obr odebrecht superfatur r 3 bilhã rj vej romb 10 mai construç est cit del ex-execu empreit atras som 35 ano .. as propin mostr apen pequen part e...</td>\n",
       "      <td>0</td>\n",
       "    </tr>\n",
       "    <tr>\n",
       "      <th>4</th>\n",
       "      <td>morr 65 ano apresent marcel rezend marcel rezend hoj 16/9 65 ano o jornal morr 17h45 dest sáb 16 são paul vítim fal múltipl órg consequ cânc infor...</td>\n",
       "      <td>1</td>\n",
       "    </tr>\n",
       "    <tr>\n",
       "      <th>...</th>\n",
       "      <td>...</td>\n",
       "      <td>...</td>\n",
       "    </tr>\n",
       "    <tr>\n",
       "      <th>7195</th>\n",
       "      <td>que país por falt avi fab perdeu-s vid crianç precis faz transpl coraçã gabriel 12 ano intern unidad terap intens uti hospit brasíl esper transpl ...</td>\n",
       "      <td>1</td>\n",
       "    </tr>\n",
       "    <tr>\n",
       "      <th>7196</th>\n",
       "      <td>o desafi qu defin própri destin cinc jov relat quebr cicl limit viol impost mão avó ela vêm cl soc difer têm sonh profiss pessoal divers comum lut...</td>\n",
       "      <td>0</td>\n",
       "    </tr>\n",
       "    <tr>\n",
       "      <th>7197</th>\n",
       "      <td>pt min entr represent contr procur justiç fras morr log pest sobr maris letíc em agost rômul paiv filh suger dar banh gasolin dilm rousseff tac fo...</td>\n",
       "      <td>0</td>\n",
       "    </tr>\n",
       "    <tr>\n",
       "      <th>7198</th>\n",
       "      <td>escolh minist trabalh cit del odebrecht leandr andrad lig empreit relat lav jat rep r 200 mil deput cristian brasil ptb-rj parlament diss époc dec...</td>\n",
       "      <td>0</td>\n",
       "    </tr>\n",
       "    <tr>\n",
       "      <th>7199</th>\n",
       "      <td>nas anunc descobert 7 nov planet um semelh terr chanc possu vid uma equip internac astrôn detect 7 set planet semelh terr sistem sol nas em trê gr...</td>\n",
       "      <td>1</td>\n",
       "    </tr>\n",
       "  </tbody>\n",
       "</table>\n",
       "<p>7200 rows × 2 columns</p>\n",
       "</div>"
      ],
      "text/plain": [
       "                                                                                                                                                       text  \\\n",
       "0                                                                                     dezen afric invad fronteir espanh um guard tent imped grup quebr pern   \n",
       "1     mp faz nov períc constat interfer grav imag dia supost agress garot perit identific trê câm presídi deslig imag congel ex-govern diss vai process ...   \n",
       "2     quarta-f 21 fever 2018 boa noit aqu princip notíc termin dia bem-inform já sob intervenç feder rio particip forç arm oper presídi japer ond rebel ...   \n",
       "3     obr odebrecht superfatur r 3 bilhã rj vej romb 10 mai construç est cit del ex-execu empreit atras som 35 ano .. as propin mostr apen pequen part e...   \n",
       "4     morr 65 ano apresent marcel rezend marcel rezend hoj 16/9 65 ano o jornal morr 17h45 dest sáb 16 são paul vítim fal múltipl órg consequ cânc infor...   \n",
       "...                                                                                                                                                     ...   \n",
       "7195  que país por falt avi fab perdeu-s vid crianç precis faz transpl coraçã gabriel 12 ano intern unidad terap intens uti hospit brasíl esper transpl ...   \n",
       "7196  o desafi qu defin própri destin cinc jov relat quebr cicl limit viol impost mão avó ela vêm cl soc difer têm sonh profiss pessoal divers comum lut...   \n",
       "7197  pt min entr represent contr procur justiç fras morr log pest sobr maris letíc em agost rômul paiv filh suger dar banh gasolin dilm rousseff tac fo...   \n",
       "7198  escolh minist trabalh cit del odebrecht leandr andrad lig empreit relat lav jat rep r 200 mil deput cristian brasil ptb-rj parlament diss époc dec...   \n",
       "7199  nas anunc descobert 7 nov planet um semelh terr chanc possu vid uma equip internac astrôn detect 7 set planet semelh terr sistem sol nas em trê gr...   \n",
       "\n",
       "      label  \n",
       "0         1  \n",
       "1         0  \n",
       "2         0  \n",
       "3         0  \n",
       "4         1  \n",
       "...     ...  \n",
       "7195      1  \n",
       "7196      0  \n",
       "7197      0  \n",
       "7198      0  \n",
       "7199      1  \n",
       "\n",
       "[7200 rows x 2 columns]"
      ]
     },
     "execution_count": 338,
     "metadata": {},
     "output_type": "execute_result"
    }
   ],
   "source": [
    "def normalize_texts(corpus, stem):\n",
    "    processed_texts = []\n",
    "    counter = 0\n",
    "    for i, row in corpus.iterrows():\n",
    "        clear_output(wait = True)\n",
    "        print(\"[%.2f%%] Processing text %d of %d.\" % (100*(counter+1)/len(corpus), counter+1, len(corpus)))\n",
    "        counter += 1\n",
    "        \n",
    "        text = \" \".join( [   \n",
    "                (w if not stem else STEMMER.stem(w)) \n",
    "                    for w in nltk.tokenize.word_tokenize(row[\"text\"]) if w not in STOPWORDS and w not in string.punctuation\n",
    "        ] )\n",
    "        processed_texts.append({\"text\": text, \"label\": row[\"label\"]})\n",
    "    return pd.DataFrame(processed_texts)\n",
    "\n",
    "norm_data = normalize_texts(df, stem=True)\n",
    "norm_data\n"
   ]
  },
  {
   "cell_type": "code",
   "execution_count": 343,
   "metadata": {},
   "outputs": [
    {
     "name": "stdout",
     "output_type": "stream",
     "text": [
      "\n",
      " Cross-validation finished! Results:\n",
      " . Mean accuracy: 88.62%\n",
      " . Accuracies std: 0.78%\n"
     ]
    }
   ],
   "source": [
    "# k-fold cross-validation\n",
    "k = 10\n",
    "folds = np.split(norm_data.sample(frac = 1), k)\n",
    "\n",
    "accuracies = []\n",
    "for i in range(len(folds)):\n",
    "    # separating data\n",
    "    test_data, test_labels = folds[i][\"text\"].values, folds[i][\"label\"].values\n",
    "    training_data = np.concatenate( [folds[j][\"text\"].values for j in range(len(folds)) if j != i] )\n",
    "    training_labels = np.concatenate( [folds[j][\"label\"].values for j in range(len(folds)) if j != i] )\n",
    "\n",
    "    # extracting features\n",
    "    vectorizer = CountVectorizer(max_features = 1000)\n",
    "    training_data = vectorizer.fit_transform(training_data).toarray()\n",
    "    test_data = vectorizer.transform(test_data).toarray() \n",
    "\n",
    "    # preparing model\n",
    "    model = tf.keras.Sequential([\n",
    "        tf.keras.layers.Dense(32, activation = \"relu\", kernel_regularizer=tf.keras.regularizers.l2(1e-3)),\n",
    "        tf.keras.layers.Dense(1, activation = \"sigmoid\")\n",
    "    ])\n",
    "    model.compile(loss=\"binary_crossentropy\",\n",
    "                  optimizer=tf.keras.optimizers.Adam(1e-3),\n",
    "                  metrics=[\"accuracy\"])\n",
    "    \n",
    "    # training\n",
    "    model.fit(training_data, training_labels, epochs = 50, \n",
    "              validation_data = (test_data, test_labels), \n",
    "              callbacks = [ClearCallback(i + 1, k)])\n",
    "    \n",
    "    # evaluating\n",
    "    loss, acc = model.evaluate(test_data, test_labels)\n",
    "    accuracies.append(acc)"
   ]
  },
  {
   "cell_type": "code",
   "execution_count": 344,
   "metadata": {},
   "outputs": [
    {
     "name": "stdout",
     "output_type": "stream",
     "text": [
      "\n",
      " Cross-validation finished! Results:\n",
      " . Mean accuracy: 88.62%\n",
      " . Accuracies std: 0.78%\n"
     ]
    }
   ],
   "source": [
    "print(\"\\n Cross-validation finished! Results:\")\n",
    "print(\" . Mean accuracy: %.2f%%\" % (100*np.mean(accuracies)))\n",
    "print(\" . Accuracies std: %.2f%%\" % (100*np.std(accuracies)))"
   ]
  },
  {
   "cell_type": "code",
   "execution_count": 362,
   "metadata": {},
   "outputs": [
    {
     "name": "stdout",
     "output_type": "stream",
     "text": [
      "23/23 [==============================] - 0s 2ms/step\n"
     ]
    }
   ],
   "source": [
    "preds = model.predict(test_data)"
   ]
  },
  {
   "cell_type": "code",
   "execution_count": 373,
   "metadata": {},
   "outputs": [],
   "source": [
    "def create_wordCloud(df):\n",
    "    text = df.text[0]\n",
    "\n",
    "    # Create and generate a word cloud image:\n",
    "    wordcloud = WordCloud().generate(text)\n",
    "\n",
    "    # Display the generated image:\n",
    "    plt.imshow(wordcloud, interpolation='bilinear')\n",
    "    plt.axis(\"off\")\n",
    "    plt.show()"
   ]
  },
  {
   "cell_type": "code",
   "execution_count": 374,
   "metadata": {},
   "outputs": [
    {
     "data": {
      "image/png": "[encoded data removed]",
      "text/plain": [
       "<Figure size 432x288 with 1 Axes>"
      ]
     },
     "metadata": {
      "needs_background": "light"
     },
     "output_type": "display_data"
    }
   ],
   "source": [
    "create_wordCloud(df)"
   ]
  },
  {
   "cell_type": "code",
   "execution_count": 380,
   "metadata": {},
   "outputs": [
    {
     "data": {
      "text/plain": [
       "array([[[0, 0, 0, 0],\n",
       "        [0, 0, 0, 0],\n",
       "        [0, 0, 0, 0],\n",
       "        ...,\n",
       "        [0, 0, 0, 0],\n",
       "        [0, 0, 0, 0],\n",
       "        [0, 0, 0, 0]],\n",
       "\n",
       "       [[0, 0, 0, 0],\n",
       "        [0, 0, 0, 0],\n",
       "        [0, 0, 0, 0],\n",
       "        ...,\n",
       "        [0, 0, 0, 0],\n",
       "        [0, 0, 0, 0],\n",
       "        [0, 0, 0, 0]],\n",
       "\n",
       "       [[0, 0, 0, 0],\n",
       "        [0, 0, 0, 0],\n",
       "        [0, 0, 0, 0],\n",
       "        ...,\n",
       "        [0, 0, 0, 0],\n",
       "        [0, 0, 0, 0],\n",
       "        [0, 0, 0, 0]],\n",
       "\n",
       "       ...,\n",
       "\n",
       "       [[0, 0, 0, 0],\n",
       "        [0, 0, 0, 0],\n",
       "        [0, 0, 0, 0],\n",
       "        ...,\n",
       "        [0, 0, 0, 0],\n",
       "        [0, 0, 0, 0],\n",
       "        [0, 0, 0, 0]],\n",
       "\n",
       "       [[0, 0, 0, 0],\n",
       "        [0, 0, 0, 0],\n",
       "        [0, 0, 0, 0],\n",
       "        ...,\n",
       "        [0, 0, 0, 0],\n",
       "        [0, 0, 0, 0],\n",
       "        [0, 0, 0, 0]],\n",
       "\n",
       "       [[0, 0, 0, 0],\n",
       "        [0, 0, 0, 0],\n",
       "        [0, 0, 0, 0],\n",
       "        ...,\n",
       "        [0, 0, 0, 0],\n",
       "        [0, 0, 0, 0],\n",
       "        [0, 0, 0, 0]]], dtype=uint8)"
      ]
     },
     "execution_count": 380,
     "metadata": {},
     "output_type": "execute_result"
    }
   ],
   "source": [
    "from PIL import Image, ImageOps\n",
    "like = np.array(Image.open(\"like.png\"))\n",
    "like"
   ]
  },
  {
   "cell_type": "code",
   "execution_count": 385,
   "metadata": {},
   "outputs": [
    {
     "data": {
      "text/plain": [
       "array([[[0, 0, 0, 0],\n",
       "        [0, 0, 0, 0],\n",
       "        [0, 0, 0, 0],\n",
       "        ...,\n",
       "        [0, 0, 0, 0],\n",
       "        [0, 0, 0, 0],\n",
       "        [0, 0, 0, 0]],\n",
       "\n",
       "       [[0, 0, 0, 0],\n",
       "        [0, 0, 0, 0],\n",
       "        [0, 0, 0, 0],\n",
       "        ...,\n",
       "        [0, 0, 0, 0],\n",
       "        [0, 0, 0, 0],\n",
       "        [0, 0, 0, 0]],\n",
       "\n",
       "       [[0, 0, 0, 0],\n",
       "        [0, 0, 0, 0],\n",
       "        [0, 0, 0, 0],\n",
       "        ...,\n",
       "        [0, 0, 0, 0],\n",
       "        [0, 0, 0, 0],\n",
       "        [0, 0, 0, 0]],\n",
       "\n",
       "       ...,\n",
       "\n",
       "       [[0, 0, 0, 0],\n",
       "        [0, 0, 0, 0],\n",
       "        [0, 0, 0, 0],\n",
       "        ...,\n",
       "        [0, 0, 0, 0],\n",
       "        [0, 0, 0, 0],\n",
       "        [0, 0, 0, 0]],\n",
       "\n",
       "       [[0, 0, 0, 0],\n",
       "        [0, 0, 0, 0],\n",
       "        [0, 0, 0, 0],\n",
       "        ...,\n",
       "        [0, 0, 0, 0],\n",
       "        [0, 0, 0, 0],\n",
       "        [0, 0, 0, 0]],\n",
       "\n",
       "       [[0, 0, 0, 0],\n",
       "        [0, 0, 0, 0],\n",
       "        [0, 0, 0, 0],\n",
       "        ...,\n",
       "        [0, 0, 0, 0],\n",
       "        [0, 0, 0, 0],\n",
       "        [0, 0, 0, 0]]], dtype=uint8)"
      ]
     },
     "execution_count": 385,
     "metadata": {},
     "output_type": "execute_result"
    }
   ],
   "source": [
    "unlike = np.array(Image.open(\"unlike.png\"))\n",
    "unlike"
   ]
  }
 ],
 "metadata": {
  "kernelspec": {
   "display_name": "Python 3.9.12 ('base')",
   "language": "python",
   "name": "python3"
  },
  "language_info": {
   "codemirror_mode": {
    "name": "ipython",
    "version": 3
   },
   "file_extension": ".py",
   "mimetype": "text/x-python",
   "name": "python",
   "nbconvert_exporter": "python",
   "pygments_lexer": "ipython3",
   "version": "3.9.12"
  },
  "orig_nbformat": 4,
  "vscode": {
   "interpreter": {
    "hash": "c4a2ca58d9b82d3ad88514a36ffbfd983c3193ad0210aee0c63e37d7241e4d66"
   }
  }
 },
 "nbformat": 4,
 "nbformat_minor": 2
}
