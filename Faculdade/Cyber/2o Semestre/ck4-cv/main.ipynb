{
  "cells": [
    {
      "cell_type": "code",
      "execution_count": 56,
      "metadata": {
        "id": "oNVfNGSGawq6"
      },
      "outputs": [
        {
          "name": "stdout",
          "output_type": "stream",
          "text": [
            "Note: you may need to restart the kernel to use updated packages.\n"
          ]
        }
      ],
      "source": [
        "%pip install -q pyngrok"
      ]
    },
    {
      "cell_type": "code",
      "execution_count": 57,
      "metadata": {
        "id": "BnAHi2RkaJeh"
      },
      "outputs": [
        {
          "name": "stdout",
          "output_type": "stream",
          "text": [
            "Note: you may need to restart the kernel to use updated packages.\n"
          ]
        }
      ],
      "source": [
        "%pip install -q streamlit"
      ]
    },
    {
      "cell_type": "code",
      "execution_count": 58,
      "metadata": {
        "id": "BpDnD1nxajAB"
      },
      "outputs": [
        {
          "name": "stdout",
          "output_type": "stream",
          "text": [
            "Note: you may need to restart the kernel to use updated packages.\n"
          ]
        }
      ],
      "source": [
        "%pip install -q streamlit_ace"
      ]
    },
    {
      "cell_type": "code",
      "execution_count": 59,
      "metadata": {},
      "outputs": [
        {
          "name": "stdout",
          "output_type": "stream",
          "text": [
            "Note: you may need to restart the kernel to use updated packages.\n"
          ]
        }
      ],
      "source": [
        "%pip install -q fuzzywuzzy[speedup]"
      ]
    },
    {
      "cell_type": "code",
      "execution_count": 66,
      "metadata": {},
      "outputs": [
        {
          "name": "stdout",
          "output_type": "stream",
          "text": [
            "Requirement already satisfied: scikit-image in /home/valkiryan/anaconda3/lib/python3.9/site-packages (0.19.2)\n",
            "Collecting scikit-image\n",
            "  Downloading scikit_image-0.19.3-cp39-cp39-manylinux_2_17_x86_64.manylinux2014_x86_64.whl (14.0 MB)\n",
            "\u001b[2K     \u001b[90m━━━━━━━━━━━━━━━━━━━━━━━━━━━━━━━━━━━━━━━━\u001b[0m \u001b[32m14.0/14.0 MB\u001b[0m \u001b[31m23.0 MB/s\u001b[0m eta \u001b[36m0:00:00\u001b[0m00:01\u001b[0m00:01\u001b[0m\n",
            "\u001b[?25hRequirement already satisfied: numpy>=1.17.0 in /home/valkiryan/anaconda3/lib/python3.9/site-packages (from scikit-image) (1.21.5)\n",
            "Requirement already satisfied: packaging>=20.0 in /home/valkiryan/anaconda3/lib/python3.9/site-packages (from scikit-image) (21.3)\n",
            "Requirement already satisfied: tifffile>=2019.7.26 in /home/valkiryan/anaconda3/lib/python3.9/site-packages (from scikit-image) (2021.7.2)\n",
            "Requirement already satisfied: PyWavelets>=1.1.1 in /home/valkiryan/anaconda3/lib/python3.9/site-packages (from scikit-image) (1.3.0)\n",
            "Requirement already satisfied: pillow!=7.1.0,!=7.1.1,!=8.3.0,>=6.1.0 in /home/valkiryan/anaconda3/lib/python3.9/site-packages (from scikit-image) (9.0.1)\n",
            "Requirement already satisfied: networkx>=2.2 in /home/valkiryan/anaconda3/lib/python3.9/site-packages (from scikit-image) (2.7.1)\n",
            "Requirement already satisfied: imageio>=2.4.1 in /home/valkiryan/anaconda3/lib/python3.9/site-packages (from scikit-image) (2.9.0)\n",
            "Requirement already satisfied: scipy>=1.4.1 in /home/valkiryan/anaconda3/lib/python3.9/site-packages (from scikit-image) (1.7.3)\n",
            "Requirement already satisfied: pyparsing!=3.0.5,>=2.0.2 in /home/valkiryan/anaconda3/lib/python3.9/site-packages (from packaging>=20.0->scikit-image) (3.0.4)\n",
            "Installing collected packages: scikit-image\n",
            "  Attempting uninstall: scikit-image\n",
            "    Found existing installation: scikit-image 0.19.2\n",
            "    Uninstalling scikit-image-0.19.2:\n",
            "      Successfully uninstalled scikit-image-0.19.2\n",
            "Successfully installed scikit-image-0.19.3\n",
            "Note: you may need to restart the kernel to use updated packages.\n"
          ]
        }
      ],
      "source": [
        "%pip install -U scikit-image"
      ]
    },
    {
      "cell_type": "code",
      "execution_count": 60,
      "metadata": {},
      "outputs": [
        {
          "name": "stdout",
          "output_type": "stream",
          "text": [
            "Requirement already satisfied: captcha in /home/valkiryan/anaconda3/lib/python3.9/site-packages (0.4)\n",
            "Requirement already satisfied: Pillow in /home/valkiryan/anaconda3/lib/python3.9/site-packages (from captcha) (9.0.1)\n",
            "Note: you may need to restart the kernel to use updated packages.\n"
          ]
        }
      ],
      "source": [
        "%pip install captcha"
      ]
    },
    {
      "cell_type": "code",
      "execution_count": 61,
      "metadata": {},
      "outputs": [
        {
          "name": "stdout",
          "output_type": "stream",
          "text": [
            "Requirement already satisfied: pipreqs in /home/valkiryan/anaconda3/lib/python3.9/site-packages (0.4.11)\n",
            "Requirement already satisfied: docopt in /home/valkiryan/anaconda3/lib/python3.9/site-packages (from pipreqs) (0.6.2)\n",
            "Requirement already satisfied: yarg in /home/valkiryan/anaconda3/lib/python3.9/site-packages (from pipreqs) (0.1.9)\n",
            "Requirement already satisfied: requests in /home/valkiryan/anaconda3/lib/python3.9/site-packages (from yarg->pipreqs) (2.27.1)\n",
            "Requirement already satisfied: charset-normalizer~=2.0.0 in /home/valkiryan/anaconda3/lib/python3.9/site-packages (from requests->yarg->pipreqs) (2.0.4)\n",
            "Requirement already satisfied: idna<4,>=2.5 in /home/valkiryan/anaconda3/lib/python3.9/site-packages (from requests->yarg->pipreqs) (2.10)\n",
            "Requirement already satisfied: certifi>=2017.4.17 in /home/valkiryan/anaconda3/lib/python3.9/site-packages (from requests->yarg->pipreqs) (2021.10.8)\n",
            "Requirement already satisfied: urllib3<1.27,>=1.21.1 in /home/valkiryan/anaconda3/lib/python3.9/site-packages (from requests->yarg->pipreqs) (1.26.9)\n",
            "Note: you may need to restart the kernel to use updated packages.\n"
          ]
        }
      ],
      "source": [
        "%pip install pipreqs"
      ]
    },
    {
      "cell_type": "code",
      "execution_count": 62,
      "metadata": {},
      "outputs": [
        {
          "name": "stdout",
          "output_type": "stream",
          "text": [
            "INFO: Successfully saved requirements file in ./requirements.txt\n"
          ]
        }
      ],
      "source": [
        "!pipreqs ./"
      ]
    },
    {
      "cell_type": "code",
      "execution_count": 63,
      "metadata": {
        "id": "-ITWQ5_xajG0"
      },
      "outputs": [],
      "source": [
        "from pyngrok import ngrok"
      ]
    },
    {
      "cell_type": "code",
      "execution_count": 3,
      "metadata": {
        "colab": {
          "base_uri": "https://localhost:8080/"
        },
        "id": "8hOn8dqrhQp4",
        "outputId": "1e621e87-7664-4d45-e18f-26f04c8b5a8b"
      },
      "outputs": [
        {
          "name": "stdout",
          "output_type": "stream",
          "text": [
            "Overwriting app.py\n"
          ]
        }
      ],
      "source": [
        "%%writefile app.py\n",
        "from src.functions import *\n",
        "\n",
        "\n",
        "text = \"c2R410j\"\n",
        "captcha = create_captcha(text = text, shear = 0.65)\n",
        "\n",
        "\n",
        "def main():\n",
        "\n",
        "  config()\n",
        "\n",
        "  st.image(captcha)\n",
        "\n",
        "  text_captcha = st.text_input(\"Captcha: \")\n",
        "  button_captcha = st.button(\"Verificar\", key = \"captcha\")\n",
        "\n",
        "  if button_captcha:\n",
        "    if text_captcha == text:\n",
        "      st.success(\"Captcha correto!\")\n",
        "      st.balloons()\n",
        "      switch_page(\"correct\")\n",
        "    else:\n",
        "      st.error(\"Captcha Incorreto!!!\")\n",
        "           \n",
        "\n",
        "if __name__==\"__main__\":\n",
        "  main()\n"
      ]
    },
    {
      "cell_type": "code",
      "execution_count": 69,
      "metadata": {
        "colab": {
          "base_uri": "https://localhost:8080/"
        },
        "id": "zCDGYxYkajLr",
        "outputId": "f5947c82-4ac5-4acb-fbe0-52a0023a3550"
      },
      "outputs": [
        {
          "name": "stdout",
          "output_type": "stream",
          "text": [
            "2022-09-05 18:04:29.518 INFO    numexpr.utils: NumExpr defaulting to 8 threads.\n",
            "\u001b[0m\n",
            "\u001b[34m\u001b[1m  You can now view your Streamlit app in your browser.\u001b[0m\n",
            "\u001b[0m\n",
            "\u001b[34m  Local URL: \u001b[0m\u001b[1mhttp://localhost:8501\u001b[0m\n",
            "\u001b[34m  Network URL: \u001b[0m\u001b[1mhttp://192.168.15.162:8501\u001b[0m\n",
            "\u001b[0m\n",
            "2022-09-05 18:04:34.319622: W tensorflow/stream_executor/platform/default/dso_loader.cc:64] Could not load dynamic library 'libcudart.so.11.0'; dlerror: libcudart.so.11.0: cannot open shared object file: No such file or directory\n",
            "2022-09-05 18:04:34.319675: I tensorflow/stream_executor/cuda/cudart_stub.cc:29] Ignore above cudart dlerror if you do not have a GPU set up on your machine.\n",
            "^C\n",
            "\u001b[34m  Stopping...\u001b[0m\n"
          ]
        }
      ],
      "source": [
        "!streamlit run app.py"
      ]
    }
  ],
  "metadata": {
    "colab": {
      "name": "recording_audio_with_streamlit.ipynb",
      "provenance": []
    },
    "kernelspec": {
      "display_name": "Python 3.10.7 64-bit",
      "language": "python",
      "name": "python3"
    },
    "language_info": {
      "codemirror_mode": {
        "name": "ipython",
        "version": 3
      },
      "file_extension": ".py",
      "mimetype": "text/x-python",
      "name": "python",
      "nbconvert_exporter": "python",
      "pygments_lexer": "ipython3",
      "version": "3.10.7"
    },
    "vscode": {
      "interpreter": {
        "hash": "c31ee28a2e8a8c14288e32f43cdc31d04eb5922835efbdee25a698b666fb5ffc"
      }
    }
  },
  "nbformat": 4,
  "nbformat_minor": 0
}
