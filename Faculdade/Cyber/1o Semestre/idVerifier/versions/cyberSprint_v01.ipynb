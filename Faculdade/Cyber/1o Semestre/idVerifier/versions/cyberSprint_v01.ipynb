{
  "nbformat": 4,
  "nbformat_minor": 0,
  "metadata": {
    "colab": {
      "name": "cyberSprint_v01.ipynb",
      "provenance": []
    },
    "kernelspec": {
      "name": "python3",
      "display_name": "Python 3"
    },
    "language_info": {
      "name": "python"
    }
  },
  "cells": [
    {
      "cell_type": "markdown",
      "source": [
        "\n",
        "\n",
        "#1º Instalando recursos\n",
        "\n"
      ],
      "metadata": {
        "id": "E1QOKNLeBQPe"
      }
    },
    {
      "cell_type": "code",
      "execution_count": 1,
      "metadata": {
        "id": "7OfX19lG1RnS",
        "colab": {
          "base_uri": "https://localhost:8080/"
        },
        "outputId": "a829a612-d25d-4295-c5e1-d882ef7256d6"
      },
      "outputs": [
        {
          "output_type": "stream",
          "name": "stdout",
          "text": [
            "\u001b[K     |████████████████████████████████| 10.1 MB 4.7 MB/s \n",
            "\u001b[K     |████████████████████████████████| 76 kB 4.5 MB/s \n",
            "\u001b[K     |████████████████████████████████| 181 kB 71.7 MB/s \n",
            "\u001b[K     |████████████████████████████████| 111 kB 68.8 MB/s \n",
            "\u001b[K     |████████████████████████████████| 164 kB 64.0 MB/s \n",
            "\u001b[K     |████████████████████████████████| 4.3 MB 43.6 MB/s \n",
            "\u001b[K     |████████████████████████████████| 63 kB 1.7 MB/s \n",
            "\u001b[K     |████████████████████████████████| 131 kB 56.9 MB/s \n",
            "\u001b[K     |████████████████████████████████| 428 kB 39.8 MB/s \n",
            "\u001b[K     |████████████████████████████████| 130 kB 15.7 MB/s \n",
            "\u001b[K     |████████████████████████████████| 793 kB 4.8 MB/s \n",
            "\u001b[K     |████████████████████████████████| 381 kB 50.3 MB/s \n",
            "\u001b[?25h  Building wheel for blinker (setup.py) ... \u001b[?25l\u001b[?25hdone\n",
            "  Building wheel for validators (setup.py) ... \u001b[?25l\u001b[?25hdone\n",
            "\u001b[31mERROR: pip's dependency resolver does not currently take into account all the packages that are installed. This behaviour is the source of the following dependency conflicts.\n",
            "jupyter-console 5.2.0 requires prompt-toolkit<2.0.0,>=1.0.0, but you have prompt-toolkit 3.0.29 which is incompatible.\n",
            "google-colab 1.0.0 requires ipykernel~=4.10, but you have ipykernel 6.13.0 which is incompatible.\n",
            "google-colab 1.0.0 requires ipython~=5.5.0, but you have ipython 7.33.0 which is incompatible.\n",
            "google-colab 1.0.0 requires tornado~=5.1.0; python_version >= \"3.0\", but you have tornado 6.1 which is incompatible.\u001b[0m\n"
          ]
        }
      ],
      "source": [
        "!pip install -q streamlit"
      ]
    },
    {
      "cell_type": "code",
      "source": [
        "!pip install -q streamlit-ace"
      ],
      "metadata": {
        "id": "GzLWwEoh7i2J",
        "colab": {
          "base_uri": "https://localhost:8080/"
        },
        "outputId": "e2211914-4be1-42e8-fcf8-5c32f148265e"
      },
      "execution_count": 2,
      "outputs": [
        {
          "output_type": "stream",
          "name": "stdout",
          "text": [
            "\u001b[K     |████████████████████████████████| 3.6 MB 8.0 MB/s \n",
            "\u001b[?25h"
          ]
        }
      ]
    },
    {
      "cell_type": "code",
      "source": [
        "!pip install -q pyngrok"
      ],
      "metadata": {
        "id": "Ix59csUCAtXX",
        "colab": {
          "base_uri": "https://localhost:8080/"
        },
        "outputId": "459c13b2-5743-41bd-831b-ec59b4af9e15"
      },
      "execution_count": 3,
      "outputs": [
        {
          "output_type": "stream",
          "name": "stdout",
          "text": [
            "\u001b[?25l\r\u001b[K     |▍                               | 10 kB 24.0 MB/s eta 0:00:01\r\u001b[K     |▉                               | 20 kB 12.9 MB/s eta 0:00:01\r\u001b[K     |█▎                              | 30 kB 9.7 MB/s eta 0:00:01\r\u001b[K     |█▊                              | 40 kB 7.3 MB/s eta 0:00:01\r\u001b[K     |██▏                             | 51 kB 6.4 MB/s eta 0:00:01\r\u001b[K     |██▋                             | 61 kB 7.5 MB/s eta 0:00:01\r\u001b[K     |███                             | 71 kB 7.8 MB/s eta 0:00:01\r\u001b[K     |███▌                            | 81 kB 6.7 MB/s eta 0:00:01\r\u001b[K     |████                            | 92 kB 7.4 MB/s eta 0:00:01\r\u001b[K     |████▍                           | 102 kB 8.0 MB/s eta 0:00:01\r\u001b[K     |████▉                           | 112 kB 8.0 MB/s eta 0:00:01\r\u001b[K     |█████▎                          | 122 kB 8.0 MB/s eta 0:00:01\r\u001b[K     |█████▊                          | 133 kB 8.0 MB/s eta 0:00:01\r\u001b[K     |██████▏                         | 143 kB 8.0 MB/s eta 0:00:01\r\u001b[K     |██████▋                         | 153 kB 8.0 MB/s eta 0:00:01\r\u001b[K     |███████                         | 163 kB 8.0 MB/s eta 0:00:01\r\u001b[K     |███████▌                        | 174 kB 8.0 MB/s eta 0:00:01\r\u001b[K     |████████                        | 184 kB 8.0 MB/s eta 0:00:01\r\u001b[K     |████████▍                       | 194 kB 8.0 MB/s eta 0:00:01\r\u001b[K     |████████▉                       | 204 kB 8.0 MB/s eta 0:00:01\r\u001b[K     |█████████▎                      | 215 kB 8.0 MB/s eta 0:00:01\r\u001b[K     |█████████▊                      | 225 kB 8.0 MB/s eta 0:00:01\r\u001b[K     |██████████▏                     | 235 kB 8.0 MB/s eta 0:00:01\r\u001b[K     |██████████▌                     | 245 kB 8.0 MB/s eta 0:00:01\r\u001b[K     |███████████                     | 256 kB 8.0 MB/s eta 0:00:01\r\u001b[K     |███████████▍                    | 266 kB 8.0 MB/s eta 0:00:01\r\u001b[K     |███████████▉                    | 276 kB 8.0 MB/s eta 0:00:01\r\u001b[K     |████████████▎                   | 286 kB 8.0 MB/s eta 0:00:01\r\u001b[K     |████████████▊                   | 296 kB 8.0 MB/s eta 0:00:01\r\u001b[K     |█████████████▏                  | 307 kB 8.0 MB/s eta 0:00:01\r\u001b[K     |█████████████▋                  | 317 kB 8.0 MB/s eta 0:00:01\r\u001b[K     |██████████████                  | 327 kB 8.0 MB/s eta 0:00:01\r\u001b[K     |██████████████▌                 | 337 kB 8.0 MB/s eta 0:00:01\r\u001b[K     |███████████████                 | 348 kB 8.0 MB/s eta 0:00:01\r\u001b[K     |███████████████▍                | 358 kB 8.0 MB/s eta 0:00:01\r\u001b[K     |███████████████▉                | 368 kB 8.0 MB/s eta 0:00:01\r\u001b[K     |████████████████▎               | 378 kB 8.0 MB/s eta 0:00:01\r\u001b[K     |████████████████▊               | 389 kB 8.0 MB/s eta 0:00:01\r\u001b[K     |█████████████████▏              | 399 kB 8.0 MB/s eta 0:00:01\r\u001b[K     |█████████████████▋              | 409 kB 8.0 MB/s eta 0:00:01\r\u001b[K     |██████████████████              | 419 kB 8.0 MB/s eta 0:00:01\r\u001b[K     |██████████████████▌             | 430 kB 8.0 MB/s eta 0:00:01\r\u001b[K     |███████████████████             | 440 kB 8.0 MB/s eta 0:00:01\r\u001b[K     |███████████████████▍            | 450 kB 8.0 MB/s eta 0:00:01\r\u001b[K     |███████████████████▉            | 460 kB 8.0 MB/s eta 0:00:01\r\u001b[K     |████████████████████▎           | 471 kB 8.0 MB/s eta 0:00:01\r\u001b[K     |████████████████████▋           | 481 kB 8.0 MB/s eta 0:00:01\r\u001b[K     |█████████████████████           | 491 kB 8.0 MB/s eta 0:00:01\r\u001b[K     |█████████████████████▌          | 501 kB 8.0 MB/s eta 0:00:01\r\u001b[K     |██████████████████████          | 512 kB 8.0 MB/s eta 0:00:01\r\u001b[K     |██████████████████████▍         | 522 kB 8.0 MB/s eta 0:00:01\r\u001b[K     |██████████████████████▉         | 532 kB 8.0 MB/s eta 0:00:01\r\u001b[K     |███████████████████████▎        | 542 kB 8.0 MB/s eta 0:00:01\r\u001b[K     |███████████████████████▊        | 552 kB 8.0 MB/s eta 0:00:01\r\u001b[K     |████████████████████████▏       | 563 kB 8.0 MB/s eta 0:00:01\r\u001b[K     |████████████████████████▋       | 573 kB 8.0 MB/s eta 0:00:01\r\u001b[K     |█████████████████████████       | 583 kB 8.0 MB/s eta 0:00:01\r\u001b[K     |█████████████████████████▌      | 593 kB 8.0 MB/s eta 0:00:01\r\u001b[K     |██████████████████████████      | 604 kB 8.0 MB/s eta 0:00:01\r\u001b[K     |██████████████████████████▍     | 614 kB 8.0 MB/s eta 0:00:01\r\u001b[K     |██████████████████████████▉     | 624 kB 8.0 MB/s eta 0:00:01\r\u001b[K     |███████████████████████████▎    | 634 kB 8.0 MB/s eta 0:00:01\r\u001b[K     |███████████████████████████▊    | 645 kB 8.0 MB/s eta 0:00:01\r\u001b[K     |████████████████████████████▏   | 655 kB 8.0 MB/s eta 0:00:01\r\u001b[K     |████████████████████████████▋   | 665 kB 8.0 MB/s eta 0:00:01\r\u001b[K     |█████████████████████████████   | 675 kB 8.0 MB/s eta 0:00:01\r\u001b[K     |█████████████████████████████▌  | 686 kB 8.0 MB/s eta 0:00:01\r\u001b[K     |██████████████████████████████  | 696 kB 8.0 MB/s eta 0:00:01\r\u001b[K     |██████████████████████████████▍ | 706 kB 8.0 MB/s eta 0:00:01\r\u001b[K     |██████████████████████████████▊ | 716 kB 8.0 MB/s eta 0:00:01\r\u001b[K     |███████████████████████████████▏| 727 kB 8.0 MB/s eta 0:00:01\r\u001b[K     |███████████████████████████████▋| 737 kB 8.0 MB/s eta 0:00:01\r\u001b[K     |████████████████████████████████| 745 kB 8.0 MB/s \n",
            "\u001b[?25h  Building wheel for pyngrok (setup.py) ... \u001b[?25l\u001b[?25hdone\n"
          ]
        }
      ]
    },
    {
      "cell_type": "code",
      "source": [
        "!pip install -q fuzzywuzzy[speedup]"
      ],
      "metadata": {
        "colab": {
          "base_uri": "https://localhost:8080/"
        },
        "id": "PL2aGx9pfDTI",
        "outputId": "42c93c90-55bb-4129-bb4c-f66919a5b86a"
      },
      "execution_count": 51,
      "outputs": [
        {
          "output_type": "stream",
          "name": "stdout",
          "text": [
            "\u001b[?25l\r\u001b[K     |██████▌                         | 10 kB 22.6 MB/s eta 0:00:01\r\u001b[K     |█████████████                   | 20 kB 29.0 MB/s eta 0:00:01\r\u001b[K     |███████████████████▌            | 30 kB 15.2 MB/s eta 0:00:01\r\u001b[K     |██████████████████████████      | 40 kB 7.4 MB/s eta 0:00:01\r\u001b[K     |████████████████████████████████| 50 kB 3.9 MB/s \n",
            "\u001b[?25h  Building wheel for python-levenshtein (setup.py) ... \u001b[?25l\u001b[?25hdone\n"
          ]
        }
      ]
    },
    {
      "cell_type": "markdown",
      "source": [
        "#2º Aplicação"
      ],
      "metadata": {
        "id": "kA9_Lk8gBdJG"
      }
    },
    {
      "cell_type": "code",
      "source": [
        "!streamlit run app.py &>/dev/null&"
      ],
      "metadata": {
        "id": "SVdm270MAtVI"
      },
      "execution_count": 4,
      "outputs": []
    },
    {
      "cell_type": "code",
      "source": [
        "from pyngrok import ngrok"
      ],
      "metadata": {
        "id": "ePVIMNJNAtS5"
      },
      "execution_count": 5,
      "outputs": []
    },
    {
      "cell_type": "code",
      "source": [
        "%%writefile app.py\n",
        "import streamlit as st\n",
        "import requests as r\n",
        "import json\n",
        "from fuzzywuzzy import process\n",
        "import re\n",
        "\n",
        "\n",
        "dataSet_idFurto = r.get(\"https://henricobela.github.io/data/json/idfurto.json\")\n",
        "dataSet_idFraudes = r.get(\"https://henricobela.github.io/data/json/idfraude.json\")\n",
        "dataSet_idFalecidos = r.get(\"https://henricobela.github.io/data/json/idfalecido.json\")\n",
        "dataSet_idCancelCompra = r.get(\"https://henricobela.github.io/data/json/idcancel.json\")\n",
        "\n",
        "# dataSets = [dataSet_idFurto,\n",
        "#             dataSet_idFraudes,\n",
        "#             dataSet_idFalecidos,\n",
        "#             dataSet_idCancelCompra]\n",
        "\n",
        "def idVerifier(id):\n",
        "  idS = re.search(\"[\\D]{2}\", id.lower())\n",
        "  number = re.search(\"(?i)(\\d+)\", id.lower())\n",
        "  idString = str(idS[0])\n",
        "\n",
        "  if idString and number:\n",
        "    ids = dataSet_idFurto.json()[idString]\n",
        "    for i in ids:\n",
        "      for value in i.values():\n",
        "        if str(id) == str(idString) + str(value):\n",
        "          return st.error(\"Denied\")\n",
        "  return st.success(\"Allowed\")\n",
        "\n",
        "\n",
        "\n",
        "\n",
        "def main():\n",
        "  #page config\n",
        "  st.set_page_config(\n",
        "      page_title=\"ID Verifier\",\n",
        "      page_icon=\"👤\",\n",
        "      layout=\"centered\",\n",
        "      initial_sidebar_state=\"expanded\"\n",
        "      #, menu_items={\n",
        "      #     'Get Help': '...',\n",
        "      #     'Report a bug': \"...\",\n",
        "      #     'About': \"...\"\n",
        "      #     }\n",
        "          )\n",
        "  \n",
        "\n",
        "\n",
        "  #components\n",
        "  st.title(\"👤 ID Verifier 👤\")\n",
        "  st.subheader(\"Enter with your ID below:\")\n",
        "\n",
        "\n",
        "\n",
        "  #form\n",
        "  form = st.form(key=\"form\")\n",
        "  with form:\n",
        "    idNumber = st.text_input(\"ID:\")\n",
        "    submit = st.form_submit_button(label=\"SEND\")\n",
        "\n",
        "\n",
        "\n",
        "  #verification\n",
        "  if submit:\n",
        "    if not idNumber:\n",
        "      st.warning(\"Por favor digite seu ID!!!\")\n",
        "    else:\n",
        "      idVerifier(idNumber)\n",
        "\n",
        "\n",
        "\n",
        "if __name__ == \"__main__\":\n",
        "  main()\n",
        "\n"
      ],
      "metadata": {
        "id": "0VkvgnX2AtQk",
        "colab": {
          "base_uri": "https://localhost:8080/"
        },
        "outputId": "7d9904d2-e2ec-45ea-ce60-48976574ba9a"
      },
      "execution_count": 89,
      "outputs": [
        {
          "output_type": "stream",
          "name": "stdout",
          "text": [
            "Overwriting app.py\n"
          ]
        }
      ]
    },
    {
      "cell_type": "code",
      "source": [
        "!streamlit run app.py & npx localtunnel --port 8501"
      ],
      "metadata": {
        "id": "IgD0C5okAtOC",
        "colab": {
          "base_uri": "https://localhost:8080/"
        },
        "outputId": "71bbb6d2-1176-4ed6-951d-a58745b825db"
      },
      "execution_count": 90,
      "outputs": [
        {
          "output_type": "stream",
          "name": "stdout",
          "text": [
            "2022-05-10 17:02:29.243 INFO    numexpr.utils: NumExpr defaulting to 2 threads.\n",
            "\u001b[K\u001b[?25hnpx: installed 22 in 2.645s\n",
            "\u001b[0m\n",
            "\u001b[34m\u001b[1m  You can now view your Streamlit app in your browser.\u001b[0m\n",
            "\u001b[0m\n",
            "\u001b[34m  Network URL: \u001b[0m\u001b[1mhttp://172.28.0.2:8501\u001b[0m\n",
            "\u001b[34m  External URL: \u001b[0m\u001b[1mhttp://34.125.101.5:8501\u001b[0m\n",
            "\u001b[0m\n",
            "your url is: https://rotten-rivers-repair-34-125-101-5.loca.lt\n",
            "\u001b[34m  Stopping...\u001b[0m\n",
            "^C\n"
          ]
        }
      ]
    },
    {
      "cell_type": "code",
      "source": [
        ""
      ],
      "metadata": {
        "id": "DvtmG1uVBke7"
      },
      "execution_count": null,
      "outputs": []
    }
  ]
}