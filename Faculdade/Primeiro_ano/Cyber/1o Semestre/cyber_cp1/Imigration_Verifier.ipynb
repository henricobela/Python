{
  "cells": [
    {
      "cell_type": "markdown",
      "metadata": {
        "id": "view-in-github",
        "colab_type": "text"
      },
      "source": [
        "<a href=\"https://colab.research.google.com/github/henricobela/cyber_cp1/blob/main/Imigration_Verifier.ipynb\" target=\"_parent\"><img src=\"https://colab.research.google.com/assets/colab-badge.svg\" alt=\"Open In Colab\"/></a>"
      ]
    },
    {
      "cell_type": "markdown",
      "metadata": {
        "id": "mGnJYetkrRmU"
      },
      "source": [
        "#Sejam bem-vindos a minha API para INTERPOL!\n",
        "####Meu Nome é Henrico, sou aluno da FIAP (RM95985)\n",
        "--------------------------------------------------------------------------------\n",
        "#Vamos começar?\n",
        "\n",
        "####Esta aplicação trata-se de uma pagina na web criada com streamlit, utilizando a linguagem python, fuzzywuzzy, ngrok e regex. Ela faz uma verificação na base de dados da Interpol (fictícia), e uma verificação na base de dados de passaportes proibidos da França (fictícia). Com essa verificação é definida a entrada ou não de uma certa pessoa á França!\n",
        "--------------------------------------------------------------------------------\n",
        "\n",
        "#####Para começar\n",
        "\n",
        "#####Primeiro vamos instalar todos os recursos necessários para a realização da API, instalando FuzzyWuzzy, Ngrok, Streamlit/ace.\n",
        "\n",
        "--------------------------------------------------------------------------------\n"
      ]
    },
    {
      "cell_type": "markdown",
      "metadata": {
        "id": "tLOOc9SbrV6K"
      },
      "source": [
        "#1º Instalando recursos"
      ]
    },
    {
      "cell_type": "code",
      "execution_count": 37,
      "metadata": {
        "id": "3tK_v_yCajDQ"
      },
      "outputs": [],
      "source": [
        "!pip install -q streamlit"
      ]
    },
    {
      "cell_type": "code",
      "execution_count": 38,
      "metadata": {
        "id": "ig42Itueam0b"
      },
      "outputs": [],
      "source": [
        "!pip install -q streamlit-ace"
      ]
    },
    {
      "cell_type": "code",
      "execution_count": 39,
      "metadata": {
        "id": "4NaBr7O6kehZ"
      },
      "outputs": [],
      "source": [
        "!pip install -q fuzzywuzzy[speedup]"
      ]
    },
    {
      "cell_type": "code",
      "execution_count": 40,
      "metadata": {
        "id": "2gqQSPPZk7SS"
      },
      "outputs": [],
      "source": [
        "!pip install -q pyngrok"
      ]
    },
    {
      "cell_type": "markdown",
      "metadata": {
        "id": "MuP_kwylrZ43"
      },
      "source": [
        "##2º - Criando aplicativo do streamlit para gerar a pagina web\n"
      ]
    },
    {
      "cell_type": "code",
      "execution_count": 41,
      "metadata": {
        "id": "HGUCMre3axSP"
      },
      "outputs": [],
      "source": [
        "!streamlit run app.py &>/dev/null&"
      ]
    },
    {
      "cell_type": "markdown",
      "metadata": {
        "id": "tE2J3WIirZQo"
      },
      "source": [
        "##3º - Importando a biblioteca NGROK"
      ]
    },
    {
      "cell_type": "code",
      "execution_count": 42,
      "metadata": {
        "id": "E_vN3HKtlKMk"
      },
      "outputs": [],
      "source": [
        "from pyngrok import ngrok"
      ]
    },
    {
      "cell_type": "markdown",
      "metadata": {
        "id": "wie3fYpv3q6t"
      },
      "source": [
        "##4º Aplicação\n"
      ]
    },
    {
      "cell_type": "code",
      "execution_count": 51,
      "metadata": {
        "colab": {
          "base_uri": "https://localhost:8080/"
        },
        "id": "oQGTYFasa01i",
        "outputId": "d77d311f-8713-4203-d23e-018e9e39d1e6"
      },
      "outputs": [
        {
          "output_type": "stream",
          "name": "stdout",
          "text": [
            "Overwriting app.py\n"
          ]
        }
      ],
      "source": [
        "#criando o arquivo de aplicação .py\n",
        "%%writefile app.py  \n",
        "import streamlit as st                                                                              #importando streamlit e setando como st\n",
        "import re                                                                                           #importando o regex\n",
        "from fuzzywuzzy import process                                                                      #importando process do fuzzy\n",
        "import json                                                                                         #importando json\n",
        "import requests as r                                                                                #importando requests\n",
        "\n",
        "\n",
        "def main():                                                                                         #define a função que cria webpage\n",
        "  nameData = r.get(\"https://cspinheiro.github.io/interpol.json\")                                    #consome json dos nomes da interpol e guarda na variavel nameDataJson\n",
        "  passportData = r.get(\"https://henricobela.github.io/fra.json\")                                    #consome json da França com numeros de passaportes e salva na variavel fraDataJson\n",
        "\n",
        "\n",
        "\n",
        "  def verifyNamesInterpol(names):                                                                   #define a função de verificação dos nomes no endpoint da interpol\n",
        "    invalidNames = nameData.json()[\"interpol\"]                                                      #salva na variavel invalidNames tudo que tiver interpol no arquivo json\n",
        "    invalid = []                                                                                    #lista invalid vazia\n",
        "\n",
        "    extraction = process.extract(names, invalidNames)                                               #salva na variavel extraction, utilizando o fuzzy para extrair os nomes do endpoint\n",
        "\n",
        "    for x in extraction:                                                                            #laço for para cada elemento \"x\" na variavel extraction - faça:\n",
        "      if x[1] >= 76:                                                                                #condição if para threshold acima ou igual da porcentagem de 80\n",
        "        invalid.append(x)                                                                           #acrescenta na lista vazia invalid o elemento \"x\"\n",
        "      if len(invalid) == 0:                                                                         #condição if para o comprimento da lista invalid comparando se for 0\n",
        "        return \"Allow\"                                                                              #resultado da comparação se for verdadeira retorna internamente \"Allow\"\n",
        "      return \"Deny\"                                                                                 #se o resultado da condição for falso, retorna internamente \"Deny\"\n",
        "\n",
        "\n",
        "\n",
        "  def verifyPassportNmbr(passportNmbr):                                                             #define a função que verifica os numeros de passaporte    \n",
        "    country = re.search(r\"([\\D]{3})\", passportNmbr.lower())                                         #guarda na variavel country a busca pelos elementos dentro das letras digitadas pelo usuario\n",
        "    passport = re.search(\"(?i)(\\d+)\", passportNmbr.lower())                                         #guarda na variavel passport a busca pelos elementos dentro do numero de passaporte digitado pelo usuario\n",
        "    country = str(country[0])                                                                       #guarda na variavel c, a primeira posição, no caso as letras do país\n",
        "                                                                                    \n",
        "    if country and passport:                                                                        #condição se encontrar country e passport - faça:\n",
        "      endpoint = passportData.json()[country]                                                       #salva na variavel endpoint tudo que tiver country letras no arquivo json\n",
        "      for item in endpoint:                                                                         #laço for para cada item dentro da variavel dict_api - faça:\n",
        "        for value in item.values():                                                                 #laço for para cada valor dentro dos valores do arquivo json - faça:\n",
        "          if str(passportNmbr) == str(country) + str(value):                                        #condição que compara se o numero de passaporte digitado é igual as letras + os valores que existem no arquivo json\n",
        "            return \"Deny\"                                                                           #resultado da comparação se for falsa retorna internamente \"Deny\"\n",
        "      return \"Allow\"                                                                                #resultado da condição for verdadeira, retorna internamente \"Allow\"\n",
        "\n",
        "\n",
        "\n",
        "  def verifyPerson(name, passportNmbr):                                                             #define a função que verifica o nome e o passaporte digitado\n",
        "    person = verifyNamesInterpol(name)                                                              #guarda na variavel person o nome digitado\n",
        "    passport = verifyPassportNmbr(passportNmbr)                                                     #guarda na variavel passport o passaporte digitado\n",
        "\n",
        "    if passport == \"Deny\" or person == \"Deny\":                                                      #condição que diz se o passaporte for negado ou o nome da pessoa for negado no pais - faça:\n",
        "      st.error(\"Você não pode entrar no país\")                                                      #função do streamlit que gera uma mensagem de erro\n",
        "      return                                                                                        #retorna a função do streamlit\n",
        "    st.success(\"Voce pode entrar no país\")                                                          #função do streamlit que gera uma mensagem de sucesso\n",
        "    return                                                                                          #retorna a função do streamlit\n",
        "\n",
        "\n",
        "                                \n",
        "  st.set_page_config(                                                                               #função do streamlit que configura a pagina da web, com as cartacteristicas de titulo e layout\n",
        "     page_title=\"France Airport\",\n",
        "     page_icon=\"🇫🇷\",\n",
        "     layout=\"centered\",\n",
        "     initial_sidebar_state=\"expanded\",\n",
        "     menu_items={\n",
        "         'Get Help': 'https://bit.ly/documentacao-cp-cyber-henrico',\n",
        "         'Report a bug': \"https://www.linkedin.com/in/henricobela/\",\n",
        "         'About': \"https://github.com/henricobela/cyber_cp1\"\n",
        "     }\n",
        " )\n",
        "\n",
        "  st.title(\"Imigration Verifier\")                                                                   #função do streamlit que gera um título na pagina da web e da um nome a ele\n",
        "  form = st.form(key=\"form\")                                                                        #função do streamlit que gera um formulario\n",
        "\n",
        "  with form:                                                                                        #função para gerar e abrir um formulario na tela da pagina web\n",
        "    ownerName = st.text_input(\"Nome do Indíviduo:\")                                                 #guarda na variavel ownerName a função do streamlit que gera um campo para se digitar, no caso, o nome do individuo\n",
        "    passportNumber = st.text_input(\"País e Número do Passaporte (EX:FRA123456789):\")                #guarda na variavel passportNumber a função do streamlit que gera um campo para se digitar, caso o numero de passaporte\n",
        "    submit = st.form_submit_button(label=\"SEND\")                                                    #guarda na variavel submit a função do streamlit que gera um botão\n",
        "\n",
        "\n",
        "\n",
        "  if submit:                                                                                        #condição se for apertado o botão\n",
        "    if not ownerName or not passportNumber:                                                         #condição se não foi digitado o nome OU o passaport no formulario\n",
        "      st.warning(\"Digite todos os campos por favor...\")                                             #função do streamlit que gera uma mensagem de aviso\n",
        "    else:                                                                                           #então da condição submit\n",
        "      try:                                                                                          #função de tentativa para executar a verificação de nome e numero de passaporte\n",
        "        verifyPerson(ownerName, passportNumber)                                                     #chamada do metodo criado para a verificação\n",
        "      except:                                                                                       #exceção da tentativa para executar a verificação\n",
        "        st.error(\"Você não pode entrar no país\")                                                    #tratativa para o erro caso nao sejam digitadas as informações necessárias\n",
        "\n",
        "\n",
        "\n",
        "if __name__=='__main__':                                                                            #condição para inicializar o programa\n",
        "  main()                                                                                            #chamada do programa.\n",
        "\n"
      ]
    },
    {
      "cell_type": "code",
      "execution_count": 52,
      "metadata": {
        "colab": {
          "base_uri": "https://localhost:8080/"
        },
        "id": "-VXIBsB5a_We",
        "outputId": "508c6f54-ea21-4490-dc4b-af9379c2558e"
      },
      "outputs": [
        {
          "output_type": "stream",
          "name": "stdout",
          "text": [
            "2022-05-05 00:43:43.012 INFO    numexpr.utils: NumExpr defaulting to 2 threads.\n",
            "\u001b[0m\n",
            "\u001b[34m\u001b[1m  You can now view your Streamlit app in your browser.\u001b[0m\n",
            "\u001b[0m\n",
            "\u001b[34m  Network URL: \u001b[0m\u001b[1mhttp://172.28.0.2:8501\u001b[0m\n",
            "\u001b[34m  External URL: \u001b[0m\u001b[1mhttp://34.91.39.136:8501\u001b[0m\n",
            "\u001b[0m\n",
            "\u001b[K\u001b[?25hnpx: installed 22 in 2.812s\n",
            "your url is: https://wide-pots-end-34-91-39-136.loca.lt\n",
            "\u001b[34m  Stopping...\u001b[0m\n",
            "^C\n"
          ]
        }
      ],
      "source": [
        "!streamlit run app.py & npx localtunnel --port 8501                                                 #chamada para criação da pagina web e inicialização do app.py"
      ]
    }
  ],
  "metadata": {
    "colab": {
      "collapsed_sections": [],
      "name": "Imigration_Verifier.ipynb",
      "provenance": [],
      "authorship_tag": "ABX9TyOpqNqAjuJoZyxuSq0pZ3J2",
      "include_colab_link": true
    },
    "kernelspec": {
      "display_name": "Python 3",
      "name": "python3"
    },
    "language_info": {
      "name": "python"
    }
  },
  "nbformat": 4,
  "nbformat_minor": 0
}